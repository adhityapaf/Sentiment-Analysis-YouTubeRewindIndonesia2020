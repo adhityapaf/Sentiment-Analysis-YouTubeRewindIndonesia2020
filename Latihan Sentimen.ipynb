{
 "cells": [
  {
   "cell_type": "code",
   "execution_count": 1,
   "metadata": {},
   "outputs": [],
   "source": [
    "import pandas as pd\n",
    "from sklearn import metrics\n",
    "from sklearn.model_selection import train_test_split\n",
    "from sklearn.feature_extraction.text import CountVectorizer\n",
    "from sklearn.svm import LinearSVC\n",
    "from sklearn.naive_bayes import MultinomialNB\n",
    "from sklearn.linear_model import LogisticRegression\n",
    "from sklearn.neighbors import KNeighborsClassifier\n",
    "from nltk.corpus import stopwords  \n",
    "from nltk import word_tokenize\n",
    "import string\n",
    "import re  \n",
    "import nltk  "
   ]
  },
  {
   "cell_type": "code",
   "execution_count": 2,
   "metadata": {},
   "outputs": [
    {
     "data": {
      "text/html": [
       "<div>\n",
       "<style scoped>\n",
       "    .dataframe tbody tr th:only-of-type {\n",
       "        vertical-align: middle;\n",
       "    }\n",
       "\n",
       "    .dataframe tbody tr th {\n",
       "        vertical-align: top;\n",
       "    }\n",
       "\n",
       "    .dataframe thead th {\n",
       "        text-align: right;\n",
       "    }\n",
       "</style>\n",
       "<table border=\"1\" class=\"dataframe\">\n",
       "  <thead>\n",
       "    <tr style=\"text-align: right;\">\n",
       "      <th></th>\n",
       "      <th>Name</th>\n",
       "      <th>Comment</th>\n",
       "      <th>Time</th>\n",
       "      <th>Likes</th>\n",
       "      <th>Reply Count</th>\n",
       "      <th>Labelling</th>\n",
       "    </tr>\n",
       "  </thead>\n",
       "  <tbody>\n",
       "    <tr>\n",
       "      <th>0</th>\n",
       "      <td>Aka-number9</td>\n",
       "      <td>I am buying that Right hand man skin day 1</td>\n",
       "      <td>2020-12-29T16:52:21Z</td>\n",
       "      <td>0</td>\n",
       "      <td>0</td>\n",
       "      <td>Positive</td>\n",
       "    </tr>\n",
       "    <tr>\n",
       "      <th>1</th>\n",
       "      <td>Elena Carmen</td>\n",
       "      <td>Estoy  emocionado  por jugar ese mapa de among us</td>\n",
       "      <td>2020-12-29T16:51:00Z</td>\n",
       "      <td>0</td>\n",
       "      <td>0</td>\n",
       "      <td>Neutral</td>\n",
       "    </tr>\n",
       "    <tr>\n",
       "      <th>2</th>\n",
       "      <td>Finn Hüner</td>\n",
       "      <td>Cooll map🤩🤣😍</td>\n",
       "      <td>2020-12-29T16:47:13Z</td>\n",
       "      <td>0</td>\n",
       "      <td>0</td>\n",
       "      <td>Positive</td>\n",
       "    </tr>\n",
       "    <tr>\n",
       "      <th>3</th>\n",
       "      <td>aktor27a</td>\n",
       "      <td>Map is so so so cool!!</td>\n",
       "      <td>2020-12-29T16:45:46Z</td>\n",
       "      <td>0</td>\n",
       "      <td>0</td>\n",
       "      <td>Positive</td>\n",
       "    </tr>\n",
       "    <tr>\n",
       "      <th>4</th>\n",
       "      <td>Real AJ 2</td>\n",
       "      <td>Looks like&lt;br /&gt;CAT PLANE</td>\n",
       "      <td>2020-12-29T16:42:55Z</td>\n",
       "      <td>0</td>\n",
       "      <td>0</td>\n",
       "      <td>Positive</td>\n",
       "    </tr>\n",
       "  </tbody>\n",
       "</table>\n",
       "</div>"
      ],
      "text/plain": [
       "           Name                                            Comment  \\\n",
       "0   Aka-number9         I am buying that Right hand man skin day 1   \n",
       "1  Elena Carmen  Estoy  emocionado  por jugar ese mapa de among us   \n",
       "2    Finn Hüner                                       Cooll map🤩🤣😍   \n",
       "3      aktor27a                             Map is so so so cool!!   \n",
       "4     Real AJ 2                          Looks like<br />CAT PLANE   \n",
       "\n",
       "                   Time  Likes  Reply Count Labelling  \n",
       "0  2020-12-29T16:52:21Z      0            0  Positive  \n",
       "1  2020-12-29T16:51:00Z      0            0   Neutral  \n",
       "2  2020-12-29T16:47:13Z      0            0  Positive  \n",
       "3  2020-12-29T16:45:46Z      0            0  Positive  \n",
       "4  2020-12-29T16:42:55Z      0            0  Positive  "
      ]
     },
     "execution_count": 2,
     "metadata": {},
     "output_type": "execute_result"
    }
   ],
   "source": [
    "data = pd.read_excel (r'C:\\Users\\Adhitya K\\Downloads\\comments.xlsx')\n",
    "data.head()"
   ]
  },
  {
   "cell_type": "code",
   "execution_count": 3,
   "metadata": {},
   "outputs": [
    {
     "data": {
      "text/html": [
       "<div>\n",
       "<style scoped>\n",
       "    .dataframe tbody tr th:only-of-type {\n",
       "        vertical-align: middle;\n",
       "    }\n",
       "\n",
       "    .dataframe tbody tr th {\n",
       "        vertical-align: top;\n",
       "    }\n",
       "\n",
       "    .dataframe thead th {\n",
       "        text-align: right;\n",
       "    }\n",
       "</style>\n",
       "<table border=\"1\" class=\"dataframe\">\n",
       "  <thead>\n",
       "    <tr style=\"text-align: right;\">\n",
       "      <th></th>\n",
       "      <th>Comment</th>\n",
       "      <th>Labelling</th>\n",
       "    </tr>\n",
       "  </thead>\n",
       "  <tbody>\n",
       "    <tr>\n",
       "      <th>0</th>\n",
       "      <td>I am buying that Right hand man skin day 1</td>\n",
       "      <td>Positive</td>\n",
       "    </tr>\n",
       "    <tr>\n",
       "      <th>1</th>\n",
       "      <td>Estoy  emocionado  por jugar ese mapa de among us</td>\n",
       "      <td>Neutral</td>\n",
       "    </tr>\n",
       "    <tr>\n",
       "      <th>2</th>\n",
       "      <td>Cooll map🤩🤣😍</td>\n",
       "      <td>Positive</td>\n",
       "    </tr>\n",
       "    <tr>\n",
       "      <th>3</th>\n",
       "      <td>Map is so so so cool!!</td>\n",
       "      <td>Positive</td>\n",
       "    </tr>\n",
       "    <tr>\n",
       "      <th>4</th>\n",
       "      <td>Looks like&lt;br /&gt;CAT PLANE</td>\n",
       "      <td>Positive</td>\n",
       "    </tr>\n",
       "  </tbody>\n",
       "</table>\n",
       "</div>"
      ],
      "text/plain": [
       "                                             Comment Labelling\n",
       "0         I am buying that Right hand man skin day 1  Positive\n",
       "1  Estoy  emocionado  por jugar ese mapa de among us   Neutral\n",
       "2                                       Cooll map🤩🤣😍  Positive\n",
       "3                             Map is so so so cool!!  Positive\n",
       "4                          Looks like<br />CAT PLANE  Positive"
      ]
     },
     "execution_count": 3,
     "metadata": {},
     "output_type": "execute_result"
    }
   ],
   "source": [
    "df = data[['Comment','Labelling']]\n",
    "df.head()"
   ]
  },
  {
   "cell_type": "code",
   "execution_count": 4,
   "metadata": {},
   "outputs": [
    {
     "name": "stderr",
     "output_type": "stream",
     "text": [
      "C:\\ProgramData\\Anaconda3\\lib\\site-packages\\ipykernel_launcher.py:1: SettingWithCopyWarning: \n",
      "A value is trying to be set on a copy of a slice from a DataFrame.\n",
      "Try using .loc[row_indexer,col_indexer] = value instead\n",
      "\n",
      "See the caveats in the documentation: http://pandas.pydata.org/pandas-docs/stable/indexing.html#indexing-view-versus-copy\n",
      "  \"\"\"Entry point for launching an IPython kernel.\n",
      "C:\\ProgramData\\Anaconda3\\lib\\site-packages\\ipykernel_launcher.py:2: SettingWithCopyWarning: \n",
      "A value is trying to be set on a copy of a slice from a DataFrame\n",
      "\n",
      "See the caveats in the documentation: http://pandas.pydata.org/pandas-docs/stable/indexing.html#indexing-view-versus-copy\n",
      "  \n",
      "C:\\ProgramData\\Anaconda3\\lib\\site-packages\\pandas\\core\\generic.py:8682: SettingWithCopyWarning: \n",
      "A value is trying to be set on a copy of a slice from a DataFrame\n",
      "\n",
      "See the caveats in the documentation: http://pandas.pydata.org/pandas-docs/stable/indexing.html#indexing-view-versus-copy\n",
      "  self._update_inplace(new_data)\n",
      "C:\\ProgramData\\Anaconda3\\lib\\site-packages\\IPython\\core\\interactiveshell.py:3325: SettingWithCopyWarning: \n",
      "A value is trying to be set on a copy of a slice from a DataFrame\n",
      "\n",
      "See the caveats in the documentation: http://pandas.pydata.org/pandas-docs/stable/indexing.html#indexing-view-versus-copy\n",
      "  exec(code_obj, self.user_global_ns, self.user_ns)\n",
      "C:\\ProgramData\\Anaconda3\\lib\\site-packages\\ipykernel_launcher.py:3: SettingWithCopyWarning: \n",
      "A value is trying to be set on a copy of a slice from a DataFrame\n",
      "\n",
      "See the caveats in the documentation: http://pandas.pydata.org/pandas-docs/stable/indexing.html#indexing-view-versus-copy\n",
      "  This is separate from the ipykernel package so we can avoid doing imports until\n",
      "C:\\ProgramData\\Anaconda3\\lib\\site-packages\\ipykernel_launcher.py:4: SettingWithCopyWarning: \n",
      "A value is trying to be set on a copy of a slice from a DataFrame\n",
      "\n",
      "See the caveats in the documentation: http://pandas.pydata.org/pandas-docs/stable/indexing.html#indexing-view-versus-copy\n",
      "  after removing the cwd from sys.path.\n"
     ]
    }
   ],
   "source": [
    "df['value'] = 0\n",
    "df['value'][df.Labelling == 'Neutral'] = 0\n",
    "df['value'][df.Labelling == 'Positive'] = 1\n",
    "df['value'][df.Labelling == 'Negative'] = -1"
   ]
  },
  {
   "cell_type": "code",
   "execution_count": 5,
   "metadata": {},
   "outputs": [],
   "source": [
    "clean_comments = []\n",
    "C = df.Comment\n",
    " \n",
    "for clean in range(0, len(C)):  \n",
    "    # Remove all the special characters\n",
    "    clean_str = re.sub(r'\\W', ' ', str(C[clean]))\n",
    " \n",
    "    # remove all single characters\n",
    "    clean_str = re.sub(r'\\s+[a-zA-Z]\\s+', ' ', clean_str)\n",
    " \n",
    "    # Remove single characters from the start\n",
    "    clean_str = re.sub(r'\\^[a-zA-Z]\\s+', ' ', clean_str) \n",
    " \n",
    "    # Substituting multiple spaces with single space\n",
    "    clean_str= re.sub(r'\\s+', ' ', clean_str, flags=re.I)\n",
    " \n",
    "    # Removing prefixed 'b'\n",
    "    clean_str = re.sub(r'^b\\s+', '', clean_str)\n",
    " \n",
    "    # Converting to Lowercase\n",
    "    clean_str = clean_str.lower()\n",
    " \n",
    "    clean_comments.append(clean_str)"
   ]
  },
  {
   "cell_type": "code",
   "execution_count": 6,
   "metadata": {},
   "outputs": [
    {
     "name": "stderr",
     "output_type": "stream",
     "text": [
      "C:\\ProgramData\\Anaconda3\\lib\\site-packages\\ipykernel_launcher.py:1: SettingWithCopyWarning: \n",
      "A value is trying to be set on a copy of a slice from a DataFrame.\n",
      "Try using .loc[row_indexer,col_indexer] = value instead\n",
      "\n",
      "See the caveats in the documentation: http://pandas.pydata.org/pandas-docs/stable/indexing.html#indexing-view-versus-copy\n",
      "  \"\"\"Entry point for launching an IPython kernel.\n"
     ]
    },
    {
     "data": {
      "text/html": [
       "<div>\n",
       "<style scoped>\n",
       "    .dataframe tbody tr th:only-of-type {\n",
       "        vertical-align: middle;\n",
       "    }\n",
       "\n",
       "    .dataframe tbody tr th {\n",
       "        vertical-align: top;\n",
       "    }\n",
       "\n",
       "    .dataframe thead th {\n",
       "        text-align: right;\n",
       "    }\n",
       "</style>\n",
       "<table border=\"1\" class=\"dataframe\">\n",
       "  <thead>\n",
       "    <tr style=\"text-align: right;\">\n",
       "      <th></th>\n",
       "      <th>Comment</th>\n",
       "      <th>Labelling</th>\n",
       "      <th>value</th>\n",
       "      <th>clean</th>\n",
       "    </tr>\n",
       "  </thead>\n",
       "  <tbody>\n",
       "    <tr>\n",
       "      <th>0</th>\n",
       "      <td>I am buying that Right hand man skin day 1</td>\n",
       "      <td>Positive</td>\n",
       "      <td>1</td>\n",
       "      <td>i am buying that right hand man skin day 1</td>\n",
       "    </tr>\n",
       "    <tr>\n",
       "      <th>1</th>\n",
       "      <td>Estoy  emocionado  por jugar ese mapa de among us</td>\n",
       "      <td>Neutral</td>\n",
       "      <td>0</td>\n",
       "      <td>estoy emocionado por jugar ese mapa de among us</td>\n",
       "    </tr>\n",
       "    <tr>\n",
       "      <th>2</th>\n",
       "      <td>Cooll map🤩🤣😍</td>\n",
       "      <td>Positive</td>\n",
       "      <td>1</td>\n",
       "      <td>cooll map</td>\n",
       "    </tr>\n",
       "    <tr>\n",
       "      <th>3</th>\n",
       "      <td>Map is so so so cool!!</td>\n",
       "      <td>Positive</td>\n",
       "      <td>1</td>\n",
       "      <td>map is so so so cool</td>\n",
       "    </tr>\n",
       "    <tr>\n",
       "      <th>4</th>\n",
       "      <td>Looks like&lt;br /&gt;CAT PLANE</td>\n",
       "      <td>Positive</td>\n",
       "      <td>1</td>\n",
       "      <td>looks like br cat plane</td>\n",
       "    </tr>\n",
       "  </tbody>\n",
       "</table>\n",
       "</div>"
      ],
      "text/plain": [
       "                                             Comment Labelling  value  \\\n",
       "0         I am buying that Right hand man skin day 1  Positive      1   \n",
       "1  Estoy  emocionado  por jugar ese mapa de among us   Neutral      0   \n",
       "2                                       Cooll map🤩🤣😍  Positive      1   \n",
       "3                             Map is so so so cool!!  Positive      1   \n",
       "4                          Looks like<br />CAT PLANE  Positive      1   \n",
       "\n",
       "                                             clean  \n",
       "0       i am buying that right hand man skin day 1  \n",
       "1  estoy emocionado por jugar ese mapa de among us  \n",
       "2                                       cooll map   \n",
       "3                            map is so so so cool   \n",
       "4                          looks like br cat plane  "
      ]
     },
     "execution_count": 6,
     "metadata": {},
     "output_type": "execute_result"
    }
   ],
   "source": [
    "df['clean'] = clean_comments\n",
    "df.head()"
   ]
  },
  {
   "cell_type": "code",
   "execution_count": 7,
   "metadata": {},
   "outputs": [],
   "source": [
    "#Using CountVectorizer to convert text into tokens/features\n",
    "stop_words = set(stopwords.words('english'))\n",
    "vect = CountVectorizer()\n"
   ]
  },
  {
   "cell_type": "code",
   "execution_count": 8,
   "metadata": {},
   "outputs": [],
   "source": [
    "def remove_stopwords(line):\n",
    "    word_tokens = word_tokenize(line)\n",
    "    filtered_sentence = [w for w in word_tokens if not w in stop_words]\n",
    "    return \" \".join(filtered_sentence)"
   ]
  },
  {
   "cell_type": "code",
   "execution_count": 9,
   "metadata": {},
   "outputs": [
    {
     "name": "stderr",
     "output_type": "stream",
     "text": [
      "C:\\ProgramData\\Anaconda3\\lib\\site-packages\\ipykernel_launcher.py:1: SettingWithCopyWarning: \n",
      "A value is trying to be set on a copy of a slice from a DataFrame.\n",
      "Try using .loc[row_indexer,col_indexer] = value instead\n",
      "\n",
      "See the caveats in the documentation: http://pandas.pydata.org/pandas-docs/stable/indexing.html#indexing-view-versus-copy\n",
      "  \"\"\"Entry point for launching an IPython kernel.\n"
     ]
    },
    {
     "data": {
      "text/html": [
       "<div>\n",
       "<style scoped>\n",
       "    .dataframe tbody tr th:only-of-type {\n",
       "        vertical-align: middle;\n",
       "    }\n",
       "\n",
       "    .dataframe tbody tr th {\n",
       "        vertical-align: top;\n",
       "    }\n",
       "\n",
       "    .dataframe thead th {\n",
       "        text-align: right;\n",
       "    }\n",
       "</style>\n",
       "<table border=\"1\" class=\"dataframe\">\n",
       "  <thead>\n",
       "    <tr style=\"text-align: right;\">\n",
       "      <th></th>\n",
       "      <th>Comment</th>\n",
       "      <th>Labelling</th>\n",
       "      <th>value</th>\n",
       "      <th>clean</th>\n",
       "      <th>stop_comments</th>\n",
       "    </tr>\n",
       "  </thead>\n",
       "  <tbody>\n",
       "    <tr>\n",
       "      <th>0</th>\n",
       "      <td>I am buying that Right hand man skin day 1</td>\n",
       "      <td>Positive</td>\n",
       "      <td>1</td>\n",
       "      <td>i am buying that right hand man skin day 1</td>\n",
       "      <td>buying right hand man skin day 1</td>\n",
       "    </tr>\n",
       "    <tr>\n",
       "      <th>1</th>\n",
       "      <td>Estoy  emocionado  por jugar ese mapa de among us</td>\n",
       "      <td>Neutral</td>\n",
       "      <td>0</td>\n",
       "      <td>estoy emocionado por jugar ese mapa de among us</td>\n",
       "      <td>estoy emocionado por jugar ese mapa de among us</td>\n",
       "    </tr>\n",
       "    <tr>\n",
       "      <th>2</th>\n",
       "      <td>Cooll map🤩🤣😍</td>\n",
       "      <td>Positive</td>\n",
       "      <td>1</td>\n",
       "      <td>cooll map</td>\n",
       "      <td>cooll map</td>\n",
       "    </tr>\n",
       "    <tr>\n",
       "      <th>3</th>\n",
       "      <td>Map is so so so cool!!</td>\n",
       "      <td>Positive</td>\n",
       "      <td>1</td>\n",
       "      <td>map is so so so cool</td>\n",
       "      <td>map cool</td>\n",
       "    </tr>\n",
       "    <tr>\n",
       "      <th>4</th>\n",
       "      <td>Looks like&lt;br /&gt;CAT PLANE</td>\n",
       "      <td>Positive</td>\n",
       "      <td>1</td>\n",
       "      <td>looks like br cat plane</td>\n",
       "      <td>looks like br cat plane</td>\n",
       "    </tr>\n",
       "  </tbody>\n",
       "</table>\n",
       "</div>"
      ],
      "text/plain": [
       "                                             Comment Labelling  value  \\\n",
       "0         I am buying that Right hand man skin day 1  Positive      1   \n",
       "1  Estoy  emocionado  por jugar ese mapa de among us   Neutral      0   \n",
       "2                                       Cooll map🤩🤣😍  Positive      1   \n",
       "3                             Map is so so so cool!!  Positive      1   \n",
       "4                          Looks like<br />CAT PLANE  Positive      1   \n",
       "\n",
       "                                             clean  \\\n",
       "0       i am buying that right hand man skin day 1   \n",
       "1  estoy emocionado por jugar ese mapa de among us   \n",
       "2                                       cooll map    \n",
       "3                            map is so so so cool    \n",
       "4                          looks like br cat plane   \n",
       "\n",
       "                                     stop_comments  \n",
       "0                 buying right hand man skin day 1  \n",
       "1  estoy emocionado por jugar ese mapa de among us  \n",
       "2                                        cooll map  \n",
       "3                                         map cool  \n",
       "4                          looks like br cat plane  "
      ]
     },
     "execution_count": 9,
     "metadata": {},
     "output_type": "execute_result"
    }
   ],
   "source": [
    "df['stop_comments'] = df['clean'].apply(lambda x : remove_stopwords(x))\n",
    "df.head()"
   ]
  },
  {
   "cell_type": "code",
   "execution_count": 10,
   "metadata": {},
   "outputs": [],
   "source": [
    "X = df.stop_comments\n",
    "y = df.value"
   ]
  },
  {
   "cell_type": "code",
   "execution_count": 11,
   "metadata": {},
   "outputs": [
    {
     "data": {
      "text/plain": [
       "count     1961\n",
       "unique    1747\n",
       "top           \n",
       "freq        39\n",
       "Name: stop_comments, dtype: object"
      ]
     },
     "execution_count": 11,
     "metadata": {},
     "output_type": "execute_result"
    }
   ],
   "source": [
    "X_train, X_test, y_train, y_test = train_test_split(X,y)\n",
    "X_train.describe()"
   ]
  },
  {
   "cell_type": "code",
   "execution_count": 12,
   "metadata": {},
   "outputs": [],
   "source": [
    "#Using training data to transform text into counts of features for each message\n",
    "vect.fit(X_train)\n",
    "X_train_dtm = vect.transform(X_train) \n",
    "X_test_dtm = vect.transform(X_test)"
   ]
  },
  {
   "cell_type": "code",
   "execution_count": 13,
   "metadata": {},
   "outputs": [
    {
     "name": "stdout",
     "output_type": "stream",
     "text": [
      "\n",
      "K Nearest Neighbors (NN = 3)\n",
      "Accuracy Score: 63.455657492354746%\n",
      "Confusion Matrix: \n",
      "[[  4  16   6]\n",
      " [ 18 186  54]\n",
      " [ 14 131 225]]\n"
     ]
    }
   ],
   "source": [
    "#Accuracy using KNN Model\n",
    "KNN = KNeighborsClassifier(n_neighbors = 3)\n",
    "KNN.fit(X_train_dtm, y_train)\n",
    "y_pred = KNN.predict(X_test_dtm)\n",
    "print('\\nK Nearest Neighbors (NN = 3)')\n",
    "print('Accuracy Score: ',metrics.accuracy_score(y_test,y_pred)*100,'%',sep='')\n",
    "print('Confusion Matrix: ',metrics.confusion_matrix(y_test,y_pred), sep = '\\n')"
   ]
  },
  {
   "cell_type": "code",
   "execution_count": 14,
   "metadata": {},
   "outputs": [
    {
     "name": "stdout",
     "output_type": "stream",
     "text": [
      "[[  4  16   6]\n",
      " [ 18 186  54]\n",
      " [ 14 131 225]]\n",
      "              precision    recall  f1-score   support\n",
      "\n",
      "          -1       0.11      0.15      0.13        26\n",
      "           0       0.56      0.72      0.63       258\n",
      "           1       0.79      0.61      0.69       370\n",
      "\n",
      "    accuracy                           0.63       654\n",
      "   macro avg       0.49      0.49      0.48       654\n",
      "weighted avg       0.67      0.63      0.64       654\n",
      "\n",
      "0.6345565749235474\n"
     ]
    }
   ],
   "source": [
    "predictions = y_pred\n",
    "from sklearn.metrics import classification_report, confusion_matrix, accuracy_score\n",
    " \n",
    "print(confusion_matrix(y_test,predictions))  \n",
    "print(classification_report(y_test,predictions))  \n",
    "print(accuracy_score(y_test, predictions))"
   ]
  },
  {
   "cell_type": "code",
   "execution_count": null,
   "metadata": {},
   "outputs": [],
   "source": []
  }
 ],
 "metadata": {
  "kernelspec": {
   "display_name": "Python 3",
   "language": "python",
   "name": "python3"
  },
  "language_info": {
   "codemirror_mode": {
    "name": "ipython",
    "version": 3
   },
   "file_extension": ".py",
   "mimetype": "text/x-python",
   "name": "python",
   "nbconvert_exporter": "python",
   "pygments_lexer": "ipython3",
   "version": "3.7.3"
  }
 },
 "nbformat": 4,
 "nbformat_minor": 2
}
