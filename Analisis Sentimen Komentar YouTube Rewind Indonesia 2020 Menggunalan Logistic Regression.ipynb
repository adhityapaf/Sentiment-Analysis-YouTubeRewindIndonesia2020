{
 "cells": [
  {
   "cell_type": "markdown",
   "metadata": {},
   "source": [
    "# Analisis Sentimen Komentar YouTube Rewind Indonesia 2020 Menggunakan Logistic Regression"
   ]
  },
  {
   "cell_type": "markdown",
   "metadata": {},
   "source": [
    "### Melakukan Import Library"
   ]
  },
  {
   "cell_type": "code",
   "execution_count": 1,
   "metadata": {},
   "outputs": [],
   "source": [
    "import numpy as np\n",
    "import pandas as pd\n",
    "%matplotlib inline\n",
    "\n",
    "import warnings\n",
    "warnings.filterwarnings(\"ignore\")"
   ]
  },
  {
   "cell_type": "code",
   "execution_count": 2,
   "metadata": {},
   "outputs": [
    {
     "name": "stderr",
     "output_type": "stream",
     "text": [
      "[nltk_data] Downloading package stopwords to C:\\Users\\Adhitya\n",
      "[nltk_data]     K\\AppData\\Roaming\\nltk_data...\n",
      "[nltk_data]   Package stopwords is already up-to-date!\n"
     ]
    }
   ],
   "source": [
    "from sklearn import metrics\n",
    "from mlxtend.plotting import plot_confusion_matrix\n",
    "import matplotlib.pyplot as plt\n",
    "import re  \n",
    "import nltk  \n",
    "nltk.download('stopwords')  \n",
    "from nltk.corpus import stopwords  \n",
    "from nltk import word_tokenize\n",
    "import string"
   ]
  },
  {
   "cell_type": "markdown",
   "metadata": {},
   "source": [
    "### Membaca Dataset"
   ]
  },
  {
   "cell_type": "code",
   "execution_count": 3,
   "metadata": {},
   "outputs": [
    {
     "data": {
      "text/html": [
       "<div>\n",
       "<style scoped>\n",
       "    .dataframe tbody tr th:only-of-type {\n",
       "        vertical-align: middle;\n",
       "    }\n",
       "\n",
       "    .dataframe tbody tr th {\n",
       "        vertical-align: top;\n",
       "    }\n",
       "\n",
       "    .dataframe thead th {\n",
       "        text-align: right;\n",
       "    }\n",
       "</style>\n",
       "<table border=\"1\" class=\"dataframe\">\n",
       "  <thead>\n",
       "    <tr style=\"text-align: right;\">\n",
       "      <th></th>\n",
       "      <th>No</th>\n",
       "      <th>Komentar</th>\n",
       "      <th>P1</th>\n",
       "      <th>P2</th>\n",
       "      <th>P3</th>\n",
       "      <th>Hasil</th>\n",
       "    </tr>\n",
       "  </thead>\n",
       "  <tbody>\n",
       "    <tr>\n",
       "      <th>0</th>\n",
       "      <td>1</td>\n",
       "      <td>trendingg</td>\n",
       "      <td>1</td>\n",
       "      <td>1</td>\n",
       "      <td>1.0</td>\n",
       "      <td>Positif</td>\n",
       "    </tr>\n",
       "    <tr>\n",
       "      <th>1</th>\n",
       "      <td>2</td>\n",
       "      <td>Demi apapun ini keren bangetttr</td>\n",
       "      <td>1</td>\n",
       "      <td>1</td>\n",
       "      <td>1.0</td>\n",
       "      <td>Positif</td>\n",
       "    </tr>\n",
       "    <tr>\n",
       "      <th>2</th>\n",
       "      <td>3</td>\n",
       "      <td>NGERIIIII</td>\n",
       "      <td>1</td>\n",
       "      <td>1</td>\n",
       "      <td>1.0</td>\n",
       "      <td>Positif</td>\n",
       "    </tr>\n",
       "    <tr>\n",
       "      <th>3</th>\n",
       "      <td>4</td>\n",
       "      <td>Kerennnn</td>\n",
       "      <td>1</td>\n",
       "      <td>1</td>\n",
       "      <td>1.0</td>\n",
       "      <td>Positif</td>\n",
       "    </tr>\n",
       "    <tr>\n",
       "      <th>4</th>\n",
       "      <td>5</td>\n",
       "      <td>Kalo dia yg mengang kek jaminan mutu gitu dah ...</td>\n",
       "      <td>1</td>\n",
       "      <td>1</td>\n",
       "      <td>1.0</td>\n",
       "      <td>Positif</td>\n",
       "    </tr>\n",
       "  </tbody>\n",
       "</table>\n",
       "</div>"
      ],
      "text/plain": [
       "   No                                           Komentar  P1  P2   P3    Hasil\n",
       "0   1                                          trendingg   1   1  1.0  Positif\n",
       "1   2                    Demi apapun ini keren bangetttr   1   1  1.0  Positif\n",
       "2   3                                          NGERIIIII   1   1  1.0  Positif\n",
       "3   4                                           Kerennnn   1   1  1.0  Positif\n",
       "4   5  Kalo dia yg mengang kek jaminan mutu gitu dah ...   1   1  1.0  Positif"
      ]
     },
     "execution_count": 3,
     "metadata": {},
     "output_type": "execute_result"
    }
   ],
   "source": [
    "data = pd.read_csv ('Komentar YouTube Dan Label.csv')\n",
    "data.head()"
   ]
  },
  {
   "cell_type": "markdown",
   "metadata": {},
   "source": [
    "Mengubah DataFrame menjadi 2 kolom"
   ]
  },
  {
   "cell_type": "code",
   "execution_count": 4,
   "metadata": {},
   "outputs": [
    {
     "data": {
      "text/html": [
       "<div>\n",
       "<style scoped>\n",
       "    .dataframe tbody tr th:only-of-type {\n",
       "        vertical-align: middle;\n",
       "    }\n",
       "\n",
       "    .dataframe tbody tr th {\n",
       "        vertical-align: top;\n",
       "    }\n",
       "\n",
       "    .dataframe thead th {\n",
       "        text-align: right;\n",
       "    }\n",
       "</style>\n",
       "<table border=\"1\" class=\"dataframe\">\n",
       "  <thead>\n",
       "    <tr style=\"text-align: right;\">\n",
       "      <th></th>\n",
       "      <th>Komentar</th>\n",
       "      <th>Hasil</th>\n",
       "    </tr>\n",
       "  </thead>\n",
       "  <tbody>\n",
       "    <tr>\n",
       "      <th>0</th>\n",
       "      <td>trendingg</td>\n",
       "      <td>Positif</td>\n",
       "    </tr>\n",
       "    <tr>\n",
       "      <th>1</th>\n",
       "      <td>Demi apapun ini keren bangetttr</td>\n",
       "      <td>Positif</td>\n",
       "    </tr>\n",
       "    <tr>\n",
       "      <th>2</th>\n",
       "      <td>NGERIIIII</td>\n",
       "      <td>Positif</td>\n",
       "    </tr>\n",
       "    <tr>\n",
       "      <th>3</th>\n",
       "      <td>Kerennnn</td>\n",
       "      <td>Positif</td>\n",
       "    </tr>\n",
       "    <tr>\n",
       "      <th>4</th>\n",
       "      <td>Kalo dia yg mengang kek jaminan mutu gitu dah ...</td>\n",
       "      <td>Positif</td>\n",
       "    </tr>\n",
       "  </tbody>\n",
       "</table>\n",
       "</div>"
      ],
      "text/plain": [
       "                                            Komentar    Hasil\n",
       "0                                          trendingg  Positif\n",
       "1                    Demi apapun ini keren bangetttr  Positif\n",
       "2                                          NGERIIIII  Positif\n",
       "3                                           Kerennnn  Positif\n",
       "4  Kalo dia yg mengang kek jaminan mutu gitu dah ...  Positif"
      ]
     },
     "execution_count": 4,
     "metadata": {},
     "output_type": "execute_result"
    }
   ],
   "source": [
    "df = data[['Komentar','Hasil']]\n",
    "df.head()"
   ]
  },
  {
   "cell_type": "code",
   "execution_count": 5,
   "metadata": {},
   "outputs": [
    {
     "data": {
      "text/plain": [
       "(2000, 2)"
      ]
     },
     "execution_count": 5,
     "metadata": {},
     "output_type": "execute_result"
    }
   ],
   "source": [
    "df.shape"
   ]
  },
  {
   "cell_type": "markdown",
   "metadata": {},
   "source": [
    "### Menambahkan kolom `sentimen`. Mengubah Komentar menjadi angka pada kolom `sentimen`"
   ]
  },
  {
   "cell_type": "code",
   "execution_count": 6,
   "metadata": {},
   "outputs": [],
   "source": [
    "df['sentimen'] = 0"
   ]
  },
  {
   "cell_type": "code",
   "execution_count": 7,
   "metadata": {},
   "outputs": [],
   "source": [
    "df['sentimen'][df.Hasil == 'Netral'] = 0\n",
    "df['sentimen'][df.Hasil == 'Positif'] = 1\n",
    "df['sentimen'][df.Hasil == 'Negatif'] = -1"
   ]
  },
  {
   "cell_type": "code",
   "execution_count": 8,
   "metadata": {},
   "outputs": [
    {
     "data": {
      "text/html": [
       "<div>\n",
       "<style scoped>\n",
       "    .dataframe tbody tr th:only-of-type {\n",
       "        vertical-align: middle;\n",
       "    }\n",
       "\n",
       "    .dataframe tbody tr th {\n",
       "        vertical-align: top;\n",
       "    }\n",
       "\n",
       "    .dataframe thead th {\n",
       "        text-align: right;\n",
       "    }\n",
       "</style>\n",
       "<table border=\"1\" class=\"dataframe\">\n",
       "  <thead>\n",
       "    <tr style=\"text-align: right;\">\n",
       "      <th></th>\n",
       "      <th>Komentar</th>\n",
       "      <th>Hasil</th>\n",
       "      <th>sentimen</th>\n",
       "    </tr>\n",
       "  </thead>\n",
       "  <tbody>\n",
       "    <tr>\n",
       "      <th>0</th>\n",
       "      <td>trendingg</td>\n",
       "      <td>Positif</td>\n",
       "      <td>1</td>\n",
       "    </tr>\n",
       "    <tr>\n",
       "      <th>1</th>\n",
       "      <td>Demi apapun ini keren bangetttr</td>\n",
       "      <td>Positif</td>\n",
       "      <td>1</td>\n",
       "    </tr>\n",
       "    <tr>\n",
       "      <th>2</th>\n",
       "      <td>NGERIIIII</td>\n",
       "      <td>Positif</td>\n",
       "      <td>1</td>\n",
       "    </tr>\n",
       "    <tr>\n",
       "      <th>3</th>\n",
       "      <td>Kerennnn</td>\n",
       "      <td>Positif</td>\n",
       "      <td>1</td>\n",
       "    </tr>\n",
       "    <tr>\n",
       "      <th>4</th>\n",
       "      <td>Kalo dia yg mengang kek jaminan mutu gitu dah ...</td>\n",
       "      <td>Positif</td>\n",
       "      <td>1</td>\n",
       "    </tr>\n",
       "  </tbody>\n",
       "</table>\n",
       "</div>"
      ],
      "text/plain": [
       "                                            Komentar    Hasil  sentimen\n",
       "0                                          trendingg  Positif         1\n",
       "1                    Demi apapun ini keren bangetttr  Positif         1\n",
       "2                                          NGERIIIII  Positif         1\n",
       "3                                           Kerennnn  Positif         1\n",
       "4  Kalo dia yg mengang kek jaminan mutu gitu dah ...  Positif         1"
      ]
     },
     "execution_count": 8,
     "metadata": {},
     "output_type": "execute_result"
    }
   ],
   "source": [
    "df.head()"
   ]
  },
  {
   "cell_type": "code",
   "execution_count": 9,
   "metadata": {},
   "outputs": [
    {
     "data": {
      "text/plain": [
       "(2000, 3)"
      ]
     },
     "execution_count": 9,
     "metadata": {},
     "output_type": "execute_result"
    }
   ],
   "source": [
    "df.shape"
   ]
  },
  {
   "cell_type": "markdown",
   "metadata": {},
   "source": [
    "### Menampilkan grafik batang dari sentimen"
   ]
  },
  {
   "cell_type": "code",
   "execution_count": 10,
   "metadata": {},
   "outputs": [
    {
     "data": {
      "text/plain": [
       "<matplotlib.axes._subplots.AxesSubplot at 0x15358f96dd8>"
      ]
     },
     "execution_count": 10,
     "metadata": {},
     "output_type": "execute_result"
    },
    {
     "data": {
      "image/png": "[encoded data removed]",
      "text/plain": [
       "<Figure size 432x288 with 1 Axes>"
      ]
     },
     "metadata": {
      "needs_background": "light"
     },
     "output_type": "display_data"
    }
   ],
   "source": [
    "import seaborn as sns\n",
    "sns.countplot(x='Hasil', data=df)"
   ]
  },
  {
   "cell_type": "markdown",
   "metadata": {},
   "source": [
    "## Melakukan Data Preprocessing"
   ]
  },
  {
   "cell_type": "markdown",
   "metadata": {},
   "source": [
    "Membuat karakter dalam kolom Komentar menjadi huruf kecil"
   ]
  },
  {
   "cell_type": "code",
   "execution_count": 11,
   "metadata": {},
   "outputs": [
    {
     "data": {
      "text/plain": [
       "0                                            trendingg\n",
       "1                      demi apapun ini keren bangetttr\n",
       "2                                            ngeriiiii\n",
       "3                                             kerennnn\n",
       "4    kalo dia yg mengang kek jaminan mutu gitu dah ...\n",
       "Name: Komentar, dtype: object"
      ]
     },
     "execution_count": 11,
     "metadata": {},
     "output_type": "execute_result"
    }
   ],
   "source": [
    "df['Komentar'] = df['Komentar'].str.lower()\n",
    "df['Komentar'].head()"
   ]
  },
  {
   "cell_type": "code",
   "execution_count": 12,
   "metadata": {},
   "outputs": [
    {
     "data": {
      "text/html": [
       "<div>\n",
       "<style scoped>\n",
       "    .dataframe tbody tr th:only-of-type {\n",
       "        vertical-align: middle;\n",
       "    }\n",
       "\n",
       "    .dataframe tbody tr th {\n",
       "        vertical-align: top;\n",
       "    }\n",
       "\n",
       "    .dataframe thead th {\n",
       "        text-align: right;\n",
       "    }\n",
       "</style>\n",
       "<table border=\"1\" class=\"dataframe\">\n",
       "  <thead>\n",
       "    <tr style=\"text-align: right;\">\n",
       "      <th></th>\n",
       "      <th>sentimen</th>\n",
       "    </tr>\n",
       "  </thead>\n",
       "  <tbody>\n",
       "    <tr>\n",
       "      <th>count</th>\n",
       "      <td>2000.000000</td>\n",
       "    </tr>\n",
       "    <tr>\n",
       "      <th>mean</th>\n",
       "      <td>0.869000</td>\n",
       "    </tr>\n",
       "    <tr>\n",
       "      <th>std</th>\n",
       "      <td>0.378035</td>\n",
       "    </tr>\n",
       "    <tr>\n",
       "      <th>min</th>\n",
       "      <td>-1.000000</td>\n",
       "    </tr>\n",
       "    <tr>\n",
       "      <th>25%</th>\n",
       "      <td>1.000000</td>\n",
       "    </tr>\n",
       "    <tr>\n",
       "      <th>50%</th>\n",
       "      <td>1.000000</td>\n",
       "    </tr>\n",
       "    <tr>\n",
       "      <th>75%</th>\n",
       "      <td>1.000000</td>\n",
       "    </tr>\n",
       "    <tr>\n",
       "      <th>max</th>\n",
       "      <td>1.000000</td>\n",
       "    </tr>\n",
       "  </tbody>\n",
       "</table>\n",
       "</div>"
      ],
      "text/plain": [
       "          sentimen\n",
       "count  2000.000000\n",
       "mean      0.869000\n",
       "std       0.378035\n",
       "min      -1.000000\n",
       "25%       1.000000\n",
       "50%       1.000000\n",
       "75%       1.000000\n",
       "max       1.000000"
      ]
     },
     "execution_count": 12,
     "metadata": {},
     "output_type": "execute_result"
    }
   ],
   "source": [
    "df.describe()"
   ]
  },
  {
   "cell_type": "code",
   "execution_count": 13,
   "metadata": {},
   "outputs": [
    {
     "data": {
      "text/plain": [
       "'kalo dia yg mengang kek jaminan mutu gitu dah , panjang umur semua , biar anak cucu masih bisa ngerasain karya kalian ðÿ˜\\x8dðÿ˜\\x8dðÿ˜\\x8dðÿ˜\\x8d'"
      ]
     },
     "execution_count": 13,
     "metadata": {},
     "output_type": "execute_result"
    }
   ],
   "source": [
    "df['Komentar'][4]"
   ]
  },
  {
   "cell_type": "markdown",
   "metadata": {},
   "source": [
    "### Membersihkan simbol-simbol dari komentar"
   ]
  },
  {
   "cell_type": "code",
   "execution_count": 14,
   "metadata": {},
   "outputs": [],
   "source": [
    "comment_clean = []\n",
    "C = df.iloc[:, 0].values\n",
    "\n",
    "for comment in range (0, len(C)):\n",
    "    comment_cleaned = re.sub(r'\\W', ' ', str(C[comment]))\n",
    "    comment_cleaned = re.sub(r'ðÿ', ' ', comment_cleaned)\n",
    "    comment_cleaned = re.sub(r'½', ' ', comment_cleaned)\n",
    "    comment_cleaned = re.sub(r'œ', ' ', comment_cleaned)\n",
    "    comment_cleaned = re.sub(r'â', ' ', comment_cleaned)\n",
    "    comment_cleaned = re.sub(r'ï', ' ', comment_cleaned)\n",
    "    comment_cleaned = re.sub(r'º', ' ', comment_cleaned)\n",
    "    comment_cleaned = re.sub(r'ž', ' ', comment_cleaned)\n",
    "    comment_cleaned = re.sub(r'š', ' ', comment_cleaned)\n",
    "    comment_cleaned = re.sub(r'ª', ' ', comment_cleaned)\n",
    "    comment_cleaned = re.sub(r'¼', ' ', comment_cleaned)\n",
    "    \n",
    "    comment_cleaned= re.sub(r'\\s+', ' ', comment_cleaned, flags=re.I)\n",
    "    comment_clean.append(comment_cleaned)"
   ]
  },
  {
   "cell_type": "code",
   "execution_count": 15,
   "metadata": {},
   "outputs": [
    {
     "name": "stdout",
     "output_type": "stream",
     "text": [
      "['trendingg', 'demi apapun ini keren bangetttr', 'ngeriiiii', 'kerennnn', 'kalo dia yg mengang kek jaminan mutu gitu dah panjang umur semua biar anak cucu masih bisa ngerasain karya kalian ', 'huaaa keren bgt perasan jdi campur aduk seneng sedih emosi samuanya ada ', 'kangen buna hijab ', '2020 ditutup dengan ini pecah gilaa', 'merinding anjir the real masterpeace 2020 ', 'mantaap ibaratkan om dedy corbuzier jadi ketua podcast ', 'goks parah ri2020', 'alp ba ta yg mendunia ngga ada ', 'yg diawal cewe siapa woy', 'kereeeeeen ', 'ini tik tok rewind kayanya', 'aaaaa monang pecahhhh ', 'gila pecahhhh siii', 'keren banget petjaaahh ', 'aaaaaaaaa keren bat', 'ada budi ', 'mrembes seketika good job tuk semua yang terlibat ', 'keren abis asli terima kasih atas kerja kerasnya', 'wih mas ancaa pertama kali nnton yutuppp liat malam minggu miko ', 'gokil ni budget produksi nya gede bgt nih', 'di akhir video mendadak sedih liat ka jo dan andovi keluar dari pintu memberikan tanda bahwa mereka pamit ', 'so cool', '522kxditonton i see the like button 562k like ', 'agak berat ya ninggalin 2020', 'keren bangett gila', 'raffi ahmad dan baim wong ko engga ada yaaaaa', 'miawaug gk ada lagi ya ', 'daammnnnn ', 'keren', 'parah sih ini ', '7 53 seketika langsung netes ² ² ', 'we need more hareudang x wap lol', 'kacau siiii kerenn bgtttt', 'ancur keren parah sediiinya berasa campur rasa bangga jyakhh berasa kurang lama bgt nonton ini tp yakin pasti ngeditnya susah bgt keren bgttttt ', 'keren banget demi apapun ku merinding nontonnya ', 'youtober old emang gg beda sama youtober give away ', 'where is son of zeus ', 'serius nanya ini anak cewe yg di awal siapa ', 'nitip komen sebelum 1jt views', 'kerennnn ampun ammpunnn ga kerasa udah rewind20 perasaan kemaren baru 2016 ', 'mana om mobi n ridwan hanif ', 'keren banget ', 'kurang bobon doang si ini', 'ericko lim gaada ya ', 'keren banget t t', 'merindingg ini mah bagus bangetttt wajib trending pokoknyaaaaa', 'scoringnya juara ', 'erokontolim kok ga ada ya serius nanya ', 'u n 1 t', ' ri2020 trendingkan trending indogointernasional rewind2020', 'mantap parah sampe nyentuh hati dong btw thankyou skinny24 see u when i see u sukses terus youtube indo ', 'sumpah ini keren bgt parahh proud bgt jd anak indonesia 3', 'salut', 'mantappppp', 'kerennn bgt konseppnyaaaaa gada obattt sumpahhh ', 'gila ini keren sumpah nonton ini campur sedih dan happy ngeliatnya semoga kita sehat2 selalu dan semoga virus ini hilang dari bumi ini amin ', ' wesurvive2020', 'iciss ', ' ri2020 trendingkan trending indogointernasional rewind2020', 'chandra becanda ', 'bagus banget', ' ri2020 trendingkannnn gilak gemeter karna takjub gw ditengah pandemi bisa bikin karya sebagus ini keren bat gilak', 'keren abizzz', 'kerenn ', 'njiirr nonton ke 2 kali pas saya colok itu earphone ke hp langsung duaarr kwalitas sound nya donk bikin makin keren abis berasa bgt kangen suasana bioskopnya duh ga ngerti lagi secinta itu gw sama chandra liow n aulion plis pliisss jgn berhenti berkarya ', 'kerenn ', 'yg kagen youtube 2015 2016 kangen kevin sama edhozell', 'pengen rasanya waktu diputar kembali ', 'asli keren banget', 'keren parah hiks', 'kereen bangett siihh nyalakanindonesia', 'good', 'yutube rewind terbaikkkkkk', 'terlalu emang buat ini terlalu keren', 'youtube rewind terepic bagi gua ', 'trending trendingkannnnn', ' ri2020 how you like that me yessss ', 'demi apa kerennnnnnnn ', ' ri2020 trendingkan trending indogointernasional rewind2020', 'saking kerennya gua merinding borr', 'goks ', 'njir lah keren asli bagian favorit gua pas lagu black pink dan kepergian skiny', 'asliii ini keren banget banget bangeeeet deh karya anak bangsa ', 'di awal dibuat ketawa ketiwi sama paman di akhir dibuat sedih sampe nangis keinget jaman youtube belum dijajah sama artis well done boys ', 'kerennnnnn', 'merinding asliiii keren parahhhhh ', 'keren banget woyyy ', 'merinding', 'percuma kalau msh ada buzzerp', ' ri2020 on fire', 'keren parahhhh ', 'trending ', 'gokil parahh untung belum telat banget ', 'anjay mabar', 'knp aku bukan boneka bukan si kekey tp lagu2 lain si penyanyi asli yg tampil nggak nongol si rans entertaiment sm bapau ', 'bulu kuduk berdiri bangsat ', 'gokz emang chandra berkarya tanpa harus drama kualitas diatas kuantitas salute ', 'thank u best gift in 2020 ', 'daebaaaak ', 'mantep banget sumpah t t', 'g g mainya hebat', ' ri2020 trendingkan trending indogointernasional rewind2020', 'baru ini liat youtube bisa merinding sekaligus sedih 2020 ternyata isinya begituan', 'merinding keren ', 'speechless youtuber indonesia membanggakan banget ri2020', 'gila keren banget', 'the ending made me cry ', 'gila keren banget ayo trending kan ke 1 ayooo', 'diamana ini you tuber gaming favorit saya kak regi miawaug windah basudara dan aci gamespot ', ' nyalakanindonesia', 'kerennnn bgtt', 'trendingkan ', 'eh ada morganisa malam minggu miko ', 'thanks for everything u guys did to this platform u guys are flippin awesome ', 'akhirnya setelah tahun kemarin off', 'wih siapa yang kesini gara gara liat ig nya fitra eri tapi kurang 3 orang yaitu om mobi ridwan hanif rahmadi dan arief muhammad hayo harus nya ada video nya jimny challenge tapi gak papa lah kalo gak ada ', 'nonton ini the real mau nangis rasanya kek mau meninggal ', 'merinding', 'trendingg yuu bisaaaaaa ', 'preciate a lot good job for you all guys ', 'merinding parahhhh', 'i m crying ÿ ', 'scene terakhir dabest parah ', '4 18 itu mantep bngt woy ', 'sumfaaaaah sedih', ' ri2020 god bye skinnyindonesian24 the best youtube rewind indo ', 'mantap', 'keren kerja bagus untuk semuanya saya sampai dibuat menangis terlalu penuh dengan memori youtube indonesia yang dulu dulu panjang umur perjuangan nyalakanindonesia', 'keren banget ga bisa berhenti nonton sedih juga tapi ', 'gokil gokil gokil keren bangetttt', 'merinding nonton nya ', 'merinding liat nya sampe nangis ²', 'ngakak pas bagian pak muh anjir wkwkwkwkwkwkw', 'men i cry ', 'banyak bawangnya haha keren sih huhuuu', 'gue baru sadar ada dosan sama pak han wkwkkwk', 'keren parah euy gada obat ', 'keren ', '4 13 sindirannya parah ', 'anjayyy jadii ', 'kerenn ', 'hanin nyanyi langsung merinding gilaaaaaaaaa suka', 'bang budiiii guysss', 'rewind kali ini bikin perasaan aku jadi campur aduk kadang ketawa kadang nangis apalagi pas bagian kak andovi ama kak jovi keluar ', 'the best youtube rewind ever', 'mantap', ' ri2020 trendingkan trending indogointernasional rewind2020', 'ada atta auto skip 10 detik kemudian ', 'belum perna komen apa di konten yutupe siapapun kali ini anjirrr harus aku akui ini keren bgt sumpahhhhhhhhhh kilas balik semua hal yang terjadi di 2020 dimna banyak di antaran kita cuman bisa ngejalanin aktifitas kurang lebih 3bulan saja di tahun ini dan banyak bgt pembelajaran yg di dapat terima kasih buat semua elemen yang terlibat dalam hal kemanusiaan kalian luar biasa banget hebat hebat hebat ', 'ajiibbb ', 'wahh asli sih keren banget', 'karena ini keren banget yuk trending yuk ', 'keren aslina', 'keren bangett ', 'kecee badai keren bangettt makasii 2020 ', 'anjayyyy kerenn banget anjir vibes tiktoknya ngena bangettt ', 'mantap', 'woahh woah speechless ', 'terkerennnn ', 'keren karya anak bangsa ri2020 ', 'gila keren bgt', 'iklan nyaa gangguuuu', 'kereeennnnn aku bantu ga skip iklannya buat nanti bikin youtube rewind 2021 biar tambah kerennn lageeeeeeee ', 'karena ini keren banget yuk trending yuk ', 'ytrewind 2018 sampah', 'best youtube rewind on earth', 'ba radit ga ikut ya ', 'merinding asli halph', 'nangis sih keren banget', 'kurang miawaug', 'semoga di yt rewind beberapa tahun berikutnya ada aku ', 'kita lihat di youtube tapi kita rindu youtube ', 'ytr ter epic ri2020', 'merindinggg', 'merinding gak berenti berenti ', 'let s go trending kannnnnnnn gesss', 'my amazing 14 minutes gua nangis anjr pas bagian akhir wkwk', 'bang radit diwakilin mas anca gokil', 'merinding asli keren banget ', 'asli keren parah ini mah kudu trending ', 'anak kecil yang pertama itu youtuber juga kah ', 'kerennnnn ', 'keren parah ga cuma rewind indonesia 2020 tapiiii sisipan rewind indonesia decade nya kerreen parah terimakasih kepada kalian yang memberikan ini semua 2020 menjadi sedikit lebih indah dengan ri2020 sehat terus untuk kita semua semoga 2021 lebih baik dari tahun sebelumnya ', 'merinding bangett ', 'keren bangettttt', 'kereeeeeen', 'keren asli', 'keren abiiiiieeeesdss', 'pak muhhhhh', 'kerennn abissssss', 'karena ini keren banget yuk trending yuk ', 'keren banget parahhh so proud with u guys makasih udah bikin karya sebagus ini jaya selalu indonesian creators', 'ps5 nya kecepetan brok', 'penutup akhir tahun yg sangat merewindkan ', 'epiiiiiic para youtuber berkumpul dan sedih dan seram indonesia maju melawan corona bersatu kita teguh bercerai kita siapa cita citanya nonton berkali kali yang like ', 'seger banget mata gua ngeliatnya lightningnyaa set up lightningnya dll liiiitttt', 'sad ending ', 'keren bangettttttt', 'keyeen bangetttt', 'sumpah keren', 'keren merinding wahhhhhh ga bisa berkata kata lagi terima kasih', 'keren banget sampai merinding gue nnton nya', 'ini youtube rewind indonesia terbaik terbagus terniat terkeren ter dabes lah pokoknya sangat menakjubkan semangat terus buat kalian para youtuber atau konten kreator indonesia kalian semua hebatttt ', 'merindinh gila keren bgt asli', 'mantap jiwaa', 'aaaa keren banget selama video diputar aku merinding loh ', 'kerennnnn abiss ', 'kerenn nih salut', 'mau dong tiap akhir tahun selalu ada video rewind sperti ini hehe', 'keren banget ayo dilike jangan lupa guys ', 'ayooo trendingggg ', 'manca manaaaaa', 'keren ', 'deny caknan aja masuk masak felix irwan nggak ', 'pak muh idolakuuuuuuuuuuuuu', 'keceee', 'kerenn bgt aligggggg', 'keren banget sampe nangis ', 'bagus banget anjrot', 'karena ini keren banget yuk trending yuk ', 'gokil merindinggg bangettt ', 'goks banget si ini sumpehh', 'gokilll woii', 'ini sedih banget tapi happy gmn tuh', 'sumpah pak ini cen jancuk banget ', 'suka banget mo nangis rasanya ', '09 00 sumpah asli musiknya keren parah transisi nyo smooth', 'musiknya ga tahannn', 'merinding gw denger lathi ', 'feel dari video ini nyampe ke kita bang scene terakhir ', 'bikin bareng kak atta sama kak aurel dong bareng', 'i got goosebumps alr', 'gak mungkin gak nangis nntn ini entah krn haru seneng sedih gila ', 'awesome anjim ', 'gokill ', 'ko gue nangid t_t', 'harus trending', 'bahkan detail kecill doang gue ngerti woiii ini kerenn bangettttttt emang nggak pernahh mengecewakannn sihhh saluttttttttt positif thingking aja mungkin yg dislike impostor', 'the quality tho', 'aaaaaaa keren bngttt ', 'kerennn validddd no debat', 'kerennnn parahhhhh 3', 'trending satu bulan gak niii trending', 'karena ini keren banget yuk trending yuk ', 'terharuuuu nangis bgt bagus bgt ih ', 'mantap', 'tolong carikan dimana kekeyi', 'terharus ', 'like terus dan banyak pembelajaran dari semua ini beautiful ', 'gak bisa ngomong apa apa penutup tahun yg gokil ', 'keren banget merinding nangis bener bener masterpiece terimakasih untuk kalian semua yang sudah mendedikasikan diri untuk membuat video ini ', 'niceee so cool btw odading mang oleh ada apa kagak v', 'merinding cokk keren sangaddd ', 'ada wajah frislly pas kbp dong ', 'eh ada pak muh ', 'keren banget gila woeee', 'gua pas scene terakhir yg when somebody love me jujur merinding seneng dan rada sedih karena welll sebagian dari mereka sudah pensiun dan menjelang pensi ato gk youtuber ² lama yg emang ngebuat vidio dulu tuh just for fun terutama buat bang tara ama gema sumpah mereka itu keren dah setiap main game selalu pasti ngebuat gua ketawa tapi well semua punya batas dan gua juga seneng youtuber indo makin banyak yg berkembang kek bangpen dll keren ² dah mereka dan semoga para penerus bisa lahh berkarya lebih bagus dari pada mereka soo thank you karena sudah menghibur kami para netizen ', 'merinding malem malem ', 'keren abis menyala ', 'youtube rewind dari tahun ke tahun gak pernah ngecewain', 'dalgona mana ', 'merinding proud you guys proud you youtubers indonesia semoga tahun 2021 akan jadi masa untuk para youtubers untuk berkarya dan menghibur life long the king chandra liaw', 'sedih tapi keren banget parah', 'karena ini keren banget yuk trending yuk ', 'pecah si keren banget merinding haru ayo indonesia kita bisa semangat untuk masa depan yang lebih baik kuatkan dunia', 'epick parah ', 'tiba tiba nangiss terharu', 'sangat berwarna ya bund', 'jujur keren banget ', 'aku sedang mencari baim wong', 'beneran ini video keren banget', 'keren banget woiiiiiiiiii', 'semoga di tahun berikut nya corona dahh hilang ', 'bim lu dimana pickypicks', ' terharu', 'gak akan ada yang bahas penampakan muka kak faiz apa ', 'bajingan sekali orang orang yang membuat ini kenapa bisa keren kali ', 'what a closing for 2020 ', 'gila gila gila epic ', 'karya sekeren sebagus seepic masih ada yang dislike wth', 'damn son siapa yang naruh bawang disini keren bet asli gila ', 'merinding nontonnya keren parah sumpah', 'mood pak muh ', 'ditonton berunglangkali masih ga nyangka sebagus ini', 'karena ini keren banget yuk trending yuk ', 'keren kali ajg', 'ketika tangis dan tawa menjadi satu', 'thanks buat para tenaga kerja medis yg udh mempertaruhkan nyawa kalian untuk negri ini semoga dengan jasa kalian negri ini menjadi lebih baik aamiin', 'keren parah', 'this is youtube rewind indonesia paling bagus sihh gila bagus bagetttt harus trending sihh dan negara lain harus liat', 'kurang baim wong sama channel hobby makan ', 'big thanks ', 'awalnya mau bikin 10 paragraf komen tentang betapa kerennya video ini tapi pada akhirnya cuman bisa bilang ong im mindblown m', 'nangis sekeren ini ', 'sumpah tiba ² ada rewind kgk tau ada info nya sumpah muncul di branda 2 jam lalu autoo cusssss', 'seneng liatnya i wish i could be part of them in the future', 'sudah 2x nonton dan masih merinding menitihkan air mata good job ', 'gokillll', 'ahh gokil keren abis d', 'the best sampe merinding', 'kerennn ri2020', 'yoi', 'keren banget asliiiii aku bangga indonesia punya kalian terima kasih banyak ', 'terima kasih ibu sudah memperbolehkan ku untuk nonton rewind indonesia 2020 ini keren windah jend bocil basudara', 'sumpahhh pokonya keren bgtttt', 'ngga ada obeng', 'the santoso mana', 'pak muh lucu bgt', 'saking kerennya ', 'merindingg bgttt btw pengen nangis scene akhir thankyou skinnyindonesian24 youtuber yg gue tonton sejak 2014 ', 'semangat indonesia ', 'kerennn bngt woyyyy ', 'karena ini keren banget yuk trending yuk ', 'kerennnn bangetttttt', 'keren cuy ', 'ini rewind yg me rewind video yt rewind dan video yg di rewind sumpah ini gila sih ', 'keren woyyyyyyy ', 'demi apasih ini merinding banget sumpah asli petjah bangeeettt ini goks youtube rewind 2020 salut buat chandraliaw skinnyindonesia24 nessi judge dan juga tim proudofyou guys ri2020', 'woah keren bangettt', 'sumpah gak tau kenapa aku ngerasa sedih ', 'woy gofar hilman mana anjer', 'gk seru yang terkenal2 gk masuk kayak brando dll', 'trendingkannnnnn', 'ngericcc ', 'finally', 'asli keren ', 'gilaaa merinding gua nontonnya', 'keren bangettt remix muziknya dan videonya parahhhh kerennn salam dari malaysia ² ¾', 'nice ', 'kerennnn bangetttt sumpahhhh', 'mana nih tim rans garis keras wkwkwk', 'bimo sama qorygore ga masuk sibuk yah', 'anjir lah keren abis video thanks creator indonesia yang selalu berjuang untuk terus berkarya gw ngerasain banget emosi video ini stand tall my friend goodluck terus ', 'indah hanya satu kata berjuta makna ', 'rewind indonesia 2020 ri2020', 'keren banget woi gilaaa gokiilll', 'kereeeeen bangeeeeet rewind indonesia terkeren 2020 ', 'ini apaansihhhh ko keren bngttt ', 'kerennn', 'mantebbbb ', 'sumpah deh keren bgt', ' ri2020 trendingkan', 'masterpiece emosinya kebawa bangen nontonnya terimakasih udah kasih kami hadiah terbaik di 2020 yang gelap ini sampai jumpa lagi semuanya di tahun depan ', 'youtube rewind 2018 nenangis melihat ini yg setuju like jumlah orang yg setuju ', 'keren banget sumpah', 'yg ngedis gapunya otak luar biasa ri2020 ayo kita nyalakanindonesia', 'terimakasih tahun 2020 ', 'sumpah keren parah', 'keren bangett parah taun inii yg dislike ada masalah idup ape sii ehe ', 'bimo gakeliatan ya ', 'wah mantep sih ini', 'suka banget ama suaranya awkarin ', 'what a masterpiece no one could ve done it better than you guys thankyou for everything ', 'so proud to all the crew that work behind this masterpieceeeeeeeee rise and shine ri2020', 'wajib trending ini mah ri2020', 'kereeeennn bgttt jujuurrrrrr ', 'gila pecah ', 'woahhhh keren gilaa', 'this is a masterpiece', 'keren parahhhhh ', 'kereeeeen bgt', 'keren bgt', 'sungguh penutup yang sangat baik diakhir tahun ini semoga kita semua selalu diberi kesehatan dan keselamatan di tengah keadaan bumi pertiwi kita yang sedang di uji ini amin ri2020', 'go trending ', 'gilakkkkkkk', 'merinding ', 'pak muh tumben ga pegang remot', 'hadir dan like ', 'mantapp ', ' ri2020 trendingkan', 'gilaaaaakkk antara kagum sedih sama ngga tau mau ngomong apa keren banget laahh ', ' ri2020', 'aaaa such a good old memory', 'ayo trendingkan ', 'keren ini sih', 'liat sekali gak cukup ', 'ga ada bobon ', 'over power ', 'gapaham lagi sih gua keren banget dah ', 'kek lucu terus ada rasa bangga tapi sedih pengen nangis kek campur2 gitu 2020 emang tahun terberat kita tapi kita juga lah yang saling menguatkan saru sama lain saling menghibur saling bantu membantu stay strong buat kita semua ', 'arief muhamad mana', 'merinddiiingggg', 'baru 3 jam ud 530 ribu', 'merinding ', 'apa ini kenapa keren bgt gini ', 'kerennn banget', 'keren bgt aaaa ', 'classsss ', ' anjay ewingsd', 'trending', ' ri2020 trendingkan', 'keren bgttt fikssssss seneng sedih cmpur aduk pas nntn ini ', 'youtube no rewind this year indonesian youtubers fine we ll do it ourself', 'wah gilaa', 'kok gue jadi sedih ya', 'kesini cuman gara ad coki muslim', 'sedeeeppp betulll nih editornya good job all ', 'sad ending yaa persembahan terakhir skinyindonesia24 di yutub ', 'keren bjir ', 'go indonesia stay strong ', 'keren parah sih', 'goks boy', 'damnnnn', 'best nyaaa ', 'yok bisa trending yok', 'gokilll wehh keren bngt merinding parah ', 'keren bgt', 'good job all congratulation', 'thank you all crew youtubers everyone for making this masterpiece its beautifully lit and guys we made it this far we are one don t let anyone tells us another ri2020', 'perasaan cepet banget deh kayaknya baru kemaren nonton rewind yt 2019 he ini udah rewind 2020 aja tt tt mana keren bgt wuyy', 'kualitas international heads up buat tim produksi', 'number one ini mah ', 'keren bgt ', 'keren bangeeet thankyou semuaaa selalu paling ditunggu di akhir tahun', 'trendingggg ayooo', 'sumpah keceeee bgt speechless ', 'sumpah bikin merinding sekaligus sedih', 'goks youtube rewind 2020 the best laah', 'im so sad ', 'kerenn ', ' ri2020 trendingkan', 'gg', 'jangan komen pake emot gaes kita tr3ndingkan ', 'bangga bgt guaaaa asli pas ada buna seneng bgt liatnya', 'epic video', 'raffi ahmad baim wong ', '11 43 thank youu so much skinnyindonesian24 see u when i see u', 'terimakasih udah buat aku menangis', 'saking kerennya sampe merinding nontonnya mo nangis keren parah', 'sumpah keren banget sampe merinding nontonya ', 'keren', 'kerennnnnnn bangettttttttttt', 'saat pakai apd itu harusnya pakek sarung tangan karet biar lebih wow', 'yt rewind 2020 lebih baik daripada tahun 2019', 'thank you thank you thank you that was beautiful rewind ri2020', 'keren bangett', 'mana nihh bimopd kok ga adaaa', 'keren parahh ', 'keren makasi yg udah buat ', 'merinding kuat lah indonesia', 'kok gak ada chika terngiang ngiang ', 'sumpah keren banget ', 'ahhhhh aku masih muda tapi merasa sudah tua dari awal karier youtuber indonesia dari rewind2 sblmnya gw ikutin semuanya dan emang jujur gw udah jenuh dengan tahun ini but thx guys video ini mengobati gw i m happy but crying too', ' ri2020 trendingkan', 'sinta jojo dong bikin kangen masa2 warnet', 'gilaa keren bgt nangis ', 'ternyata ada leo', 'w rasa komen w gk bakal kebaca karna udh rame yg komen tp w bakal bilang wawww w benar2 suka klu sesuatu itu benar2 kreatif rewind kali ini benar2 berkonsep tersusun mantap pokokny', 'sumpah detik detik terakhir bikin gw nangis fr t_t', 'semoga tahun 2021 corona covid 19 sudah tiada ', 'fucking lit thank you', 'tu atta kw atau asli ', 'keren bgt ', 'masih bagusan yg 2018 by erickolim ', '10 26 dibagian wajah terlihat lightning berwarna merah tetapi saat scene awal diganti 10 29 orang yang paling depan tidak terkena lightning itu saat ganti scene lagi 10 48 lightning itu memancarkan cahaya merah lagi tetapi lagi nih discene berikutnya warna lightning berubah menjadi putih 10 45 hanya memberitahu letak kesalahan ya teman teman jangan dianggap serius ', 'kerennnnn bgtttt woiii', 'gokiiillllllllll kereennn bggtt ', 'wagelasehhh', 'ini keren gila', 'merinding gelo keren parah sih ', 'makasih 2020 ', ' ri2020 trendingkan', 'keren pake banget', 'sumpah keren bangettttttttt ', 'keren banget ini ', 'td ada un1ty shok parahh', 'kerennnnnnnn', 'chkky dan muslim blokk kalian bintang y ', 'jadi teringat masa lalu good job team senang rasanya liat youtuber animasi mulai masuk rewind untuk rewind selanjutnya mungkin akan lebih sulit tapi jika ada yang mau mengerjakannya saya ucapkan semangat dan semoga sukses terima kasih', 'aku kok terharu banget malah lihatnya ', 'gg kata ilham rewind nya', '3 09 ewing 4k', 'sebagai pencinta yt indonesia yg ngikutin dr dulu gue merinding dan nangis nonton yt rewind indonesia thn ini parah perfect tengkyu kalian semua we ll missyou skinnyindonesian24 ', 'i don t what to say this is insane thanks you for make its happen', 'keren bgt parahhhhh', ' ri2020 keren bgtt anjay ', 'keren banget ga ngerti lagi ', 'aaaaaaaahhhh sukaaaaa', ' ri2020 trendingkan', 'p', 'kerennnn bgt woyyy ', 'parah sih keren bgt', 'sedih euy', 'waktu lathi sama blackpink beuh auto merinding wkwkwk', 'kerennn mo nangis wewwww bgttt', 'gilak woy kerennnnn ', 'big love and support for you all ', 'gilak keren banget sih ', 'mantapp bangg channdd ', 'gila anjir ', 'keren banget kak ga nyangka secepet ini 2020 ²', 'merinding', 'tersajikan dengan sangat baikkkkk', 'bagus dan bersatu karena ada sponsor yang nyata wkkwkwkw ga kek tahun kemarin absurdd ini sih pecah abis', 'sumpahhh uapikkkkk puoooollllllllll ri2020', 'kereennnnn ', 'woyy keren bangettttt', '2 42 ada un1ty ternyata ', 'kuwerennnnn ', 'kerenn sumpa', 'kerennn bngt sihhhhhhhhhh', 'pak muhhhhh gemoy ', 'anak gg', 'keren bgt ', ' ri2020 trending', 'gak berhenti2nya merinding gw keren semoga indonesia cepat pulih dan makin tercipta persatuan dan kesatuan ', 'keren parah', 'nnggss kren bgett sob', 'omgggg keren bangett', 'nangis ', 'trending yuuuk', 'hadiah terindah penutup tahun ', 'kereennn bnggtttttt fixx suatu hari nnt gua bkl berpartisipasi di rewind tahunan jugaa sumpahh merindingg smpe nangiss', 'lord kungkingkang saya tidak melihat', 'jujur keren banget ya allah nangiss ', 'gilaaa gilaaaaaaaa merindinggg oiiii ', ' ', 'kacau keren banget sih ', 'gokill kerennn banget ', 'kereeen bngt sedih banget', 'parah ini sihhh kerennn abis konsepny ', 'go trendiiing', 'keren ', 'yg unlike itu siapa woy ', 'nahaaa mewekkk gua pas skinny kaya pamit semoga kalian tetap berkarya dan buat kak chandra sumpah ini keren banget pesan moral nyampe bgt tengkyu buat semua content creator yt indonesia luar biasa', 'daebakk ', 'up', 'ericko lim mana ', 'goks paraaaaaaah', 'sungguh epic sekali that s amazing ri2020', 'jujur merinding', 'gilaaaaaaa merindiiingggg', 'tolong ini keren bgt', 'coba mas alip_ba_ta di ajakin bakalan trending dan musisi bule bnyak yang mereaction', ' ri2020 trendingkan', 'gw dateng dari masa depan kalo besok ini video bakal tranding bahkan besok nya lagi tranding no 1', 'bagus banget ', 'merinding ', 'demi apa aku nangiss ', 'ini baru youtube rewind', 'demi apa gua merinding dari awal ampe akhir ', 'gilaaa parah keren bangett semangat terus youtubers creator indonesia', 'eclipse always sayang arap ga join ', 'keren pake banget ', 'speechless', 'parahhh kerennnnn ', 'viralkan trending kan hebohkan terkenal kan', 'kurang ria sw ', 'trending', 'keren banget kak ga nyangka secepet ini 2020 ²', '7 54 asffjglglfjsjskajlakhfgak savage merinding badan', 'cinta produk lokal mtp', 'mantpap dah ', 'terimakasih telah berkarya terimakasih telah menemani kami selama tahun ini yang penuh dengan tantangan ', 'anj merinding', 'terimakasih para youtubers sudah menghibur kami yang lagi di rumah aja bravo ', 'this is insane ri2020', 'daebak ', 'buseh ada iklannya wkwkwk', 'well played', 'wow keren bangettt sayangnya lord tara art gabisa ikutan gegara kena corona btw rewind 2020 keren abislah pokoknya ', 'keren paraaahhh indonesia bangga ² ² ² ', 'ada bang budi sembrenget', 'kereenn asfvcrsse', 'mau nangiissss', 'gokil mantap', 'dunia harus liat ini ', 'gilaa keren abiss ', 'keren bangeeettttttt', 'aaaaaaa sumpah keren bangettt ', 'demi allah gue nangis merinding', 'nangis', 'ini mah harus trending ', 'appreciate it', 'arghhh keren bgt', 'yang bikin gw sedih adalah ini rewind terakhir untuk skinny ', 'merinding gokill abissss ', 'the best youtube rewind so far ', 'keren bgt uhuyy', 'seneng campur sedih liat nya', 'mntp bgt bang jago ', 'manca mana', 'i feel like i was on a movie cinema ', 'keren rewind terbaik', 'merinding sog ', 'trending', 'merinding ahhh good job youtuber indonesia ', 'gk tau mau komen apa lagi keren parah bangga dengan para content creator indonesia paling bikin seneng scene fadil dan pak muh joget ', 'waaaa kok netes ya kalian yg nemenin gue waktu sakit soalny ', 'd ulang2 tetep aja nanggis aq endingx terdebeeeeessss semuax yg terlibat d sini makasih bgt pesan kehidupanx masuk d hati dan otak ', '3 09 ada yang nongol aowkowk', 'ini the best sumpah', 'gilssssss ', 'apresiasi sebanyak banyaknya untuk kalian gua pibadi merinding', 'keren parah sih salut gw sama konten kreator indonesia i love you', 'terimakasih buat karya nya ', 'keren banget ga ngerti lagi ', 'trendingkan ya allah ', 'gokil petjah parah sihh ', 'be proud indonesia you have these people who can make u proud internationally speaking don t waste them ', 'besok juga tranding 1', 'keren ', 'kepaksa gua like dan kasih nilai 10 10 karena terlalu keren ahh jancok', 'i m not ready', 'ohh ada deng ', 'merindingg keren baangettt ', 'keren betul ini video ', 'bengong gw liat nya', 'itu yg di awal video siapa kwkwkwk', 'take a breath and give the highest respect to the team ', 'gaa pernah comment di youtube tapi ini gokil parah sih sampe bingung bisa gaa sih like berkali kali good job semuanya keren bangeeet', '5 30 dari sini kita tau kenapa lagu ini ada tapi penyanyi nya ga ada karena dia tidak layak masuk sini chuaakkzz', 'yt rewind ter the best disutradarai oleh chandra beda kualitas sama 2019 oleh erickontollim', 'youtube rewind go go go trending ', 'keren bangettt ampe nangiss ', 'harus trendinggg gaboleh engga titikk ', 'kerenn bngtttt', 'keceee', 'trending ga nih besok pagi ', 'terimakasih buat semua yang terlibat ini keren bangetttt', 'sedih ', 'mostly keren parahhh woi ', 'keren parah pakk ', 'keren bangett nangissssss', 'bahkan yang like lebih banyak daripada views nya you guys amazing ', 'keren abissssssss huwaaaaa makasih semuanyaaaaa ', 'i dont know why have some people dislikes this video this video too fine and masterpieces lovefrommalaysia', 'fix jauh lebih baik dari yg 2018 no debat', 'epic comeback ', 'kangen bgt sama semuanyaaa', 'terima kasih sudah menutup 2020 yang penuh dengan kejutan yang mungkin tidak menyenangkan tp dengan adanya konten ini saya rasa kita semua mampu melewati nya bersama', 'edan alus pisannn ri2020', 'pak muhammad ikut donggg', 'terima kasih karya nya keren bgt ', 'trending', 'udah nonton lebih dari sekalii dan tetep ketawa sambil nangis ', 'finallyyyy', 'keren bgt ', 'walau sebagai penikmat yt gw bangga atas semua kerja keras kalian guys and ide gila kalian big thanks for chandraliow and team proud of you all ', 'mantap cukkkk', '09 35 chandra liow x agung hapsah x creamypandaxx emang udah paling the besttttt ', 'kereeen tapi aku belum liat tapi aku sukaaa', 'nice', 'karya yg war biasah i ytb rewind ina 2020', 'jangan ada yg reupload ke tiktok dong', 'choky dan tretan muslim blokkk kalian dewa nya dsni ', 'nangisss', 'rewind terkeren asli senyum tawa sedih haru semua jadi satu kalian keren ', 'apaansi kok keren bgt yaallah proud ', 'apresiasi sebesar besarnya chandra aulion and team and everyone involved gokiiiilllll ', 'coki muslim best part ', ' ri2020 ', 'merinding asliii ini keren bangetttt dukung karya you tobe lokall ', 'ga ada ericko lim apa karena candra liaw membenci nya ', 'pas hanin nyanyi merinding sumpah dengan scene yg relate sm keadaan sekarang ', 'goodbye skinny', 'gaske slur', 'ini youtube rewind ter epic indonesia menurut gua karna banyak youtuber besar dan youtuber lama kolab di 1 video besar kalo sampai gk trending wah parah si', 'goks pars sih mantuull ', 'keren paraahhh ', 'nangisssssss sebagus ituuuuu asdfghjkl', 'sumpah ini youtube rewind yg terbaik setelah 2016 gw suka banget semoga sukses slalu kak chandra dam rekan rekan semoga tranding no 1 aminn ', 'merinding aslii nontonnyaa ', 'gokil keren banget harus trending no 1 sampe januari', 'loved', 'gila keren banget', 'keren bangettttttt', 'asliiii merinding woiiiiii', 'gila parah keren banget ', 'keren gilaaaaa', '522rb view 564rb like mantap ', 'gue tonton berulang ulang', 'parah ini keren banget ', '11 22 mas anca i got a goosebumps in this part though', 'jujur gw nonton di rewind kek nonton iklan honda but ', 'goodbye skinnyindonesian24', 'the real masterpiece', 'gokilll', 'keren banget anjim', 'fix lathi paling op ', 'sempurnahh', 'luv', 'meaningnya dalem', 'terima kasih 2020 sudah menemaniku sampai sekarang tahun 2020 adalah tahun yang paling beda thank you 2020 ', 'trending', 'benar benar hal terkecil pun yang trend di youtube 2020 ini tidak terlewatkan hampir semua youtuber yg dari awal juga aada best woiii ', 'kerennnn woyyyy gilaaaaa ', 'sangarrrr ', 'this is some good quality sh tttt', 'the best', 'bagus bangeeet', 'cakep nih artis2 gk usah ada', 'gilaaaa ini sih epic youtube rewind paling emosional bikin nangis dari menit awal gila gilaaa pecah sihhh ', 'parah anjir keren abis ', 'jadi ke inget vibe tahun 2015 an di menit 10 27 selesai ', 'trending yuk bisa yukk', 'aslliiii sintingggg banget nih video sintinggg creatornya applause ', 'yaallah kaget banget ada pak muh ', 'keren banget', 'demi apa sedih indonesia maju indonesia kerennn', 'merinding dan nangis nontonnya indonesia bangga punya kalian ', 'keren bgt woy terharu ', ' trendingkan', 'trending', 'candra liow kalo udh ngedirect ga ada obat ', 'terimakasih semuanya keren dah keren dibikin nangis gara gara ini malem malem jadi nostalgia jdi inget moment2 yang udh pernah dilewatin sepanjang 2020 ini makasih atas kerja keras kalian love you', 'keren', 'keren bangetttttt', ' trendingkan', 'kerenn bangett omg ', 'speechless', 'nangiss ', 'seneng bgt pas liat buna senyum masi pake hijabnya ', 'ayo indonesia bersatu kita ini negara yang keren dan kreatif bgt makasih buat semua yang ikut dalam rewind udah ngasih konten yang bagus bgt its worth every second ', 'gewla keren poolll', 'wajib trending guys keren sekali kualitas dunia ini rewind indonesia 2020 ', 'gilaaa keren bangett ', 'parah parah keren bangeett weii ', 'let s gooo ri2020 you did a great job team', 'trending', 'prediksi 20 juta views', 'aku ga liat keanuuuu', 'keren abissss uyyyyy', 'merinding cokk', 'omg this is so cool congrats y all', 'keren banget tapi sayang kurang panjang', 'kerennnnnnn', 'video terkeren tim2one always', 'keren banget ', 'keren banget sumpahh', 'keren banget parah ', 'yay ada lagu maafkan aku terlanjur mencinta', 'kok nangis sih aku ', 'trending', 'kalo dibikin pakek hati ya gini nyampee nyaa ke hati juga ', '2021 its time for agung hapsahhhhhhhh', 'keren banget', 'huaaaahhh krenn bangeeett ', 'definisi merinding sekaligus bangga ', 'keren ga ada obat sumpah ', 'ngacoo ini keren parah cuy', 'this is fucking lit thx buat skinnyindonesian the end of yhe legend the myth the coolest most creative and one and only ending nya ngena', 'matippsss', 'kereeenn ', 'go international ini nah ', 'youtuber bang ', 'sedih gue https youtu be cos2p7s50kg', 'akhirnya reza arap kembali ', 'ini pecah bangeet ri 2020 ', 'petjaaahhh ', 'pas diplay auto nyebutin nama yutuber satu persatu', 'gilek parah', ' keren puol tp endingnya sedih ', 'rewind yg paling gw suka', 'parahhh kerennya', 'gokil parahhhhh', 'keren parahh merinding nontonnya', 'trending', 'aaaa goosebumps asli merinding excellent chandra aulion n team ', 'keren banget selalu keren semua anak bangsa kreatif dan semangat nonton ini seerti naik roller coaster naik turun emosional good lob ', 'ngefreeze ya ', 'waiting for bts', 'merinding aku nontonnya', 'artis alay ga diundanggg hahahaha', 'gada erpannya woi tapi keren bangett sumpeh daah ', 'impresive', 'keren bngtt', 'keren parah', 'keren parahhhhh', 'keren banget woiii ', 'great', 'kerenn bangett omgg ', '04 27', ' ri2020 kaga ada obat nya ', 'kerennn ', 'ending yang sangat membagongkan ', 'ini baru berkelas ', 'trending', 'asli keren banget ', 'wow keren banget', 'kereen parah ', 'gilaaaa andovi sama jov udh pensiun gillaaaaaaa si ini paling the best', 'waah ini keren abis sedihnya dapet banget ', 'keren abis anjir', 'keren parahh', 'keren bgtt kacauuuuu', 'keren banget banget banget banget please scene terakhir gye nangis', 'demiapaziiii ni keren bgt', 'cukup dibayar dengan like 1 42 justin bieber holy ft chance the rapper 1 46 niki lose 1 56 jawsh 685 jason derulo savage love laxed siren beat ', 'kereeeeeeeeeennnn', 'trendingkan ri2020', 'pokoknya kalau ada bang atta atau kak aurel pasti ke sini buat nonton', '4brothers mana kak ', 'speechless ', 'jujur dapet bgt smua makna yg ad di dalamnya ini baru bener2x rewind satu tahun terharu dan bener2x ngerasa satu tahun ini yg merasa gk ad yg mw di kenang setelah nonton ini sadar banyak bgt cerita di tahun 2020 makasih buat semua yg sudah bekerja keras membuat ini ak sayang semua semoga covid ini hilang di 2021 aminnn', 'ayo harus trending 1 nih', 'go trending ', 'pecah', 'gila merinding parah ', 'kuranf teguh suwandi sama erpan masa piraz masuk erpan kaga', 'belum tentu setahun sekali kualitas video rewind kaya gini bisa jadi 5 tahun lagi baru ada yang menyaingi', 'impresif', ' ri2020 top ', 'damn merinding good jobs guys ', 'masa gaada lord narkoboy ', 'seseorang melihat erpan ', 'no windah no trending', 'sumpahhh mrinding bangett dan seneng bangetttt ada agung hapsah woyyyyy ', 'best everr ', 'aisyah istri rasululloh gak ada itu kan salah satu fenomena cover 2020', 'gilaaaa kerenn parahhh', 'sumpahh ini keren banget bikin mood ku yang tadi kesel langsung naik', ' ri2020 rewind indonesia 2020 konsep videonya keren banget semoga ditahun depan youtube di indonesia semakin bagus kreatif dan channel kami rovsport lebih maju tembus 500k subs salam bediler', 'aliggggg', 'kereeeennn congrats guys ', 'gegehhhhhhhhhhhhhhh', '19 45 10 25 best banget sih lagunya enak bat walau di mix dan tumpuk gitu mantapppppp go trending 1 for last skinnyindonesian24 performance ri2020', 'kaget tiba ada ldp', 'ad iklannya dong', 'nilai 100 aja ga cukup ini sih kelas abis kalian semua hebat ', 'asli keren', 'keren bgtt dat sad ending thoo ', '9 44 knapa ada cuco ', 'gokill', 'keren bgt sampe merinding ini woyyyyy', 'asli ini keren banget', 'this rewind hits different ngl ', 'pecah benget huhu', 'gokiill ', 'music mix nya pecaahhh ', 'masyaallah keren nyaaa', 'demi allah keren bgtt ya allah terharu harus trending pokoknyaa kakak kakak keren ', 'kurang udin sedunia aja ni tributenya hahahaha', 'amazing ', 'where windah basudara ', 'langsung auto banyak yg react', 'youtube rewind ter the best yang perna ada ri2020', 'gokilll sihh haruss trandingg number 1 ini mahh ', 'ga trending ak gebug', 'gk ad mahluk mars ', 'amazing youtube sumpah cook menrinding we ', 'kuranggg lamaaaaaaaa keren paraahhhh siiiiiii iniiiiiiii ', 'ggwp skinnyindonesian24', 'kereeennn bangeeeettt paraahhh', 'biar cepet naik comment nya jangan pake 3m0t yaaa jangan pake capslock dan jangan terlalu banyak tanda bacaa semangatt', 'gilaa sihhhh keren bgt ', ' trending', 'kerenn bbgttt', 'nontonnya senenggggg sedihhhh weyyyy ', 'gak ada artis ', 'be better my indonesia ² ', 'oke sip berasa naik roller coaster hati gua ', 'yang nonton 522 rb yang like 561 rb ', 'may i see gaada', 'terharu', 'petcahhh bgt dah', 'maafkan saya bang mbak saya sampe gatau ada youtube rewind proses dan sampe jadipun kebetulan scrol tau ada youtube rewind 2020 mantap lah dari segi editing skema alur go trendingkan guys sampe penjuru dunia sekalipun ', 'gokssss gila sihhh', 'wow it s great a masterpiece i can t say anything ', 'much love for y all this is so amazing good job', 'keren yo trendingin yo', 'epic', 'keren banget asli', 'keren si ini alig', 'merinding asli', 'uhhhh gila yg mic mati ngena banget sindirannyaaaaa ', 'i m not crying you are crying ', 'ngasih like nya bisa lebih dari 1 ga sih pengen 100000000000000ã ã ã like kalo bisa', 'keren bangeeet ', ' ri2020', 'pecahhhhh', 'sedih sih endingnya skinnyindonesia pergi terharu kagum dan bahagia campur aduk ', 'keren bangetttttt wajin trending ini', 'trendingkan', 'kasian ericko lim ga di ajak wkwkw kang selingkuh jangan ditemeninnn', 'muantapppppppp ', 'yt dulu seru banget gada drama gada klarifikasi ga ada sensasi semua pure buat menghibur satu sama lain thankyou udh bikin vidio sebagus ini sedikit mengandung bawang karna flashback ke jaman main warnet dulu u guys so so so amazing ', 'kereeeeen', 'keren keren keren keren keren puooollllllllllllllll pooooooooolllllllllaaaaaaaaaaaannnnnnnnnnnnnnn', ' trending', 'anjeng gada ericko lim', 'respect to all youtubers ', 'sepanjang video merinding sumpaa ', ' ri2020 masa iya ga trending ', 'kok kevin anggara gk dateng', 'klo ada arap pesti keren', 'sumpah merinding you guys are awesome ', 'keren gilaaaa ', 'sumpah ini kereng banget', 'keren banget', '11 44 aaaajangannnn ð ð ', 'cringeeeeeeeee', 'keren banget ', 'roller coaster bangett ', 'merinding pecah habiss ', '11 46 ', 'semangat buat kita indonesia', ' trending', 'nangisss anjirrr kereeen beuutt buaatt semuaaa minusnyaa cuma 1 kurang gede layar guaa nontonn', 'kenapa di awal pakek ada atta segala dah', 'ini bener bener bagus sih parah ', 'parah merinding gue nonton ini ri2020', 'kerenn abissssssss', 'keren sumpahh gabisa ngomong apa apa lagi ', 'sumpah sih ini keren banget harus trending wajib ', 'faaave so heartwarming and incredible good job guys', 'epic ', 'saking banyaknya cerita suka duka di 2020 wkwk tahun cantik yg banyak drama', ' trending', 'ada hanin dhiya euy', 'kerenn banget ', 'gak ada obat dan gak ada lawan kerasa banget feelnya tapi kok gak ada miawaug', 'suka musiknya ', 'keren woii', ' trending', 'woiii keren bangeettt merindinggg', 'masya allah keren banget videonya terharu melihat nya terimakasih indonesia terimakasih tenaga medis indonesia terimakasih semuanya satuindonesia nyalakanindonesia ri2020', 'i m crying ', 'kereeeeeen ', 'edan edan edan the best', 'pak muh alafyu somat ', 'gay', 'youtobe rewind terbaik sih ini', 'keren banget ', 'erpan mana bang', 'gila auto nonton berulang ulang ', 'gk ada miauaug ', 'tv karng jauh dri edukasi dalam hal berita', 'keren bgtttt endingnya ishh ', 'asliii parah keren banget demi apa merinding liat nya', 'gilakkkkkkkk kerennnn parahhhh bikin nangissssssss', ' trending', 'gua nonton nya merinding asli keren banget gakerasa yaa 2020 udh mau selesai aja ', 'kok gada erickolim wkwkwk', 'keren', 'terasa banget dan ga ada obat le go rewindindonesia ri2020', 'gak ada omnibus law kah ', 'kereeennn ', 'sumpah ini keren abis gatau kenapa waktu lagu indonesia raya dimainkan air mata langsung netes ri2020 kerennn ', 'damnnnn boiiiii ', '4 16', 'eh gua boleh nanya gak kekeyi yang original mana ya wkwkwk ', 'sekerennn ituuuuuu good job all', 'minus bryan furran', 'keren banget sumpaj', 'ngga ada erico lim masih aja kubu kubuan sayang banget ngga ada ratu pentol yang asli ', 'finally masterpiece', 'keren bgt yaampun sampe nangis liatnya thanks youtube indonesia udah nemenin sampe sekarang ri2020', 'trending lah d', 'meriding pas bagian hanin seterusnya tapi dari awal udah keren banget ', 'satu hal yang paling berkesan clasic tapi classy', 'ad budi', 'keren bgt sumpaaaaa ', '9 20 9 45 best scene menurutku', 'sumpah asli gw merinding part hanin nyanyi indonesia pusaka sumpah karya anak bangsa bagus banget asliii 1000 1000 terus berkaryaaa semuanya dan semoga indonesia cepat pulih ', ' trending', 'wahhh ada igoy', 'ayo trending kan gys ', 'kereeeeen bangeeeeettt scenes favorit bikin nangis bombay pas bagian covad masuk indonesia smpe berasa udah gada lagi harapan tapi ternyata masih ada harapan besar krna semua kita lewatin bersama saling bntu saling support pokoknya ini keren bgt dan bikin sedih ', 'keren bangettt nangis ', 'sumpah openingnya kek di mv taylor swift lover huhuhu', ' ri2020 sedih', 'pak muhhh ', 'merinding dari awal sampai akhir luar biasa ', 'keren asli btw garaga dimana ', 'ga bosen walau sampe diulang2 emang bener2 bagus banget apalagi semenjak adanya virus covid19 dan himbauan dirumah aja kita jadi sering menghabiskan waktu di youtube dan video ini benar2 mengintrepretasikan moment2 yang terjadi di 2020 semangat terus indonesia ', 'saya tidak melihat keberadaan dia apakah dia di telan bumi ', 'kerennn bgt hampir meneteskan air mata ', 'gilakkk kerenn bgtt pusingggg ', 'jerome mana ', 'what a masterpiece salute to the creators gaada youtuber artis yg masuk liked it ', 'sory baru nonton', 'kejam semuanya dari lighting composer dll', 'keren rewind indonesia 2020', 'bukan maenn keren parahh ', 'gilaaaa keren banget', 'terimakasih kalian semua dan sukses selalu ', 'epic ', 'sumpah kerennn sedih kemudian dibuat merinding goksss ', '11 28 woi jadul bgtt ', 'kereeen', 'puas ', 'eh ada pak muhh', ' ri2020 ini sih keren asli susah ngejelasinnya mau kaya gimana ', 'kerenn abissss topppppp', 'keren banget', 'temen2 kalo mau videonya tr3nd1ng jangan komen pake emot yaaa', 'kaget bgttt ada pak muh kerennn abisss ', 'jelas ini mah harus banget trending 1', 'trending yok bisa yok', 'tahun 2020 sebentar yah ', 'njir kok sediihh ', 'trendinggg yokkk bisaaa like semua kometar orang ', 'kerennnnnnnnn gilaaaaaaaaaaa ', 'kerennn bgt merindinggggg', 'chandra aulion and team are killing this bro dayumn ', 'merinding parah ', 'gilaaa parah sih ini keren sampe merinding', 'keren bangettt', 'merinding heyyy nangiss', 'berasa nonton fillm pendek wajib thumbs up sih ini ngena banget', 'top ', 'cara terbaik untuk pamit skinnyindonesian24', 'becomcream nga adaa', 'konsepnya jauh lebih bagus dari tahun2 sebelumnya ', 'yg nonton ngulang ngulang cung wkwkwk', 'keren bangetttt ini wajib trending1 sih', '9 21 ada kak david', 'sad ending ', 'mantap', 'merinding woi pas bagian hanin diyaaa ', 'keren parah', 'proud ', 'kerennnmm ', '7 25 kirain eclipse ', '11 34 puncak kesedihan satttt ', 'ga nyangka ya banyak bgt momen yg udah kita lalui dan rasanya tahun ini adalah tahun yang harus banyak bgt bersabar good job ri2020 bravo ', 'keren bangett sampe nangis nonton nya ', 'merinding coookk keren banar ', 'wkwkw ngakak bgt pas bagian kursi', 'trending 1 trending 1 trending1', 'keren', 'trending', 'i cried ', 'keren bgt parahhh', 'kerenn gilaaaa', 'kerennn parraah emot apii ', 'keren sumpah tanpa embel drama jadinya keren banget ini yang di namakan kualitass', 'bener2 epic sih ', 'keren bangett ', 'ga trending parah ajg', '6 07 is that milos reference entah kenapa terbayang bayang njir', 'bgst lord windah gw mana', 'aing nangis nontong nya woii', 'keren bangett ', 'inii kerennn bangettt sih ngadain ide untuk masukin animator2 indonesia biar ga cuman animasi luar aja yg di banggain indo punya animator2 handal dan orang2 kreatif', 'anjay ada budi 01 gaming', 'keren bangettttttt', 'the best ever ', 'trending', 'daftar lagu youtube rewind 2020 a list by seorang manusia yang gabut cukup dibayar dengan like 1 42 justin bieber holy ft chance the rapper', 'go indonesia', 'keren parahhhh ', 'siluman kadal terkenal wkwk', 'kok banyak bawangnya sih hiks hiks hiks ayo bangkit indonesiaku', 'gilaaa parah keren merinding seneng sedih tegang campur aduk duh gak bisa di ungkapin pake kata ', 'keren bangetttt', 'sumpah ini keren banget anjay wajib trending 1 ini mah mogatrending1', 'mantap banget', 'kerennn parahhhhh ', 'gokil', 'sumpah merinding lur nontonnya ', 'ini yang bikin gue bangga jadi orang indonesia terimakasih sudah mengingatkan kami lagi dengan potensi anak muda mudi indonesia dengan berbagai talentanya salut untuk kalian semua ', 'top trend', 'gg', 'keren bangettt merinding ', 'why i smile and cry in the same time this is a masterpiece thank you for all the hard work', 'gokxx', 'terima kasih banyak buat para creators yang udah meluangkan waktunya buat bikin youtube rewind ini keren bgt sampe gabisa berkata kata and special thanks buat ka aulion dan ka chandra yg udah ngedirect ini keren bgt kak emg udah gausah diragukan lagi keahliannya kalian semua keren ', 'ada dynamite xixixi', 'trending', 'inii kerenn bgt gilaa', 'p e t j a h ', 'bukan mainnnn ', 'kereeennn serius', 'asli keren', 'keren paraaaahhh cuyyyyy huaaaa ', 'kerennn bangettt merinding ', 'wooohhh keren banget ', 'aot final season khas bang haji nya kak ', 'keren bangett ', 'kereeeennnnnnn harus tr3ndinggggggg', 'class is permanent', 'trending', 'player ff mendominasi pubg ml mana ', 'gaolllll', 'keren parah ', 'kok gk ada yutuber otomotif', 'gg parah', 'bahagia sedih ngakak terharu semua lengkap ', 'kok greget ya liatnya ', 'salut ', 'huuuuhhhh', 'beda tim produksi beda kualitas emang bukan asal sewa stadion haha', 'mantap jiwa', 'kerennn', 'masterpiece 2020', 'makasi selalu ada karya yang luar biasa dari semua ini banyak banget pelajarannya proud of u all', '11 29 youtuber idola sih asli om fitra eri', 'edaaaaan ', 'bagus bangeddd', ' ri2020 kerennnnn', 'coba ada oura marsha no mercy yurino', '2 13 3 42waduh ad panutan ku nih uwoe 5 32 kirain queen of pentol', 'kenapa gua nangis ', 'endingnya skinny pamit dong', 'keren banget terutama lagu mashup nya thank you for all the hardwork dan terima kasih jg ocbc nisp dan sponsor lain uda bantu sponsorin jd bs bkin sekeren ini jg ', 'bagus bangetttttt ', 'kaget liat dapid sama mas panca', 'keren bangett sumpahh director nya tim2one sama aulion memang gk ada lawan ', 'trending', 'keren banget cooooooook oriiiiiii', 'keren banget gua sampe merindinggg sumpahhhh congrats for aulion chandra liow dan para youtuber lainnya semoga konten kalian di 2021 lebih kreatif dan keren keren ', 'kado perpisahan terindah untuk 2020', 'entah knapa aku ntn sambil netesin air mata sekeren ini woi youtuber mati2 an cari content yg bagus tapi kalah oleh berita gimick gk mutu tetap semangat youtuber indonesia aku rindu youtube seperti dahulu ', 'sumpah keren sih', 'sumpah gak bisa berkata untuk rewind tahun ini baguss banget i m so proud of you of you guyss', 'pengen nangis gua liatnya gila keran bet', 'serius gw nonton rewind 2020 berasa panjang banget feel yang gw dapet ditahun ini bener bener berkesan tahun yang ga disangka bakal sesingkat ini dan punya keunikan cerita dibaliknya semoga di tahun yang akan datang kita semua mendapatkan kebahagiaan dan kesuksesan dunia maupun akhirat ', 'tretan meresahkan', 'beginilah jadinya kalo orang orang kreatif di indonesia berkumpul jadi satu ', '10 25 gw di bawa ke jaman2 youtube palng gw suka tq chandra liaow dan semua team yang udah menghibur kami ', 'merinding cukkk gillaaaa kerennn bangeettt abangggggg', 'mantap ', 'keren bgt cuy', 'waaawaaaa', 'keren banget gilaaaa', 'apa gua doang yg ngakak gra2 ada pak muh', 'nay gaada wkwkwkwk apa jangan2 komen uy ', 'boom ', 'mantap lanjutkan kak', 'trending dong naik terus', 'kasian luthfi anjayani ga diajak ', 'mangap aku nontonnya endingnya terhura merinding wahh keren ', 'wow gue nangis lo entah kenapa gilaa keren parahhhh ', 'berkelas that s all ', 'gilaaa keren bangett', 'ayok dong trending 1', 'keren', '10 54 ggs keinget wktu sd ', 'pas om deddy jari ke 0 langsung iklan', 'merinding heyyy nangiss', 'pak muh ', 'merindinggg asli ', 'sumpah bravo', 'trendingkan ', 'keren bgttt ', 'bocah nga seru masak yang terkenal cuma atta sama dylan pross', 'keereenn ', 'di momen akhir nangis gw', 'blm nonton gw lgsg like edit ciri khas aulion banget ini mah bnyak warna memanjakan mata ', 'yahh ga ada brando windah ', 'rewind terkeren di tahun 2020 ini walau ternyata tahun ini gak disangka kita alami secara global dilanda pandemi covid 19 tapi untuk membuat konsep ide dan segala usahanya dalam membuat karya persembahan rewind penutup 2020 ini benar2 matang kalian d best we proud of you ri2020', 'mantap ', 'gue paling suka pd saat adegannya tretan muslim coki ', ' nyalakan indonesia', ' ri020 epiccc ', 'keren banget bye', 'sumpah lebih bagus dari 2018', 'dari awal sampe akhir gw merinding keren paraah gilak', 'nangis aku liatnya ', 'pecahh pecah', 'bagus keren i enjoyed it thanks buat semua yang terlibat dan berpartisipasi dalam project ini ri2020', 'salut dengan ri2020 tetap semangat dalam berkarya creators indonesia ', 'kereeeeeen banget ', 'spam trending', 'pak muh is that uuuuu xd', 'mengandung bawang', 'trendinggkan', 'gokssss ¾', 'sumpahh kerenn', 'its a wow', 'gilakkk youtube rewind terkerennn ', 'trendingggg', 'kerennn', 'ini aku merasa aja atau gimana ya kurasa ada bagian chef arnoldnya itu di bagian kedua di ganti sama chandra', 'semangatt 2021 ', 'bayu skak e ndi mas ', 'the best video youtube 2020 ri2020', 'spektakuler terimakasih kawan2 youtubers ', 'wahh ini sih keren parahhh borrr sampe merinding gini cukkk', 'bagus sekali keren', 'ramaaaaiii ', 'keren banget napa si', 'mantap btr', 'indonesian pride ', 'keren bangettt t t trending1', 'kelasssss abisssssss ', 'hahahahahahha demituhan kaget ada pak muh lucuuu bgttttt', 'pak muh mood bgt ', 'keren banget sampe terharu liatnya ', 'merinding kangen bangga salut ', 'gokss ', 'youtuber binatang ga join nih wkwkw', 'scene 7 15 berasa nonton netplik', 'pak jokowi ga di ajak nih', 'sayang tidak ada nakama dalam video ini ', 'iri bilang bos ', 'mahal', 'wah walaupun tidak bisa bertemu tapi tetap keren berjuanglah youruber indonesia ', 'keren keren keren parah 100000000 x ', 'gokss ', 'yt emang beda ama tt', 'keren parah ', ' ri2020 merinding terutama endingnya kalo dapet feelnya pasti bikin nangis', 'rev keren bgt nangisss ', 'damn merinding bgt asliiii ', 'jam 22 49 viewers 522k sedangkan like 558k yutub ngaco wkwk', 'keren banget asli', 'bagiannya hanin bikin merinding banget pingin nangis ', 'keren parahh rewind youtube terdabest terkomplit', 'kurang manca nih ga seru ato ga manca yang ngedit', 'keren bgt cuy', 'gokkkssss sih ', 'ini yg paling kren keknya ', 'demi apapun gua merinding keren banget siii ini', 'nangiss liat nya keren bgt hiksrot', 'yang ada liat erpan1140 dimenit keberapa kasih tau gw', 'loh ini rewind indonesia ini udh kelas global sih ', 'keren bet rewind nya sumpah', 'let s goooooooo ', 'ya ampun sampe nangis nonton youtube rewind 2020 menyentuh banget good job buat bang chandra aulion dan seluruh creator youtube di indonesia ', '3 10 penampakan coookk ', ' mantap ', 'aweeesomeee ', 'bagus ini bukan cuman musik doang tapi ada film pendek nya sukses terus youtubers indonesia ', '7 53 mulai dari sini w merinding banget ', 'gak ngeliat ixora ', 'kereeeeeen', 'keren kalian keren sekali ', 'dibuat campur aduk bgt perasaannya masa sampe nangis coba ahhhhhhhhh keren bgttt salut sama kalian semua ', 'i don t know why i cry _ kek gue keren bgt bisa bertahan di 2020 walau banyak dirumahnya tapi banyak juga cobaan atau hambatan di tahun ini yang bikin naik turun mood _ thanks god and btw i m gonna miss all of these viral thing on 2020', 'gilaaaa', 'sumpah ini keren banget parah ', 'kereeennnnn ', 'baimwong sibuk bagi ', 'kok gue gk ada ', 'kerennn parah gila', 'coki muslim ga dimana2 bikin ngakak wkkwkwkwkkwkw', 'kerenn bgtt ', 'this video has more likes than viewers _ ', 'beh epic bgt penyatuan lathi sama blackping woiii', 'makasih 2020 ', 'sumpahhh ini keren bangett terima kasih untuk karya karya nya selama setahun ini sukses terus jaga kesehatan ', 'aaaaa kerenn woii', 'the best youtube rewind since 2014', 'sekerenn ituu gilaaa', 'bang budiiiiiii', 'i apreciate about yt rewind 2020 tapi ada fitra eri tapi kenapa gaada garasi drift garasi drift terkenal loh dalam youtube otomotif ', 'mau tanya itu rumah scene awal ada dimana ya bagus banget asli kalau buat syuting ', 'menyala ', 'keren banget', 'cuma bisa bantu nonton dan ga nge skip ad gokillllllllllll', 'kerennnnn', 'berkelasss bggttt saikkkkkk ', 'gilaa keren n kreatif banget good job ', 'keren banget gilaaaa thankyou for the hardwork ri2020', 'epic', 'spechless thanks a lot untuk semua orang yg terlibat dalam project ini ', 'keren bgt lihat nya sampe nangissss ', 'smooth banget videonya ', 'mau nangis ', 'gada obat dadadadahh aseli', '11 19 nangiss woii liat mas anca ', '2020 mau udahan ya ', 'sumpah merinding bet asli', 'sumpaa merinding demi huhu nangis bngt ', 'kereeeen banget tapi kurang scene pubg wkwkwkw', 'pliss gue makin gabisa ninggalin 2020 ', 'sumpah keren ', 'merinding cuukkkk ', 'merindiinggggg ', 'alhmdllh kakak beradik podcst msuk ri2020', '2021 bring back penspinning', 'mantap tahun ini', 'sumpahhh sedih banget pas liat ka jo sama andovi sumpah gue kangen jaman jaman youtube masih di kuasai mereka sebanyak apapun youtubers baru tetep kalian yang selalu di hati gue makasih udah menghibur kita semua we always love you ', 'merindingggg ', 'ericko manya woyyy', 'masterpiece', 'bangga bangett sama all the team yang berkontribusi buat rewind tahun ini ', 'aulllllll ', 'pas klimaks nya dapat banget sumpah', 'niceeeeeeee aaaaaaaa love it', 'terimakasih', 'terimakasih karyanya yg luar biasa ', '3 11 ada yang ngintip', 'ini keren banget terima kasih sudah memasukan lagu dynamite dari bts ke sini ', '11 35 huhuu im cry ', 'speechless wehh ', 'kereeeeen pisaaannn ', 'mantap', 'kerenn abiss ', 'it feels like end of decade we will start new decade', 'perfectly done dari pre sampai post gak maksain yang harus ada dan berusaha input all type of diversity yang ada memang sendiri mustahil belum bisa tapi kalau bersama there is a way', 'keren parahh', 'superb', 'sumpah ini keren banget ', 'udh deh kalian semua keren apalagi keluarganya atta dah mantep dah dah dah', 'pak muh hahahahha', 'pak muhhhhh', 'waah ini bagus sihh emang terbaek', 'beeeeest', 'manaaaa miawaugggggg sama garasi drifttttt ', 'beda jauh ama yg disponsorin sama bank ya wkwk ', 'it must go trending ', 'gilakkk benerbener nontonnya sangatsangat menakjubkannn baru kali ini komen di youtube ', 'netes air mata gw anjirrr keren banget sekuat itu kita semua bisa melalui 2020 dengan hal2 yang baik dan sangat baik ', 'this is amazing ', 'nangis liat ini keren banget ', 'reza arab ikut rewind lagi woiiiii ', 'merinding banget gue nonton ini semuanya yang terangkum bikin gue inget dan bersyukur di tahun yang berat ini gue ngalamin bebagai macam cobaan jatuh bangun tapi gue berthan sampai titik ini', 'seru bnget it s the bets', 'dita karang mana banggggggggggg ', 'idenya parah si out of the box bgtt', 'woah gila ini keren banget ', 'gua ramal bakal trending 1 ntar bilang ya kalo udah trending ', 'ga ada obat', 'parahhh keren bgt si ini', 'makasih', 'kurang chikakiku tuh', 'the best ', 'merinding asliikbsama kreativitas dan sense of art design nya', 'lindungi indonesia kami dan matikan kami dalam keadaan husnul hotimah ya rabb amin ', 'gilaaaaaa keren abizz', '2016 vibe', 'ericko lim gaada nih ', 'debes ', 'anjaaay ', 'mantap', 'di youtube rewind ini semua yang menonton menaruh harapan besar agar di tahun 2021 tidak ada lagi kejadian seperti tahun ini save2020', 'nangis bgttt baguss bangetttt ', 'keren bangeettttt ', 'pak muuhhhh', 'indosiar butuh editor kek gini njir', 'kerennn ', 'satu kata merinding ', 'keren bgt merinding ', 'gokss ', 'pecaah gilaaa ', 'pas denger angkatan 2020 selamat anda telah lulus merinding bgt huhu too sad too cry', 'sumpah keren bangeeeeet ', 'ada fadil sama pak muh ', 'the real rewind is back otw trending', 'kurang lagu lemon tree gustixa ', 'kereeen 2019gantipresident', '4 16 savage', 'that among us scene concept and brainstorming idea was so lit gg ri2020', 'sumpah ini gila banget woi', 'yg dislike rada ² bro', 'kerenn bangetttt ', 'pak muh ', 'keren bgt asli gua merindingggggg ', 'pengen youtuber idolamu collab nonton video ini aja ', 'aku cinta indonesia', 'sekarang gak akan ada lagi yg komen kebanyakan isinya artis bukam yutuber keren anjir', ' ri2020 gilaaa keren bangettt', 'sad ending sih tpi sumpah ini keren bnget', 'mantap pollll ', 'nangissss keren bangeettt', 'finally keren banget gilaaaaa ri2020', 'trending 01 ', 'itu gimn ceritanya anjir yg nonton 522 yg ngelike 557', 'gangerti lagi ini gila bgt', 'gassss trossss', 'kenapa setiap rewind selalu ada kak dovi atta dll ya perasaan tahun ini mereka gk terlalu up di yt', 'mancaaaaa mnaaaaa mancaaaaa ', 'cringe', 'jangan komen pake emot trndingkannnnn', 'bingung sm yg ngeunlike', 'ya ampun salfok bapaknya kak fadil woyy', 'demi apazihhh keren bgt ', 'ihh kenapa ga ada qory sama brando ', ' ri2020 kalian terbaik ', 'ahh bunaaa salfok banget cantikkk ', '2 13 bang budi panutan', 'kelas dunia ', 'menit 1 00 itu plagiat cod cold war anjgggg', 'wajib banget ni trending', 'keren ', 'gokil abis', 'tretannn and cokiii the best', 'yah meskipun 2020 sudah hancur banget di januari kita sudah beri banjir kemudian beberapa bulan kemudian covid 19 masuk ke indonesia kita diam di rumah terus semua acara yang udah disusun bareng temen semuanya hancur ya bener bener tahun terburuk tapi lihatlah di akhir tahun kita sudah disuguhi dengan hal yang sangat hangat banget jadi kalo 2020 udah menjadi tahun terburuk maka jangan buat tahun 2021 menjadi tambah buruk ', 'kuntull sayag', 'goosebumps goosebumps dimana mana merinding nangis ', 'ada david aaaaaa', 'parah sii sampe keluar air mata coy', 'merindingggg keren bgtttt', 'magda sama konex', 'trending 01 ', 'keren parah', 'keren bgtt sumpah ', 'sumpah yg dislike ga ngerti gue ada masalah hidup apa dia awokwowkwok', 'pov terimakasih selalu ada terimakasih selalu ada terimakasih selalu ada', 'demi apa gue nangis liat video ini sumpah keren banget gilaaaakkkkkk', 'video terepic yang gua tonton di tahun 2020 ', 'mantap youtube rewind indonesia lengkap sudah divideo ini skinnyindonesia24 tetap di hati pokoknya ', 'keren bet njirr', 'terlalu keren ', 'gila sayang bgt sama pak muh ', 'keren kereeen banget fire', 'anjir hanin cinta mati gue sama lo keren semua gilaaaa', 'lagi seru eh iklan tp ini keren banget ', 'ngebaperin sumpa ', '7 58 gua nangis sumpaaa go trending plisss', 'woyybaru kali ini liat views sama like seimbang ', 'ada yang lihat odading mang oleh ', 'amazing ', 'keren parah', 'engga ada obat emang', 'aaa merinding', 'kerennnn', 'scene terepik menurut aku waktu matiin mic ngomong sama kursi kosong kekeyi bukan boneka', 'ga ngerti lagi merinding bgt tb tb nangis keinget konten kreator jaman dulu ka candra ka arap dkk sumpah i nangis bgt kangen ˆ ', 'manaaaaa fpiiiiii woyyy kok ga adaaaa', 'keren abis bang', 'kren', 'demi apapun tbtb air mata gua keluar men gila gila bener keren bangett bangett bangetttt', 'kerennnnnnn bgtttttttttttt', 'yg nonton lebih dari 5 kali ada gak sakin bagus nya ', 'di 2020 ini berat banget tdk ada restu ortunya pekerjaan terhambat dll', 'kereeeeeeeeeeeeeeeeeeeeeeeeeeeeeen paraaaaaaaaaaaah', 'mantap bro keren', 'erikolim kok gaada', 'keren gilaa ri2020', 'gokil abis cuy ', 'sedih banget woyy keren bangetttttt', '9 45 kereeeeeeen gak ketulungan', 'wht a concept man ', 'goodjobbb ini keren bgttttttt', 'wah gila keren parahh', 'hapus aja rewind yang dr narkoboy malumaluin wkwkw jauh banget bagusan rewind yang di handle chandra', ' ri2020 majuuu teruss', 'keren parah', 'pas liat pak muh sama bang fadhil gatau kenapa ikutan senyum ', 'gilaaa ', 'gokzzzz parah sih', 'gila sih ini yang gua tunggu tunggu para senior berkumpul kembali untuk rewind yah di nanti nanti good for you skinny yang tahun ini atau esok adalah tahun terakhir buat kalian kami bangga dengan kalian wahai para senior senior ku', 'ketika lo ngerasa bersalah karena dapet tontonan sebagus ini karena cuma bisa like', 'keren banget woy ', 'this rewind petjah ', '4 15 dimatiin dong mikrofonnya yak kenal adegan itu', 'pecahhhh sih paling pecahhh ', 'bagus buanget banget banget trending trending trending ', 'cepet trending yaa', 'aaaaah kereeeen ', '2 49 chef arnold 2 51 chandraliow', 'keren parahhh ', 'where bintang emon wkwk', 'yg dislike pasti anak2 tiktodd v', 'keren ', 'erpan1140 ', 'keren banget banyak banget youtuber indonesia 2020 ', 'mulai menit 7 35 epic bgt mood campur aduk musik yg kerennn bgtt', 'sumpah keren banget konsep nya alus banget gg ', 'masterpiece', 'gokss', 'goks ', 'kerennn', 'gg gaming gg gaming gk guys rewind 2020 kita absen dulu ad deddy ', 'kurang rewind tentang erick balik ke rumahhh ', 'ttep team han ji pyeong youtuberewind2020 startup', 'gacor parah inimah kerenn ', 'masih ada hal baik di 2020', 'wah gila ini mah gua ulang berulang ulaangg co', 'gila sih kerennnn abizz gk ada obat sih', 'm e r i n d i n g', 'keren paraahh ', 'oh man what a masterpiece ', ' keren gaada obat ', 'paan si ini kan youtube rewind kok ada si mba r kan dia viral di tik tok', 'hahhhhhh apaan sih ini keren banget ', 'ini youtube rewind paling keren sih ', 'yang dislike punya masalah apa si bagus banget ini', 'wajib trend dan seluruh orang indo tau keren banget ', 'anjir gw baper sampe nangis lihatnya keren parah', 'keren banget woy ', 'keren keren', 'jujur keren bangett mau nangissss ã ã ã ã ã ã ã ã ', 'akhir nya nunggu selama 4 tahun akhir nya ada rewind yg di direct chandra dkk', 'gile broo ', 'kereeennn bangettt asliiii', 'kerennnn', 'bener bener kerenn', 'merinding pas hanin nyanyi', 'kerennn sangattt ', 'keren cokkkkkk jadi flashback ke youtube lama kernnnnnnn nya ', 'mau meninggol hahaha keren anjir vibesnya dapat banget sumpah deh', 'mantap', 'gg parah sih ni ', 'kelassss parahhhh', 'kerenn bgt gila', 'merinding parah 2020 memang tahun diselenggarakan ujian massal', 'keren abis sumpah', 'ada pakmuh', 'goosebumps rekkk ', 'pecah abiss si kereennn', 'pleas treanding', 'wuiihh cakeeeppp good ', 'harusnya bang erpan erickolim ryezn bobon santoso ikut pasti lebih mantap', 'the long awaited one has finally arrived', 'keren bangeeeeeeeeeeeet', 'gak ada obatttttt keren parahhhhhh ri2020', 'masterpiece ', 'sumpah keren bgt bgt bgt bgttt', 'kerenn mashaallah', 'b aja sih ga ada nangisnya', '4 10 familiar', 'secara tidak langsung disponsori oleh reddorz', 'gillaaaa keren parahhh bangga haru dan emosional banget ', 'kagak ada qg ', 'keren banget asli ', 'luar biasa ', 'skinnyindonesian24 ', 'bangga seneng terharu sedih nangis jadi satu ', 'sumpah gak boong bikin merinding ', 'agung hapsah yang mana ya', 'asli epic parah kalo youtube bikin rewind kalah dari ini payah asli', 'p p p p p p p p p p p p p p p p p p p p p p p p p', 'speechless', 'keren banget tapi sayangnya youtuber gamenya dari game petak2 yg buriq ini kan bukan 8 bit harusnya bisa gamer kayak milhya ekoju donkey benny moza bang alex dll', 'kerenn parah astagaaa ', 'ah mantapp terus berkaryaa para kreatorr kami sangat terhibur dengan konten2mu ', '11 10', 'keren ajg ', 'gila bgt parah', 'ericko lim', 'it s a lit i say that this is a truly masterpiece i m so proud of you guys who behind this project keep shining kings and queens ', 'gokillll keren parah merinding anjir', 'keren bangett senyum ² sendiri liatnyaa uhuyyy sukses semuanyaa', 'parah parah pecah coy ', ' ri2020', 'gilssssss keren batt', 'please trendingg', 'lah kenapa malah nangis ', 'see you 2020', 'huaaaas gilaaa kerennn parahh sihhh', 'keren bangettt sampe merinding guaaa', 'demi apa kerenn bangettt woi trending kan cepetan', 'pak muhhh mood sekaliiiiiii', 'demi apa part nyalakanindonesia it s make me cry ', 'this is litt ', 'gg nih pas scene lagu blackpink di medley sama lathi keren dah sumpah bangga ', 'shame on you yt rewind ours is better ri2020', 'thanks 2020 thank you atas semua pelajaran berharga nya ', 'keren parah sih ', 'fix must tranding 1 epic vidio', 'satu lagi masterpiece dari indonesia good job 2020 sukses terus indonesiaku', 'gajelas cok seru juga ngga', 'keren bgt ', 'paraaaaaaaaaah terima kasih banyak', 'yg nonton 446k yg like 550k holyyyyyy gila', 'yo lets go trending ', 'wow keren semoga saya bisa bergabung di tahun depan jika tidak tahun depanya lagi tetap semangat berkarya ', 'wow karya luarbiasa', 'youtube rewind indonesia 2020 gak ada obat ', 'epick', 'kerennnnn bangett', 'keren sangat', 'bagus banget parah', 'kok bagus si', 'paraaaaaaahhh anjir ', 'anjir banyak yang udah ada tanda ˆ nya dong kapan gua kek gitu ', 'ini rewindnya youtube apa tiktok ', 'masih di pantau trendingkan ri2020', 'sangat menyentuh ', 'ini ngaco kerennya ', 'parah si keren banget', 'keren banget', 'kereen bgt yampun', 'youtube rewind ter the best', 'gilaaaaaaaaaaa ini baru the best', 'sumpah gak bisa ngomong apa apa lagi kereeeeeennn', 'kenal youtube dari awal tahun 2015 5 tahun kerasa banget semua yang di puter di part akhir ngena banget deh terima kasih untuk semua content creator atas pengalaman menakjubkan nya ', 'keren bangetttt ', 'woowww', 'luar biasa semangat gotong royong', 'thank you for making an amazing youtube rewind 2020 ', 'rewind is coming ', 't_t pengen salto jadinya', '5 31 apaaaan kenapa ga ada kekey ² ² ² ² ² ² ²', '5 57 for ldp fans ', 'aghhh i can t handle my tears ', 'let s go trending ', 'bro i m here for a good laugh not teary eyes ', ' trendingkan yuk trendingkan yuk trendingkan yuk trendingkan yuk ', ' trendingkan yuk trendingkan yuk trendingkan yuk trendingkan yuk ', '5 31 oh im not ur little doll ', 'gilaaa bravo aulion n chandra and all team harusnya jadi youtube ini mah kelas rewind global ', ' trendingkan yuk trendingkan yuk trendingkan yuk trendingkan yuk ', 'sediiiih i grow up watching you guys all thank you for cheering me up through my dark days this past few years till we meet again sehat sehat kalian creator hebaat ', '8 38 ada lele gaess', 'kerennnn i will rate 100 10 ', 'persembahan terakhir untuk rewind terima kasih semua ', 'mo nagis stay healthy guys', ' this is youtube rewind indonesia ', '10 50 halo jemput cewe di panggang', 'missing ria sw', ' ri2020 is on fire ', '7 52 merindiiinggg bangettttt', '11 34 old generation say goodbye to the new generation damn i love that scane', 'gokiiillll kereen paraaahh ', '9 56 booommmm ', 'terima kasih banyaak buat support dari temen temen semoga video ini bikin semangat utk temen2 kreator bikin konten yang seru bermanfaat bisa menginspirasi satu sama lain terima kasiih ', 'so really love it so much kalau udh garapan chanliaw keren bgt high class so i am so proud nyalakanindonesia', '4 15 anjay mic nya di mute ', 'the real karya anak bangsa indonesia ', 'terima kasih semua pihak yg support semua masyarakat indonesia yg support bersama berbagi bersama beragam dan saling memahami itu indah keren gila ', 'rewind indonesia 2020 ri2020', 'terima kasih semua pihak yg support semua masyarakat indonesia yg support bersama berbagi bersama beragam dan saling memahami itu indah keren gila ', 'when i see red doors ', 'miawaug be like gw mana saya mana', '4 13 best moment', 'terima kasih semuanya love you all skinnyindonesian24 andovi da lopez jovial da lopez ', '7 55 pas masuk scene ini ditmbah lagu wajib nasional beuhh merinding bnget sumpah ntah knapa tiap dengerin lagu wajib nasional suka merinding dan kadang ampe nangis gokil parah sii mulai dri konsep visual ama backsound nya numero uno ', 'talent with no passion is nothing but talent with passion is amazing one of the best rewind ever great job pokonya kerenn parahhh', 'keren baaaangeeeeeettttt makasih yaa kalian yg sudah kerja keras bikin iniii', 'terbaik keren bet dah', 'terimakasih untuk kalian semua yang sudah bekerja keras terimakasih sudah menemani tahun 2020 ini terimakasih skinny indonesia yang tidak akan pernah terlupakan kaliaan keren bangettttttttt nangisss nihhh', 'i m satisfied 3', '4 13 satir in action ', 'di mohon memakai speaker headset terbaik kalian ketika menonton ', 'what a masterpiece', '2 38 moodbosterku jipyeong dan mas hansol ', 'atleast this is the good way to end 2020 good job guys ', 'merinding bagus banget harus trending ke1 nih gue gak mau tau harus trending pokokneh 2020 baaay selamat jalan', 'terimakasih buat kalian yang udah berpartisipasi semua ini kerennn ', 'this year is the most beautifull years ', 'this is so cool congrats to all team ', 'sad ending the bestt ', 'omg this is so cool if u say 2020 is the bad years you re stupid bro i love it nice keep going ', 'wah gila sih ini wajib trending 1 guysss ', 'merinding abissss ayo trendingkan', 'yok trending iki keren bgt parah ', 'this is the best video i ever watch in 2020 thankyou very much 3', '2 42 my dynamite', 'damn this is legit thank you ', 'i love you all indonesian youtubers ', '2 38 hanjipyeong nam dosan 3', 'rewind indonesia 2020 leggo ri2020', '9 35', 'well the best video ever also sad for losing skinny ', 'keren banget woyyy wajib trending ', 'holy shit this is too good', 'komen setelah trending komen sebelum tayang ri2020', 'this is was insane this is amazing damn god wow cool', 'it s so damn good ', 'siapa yang nontonnya lebih dari sekali me gilak keren sih sampe gw ulang ulang', 'keren bangetttt they really did a great job ', 'letsgoooooo ', '11 33 nangis moment', 'aaaa ini kelewatan kerennyaa ', '8 37 ada bang leo', 'ahhh gabisa ngomong lg merinding nontonnya gokssss ', 'merinding paraaahhh mantappu jiwa keren bangett', 'trendingkan ', '2 13 ada bang budi01 ', 'best rewind i ever watched ', 'the best youtube rewind ever ', 'let s go trending 1', 'trending kan ', 'the besttt ', 'yg kesini gara pak muhh gemess bgtt', 'gokilllllll ', 'kerennnnnn rewind skinny indonesian 24 ', 'masterpiece ', 'the bestt ', 'omg im crying ', 'huuuuaaaa apa ²an ini keren banget ', 'ye aye d', '7 52 merindinggg', 'siapa yang nangis ngeliat youtube rewind indonesia 2020 gatau tapi menurutku ini emosional banget', '4 48 ceramah khas tretan muslim wkwkwk', '7 33 aku kira weird genius anjin kwkoakw', 'lets go ri2020', 'keren parah ', '11 45 well they re not lying about retired from youtube you guys will be the best in my heart', '6 02 iyo senpaaii ', 'keren banget wajib trending ', '11 32 sedih sih asli endingnya malah jadi sad ending gilaaa petjaahhh bngt youtubers indonesia keren bngt skill kelas dunia ', 'tombol trending mana ', 'peettjjaaahhhhh paarraahhhhh ', '9 20 salfok sm gadgetin', 'the best youtube rewind ever ', 'the lover mv inspiration ', 'proudd of u all kerennn bangett merinding ', 'terimakasih semuanya para youtubers 2020 kami para penonton menjadi luar biasa ', 'kerenn bngtt iniii ', '3 10 lihat jendela', 'akhirnya indonesia mulai bersaing dengan chanel youtube diluar sana ', 'sedihhhhh euiii tapi 2 youtuber yang gw impiin kgk ada son of dad qorygor but its fine i steeelll love it', 'this is a masterpiece thank you sudah membuat karya ini indonesia bangga memiliki youtuber yang peduli dengan persatuan dan kesatuan ', 'ahhhh ', '4 26 zulumat luar biasa luar biasa ', 'the real comeback director nya emang berkualitas ', 'kerennn bgett dahh trendingg ', 'gue merinding nontonnya keren bangettt ', 'bocil epep belike kok epep gk ada sih bang ', 'best youtube rewind ever ', 'daaang bruhh i m crying ', 'this is my first time crying because of yt rewind i lost my mom this year and in the next 9 days i lost my sister by looking at this video i know that we ve been through a lot and if u are reading this you re doing a great job you can survive until this time and that s great ', '4 30 the best part', 'petcjahhhhhh ', '5 40 ada pak muhammad ', '6 04 ded lo harus main filmm siihh', '2 42 stan produk lokal kuy ', 'sooo good ', '11 02 air mata netes dengan sendirinya bagus sekali terima kasih ', 'omg kerem banget ', 'yuk trending yuk ', 'wah gokil keren parah ah kacau dah trending kan ', 'gokillll keren banget ini part nyanyi lagu indonesia merinding bangeet ', 'seneng bangett nonton nyaaaa makasih 2020 ', 'favorite scene coki muslim wkwkwk the best lah wkwkwk', 'yg suka atau sedih lihat rewind indonesia ', 'omgggg keren bgttttt ', 'merinding gilaaa kerenn ', 'the best untuk semua yang udah berpartisipasi peluk hangat online keren abissss ', 'pertanyaannya rewind 2019 kok ga ada woy ', 'sooo creative pesan yang disampaikan dapat ditangkap dengan baik well done buat semua team dan konten kreator youtuber yang terlibat', 'keren parahh semua yutuber yg gw tonton selama 2020 ada disini ', 'kerennnn banget woilah hrus trending 1', 'dame it bro benar benar konsep nya sangat sangat menarik godd job for chandraliaw aulion', 'kerenn bangett sampe nangis terharu dan bangga sama indonesia ', 'speechless keren bangettt ini ', 'that last scene tho ', 'keren banget si ini ', 'aaaaaaahhhhh udaaaa gillaaaa ya kaliaaaann seeemuaaaaaaa kerreeennnn paaarrraaaahhhh di suasana chaos begini sumpaaaahhh video ini benerrr2 aaaahhhh gak tau lagiiii mo ngomong apaaaaaaaa baik2 terus kaliaaaaannnn ', 'ajg dpt bgt vibes nya ', 'ajg gua lagi maskeran liat scene pak muh ', 'im waitin ', 'nobody me my friend itu anak kecil siapa sih ', ' ketawa ngakak pas main peran among us ini permainan fitnah online sama yg epic tu lagunya lathi emng yg mixing lagu jago ampun ', 'kerennnn bangett merindingg ', 'standing ovationnnnnn ', 'greatt presentttt unexpect bgttt parahhh ', 'damn what a great colaboration ', 'titip sendal sblm trending awokwkwkw', 'keren bgtbgt ', 'good old days ', 'gua bakal kasih video ini ke anak gua nanti sih agar dia tau susah dan duka tahun 2020 ini taun paling bersejarah sih menurut gue taun dimana gua tau kerasnya kehidupan ', 'gilaaaaa keren bangetttt terima kasih banyak kepada semuanya yg terlibat dalam produksi video ini maju terus perytan indonesiaaa ri2020 ', 'ini sih youtube rewind the next level bravo best of the best ever ', '3 41 anjayy ada bng budio uwoee', 'trendinggggkan ', 'e p i c ', 'video ini akan dipenuhi oleh komentar youtuber ceklis', 'tiba tiba nagis aja pas sampe akhir ', 'kerennnn bangetttt parahhhhhhh nangis merinding ', 'keren banget ', 'merinding kagum keren campurr ', 'paling membuat saya terharu adalah scene nya briptu norman membuat saya bertanya2 kenapa dia keluar dari brimob ', 'this is hi quality production epicc', 'keren parah editannya apalagi alurnya mantap dah merinding dong ', '10 10 kok yg 2018 nya ga di rewind ', 'masterpiece ', 'the best indonesian youtube rewind ever', 'the best rewind ever gileeeeee huhh ', '3 10 fillo vs ewing hd ', 'the best youtube rewind indonesia so far cool ', 'saya ingin berterimakasih kepada semuanya yg berperan dalam karya ini terimakasih sudah membuat karya sekeren ini ditengah pandemi yg sedang kita hadapi bangga indonesia punya kalian wajib jadi trending', 'you guys literally saves 2020 from the worst year ever ', 'let s goo trending kennn ', 'when somebody love memaaaaaang nusuukk', 'sedih merinding semua jadi satu sedih sekarang tahun terakhir skinnyindonesia24 di youtube ', 'kerennn parahhhhhhh good job ', 'sedih liat indonesia begini ', 'legends they re back ', 'the best lah pokok nya rewind 2020', 'omg amazing ', 'damn bruh ', 'scene terakhir lagi mewek nya liat rambut andovi jadi hilang gua meweknya wkwk', '8 48 zephyrus g14 gada kameranya kok bisa zoom anw great video love it ', '4 16 gua tau refrensi darimana ini ', 'sumpah gabisa berkata lagi bye bye skinny24 ', 'pecaaahhhhh pecaaaahhh ', '5 00 raja terakhir ', 'i m on tears thankyou for this art such a beautiful yet heart warming 14minutes video you guys are awsome run out of words no words i m on tears thank you guys ', '02 13 ada bang budi dong ', 'merinding before credits gila sih ini ', 'merinding ', 'keren parah gak tau lagi pkoknya mau nangis aja ', 'nangiisss ', 'high class ', 'keren bangeettt merinding pas part hanin ', 'sad ending ', 'beda kalau yg derect youtuber senior berkelas', 'ko gue nonton rewind malah nangis sih cepat membaik indonesia cepat membaik dunia ', '7 53 gatau ntah ngapa lgsung merinding', 'kayak film yh menghanyutkan ada senang terharu bangga sedih ', 'it so amazing bener bener campur aduk ', 'gila sekeren itu lit ', 'erico lim minder liat ini ', '1 45 hit me on face', 'keren parah demi apapun heran ajah masih ada ajah yang ngeunlike _ ', 'respect ', 'heh yg nanges pas ending ka jo sama andovi keluar ke pintu merah siapa aja ', 'bener bener keren bgt terimakasi untuk para creator you guys are the best ', '7 40 where are you now', '8 36 eh ada lele mewakili kita2 yg wisudanya harus online ', 'thank u so much for making this great art piece ', 'masterpiece damn ', 'keren banget ini mah eit gue kepo sama yang dislike psti psukan yutuber yang nggak ada di sini nih ', 'mari kita trendingkan kepuncak tertinggi number 1 agar indonesia tau inilah youtube rewind terbaik indonesia yuk trendingkan yuk ', 'kereeeeeeeen bgtttt semangat untuk 2021 semangat yukkkk byk hal yg menjadi pelajaran di 2021', '4 13 ini keren bgt mashoooook ', 'how the f ck its really god than 2019 ³ ', '2 42 dynamitee ', 'sayang ngga ada bang jess no limit yang sependapat likeee', 'keren banget anjerrrrrr proud of you bang chand dan youtuber lain ', 'ter epic ', 'merinding berkali kayak pas nonton endgame suww', 'terimakasih semua youtuber indonesia telah menghibur kami selama ini salam indonesia ', 'kerennnnn ', 'kerennnnnnnnn ', 'makasih banyak semua atas kerja kerasnyaaaa', 'keren bggddd woee ', 'yg gw tunggu2 ', 'kalo ada bang chandra liow dan kawan para youtubers senior ngga kaget pasti keren lahh good job ', 'keren banget ', 'njirrrr ', 'and that s how you do it ri2020 pastinya membekas di hati banyak orang dan diri sendiri merinding sampe nangis thank u so much for the amazing opportunity i got to be a part of something wonderful maju terus indonesia ', 'you guys literally saves 2020 from the worst year ever ', 'gaaaaaaaaaaaaaaaaaaaaaaaaaak ada obaaaaaaaaaat kereeeeeeen bettttt', 'gw jarang komen hampir gak pernah malah tapi harus komen gila sih parah banget keren gokil awalnya skeptis soal durasi yang sampe belasan menit ternyata bukan cuma rewind 2020 tapi rewind 1 dekade gokil great job semuanya wajib bangga ', '04 39 pemuda tersesat fans real madrid ', 'respect for skinnyindonesian24', 'ada pak muh dong ', 'rewind earth nanti taun 2069 direkturnya mars ', '4 14 waduh mencerminkan sidang di dp ', 'gila sih emang mantap kalo mereka yg bikin rewind ', '2020 waktunya singkat tapi banyak bgt yg udh dilaluin ', 'parahhh parahh ini baru rewind ', 'petjaahhhhhhhhhhhhhhhh ', 'wowwww kereennnn bangetttt ', 'sumpah si ini keren banget bikin aku nangis terharu terima kasih yang sudah berpatisipasi dalam ri ini aku bahagia ', 'cryyyy prouuddd ', 'kok gua nangis ya ', 'kerennnnnnnnnn', 'merinding woi ', '8 10 iklannya nongol', 'senang sedihnya dapet merinding brooo ri20 gookkiilllll ', 'rewind indonesia 2020 pecah ', 'i m crying ', 'semoga tahun depan bisa jauh lebih baik terima kasih 2020 atas segala tantangan', 'satu kata keren thanks sudah menyatukan banyak perbedaan dalam satu frame semoga indonesia bangkit dan sehat kembali', 'boom ini lah yg ditunggu gua speechlees and honestly it s great fantastic', 'cokkkk menyalaaaa ', 'gimana sih cara like 999 kali wajib trending ini mah', 'keren banget sihh good bye 2020 ', 'keren parahã ã ', 'rewind kali ini bikin gw nangis ga ngerti lagi udah bingung gw masih nyesek karna semua nyampur keren iya haru iya menghibur iya bingung gw bingung mau jelasinnya gimanaa good job team ri2020 ini sih jujur terbaikkkkks', 'keren ', 'goookil abissss ', 'mantappp ', 'gilagilagila', 'terbaik rewind 2020 indonesia ', ' ini rewind indonesia versi lucu https youtu be vrkulw9hdje', 'i cried so hard also when i heard when she loved me in the background just amazing', 'omgggg this is so cool hope the next year becomes a better year this year is a lot of trials but this year has a lot of memory ', 'sorry i m late but yoooww make this trending ', 'gilasi bagus bangett kudu trending inimah ', 'i need this mashup music available on spotify ', '6 12 dark sidenya 2020', 'dang this one is d best good job guys u guys made it ', 'the only thing that i wanna say is thankyou guys ', 'speechless paraaahhhh pas liat mas anca langsung keingettt jaman awal2 nnton yutub nontonya malming miko ', '11 40 time to say goodbye for old generation', 'makasih buat kalian yang ikut berpartisipasi youtube rewind ini kalian semua the best 3 ri2020', '9 43 epic moment', '4 27 scene yang paling gua suka wkwkwkwk', '10 37 ericko lim tersinggung melihat ini', 'waktu scene throwback gw nangis jdi kangen youtube dulu ', 'kok gua nangis ya liat endingnya ', 'high quality content ', 'kelaaaaasss so emotional ', 'let s go trending guys ', 'one of the best youtube rewind ', 'so awesome ', 'whatss this gorgeous ', 'i m crying ', 'gemoyy parahh gilaaa ', 'epic youtube rewind indonesia 2020 merinding liaat nya', '4 18 kejadian yang tidak boleh terlupakan', 'ini keren banget jujur semua aspek nya keren props buat semua yang terlibat you ve worked hard ', '4 30 untuk melihat mas mas madura dan mas mas agnostik', 'thebesttttttt ', 'idk why terakhir nya bikin merinding and bikin terharu sumpah welcome new generation', 'yok trending yokkkk', 'kereenn weee mau nangis saking kerennya ', 'art in the end of the year ', 'gila sih keren parah semua genre yt indo ada disini dan scene bendera merah putih juga merinding parah', 'mas anca with malam minggu miko hit me so harrrrrd series youtube terrbaik hingga hari ini ', '10 17 gila fkmovers leaked character sebelah kiri keknya ', 'kerennn bangeeettt ', 'best rewind so far ', '4 15 dih kena mute wkwkwk', 'thank you so much for such amazing rewind jadi semakin bersyukur aku lahir di indonesia', 'trendinggggg ', 'gila mantep bat tapi pengen liat bennymoza juga', 'sumpahh keren banget merindingg ', '10 40 siapa disini cita cita nya nangis ngeliat scene ini', 'merindiiiing keren pol terima kasih sudah membuat ini untuk indonesia ', 'gilaaaaa keren paraahhhhhhn ', 'merindinggg sumpah keren bgtttttt ', '10 00 omg ', 'keren bgt ', 'terbaik lah pokoknya terimakasih atas semuanya telah membuat video yg sangat bermakna ini ', '5 37 pak muh joget wkkwkwkwk', '07 58 merinding gua bangsat ¾ ˆ ¾ memang terbaik kalian', '5 28', 'baru sadar di menit 2 51 chandra sempet nya gantiin chef arnold', 'keren parahhh ', 'greattt jobbbb kereennnn bgt ', 'semoga indonesia lekas pulih ', 'leoooooo ã ³ ã ', 'wowww gilaa pecahhhh go trending ', 'cak nan ', 'gilaaaa sih ini keren parahhh ', 'keren bangetsssss semoga yang baca komen saya ini semoga di tahun 2021 mendapatkan keberkahan dunia akhirat rezeki yang halalan toyiban aaminn yaallah ', 'keren abis pesannya dapet banget ', 'another level bgt sesuai ekspetasi melebihi malah congrats finally you re all back ', 'kereeen bangeet asliiii creator indo tuh keren2 moga aja tahun depan konten yg viral yg keren2 macam ini', 'gila gilaa gilaa one of the best ytb rewind ', 'merindinggg bangga banget ', 'wuihhhh sugoi dekai temen temen 2020 emang luar biasa ', 'kok keren sih anjing terimakasih yaa terimakasih', 'dammmmnnn this is yt rewind yg pling bikin merinding salutttt sama bang chandra dan timnya', 'terlalu keren merinding gw', 'sumpah keren bangettt ', 'this is masterpiece ', 'terimakasih 2020 ', 'keren bgt kacau ', 'kerennn pars ', 'menyalaaa ', 'goosebumps chandra this was amazing ', 'wa bangsat keren banget ', 'mantap nih gw bakal share ke semua temen gw biar tranding 1', 'yri terkeren rennnnn yg pernah ada pesan moralnya kena banget dgn moment 2020 tahun yg penuh suka duka ', '4 13 4 40 kalian pasti udh pada tau ', 'keren bgt ', 'youtube rewind best everrr everr everrrrr ³ ³ ³ ³ ³ ÿ ÿ ÿ ÿ ÿ ÿ ÿ thnks chandra and all ³', 'kerenn gilaakk ', 'kerenn batttt ', ' binasa hal hal buruk indopride', 'semoga tahun 2021 lebih menyenangkan dari tahun 2020 aamiin ', 'cieee ada pak muh ', 'saya liat jerome dan leo ', 'kacauuu parahh kerenn ', 'scene terakhir mengandun bawang ', 'gokill', 'keren banget sumpah ', 'lathi x how you like that pecah ', 'keren abiez ', 'menyalaaa banarrr ', ' harus trending harus trending harus trending harus trending ', 'youtube as a door to begin but also ended it to a whole different life you really got us thank you for this great artwork you will always be remembered ', '11 32 sad part ever ', '11 37 farewell from the old generation', 'kerenn parahh merindingg ', 'the next level of rewind ', 'this video will make us cry thank you 2020 i will remember you till i old ', 'the best rewind in the year ', '0 12 wap reference', 'thank you so much for working hard indonesia creators this rewind almost made me tear up love you all ', 'the last scene of this video almost make me cry', '2 13 ehh ada bang budi sama frost diamond wkkwkw', '3 01 tatapan membara by chef arnold ', 'gilaaa keren larah merinding gue ngeliat rewind tahun ini gue jadi inget lagi jaman masih megang hape kotak nonton greates content creator ini gila sih ga bisa diungkapin kata2 keren parah pokoknya mah', 'proud of y all creator indonesia thank you 2020 ', 'i just wanna say three word for this rewind gorgeous amazing beautiful ', '8 55 fixx epic moment', 'aulion 2015 buka masker aulion 2020 pake masker konspirasi apakah ini wkwk', 'this is a lit ', 'best rewind ever ', 'merinding sih over all ini keren banget btw ada gue di menit 14 22', 'god damn this is awesome waiting for this moment since 2016 big respect to chandra liow aulion and all youtubers that participate in this youtube rewind specially jovial and andovi da lopez we will always remember you mambamentality', 'the best youtube rewind compare last ye oh wait i thought this is youtube rewind 2020 sorry', 'gaskuen trending', '2 23 my watermelon sugar ', 'sapa naroh bawang disni woy speechless this is good af', 'banyak makna terimakasih semuanya jangan lupa yang baca komen saya sekarang hari senin terakhir di tahun 2020 ', 'trending kan mntpp ', 'itu ending nya nunjukin kalo ka jo sama andovi mau udahan dari youtube kan sedih banget asliiii', 'this is more than a rewind this should be nominated you guys did great salute ', 'keren banget merinding sampe nangis not the best year but at least from this year we get many things to learn maju terus indonesia ', '9 19 akhirnya gua ngeliat kak regi', 'me see lord kungkingkang me like it', 'anying keren gwa nangis nontonnya terimakasihh yaaakk', '04 13 bole juga nyindir nya wkwk', 'sad ending gini njirr ', 'semuanya pasti akan berlalu epic closing applause', 'sebagai orang kampung bangga bangetl los dol bisa masuk rewind ada yang sama ', '4 38 the best', 'sumpahhh merindingggg ', '10 57 memories bring back ', 'it s masterpiece ', '3 30 haw to become ', '9 55 dammm ', 'i m not crying you re crying', '7 52 mrinding bgt hanin dhiya µ', 'the best youtube rewind ', 'harus trending kualitas global ini mah ', '2 13 wkwkwk ad bang budi', 'i got emotional from this video ', 'omg im cryinggg ', 'speechless the legends has are here ']\n"
     ]
    }
   ],
   "source": [
    "print(comment_clean)"
   ]
  },
  {
   "cell_type": "markdown",
   "metadata": {},
   "source": [
    "Menambahkan kolom clean untuk komentar yang sudah dibersihkan"
   ]
  },
  {
   "cell_type": "code",
   "execution_count": 16,
   "metadata": {},
   "outputs": [
    {
     "data": {
      "text/html": [
       "<div>\n",
       "<style scoped>\n",
       "    .dataframe tbody tr th:only-of-type {\n",
       "        vertical-align: middle;\n",
       "    }\n",
       "\n",
       "    .dataframe tbody tr th {\n",
       "        vertical-align: top;\n",
       "    }\n",
       "\n",
       "    .dataframe thead th {\n",
       "        text-align: right;\n",
       "    }\n",
       "</style>\n",
       "<table border=\"1\" class=\"dataframe\">\n",
       "  <thead>\n",
       "    <tr style=\"text-align: right;\">\n",
       "      <th></th>\n",
       "      <th>Komentar</th>\n",
       "      <th>Hasil</th>\n",
       "      <th>sentimen</th>\n",
       "      <th>clean</th>\n",
       "    </tr>\n",
       "  </thead>\n",
       "  <tbody>\n",
       "    <tr>\n",
       "      <th>0</th>\n",
       "      <td>trendingg</td>\n",
       "      <td>Positif</td>\n",
       "      <td>1</td>\n",
       "      <td>trendingg</td>\n",
       "    </tr>\n",
       "    <tr>\n",
       "      <th>1</th>\n",
       "      <td>demi apapun ini keren bangetttr</td>\n",
       "      <td>Positif</td>\n",
       "      <td>1</td>\n",
       "      <td>demi apapun ini keren bangetttr</td>\n",
       "    </tr>\n",
       "    <tr>\n",
       "      <th>2</th>\n",
       "      <td>ngeriiiii</td>\n",
       "      <td>Positif</td>\n",
       "      <td>1</td>\n",
       "      <td>ngeriiiii</td>\n",
       "    </tr>\n",
       "    <tr>\n",
       "      <th>3</th>\n",
       "      <td>kerennnn</td>\n",
       "      <td>Positif</td>\n",
       "      <td>1</td>\n",
       "      <td>kerennnn</td>\n",
       "    </tr>\n",
       "    <tr>\n",
       "      <th>4</th>\n",
       "      <td>kalo dia yg mengang kek jaminan mutu gitu dah ...</td>\n",
       "      <td>Positif</td>\n",
       "      <td>1</td>\n",
       "      <td>kalo dia yg mengang kek jaminan mutu gitu dah ...</td>\n",
       "    </tr>\n",
       "  </tbody>\n",
       "</table>\n",
       "</div>"
      ],
      "text/plain": [
       "                                            Komentar    Hasil  sentimen  \\\n",
       "0                                          trendingg  Positif         1   \n",
       "1                    demi apapun ini keren bangetttr  Positif         1   \n",
       "2                                          ngeriiiii  Positif         1   \n",
       "3                                           kerennnn  Positif         1   \n",
       "4  kalo dia yg mengang kek jaminan mutu gitu dah ...  Positif         1   \n",
       "\n",
       "                                               clean  \n",
       "0                                          trendingg  \n",
       "1                    demi apapun ini keren bangetttr  \n",
       "2                                          ngeriiiii  \n",
       "3                                           kerennnn  \n",
       "4  kalo dia yg mengang kek jaminan mutu gitu dah ...  "
      ]
     },
     "execution_count": 16,
     "metadata": {},
     "output_type": "execute_result"
    }
   ],
   "source": [
    "df['clean'] = comment_clean\n",
    "df.head()"
   ]
  },
  {
   "cell_type": "code",
   "execution_count": 17,
   "metadata": {},
   "outputs": [
    {
     "data": {
      "text/plain": [
       "'kalo dia yg mengang kek jaminan mutu gitu dah panjang umur semua biar anak cucu masih bisa ngerasain karya kalian '"
      ]
     },
     "execution_count": 17,
     "metadata": {},
     "output_type": "execute_result"
    }
   ],
   "source": [
    "df['clean'][4]"
   ]
  },
  {
   "cell_type": "code",
   "execution_count": 18,
   "metadata": {},
   "outputs": [
    {
     "name": "stdout",
     "output_type": "stream",
     "text": [
      "['ada', 'adalah', 'adanya', 'adapun', 'agak', 'agaknya', 'agar', 'akan', 'akankah', 'akhir', 'akhiri', 'akhirnya', 'aku', 'akulah', 'amat', 'amatlah', 'anda', 'andalah', 'antar', 'antara', 'antaranya', 'apa', 'apaan', 'apabila', 'apakah', 'apalagi', 'apatah', 'artinya', 'asal', 'asalkan', 'atas', 'atau', 'ataukah', 'ataupun', 'awal', 'awalnya', 'bagai', 'bagaikan', 'bagaimana', 'bagaimanakah', 'bagaimanapun', 'bagi', 'bagian', 'bahkan', 'bahwa', 'bahwasanya', 'baik', 'bakal', 'bakalan', 'balik', 'banyak', 'bapak', 'baru', 'bawah', 'beberapa', 'begini', 'beginian', 'beginikah', 'beginilah', 'begitu', 'begitukah', 'begitulah', 'begitupun', 'bekerja', 'belakang', 'belakangan', 'belum', 'belumlah', 'benar', 'benarkah', 'benarlah', 'berada', 'berakhir', 'berakhirlah', 'berakhirnya', 'berapa', 'berapakah', 'berapalah', 'berapapun', 'berarti', 'berawal', 'berbagai', 'berdatangan', 'beri', 'berikan', 'berikut', 'berikutnya', 'berjumlah', 'berkali-kali', 'berkata', 'berkehendak', 'berkeinginan', 'berkenaan', 'berlainan', 'berlalu', 'berlangsung', 'berlebihan', 'bermacam', 'bermacam-macam', 'bermaksud', 'bermula', 'bersama', 'bersama-sama', 'bersiap', 'bersiap-siap', 'bertanya', 'bertanya-tanya', 'berturut', 'berturut-turut', 'bertutur', 'berujar', 'berupa', 'besar', 'betul', 'betulkah', 'biasa', 'biasanya', 'bila', 'bilakah', 'bisa', 'bisakah', 'boleh', 'bolehkah', 'bolehlah', 'buat', 'bukan', 'bukankah', 'bukanlah', 'bukannya', 'bulan', 'bung', 'cara', 'caranya', 'cukup', 'cukupkah', 'cukuplah', 'cuma', 'dahulu', 'dalam', 'dan', 'dapat', 'dari', 'daripada', 'datang', 'dekat', 'demi', 'demikian', 'demikianlah', 'dengan', 'depan', 'di', 'dia', 'diakhiri', 'diakhirinya', 'dialah', 'diantara', 'diantaranya', 'diberi', 'diberikan', 'diberikannya', 'dibuat', 'dibuatnya', 'didapat', 'didatangkan', 'digunakan', 'diibaratkan', 'diibaratkannya', 'diingat', 'diingatkan', 'diinginkan', 'dijawab', 'dijelaskan', 'dijelaskannya', 'dikarenakan', 'dikatakan', 'dikatakannya', 'dikerjakan', 'diketahui', 'diketahuinya', 'dikira', 'dilakukan', 'dilalui', 'dilihat', 'dimaksud', 'dimaksudkan', 'dimaksudkannya', 'dimaksudnya', 'diminta', 'dimintai', 'dimisalkan', 'dimulai', 'dimulailah', 'dimulainya', 'dimungkinkan', 'dini', 'dipastikan', 'diperbuat', 'diperbuatnya', 'dipergunakan', 'diperkirakan', 'diperlihatkan', 'diperlukan', 'diperlukannya', 'dipersoalkan', 'dipertanyakan', 'dipunyai', 'diri', 'dirinya', 'disampaikan', 'disebut', 'disebutkan', 'disebutkannya', 'disini', 'disinilah', 'ditambahkan', 'ditandaskan', 'ditanya', 'ditanyai', 'ditanyakan', 'ditegaskan', 'ditujukan', 'ditunjuk', 'ditunjuki', 'ditunjukkan', 'ditunjukkannya', 'ditunjuknya', 'dituturkan', 'dituturkannya', 'diucapkan', 'diucapkannya', 'diungkapkan', 'dong', 'dua', 'dulu', 'empat', 'enggak', 'enggaknya', 'entah', 'entahlah', 'guna', 'gunakan', 'hal', 'hampir', 'hanya', 'hanyalah', 'hari', 'harus', 'haruslah', 'harusnya', 'hendak', 'hendaklah', 'hendaknya', 'hingga', 'ia', 'ialah', 'ibarat', 'ibaratkan', 'ibaratnya', 'ibu', 'ikut', 'ingat', 'ingat-ingat', 'ingin', 'inginkah', 'inginkan', 'ini', 'inikah', 'inilah', 'itu', 'itukah', 'itulah', 'jadi', 'jadilah', 'jadinya', 'jangan', 'jangankan', 'janganlah', 'jauh', 'jawab', 'jawaban', 'jawabnya', 'jelas', 'jelaskan', 'jelaslah', 'jelasnya', 'jika', 'jikalau', 'juga', 'jumlah', 'jumlahnya', 'justru', 'kala', 'kalau', 'kalaulah', 'kalaupun', 'kalian', 'kami', 'kamilah', 'kamu', 'kamulah', 'kan', 'kapan', 'kapankah', 'kapanpun', 'karena', 'karenanya', 'kasus', 'kata', 'katakan', 'katakanlah', 'katanya', 'ke', 'keadaan', 'kebetulan', 'kecil', 'kedua', 'keduanya', 'keinginan', 'kelamaan', 'kelihatan', 'kelihatannya', 'kelima', 'keluar', 'kembali', 'kemudian', 'kemungkinan', 'kemungkinannya', 'kenapa', 'kepada', 'kepadanya', 'kesampaian', 'keseluruhan', 'keseluruhannya', 'keterlaluan', 'ketika', 'khususnya', 'kini', 'kinilah', 'kira', 'kira-kira', 'kiranya', 'kita', 'kitalah', 'kok', 'kurang', 'lagi', 'lagian', 'lah', 'lain', 'lainnya', 'lalu', 'lama', 'lamanya', 'lanjut', 'lanjutnya', 'lebih', 'lewat', 'lima', 'luar', 'macam', 'maka', 'makanya', 'makin', 'malah', 'malahan', 'mampu', 'mampukah', 'mana', 'manakala', 'manalagi', 'masa', 'masalah', 'masalahnya', 'masih', 'masihkah', 'masing', 'masing-masing', 'mau', 'maupun', 'melainkan', 'melakukan', 'melalui', 'melihat', 'melihatnya', 'memang', 'memastikan', 'memberi', 'memberikan', 'membuat', 'memerlukan', 'memihak', 'meminta', 'memintakan', 'memisalkan', 'memperbuat', 'mempergunakan', 'memperkirakan', 'memperlihatkan', 'mempersiapkan', 'mempersoalkan', 'mempertanyakan', 'mempunyai', 'memulai', 'memungkinkan', 'menaiki', 'menambahkan', 'menandaskan', 'menanti', 'menanti-nanti', 'menantikan', 'menanya', 'menanyai', 'menanyakan', 'mendapat', 'mendapatkan', 'mendatang', 'mendatangi', 'mendatangkan', 'menegaskan', 'mengakhiri', 'mengapa', 'mengatakan', 'mengatakannya', 'mengenai', 'mengerjakan', 'mengetahui', 'menggunakan', 'menghendaki', 'mengibaratkan', 'mengibaratkannya', 'mengingat', 'mengingatkan', 'menginginkan', 'mengira', 'mengucapkan', 'mengucapkannya', 'mengungkapkan', 'menjadi', 'menjawab', 'menjelaskan', 'menuju', 'menunjuk', 'menunjuki', 'menunjukkan', 'menunjuknya', 'menurut', 'menuturkan', 'menyampaikan', 'menyangkut', 'menyatakan', 'menyebutkan', 'menyeluruh', 'menyiapkan', 'merasa', 'mereka', 'merekalah', 'merupakan', 'meski', 'meskipun', 'meyakini', 'meyakinkan', 'minta', 'mirip', 'misal', 'misalkan', 'misalnya', 'mula', 'mulai', 'mulailah', 'mulanya', 'mungkin', 'mungkinkah', 'nah', 'naik', 'namun', 'nanti', 'nantinya', 'nyaris', 'nyatanya', 'oleh', 'olehnya', 'pada', 'padahal', 'padanya', 'pak', 'paling', 'panjang', 'pantas', 'para', 'pasti', 'pastilah', 'penting', 'pentingnya', 'per', 'percuma', 'perlu', 'perlukah', 'perlunya', 'pernah', 'persoalan', 'pertama', 'pertama-tama', 'pertanyaan', 'pertanyakan', 'pihak', 'pihaknya', 'pukul', 'pula', 'pun', 'punya', 'rasa', 'rasanya', 'rata', 'rupanya', 'saat', 'saatnya', 'saja', 'sajalah', 'saling', 'sama', 'sama-sama', 'sambil', 'sampai', 'sampai-sampai', 'sampaikan', 'sana', 'sangat', 'sangatlah', 'satu', 'saya', 'sayalah', 'se', 'sebab', 'sebabnya', 'sebagai', 'sebagaimana', 'sebagainya', 'sebagian', 'sebaik', 'sebaik-baiknya', 'sebaiknya', 'sebaliknya', 'sebanyak', 'sebegini', 'sebegitu', 'sebelum', 'sebelumnya', 'sebenarnya', 'seberapa', 'sebesar', 'sebetulnya', 'sebisanya', 'sebuah', 'sebut', 'sebutlah', 'sebutnya', 'secara', 'secukupnya', 'sedang', 'sedangkan', 'sedemikian', 'sedikit', 'sedikitnya', 'seenaknya', 'segala', 'segalanya', 'segera', 'seharusnya', 'sehingga', 'seingat', 'sejak', 'sejauh', 'sejenak', 'sejumlah', 'sekadar', 'sekadarnya', 'sekali', 'sekali-kali', 'sekalian', 'sekaligus', 'sekalipun', 'sekarang', 'sekarang', 'sekecil', 'seketika', 'sekiranya', 'sekitar', 'sekitarnya', 'sekurang-kurangnya', 'sekurangnya', 'sela', 'selain', 'selaku', 'selalu', 'selama', 'selama-lamanya', 'selamanya', 'selanjutnya', 'seluruh', 'seluruhnya', 'semacam', 'semakin', 'semampu', 'semampunya', 'semasa', 'semasih', 'semata', 'semata-mata', 'semaunya', 'sementara', 'semisal', 'semisalnya', 'sempat', 'semua', 'semuanya', 'semula', 'sendiri', 'sendirian', 'sendirinya', 'seolah', 'seolah-olah', 'seorang', 'sepanjang', 'sepantasnya', 'sepantasnyalah', 'seperlunya', 'seperti', 'sepertinya', 'sepihak', 'sering', 'seringnya', 'serta', 'serupa', 'sesaat', 'sesama', 'sesampai', 'sesegera', 'sesekali', 'seseorang', 'sesuatu', 'sesuatunya', 'sesudah', 'sesudahnya', 'setelah', 'setempat', 'setengah', 'seterusnya', 'setiap', 'setiba', 'setibanya', 'setidak-tidaknya', 'setidaknya', 'setinggi', 'seusai', 'sewaktu', 'siap', 'siapa', 'siapakah', 'siapapun', 'sini', 'sinilah', 'soal', 'soalnya', 'suatu', 'sudah', 'sudahkah', 'sudahlah', 'supaya', 'tadi', 'tadinya', 'tahu', 'tahun', 'tak', 'tambah', 'tambahnya', 'tampak', 'tampaknya', 'tandas', 'tandasnya', 'tanpa', 'tanya', 'tanyakan', 'tanyanya', 'tapi', 'tegas', 'tegasnya', 'telah', 'tempat', 'tengah', 'tentang', 'tentu', 'tentulah', 'tentunya', 'tepat', 'terakhir', 'terasa', 'terbanyak', 'terdahulu', 'terdapat', 'terdiri', 'terhadap', 'terhadapnya', 'teringat', 'teringat-ingat', 'terjadi', 'terjadilah', 'terjadinya', 'terkira', 'terlalu', 'terlebih', 'terlihat', 'termasuk', 'ternyata', 'tersampaikan', 'tersebut', 'tersebutlah', 'tertentu', 'tertuju', 'terus', 'terutama', 'tetap', 'tetapi', 'tiap', 'tiba', 'tiba-tiba', 'tidak', 'tidakkah', 'tidaklah', 'tiga', 'tinggi', 'toh', 'tunjuk', 'turut', 'tutur', 'tuturnya', 'ucap', 'ucapnya', 'ujar', 'ujarnya', 'umum', 'umumnya', 'ungkap', 'ungkapnya', 'untuk', 'usah', 'usai', 'waduh', 'wah', 'wahai', 'waktu', 'waktunya', 'walau', 'walaupun', 'wong', 'yaitu', 'yakin', 'yakni', 'yang']\n"
     ]
    }
   ],
   "source": [
    "print(stopwords.words('indonesian'))"
   ]
  },
  {
   "cell_type": "markdown",
   "metadata": {},
   "source": [
    "#### Menambahkan kata yang di lewati dalam Bahasa Indonesia"
   ]
  },
  {
   "cell_type": "code",
   "execution_count": 19,
   "metadata": {},
   "outputs": [],
   "source": [
    "stop_words = set(stopwords.words('indonesian'))"
   ]
  },
  {
   "cell_type": "code",
   "execution_count": 20,
   "metadata": {},
   "outputs": [],
   "source": [
    "df['clean'] = df['clean'].str.strip()"
   ]
  },
  {
   "cell_type": "markdown",
   "metadata": {},
   "source": [
    "#### Menambahkan Fungsi untuk menghapus kata yang di lewati"
   ]
  },
  {
   "cell_type": "code",
   "execution_count": 21,
   "metadata": {},
   "outputs": [],
   "source": [
    "def remove_stopwords(line):\n",
    "    word_tokens = word_tokenize(line)\n",
    "    filtered_sentence = [w for w in word_tokens if not w in stop_words]\n",
    "    return \" \".join(filtered_sentence)"
   ]
  },
  {
   "cell_type": "code",
   "execution_count": 22,
   "metadata": {},
   "outputs": [
    {
     "data": {
      "text/html": [
       "<div>\n",
       "<style scoped>\n",
       "    .dataframe tbody tr th:only-of-type {\n",
       "        vertical-align: middle;\n",
       "    }\n",
       "\n",
       "    .dataframe tbody tr th {\n",
       "        vertical-align: top;\n",
       "    }\n",
       "\n",
       "    .dataframe thead th {\n",
       "        text-align: right;\n",
       "    }\n",
       "</style>\n",
       "<table border=\"1\" class=\"dataframe\">\n",
       "  <thead>\n",
       "    <tr style=\"text-align: right;\">\n",
       "      <th></th>\n",
       "      <th>Komentar</th>\n",
       "      <th>Hasil</th>\n",
       "      <th>sentimen</th>\n",
       "      <th>clean</th>\n",
       "      <th>stop_comments</th>\n",
       "    </tr>\n",
       "  </thead>\n",
       "  <tbody>\n",
       "    <tr>\n",
       "      <th>0</th>\n",
       "      <td>trendingg</td>\n",
       "      <td>Positif</td>\n",
       "      <td>1</td>\n",
       "      <td>trendingg</td>\n",
       "      <td>trendingg</td>\n",
       "    </tr>\n",
       "    <tr>\n",
       "      <th>1</th>\n",
       "      <td>demi apapun ini keren bangetttr</td>\n",
       "      <td>Positif</td>\n",
       "      <td>1</td>\n",
       "      <td>demi apapun ini keren bangetttr</td>\n",
       "      <td>apapun keren bangetttr</td>\n",
       "    </tr>\n",
       "    <tr>\n",
       "      <th>2</th>\n",
       "      <td>ngeriiiii</td>\n",
       "      <td>Positif</td>\n",
       "      <td>1</td>\n",
       "      <td>ngeriiiii</td>\n",
       "      <td>ngeriiiii</td>\n",
       "    </tr>\n",
       "    <tr>\n",
       "      <th>3</th>\n",
       "      <td>kerennnn</td>\n",
       "      <td>Positif</td>\n",
       "      <td>1</td>\n",
       "      <td>kerennnn</td>\n",
       "      <td>kerennnn</td>\n",
       "    </tr>\n",
       "    <tr>\n",
       "      <th>4</th>\n",
       "      <td>kalo dia yg mengang kek jaminan mutu gitu dah ...</td>\n",
       "      <td>Positif</td>\n",
       "      <td>1</td>\n",
       "      <td>kalo dia yg mengang kek jaminan mutu gitu dah ...</td>\n",
       "      <td>kalo yg mengang kek jaminan mutu gitu dah umur...</td>\n",
       "    </tr>\n",
       "  </tbody>\n",
       "</table>\n",
       "</div>"
      ],
      "text/plain": [
       "                                            Komentar    Hasil  sentimen  \\\n",
       "0                                          trendingg  Positif         1   \n",
       "1                    demi apapun ini keren bangetttr  Positif         1   \n",
       "2                                          ngeriiiii  Positif         1   \n",
       "3                                           kerennnn  Positif         1   \n",
       "4  kalo dia yg mengang kek jaminan mutu gitu dah ...  Positif         1   \n",
       "\n",
       "                                               clean  \\\n",
       "0                                          trendingg   \n",
       "1                    demi apapun ini keren bangetttr   \n",
       "2                                          ngeriiiii   \n",
       "3                                           kerennnn   \n",
       "4  kalo dia yg mengang kek jaminan mutu gitu dah ...   \n",
       "\n",
       "                                       stop_comments  \n",
       "0                                          trendingg  \n",
       "1                             apapun keren bangetttr  \n",
       "2                                          ngeriiiii  \n",
       "3                                           kerennnn  \n",
       "4  kalo yg mengang kek jaminan mutu gitu dah umur...  "
      ]
     },
     "execution_count": 22,
     "metadata": {},
     "output_type": "execute_result"
    }
   ],
   "source": [
    "df['stop_comments'] = df['clean'].apply(lambda x : remove_stopwords(x))\n",
    "df.head()"
   ]
  },
  {
   "cell_type": "markdown",
   "metadata": {},
   "source": [
    "#### Membagi dataset untuk test dan training"
   ]
  },
  {
   "cell_type": "code",
   "execution_count": 23,
   "metadata": {},
   "outputs": [],
   "source": [
    "from sklearn.model_selection import train_test_split\n",
    "X_train,X_test,y_train,y_test = train_test_split(df['stop_comments'],df['sentimen'])"
   ]
  },
  {
   "cell_type": "code",
   "execution_count": 24,
   "metadata": {},
   "outputs": [
    {
     "data": {
      "text/plain": [
       "(1500,)"
      ]
     },
     "execution_count": 24,
     "metadata": {},
     "output_type": "execute_result"
    }
   ],
   "source": [
    "X_train.shape"
   ]
  },
  {
   "cell_type": "code",
   "execution_count": 25,
   "metadata": {},
   "outputs": [
    {
     "data": {
      "text/plain": [
       "(500,)"
      ]
     },
     "execution_count": 25,
     "metadata": {},
     "output_type": "execute_result"
    }
   ],
   "source": [
    "X_test.shape"
   ]
  },
  {
   "cell_type": "code",
   "execution_count": 26,
   "metadata": {},
   "outputs": [
    {
     "data": {
      "text/plain": [
       " 1    1767\n",
       " 0     204\n",
       "-1      29\n",
       "Name: sentimen, dtype: int64"
      ]
     },
     "execution_count": 26,
     "metadata": {},
     "output_type": "execute_result"
    }
   ],
   "source": [
    "df['sentimen'].value_counts()"
   ]
  },
  {
   "cell_type": "markdown",
   "metadata": {},
   "source": [
    "## Melakukan ekstraksi teks\n",
    "Menggunakan CountVectorizer yang akan membuat kosakata dari data teks, karena modul ini menyimpan hitungan setiap kata setiap kali muncul pada teks.<br><br>\n",
    "CountVectorizer memiliki 3 langkah dasar :<br>\n",
    "**Tokenization** : Melakukan tokenisasi teks menjadi kata<br>\n",
    "**Vocabulary** : Membuat kosakata dengan semua kata yang ada di teks/dokumen<br>\n",
    "**Encode** : melakukan encode seluruh dokumen membuat vektor dengan panjang yang sama dengan kosakata."
   ]
  },
  {
   "cell_type": "code",
   "execution_count": 27,
   "metadata": {},
   "outputs": [],
   "source": [
    "from sklearn.feature_extraction.text import CountVectorizer, TfidfVectorizer \n",
    "vect = CountVectorizer()\n",
    "tf_train = vect.fit_transform(X_train)\n",
    "tf_test = vect.transform(X_test)"
   ]
  },
  {
   "cell_type": "code",
   "execution_count": 28,
   "metadata": {},
   "outputs": [
    {
     "data": {
      "text/plain": [
       "(1500, 2408)"
      ]
     },
     "execution_count": 28,
     "metadata": {},
     "output_type": "execute_result"
    }
   ],
   "source": [
    "tf_train.shape"
   ]
  },
  {
   "cell_type": "code",
   "execution_count": 29,
   "metadata": {},
   "outputs": [
    {
     "name": "stdout",
     "output_type": "stream",
     "text": [
      "{'good': 881, 'old': 1675, 'days': 605, 'kerennnnnnnnn': 1186, 'semangatt': 1965, '2021': 28, 'miawaug': 1476, 'merinding': 1471, 'asliiii': 215, 'keren': 1177, 'parahhhhh': 1729, 'gokill': 867, 'abissss': 94, 'keberadaan': 1124, 'telan': 2113, 'bumi': 473, 'asli': 212, 'ya': 2365, 'ampun': 155, 'salfok': 1910, 'bapaknya': 304, 'kak': 1094, 'fadil': 746, 'woyy': 2355, 'banget': 279, 'gue': 901, 'nnton': 1625, 'nya': 1646, '00': 0, 'raja': 1857, 'yt': 2395, 'emang': 709, 'beda': 324, 'ama': 147, 'tt': 2230, 'trendingkan': 2221, 'penikmat': 1762, 'gw': 906, 'bangga': 291, 'kerja': 1189, 'keras': 1156, 'guys': 903, 'and': 160, 'ide': 985, 'gila': 829, 'big': 412, 'thanks': 2161, 'for': 775, 'chandraliow': 507, 'team': 2109, 'proud': 1835, 'of': 1669, 'you': 2386, 'all': 137, 'yg': 2379, 'ngedis': 1586, 'gapunya': 805, 'otak': 1691, 'ri2020': 1895, 'ayo': 240, 'nyalakanindonesia': 1651, 'sooo': 2048, 'kelas': 1142, 'dunia': 693, 'hanin': 928, 'dhiya': 624, 'euy': 740, 'trending': 2213, '25': 32, 'kirain': 1206, 'eclipse': 698, 'it': 1028, 'must': 1530, 'go': 859, 'bikin': 413, 'sedih': 1945, 'rewind': 1885, 'skinny': 2023, 'uhhhh': 2251, 'mic': 1477, 'mati': 1400, 'ngena': 1593, 'sindirannyaaaaa': 2013, 'oh': 1671, 'man': 1361, 'what': 2314, 'masterpiece': 1391, 'bgt': 402, 'parahhh': 1727, 'youtube': 2391, '2018': 25, 'nenangis': 1567, 'setuju': 1987, 'like': 1299, 'orang': 1687, 'tombol': 2196, '12': 12, 'dark': 601, 'sidenya': 2000, '2020': 27, 'si': 1997, 'alig': 135, 'youtobe': 2388, 'terbaik': 2123, 'sih': 2001, 'cokkkk': 537, 'menyalaaaa': 1457, 'impresive': 1002, 't_t': 2094, 'pengen': 1761, 'salto': 1911, '10': 6, '37': 44, 'ericko': 732, 'lim': 1302, 'tersinggung': 2154, 'kalo': 1101, 'bang': 265, 'chandra': 505, 'liow': 1305, 'kawan': 1114, 'youtubers': 2393, 'senior': 1977, 'ngga': 1600, 'kaget': 1091, 'lahh': 1256, 'job': 1065, 'erpan': 737, 'bjir': 420, 'omg': 1677, 'im': 1001, 'cryinggg': 573, 'gilaa': 830, 'one': 1681, 'the': 2164, 'best': 387, 'ytb': 2396, 'on': 1680, 'earth': 697, 'gokillll': 869, 'parah': 1725, 'anjir': 176, 'anjayyyy': 169, 'kerenn': 1180, 'vibes': 2275, 'tiktoknya': 2185, 'bangettt': 283, 'kali': 1097, 'nangis': 1549, 'ga': 786, 'ngerti': 1598, 'udah': 2247, 'bingung': 417, 'nyesek': 1659, 'karna': 1107, 'nyampur': 1653, 'iya': 1033, 'haru': 938, 'menghibur': 1442, 'jelasinnya': 1054, 'gimanaa': 851, 'jujur': 1076, 'terbaikkkkks': 2124, 'woy': 2354, 'gofar': 862, 'hilman': 964, 'anjer': 171, 'kerennn': 1181, 'nangiss': 1551, 'anying': 181, 'gwa': 907, 'nontonnya': 1632, 'terimakasihh': 2140, 'yaaakk': 2369, 'kereeeeeen': 1163, 'amazing': 148, 'video': 2277, 'dipenuhi': 646, 'komentar': 1216, 'youtuber': 2392, 'ceklis': 493, 'sumpah': 2081, 'woi': 2338, 'indogointernasional': 1007, 'rewind2020': 1888, 'don': 677, 'know': 1212, 'why': 2320, 'cry': 571, 'kek': 1137, 'bertahan': 378, 'dirumahnya': 652, 'cobaan': 531, 'hambatan': 921, 'turun': 2240, 'mood': 1502, 'god': 860, 'btw': 462, 'gon': 880, 'na': 1539, 'miss': 1486, 'these': 2168, 'viral': 2282, 'thing': 2170, 'indonesian': 1011, 'ever': 741, 'gua': 897, 'doang': 674, 'ngakak': 1578, 'gra2': 891, 'muh': 1517, 'ba': 243, 'radit': 1854, 'meninggol': 1448, 'hahaha': 914, 'vibesnya': 2276, 'deh': 612, 'indonesia': 1008, 'pecah': 1744, 'kerennnn': 1183, 'bangett': 282, 'merindingg': 1472, 'leggo': 1272, 'mantap': 1368, 'terharus': 2134, 'bangettttttt': 288, 'heyyy': 958, 'bangetttttt': 287, 'wajin': 2295, 'bangeeettt': 272, 'gaada': 789, 'obat': 1663, 'gokss': 874, '23': 31, 'my': 1537, 'watermelon': 2302, 'sugar': 2070, '13': 13, 'sindirannya': 2012, 'pakk': 1704, 'gilakkkkkkkk': 844, 'parahhhh': 1728, 'nangissssssss': 1555, 'makasih': 1349, 'cried': 568, 'so': 2039, 'hard': 936, 'also': 141, 'when': 2316, 'heard': 949, 'she': 1992, 'loved': 1323, 'me': 1407, 'in': 1003, 'background': 249, 'just': 1078, 'gilaaaaaa': 834, 'abizz': 98, '38': 45, 'lele': 1275, 'gaess': 794, 'aja': 124, 'gimana': 850, 'kurasa': 1246, 'chef': 515, 'arnoldnya': 202, 'ganti': 803, 'sampe': 1916, 'terharu': 2133, 'liatnya': 1289, 'nobody': 1627, 'friend': 778, 'anak': 157, 'kereng': 1179, 'how': 973, 'ck': 523, 'its': 1029, 'really': 1870, 'than': 2159, '2019': 26, 'meriding': 1466, 'pas': 1737, 'sebentar': 1943, 'yah': 2372, 'real': 1869, 'karya': 1109, 'bangsa': 296, 'kacau': 1082, 'siiii': 2008, 'bgtttt': 405, 'terimakasih': 2139, 'congratulation': 547, 'sumpahh': 2082, 'ku': 1231, 'kesel': 1194, 'langsung': 1258, 'klo': 1209, 'arap': 197, 'pesti': 1794, 'thank': 2160, 'pelajaran': 1751, 'berharga': 350, 'wajib': 2294, 'kualitas': 1232, '18': 18, 'mantep': 1375, 'bngt': 430, 'gilak': 841, 'kerennnnn': 1184, 'endingnya': 722, 'ishh': 1025, 'gokil': 866, 'petjah': 1801, 'sihh': 2002, 'yuk': 2399, 'asliii': 214, 'bangeeeet': 270, 'petjaahhhhhhhhhhhhhhhh': 1800, 'wow': 2352, 'sayangnya': 1932, 'lord': 1317, 'tara': 2100, 'art': 204, 'gabisa': 790, 'ikutan': 998, 'gegara': 817, 'kena': 1148, 'corona': 554, 'abislah': 91, 'pokoknya': 1818, 'eh': 706, 'morganisa': 1506, 'malam': 1355, 'minggu': 1482, 'miko': 1478, 'mainya': 1344, 'hebat': 953, 'sumpahhh': 2083, 'mrinding': 1511, 'seneng': 1974, 'bangetttt': 285, 'agung': 114, 'hapsah': 933, 'woyyyyy': 2359, 'tretannn': 2225, 'cokiii': 535, 'is': 1024, 'fire': 767, 'gokz': 878, 'berkarya': 358, 'drama': 687, 'diatas': 629, 'kuantitas': 1234, 'salute': 1913, 'kereeeeen': 1165, 'bangeeeeet': 268, 'terkeren': 2145, '15': 15, 'anjay': 167, 'mute': 1532, 'where': 2317, 'windah': 2323, 'basudara': 306, 'ak': 130, 'gebug': 815, 'ayok': 241, 'gk': 856, 'tau': 2102, 'komen': 1215, 'content': 548, 'creator': 563, 'scene': 1936, 'joget': 1068, 'tik': 2182, 'tok': 2194, 'kayanya': 1118, 'bocah': 437, 'nga': 1574, 'seru': 1983, 'masak': 1384, 'terkenal': 2143, 'atta': 225, 'dylan': 695, 'pross': 1834, 'thebesttttttt': 2165, 'semoga': 1967, 'menyenangkan': 1459, 'aamiin': 85, 'wht': 2319, 'concept': 545, 'diselenggarakan': 653, 'ujian': 2255, 'massal': 1389, 'manya': 1379, 'woyyy': 2357, 'coming': 542, 'parraah': 1733, 'emot': 716, 'apii': 191, 'aslii': 213, 'nontonnyaa': 1633, 'top': 2200, 'tim2one': 2188, 'always': 145, 'emosinya': 714, 'kebawa': 1123, 'bangen': 278, 'kasih': 1112, 'hadiah': 912, 'gelap': 819, 'jumpa': 1077, 'goodjobbb': 883, 'bgttttttt': 408, 'paraaahhh': 1718, 'mantappu': 1373, 'jiwa': 1062, 'far': 751, 'nonton': 1630, 'campur': 486, 'happy': 932, 'ngeliatnya': 1591, 'sehat2': 1957, 'virus': 2283, 'hilang': 963, 'amin': 149, 'speechless': 2055, 'tv': 2241, 'karng': 1108, 'dri': 688, 'edukasi': 705, 'berita': 353, 'finally': 764, 'damn': 596, 'son': 2046, 'naruh': 1560, 'bawang': 312, 'bet': 391, '55': 66, 'masuk': 1394, 'ditmbah': 663, 'lagu': 1254, 'nasional': 1561, 'beuhh': 396, 'bnget': 428, 'ntah': 1639, 'knapa': 1211, 'dengerin': 618, 'suka': 2071, 'kadang': 1086, 'ampe': 154, 'sii': 2006, 'konsep': 1217, 'visual': 2284, 'backsound': 250, 'numero': 1642, 'uno': 2262, 'auto': 229, 'react': 1867, 'berat': 345, 'tdk': 2108, 'restu': 1881, 'ortunya': 1690, 'pekerjaan': 1750, 'terhambat': 2132, 'dll': 672, 'remix': 1879, 'muziknya': 1534, 'videonya': 2278, 'salam': 1909, 'malaysia': 1356, 'aurel': 228, 'tu': 2232, 'kw': 1248, 'sekerenn': 1961, 'ituu': 1030, 'gilaaa': 831, 'part': 1735, 'make': 1351, 'kereeennn': 1169, 'serius': 1982, 'kuat': 1236, 'udahan': 2248, 'pecahhhhh': 1748, 'atleast': 223, 'this': 2172, 'way': 2304, 'to': 2192, 'end': 719, 'bagus': 255, 'much': 1515, 'making': 1352, 'great': 892, 'piece': 1803, 'aaaaaaaahhhh': 80, 'sukaaaaa': 2073, 'bener': 335, 'aduk': 110, 'feels': 756, 'decade': 607, 'we': 2305, 'will': 2322, 'start': 2063, 'new': 1572, 'anjerrrrrr': 172, 'chand': 504, 'trending1': 2214, 'kado': 1087, 'perpisahan': 1786, 'terindah': 2141, 'asliikbsama': 217, 'kreativitas': 1225, 'sense': 1979, 'design': 621, 'prediksi': 1828, '20': 21, 'juta': 1080, 'views': 2281, 'ayooo': 242, 'sihhhhhhhhhh': 2005, 'napa': 1557, 'penutup': 1770, 'epic': 726, 'comeback': 541, 'ajg': 128, 'no': 1626, 'januari': 1046, '02': 2, 'iyo': 1034, 'senpaaii': 1978, 'mantapp': 1369, 'bangg': 290, 'channdd': 510, 'ammpunnn': 152, 'kerasa': 1157, 'rewind20': 1887, 'perasaan': 1774, 'kemaren': 1146, '2016': 24, 'dah': 590, 'parahh': 1726, 'coba': 530, 'mas': 1383, 'alip_ba_ta': 136, 'ajakin': 127, 'musisi': 1528, 'bule': 471, 'bnyak': 435, 'mereaction': 1463, 'trend': 2212, 'indo': 1006, 'gg': 827, 'gaming': 800, 'absen': 100, 'ad': 105, 'deddy': 609, 'muhh': 1520, 'minus': 1483, 'bryan': 458, 'furran': 784, 'bgttt': 404, 'fikssssss': 759, 'cmpur': 527, 'nntn': 1624, 'gokssss': 876, 'sihhh': 2003, 'terima': 2138, 'support': 2088, 'masyarakat': 1398, 'berbagi': 346, 'beragam': 343, 'memahami': 1413, 'indah': 1005, 'paragraf': 1724, 'betapa': 392, 'kerennya': 1187, 'cuman': 578, 'bilang': 414, 'ong': 1682, 'mindblown': 1481, '17': 17, 'fkmovers': 772, 'leaked': 1268, 'character': 513, 'sebelah': 1942, 'kiri': 1207, 'keknya': 1140, 'siluman': 2010, 'kadal': 1085, 'wkwk': 2329, '04': 3, '39': 46, 'pemuda': 1755, 'tersesat': 2153, 'fans': 749, 'madrid': 1336, 'dpt': 685, 'liat': 1288, 'trendingggg': 2216, 'becomcream': 322, 'adaa': 106, 'diwakilin': 669, 'anca': 159, 'kemarin': 1147, 'off': 1670, 'bocil': 438, 'epep': 725, 'belike': 332, 'anjrot': 179, 'nangisnya': 1550, 'terepik': 2131, 'matiin': 1401, 'ngomong': 1605, 'kursi': 1247, 'kosong': 1223, 'kekeyi': 1139, 'boneka': 442, '42waduh': 50, 'panutan': 1712, 'nih': 1611, 'uwoe': 2269, '32': 40, 'queen': 1851, 'pentol': 1768, '11': 11, '44': 52, 'aaaajangannnn': 83, '53': 63, 'cepetan': 497, 'makna': 1353, 'lupa': 1328, 'baca': 246, 'senin': 1976, 'ninggalin': 1617, 'gajelas': 795, 'cok': 533, 'embel': 710, 'namakan': 1545, 'kualitass': 1233, 'berhenti': 351, 'bgett': 398, 'dahh': 591, 'trendingg': 2215, 'tantangan': 2099, 'everything': 742, 'did': 633, 'platform': 1810, 'are': 198, 'flippin': 774, 'awesome': 236, 'love': 1322, 'that': 2163, 'last': 1260, 'tho': 2174, 'missing': 1487, 'ria': 1896, 'sw': 2091, '48': 56, 'ceramah': 498, 'khas': 1204, 'tretan': 2224, 'muslim': 1529, 'wkwkwk': 2332, '16': 16, 'savage': 1926, 'netes': 1569, 'air': 122, 'mata': 1399, 'anjirrr': 177, 'sekuat': 1962, 'hal2': 919, 'berasa': 344, 'netplik': 1571, 'bravo': 451, 'aulion': 226, 'mah': 1338, 'global': 857, 'yay': 2374, 'maafkan': 1333, 'terlanjur': 2147, 'mencinta': 1434, 'memperbolehkan': 1425, 'jend': 1055, 'pencinta': 1757, 'ngikutin': 1603, 'dr': 686, 'thn': 2173, 'perfect': 1778, 'tengkyu': 2118, 'll': 1311, 'missyou': 1488, 'skinnyindonesian24': 2028, 'mbak': 1406, 'gatau': 814, 'proses': 1833, 'jadipun': 1035, 'scrol': 1939, 'segi': 1955, 'editing': 703, 'skema': 2020, 'alur': 142, 'penjuru': 1763, 'sperti': 2056, 'hehe': 955, 'sayang': 1931, 'jess': 1058, 'limit': 1303, 'sependapat': 1981, 'likeee': 1301, 'kereeen': 1168, 'salut': 1912, 'merindiinggggg': 1470, 'dame': 594, 'bro': 455, 'menarik': 1430, 'godd': 861, 'chandraliaw': 506, 'liaat': 1286, 'masyaallah': 1397, 'nyaaa': 1648, 'sad': 1903, 'ending': 721, 'bestt': 388, 'abiez': 88, 'omgggg': 1679, 'bgttttt': 406, 'menangis': 1429, 'penuh': 1769, 'memori': 1422, 'umur': 2259, 'perjuangan': 1782, '40': 48, 'time': 2189, 'say': 1929, 'goodbye': 882, 'generation': 823, 'merindinggg': 1473, 'bgtttttt': 407, 'bngtttt': 433, 'temen2': 2116, 'tr3nd1ng': 2205, 'pake': 1702, 'yaaa': 2367, 'banyaak': 302, 'temen': 2115, 'semangat': 1964, 'utk': 2267, 'kreator': 1226, 'konten': 1221, 'bermanfaat': 369, 'menginspirasi': 1443, 'kasiih': 1113, 'ggwp': 828, 'muhhhhh': 1522, 'nyanyi': 1655, 'pusaka': 1843, '1000': 8, 'berkaryaaa': 360, 'cepat': 495, 'pulih': 1841, '446k': 53, '550k': 67, 'holyyyyyy': 969, 'senyum': 1980, 'liatnyaa': 1290, 'uhuyyy': 2253, 'sukses': 2074, 'semuanyaa': 1969, 'ngulang': 1606, 'cung': 579, 'bangeeet': 271, 'lihat': 1295, 'nangissss': 1553, 'abis': 90, 'pesannya': 1793, 'dapet': 598, 'pd': 1741, 'adegannya': 109, 'coki': 534, 'lengkap': 1277, 'divideo': 668, 'skinnyindonesia24': 2026, 'hati': 941, 'saking': 1907, 'banyaknya': 303, 'cerita': 499, 'duka': 691, 'cantik': 491, 'fucking': 782, 'lit': 1307, 'yaampun': 2371, 'nemenin': 1566, 'senang': 1972, 'animasi': 163, 'sulit': 2075, 'mengerjakannya': 1439, 'ucapkan': 2243, 'untung': 2263, 'telat': 2114, 'budiiii': 467, 'guysss': 905, 'woiii': 2340, 'bertemu': 380, 'berjuanglah': 355, 'youruber': 2387, 'trendingkannnnnn': 2223, 'mantappp': 1370, 'bangeettttt': 277, 'bulu': 472, 'kuduk': 1241, 'berdiri': 347, 'bangsat': 297, 'baangettt': 245, 'gokilll': 868, 'wehh': 2307, 'cita': 522, 'ngeliat': 1590, 'quality': 1850, 'they': 2169, 'fix': 770, 'tranding': 2208, 'vidio': 2279, 'rate': 1863, '100': 7, 'daammnnnn': 584, 'gilaaaa': 832, 'terlibat': 2149, 'gak': 796, 'pkoknya': 1808, 'wesurvive2020': 2312, 'pov': 1824, 'us': 2266, 'remember': 1877, 'till': 2186, 'reza': 1890, 'arab': 196, 'woiiiii': 2341, 'faaave': 745, 'heartwarming': 951, 'incredible': 1004, 'sekeren': 1960, '27': 34, 'wkwkwkwk': 2333, 'diamana': 628, 'tuber': 2234, 'favorit': 753, 'regi': 1874, 'aci': 103, 'gamespot': 799, 'yok': 2383, 'abissssssss': 97, '01': 1, 'iri': 1023, 'bos': 445, 'kungkingkang': 1242, 'chika': 516, 'terngiang': 2151, 'ngiang': 1602, 'sedihnya': 1947, 'brooo': 457, 'ri20': 1894, 'gookkiilllll': 885, 'bantu': 301, 'nge': 1581, 'skip': 2031, 'gokillllllllllll': 871, 'mainnnn': 1343, 'kereeeennnnnnn': 1167, 'tr3ndinggggggg': 2206, 'dislike': 654, 'anak2': 158, 'tiktodd': 2183, 'bangeet': 274, 'tuh': 2235, 'keren2': 1178, 'moga': 1496, 'muhammad': 1519, 'donggg': 679, 'pakek': 1703, 'damnnnn': 597, 'ahh': 116, 'ixora': 1032, 'kesini': 1196, 'gara': 806, 'ytr': 2397, 'ter': 2119, 'puooollllllllllllllll': 1842, 'pooooooooolllllllllaaaaaaaaaaaannnnnnnnnnnnnnn': 1822, 'bayu': 315, 'skak': 2019, 'ndi': 1563, 'niceee': 1609, 'cool': 549, 'odading': 1668, 'mang': 1365, 'kagak': 1089, '14': 14, 'mencerminkan': 1433, 'sidang': 1999, 'dp': 684, 'ngacoo': 1576, 'cuy': 581, 'gokilllllll': 870, '49': 57, 'arnold': 201, '51': 59, 'tim': 2187, 'rans': 1860, 'garis': 810, 'kelaaaaasss': 1141, 'emotional': 717, 'edan': 700, 'kalah': 1096, 'payah': 1740, 'let': 1280, 'aaaaaaa': 77, 'bngttt': 432, 'more': 1505, 'should': 1996, 'be': 316, 'nominated': 1628, 'dateng': 603, 'besok': 386, 'roller': 1900, 'coaster': 529, 'not': 1637, 'year': 2376, 'but': 478, 'at': 222, 'least': 1270, 'from': 780, 'get': 826, 'many': 1378, 'things': 2171, 'learn': 1269, 'maju': 1345, 'jarang': 1047, 'skeptis': 2021, 'durasi': 694, 'belasan': 331, 'menit': 1449, 'dekade': 613, 'well': 2310, 'played': 1811, '999': 73, 'berpartisipasi': 370, 'hancur': 923, 'banjir': 299, 'covid': 559, '19': 19, 'diam': 627, 'rumah': 1901, 'acara': 102, 'disusun': 659, 'bareng': 305, 'terburuk': 2127, 'lihatlah': 1296, 'disuguhi': 658, 'hangat': 926, 'buruk': 476, 'krn': 1229, 'menyentuh': 1460, 'iki': 995, 'ketawa': 1197, 'andovi': 161, 'jovi': 1071, 'beh': 329, 'penyatuan': 1771, 'lathi': 1262, 'blackping': 424, 'bngtt': 431, 'kgk': 1203, 'info': 1013, 'muncul': 1524, 'branda': 449, 'jam': 1039, 'autoo': 230, 'cusssss': 580, 'mahluk': 1341, 'mars': 1381, 'only': 1684, 'wan': 2296, 'thankyou': 2162, 'bahas': 259, 'penampakan': 1756, 'muka': 1523, 'faiz': 747, 'david': 604, 'aaaaaa': 76, 'finallyyyy': 765, 'woii': 2339, 'isinya': 1026, 'begituan': 328, 'ngasih': 1580, '100000000000000ã': 10, 'tayang': 2104, 'terangkum': 2120, 'inget': 1014, 'bersyukur': 377, 'ngalamin': 1579, 'bebagai': 320, 'jatuh': 1049, 'bangun': 298, 'berthan': 382, 'titik': 2190, '28': 35, 'jadul': 1036, 'bgtt': 403, 'allah': 138, 'ri020': 1893, 'epiccc': 728, 'greatt': 893, 'presentttt': 1829, 'unexpect': 2261, 'paraaahhhh': 1719, 'keingettt': 1135, 'jaman': 1040, 'awal2': 233, 'yutub': 2402, 'nontonya': 1634, 'malming': 1358, 'bengong': 341, 'habiss': 910, 'trndingkannnnn': 2228, 'bangettttttttt': 289, 'perasaannya': 1775, 'ahhhhhhhhh': 120, 'yaa': 2366, 'persembahan': 1789, 'skinyindonesia24': 2030, 'woiiiiii': 2342, 'insane': 1020, 'do': 673, 'pastinya': 1739, 'membekas': 1420, 'opportunity': 1686, 'got': 890, 'something': 2045, 'wonderful': 2345, 'anj': 165, 'menyatukan': 1458, 'perbedaan': 1777, 'frame': 777, 'bangkit': 294, 'sehat': 1956, 'standing': 2062, 'ovationnnnnn': 1696, 'gilaaaaakkk': 839, 'kagum': 1092, 'laahh': 1251, 'muhhh': 1521, 'sekaliiiiiii': 1959, 'mrembes': 1510, 'tuk': 2236, 'ka': 1081, 'jo': 1064, 'kangen': 1103, 'kuasai': 1235, 'apapun': 189, 'tetep': 2158, 'tunggu2': 2239, 'terepic': 2130, 'tonton': 2197, 'terkerennnn': 2146, 'may': 1404, 'see': 1951, 'bahagia': 258, 'kacauuuuu': 1084, 'setahun': 1986, 'kaya': 1115, 'gini': 853, 'menyaingi': 1454, 'vibe': 2274, '2015': 23, 'an': 156, 'selesai': 1963, 'pokoknyaa': 1819, 'kakak': 1095, 'lihatnya': 1297, 'compare': 544, 'ye': 2375, 'wait': 2290, 'thought': 2177, 'sorry': 2049, 'wkwkw': 2331, 'goooooooo': 887, 'cryyyy': 574, 'prouuddd': 1837, 'nangisssssss': 1554, 'sebagus': 1941, 'ituuuuu': 1031, 'asdfghjkl': 209, 'dukung': 692, 'tobe': 2193, 'lokall': 1314, 'feelnya': 755, 'cen': 494, 'jancuk': 1044, 'kebanyakan': 1122, 'artis': 205, 'bukam': 470, 'yutuber': 2403, 'closing': 526, 'applause': 192, 'skinnyindonesia': 2025, 'pergi': 1781, 'gaaaaaaaaaaaaaaaaaaaaaaaaaak': 788, 'obaaaaaaaaaat': 1662, 'kereeeeeeen': 1162, 'bettttt': 394, '4brothers': 58, 'bintang': 418, 'emon': 712, 'ngefreeze': 1588, 'late': 1261, 'yoooww': 2385, 'pecahhhh': 1747, 'pecahhh': 1746, 'bye': 482, 'gokiiillll': 864, 'kereen': 1171, 'paraaahh': 1717, 'kepaksa': 1151, 'nilai': 1616, 'jancok': 1043, 'cepet': 496, 'kayaknya': 1117, 'he': 945, 'wuyy': 2363, 'siihh': 2007, 'over': 1697, 'power': 1825, 'tpi': 2203, 'gilaaaaaaaaaaa': 838, 'sumpahhhh': 2084, 'kampung': 1102, 'bangetl': 280, 'los': 1318, 'dol': 675, 'jaga': 1037, 'kesehatan': 1193, 'memasukan': 1415, 'dynamite': 696, 'bts': 461, 'coookk': 551, 'banar': 263, 'huaaa': 976, 'perasan': 1776, 'jdi': 1053, 'emosi': 713, 'samuanya': 1917, 'kerennnmm': 1182, 'wish': 2324, 'could': 556, 'them': 2166, 'future': 785, 'njirr': 1621, '54': 65, 'asffjglglfjsjskajlakhfgak': 210, 'badan': 253, 'pisaaannn': 1806, 'hardwork': 937, 'goks': 873, 'bangeeettttttt': 273, 'kereeeennn': 1166, 'congrats': 546, 'narkoboy': 1558, 'tanda': 2098, 'gitu': 854, 'classsss': 525, 'bosen': 446, 'diulang2': 665, 'bener2': 336, 'semenjak': 1966, 'covid19': 560, 'himbauan': 965, 'dirumah': 651, 'menghabiskan': 1440, 'benar2': 333, 'mengintrepretasikan': 1444, 'moment2': 1501, 'ni': 1607, 'budget': 465, 'produksi': 1831, 'gede': 816, '42': 49, 'sakin': 1906, 'masterpeace': 1390, 'spam': 2051, 'bangeeeeettt': 269, 'scenes': 1937, 'bombay': 441, 'covad': 557, 'smpe': 2037, 'gada': 792, 'harapan': 935, 'krna': 1230, 'lewatin': 1284, 'bntu': 434, 'njir': 1620, 'sediihh': 1948, 'gilaaaaaaaaa': 837, 'cukkk': 577, 'gillaaaa': 848, 'bangeettt': 276, 'abangggggg': 87, 'anjeng': 170, 'pecaaahhhhh': 1743, 'pecaaaahhh': 1742, '45': 54, 're': 1866, 'lying': 1332, 'about': 99, 'retired': 1882, 'heart': 950, 'bangetttr': 284, 'merindingggg': 1474, 'most': 1507, 'beautifull': 319, 'years': 2377, 'ah': 115, 'berkaryaa': 359, 'kreatorr': 1227, 'terhibur': 2136, 'konten2mu': 1222, 'bagetttt': 254, 'negara': 1565, 'abisss': 93, 'abiss': 92, 'kereennn': 1173, 'btr': 460, 'udin': 2250, 'sedunia': 1950, 'tributenya': 2227, 'hahahaha': 915, 'woahh': 2336, 'woah': 2335, 'litt': 1309, 'black': 423, 'pink': 1804, 'kepergian': 1152, 'skiny': 2029, 'nyentuh': 1658, 'skinny24': 2024, 'lemon': 1276, 'tree': 2211, 'gustixa': 902, 'youtober': 2389, 'give': 855, 'away': 234, 'goksss': 875, 'makasi': 1348, 'tbtb': 2106, 'men': 1426, 'ohh': 1672, 'deng': 616, 'yuu': 2404, 'bisaaaaaa': 419, 'mostly': 1508, 'qg': 1847, 'among': 153, 'brainstorming': 448, 'idea': 986, 'was': 2299, 'pagi': 1701, 'relate': 1876, 'sm': 2034, 'crying': 572, 'alhmdllh': 134, 'beradik': 342, 'podcst': 1815, 'msuk': 1513, 'uhuyy': 2252, 'kereeennnnn': 1170, 'iklannya': 997, 'biar': 410, 'lageeeeeeee': 1252, 'tatapan': 2101, 'membara': 1419, 'by': 481, 'berjuta': 356, 'denger': 617, 'creators': 565, 'openingnya': 1685, 'mv': 1535, 'taylor': 2105, 'swift': 2092, 'lover': 1325, 'huhuhu': 978, 'uuuuu': 2268, 'xd': 2364, 'sangattt': 1920, 'three': 2178, 'word': 2347, 'gorgeous': 889, 'beautiful': 318, 'another': 180, 'level': 1283, 'sesuai': 1984, 'ekspetasi': 708, 'melebihi': 1411, 'back': 248, 'anjaaay': 166, 'gaa': 787, 'comment': 543, 'berkali': 357, '52': 60, 'bangeeeeeeeeeeeet': 267, 'parahã': 1732, 'senenggggg': 1975, 'sedihhhh': 1946, 'weyyyy': 2313, 'buseh': 477, 'apaansihhhh': 188, 'ko': 1213, 'oura': 1693, 'marsha': 1382, 'mercy': 1462, 'yurino': 2401, 'yukk': 2400, 'nongol': 1629, 'erokontolim': 736, 'nanya': 1556, 'dont': 680, 'have': 942, 'some': 2043, 'people': 1772, 'dislikes': 655, 'too': 2199, 'fine': 766, 'masterpieces': 1393, 'lovefrommalaysia': 1324, 'kereennnnn': 1175, 'dat': 602, 'thoo': 2175, 'niceeeeeeee': 1610, 'aaaaaaaa': 78, 'yo': 2382, 'lets': 1281, 'mancaaaaa': 1364, 'mnaaaaa': 1491, 'bole': 440, 'nyindir': 1660, 'waah': 2286, 'happen': 931, 'editannya': 702, 'alurnya': 143, 'epick': 729, 'wap': 2297, 'reference': 1872, 'mntpp': 1493, 'majuuu': 1346, 'teruss': 2157, 'kaga': 1088, 'menemani': 1436, 'terlupakan': 2150, 'kaliaan': 1100, 'nangisss': 1552, 'nihhh': 1613, 'sediiiih': 1949, 'grow': 896, 'up': 2264, 'watching': 2301, 'cheering': 514, 'through': 2179, 'past': 1738, 'few': 758, 'meet': 1410, 'again': 112, 'hebaat': 952, 'yessss': 2378, 'bnggtttttt': 429, 'fixx': 771, 'nnt': 1623, 'bkl': 422, 'tahunan': 2095, 'jugaa': 1075, 'cinta': 521, 'jendela': 1056, '57': 71, 'memories': 1423, 'bring': 453, 'aslina': 218, 'gaes': 793, 'tr3ndingkan': 2207, 'bagusan': 256, 'erickolim': 733, 'pollll': 1821, 'working': 2350, 'almost': 139, 'made': 1335, 'tear': 2110, 'diawal': 630, 'cewe': 501, 'need': 1564, 'mashup': 1387, 'music': 1525, 'available': 231, 'spotify': 2059, 'mantebbbb': 1374, 'wuiihh': 2362, 'cakeeeppp': 484, 'laah': 1250, 'sory': 2050, 'lucu': 1326, 'daebakk': 588, 'kreatif': 1224, 'kannnnnnnn': 1104, 'gesss': 825, 'gassss': 813, 'trossss': 2229, 'apasih': 190, 'nessi': 1568, 'judge': 1074, 'proudofyou': 1836, 'ajiibbb': 129, 'lo': 1312, 'ngerasa': 1594, 'bersalah': 374, 'tontonan': 2198, 'dih': 635, 'td': 2107, 'un1ty': 2260, 'shok': 1995, 'loh': 1313, 'udh': 2249, 'mogatrending1': 1497, 'dita': 660, 'karang': 1105, 'banggggggggggg': 293, 'kecee': 1127, 'badai': 252, 'makasii': 1350, 'cokk': 536, 'msh': 1512, 'buzzerp': 480, 'ldp': 1267, 'candra': 490, 'ngedirect': 1585, 'masya': 1396, 'tenaga': 2117, 'medis': 1408, 'satuindonesia': 1925, 'pliss': 1813, 'keanuuuu': 1120, 'satisfied': 1924, 'peettjjaaahhhhh': 1749, 'paarraahhhhh': 1700, 'gilaaaaaaaa': 836, 'oiiii': 1673, 'ngericcc': 1596, 'eit': 707, 'kepo': 1153, 'psti': 1838, 'psukan': 1839, 'nggak': 1601, 'pakmuh': 1705, 'lindungi': 1304, 'matikan': 1402, 'husnul': 981, 'hotimah': 972, 'rabb': 1852, 'goosebumps': 888, 'gangerti': 801, 'jobs': 1067, 'nangiissss': 1548, 'holy': 968, 'shit': 1994, 'dimana2': 643, 'wkkwkwkwkkwkw': 2328, 'berkelas': 361, 'director': 650, 'berkualitas': 366, 'colaboration': 539, 'preciate': 1827, 'lot': 1321, '26': 33, 'zulumat': 2406, 'somebody': 2044, 'rada': 1853, 'welll': 2311, 'pensiun': 1766, 'menjelang': 1451, 'pensi': 1765, 'ato': 224, 'ngebuat': 1583, 'fun': 783, 'gema': 820, 'main': 1342, 'game': 798, 'batas': 308, 'berkembang': 363, 'bangpen': 295, 'penerus': 1759, 'soo': 2047, 'netizen': 1570, 'kwkwkwk': 1249, 'watch': 2300, 'very': 2273, 'berulang': 383, 'ulang': 2257, 'gilaaaaa': 833, 'perytan': 1791, 'indonesiaaa': 1009, 'bangetsssss': 281, 'keberkahan': 1126, 'akhirat': 131, 'rezeki': 1891, 'halalan': 920, 'toyiban': 2201, 'aaminn': 86, 'yaallah': 2370, 'mashoooook': 1386, 'daftar': 589, 'list': 1306, 'manusia': 1377, 'gabut': 791, 'dibayar': 631, 'justin': 1079, 'bieber': 411, 'ft': 781, 'chance': 503, 'rapper': 1861, 'perfectly': 1779, 'done': 678, 'pre': 1826, 'post': 1823, 'maksain': 1354, 'berusaha': 384, 'input': 1019, 'type': 2242, 'diversity': 667, 'mustahil': 1531, 'there': 2167, 'paraah': 1720, 'uyyyyy': 2271, 'mendedikasikan': 1435, 'luv': 1331, 'paraaaahhh': 1716, 'cuyyyyy': 582, 'huaaaa': 977, 'kerennnnnnn': 1185, 'bgtttttttttttt': 409, '30': 38, 'madura': 1337, 'agnostik': 113, 'before': 326, 'credits': 566, 'gile': 846, 'broo': 456, 'kereenn': 1172, 'weee': 2306, 'iciss': 984, '35': 43, 'huhuu': 979, 'diputar': 648, 'garapan': 808, 'chanliaw': 509, 'high': 960, 'class': 524, 'am': 146, 'budiiiiiii': 468, 'kebaca': 1121, 'rame': 1859, 'tp': 2202, 'wawww': 2303, 'klu': 1210, 'berkonsep': 364, 'tersusun': 2155, 'pokokny': 1817, 'konseppnyaaaaa': 1219, 'obattt': 1664, 'woyyyy': 2358, 'kelasssss': 1143, 'abisssssss': 96, 'budi': 466, 'iklan': 996, 'nyaa': 1647, 'gangguuuu': 802, 'cakep': 485, 'artis2': 206, 'kuranf': 1244, 'teguh': 2112, 'suwandi': 2090, 'piraz': 1805, 'detik': 622, 'fr': 776, 'ahhh': 117, 'penonton': 1764, 'raya': 1865, 'dimainkan': 641, 'gilasi': 845, 'kudu': 1240, 'inimah': 1018, 'paraahhh': 1722, 'mo': 1494, 'nagis': 1540, 'stay': 2064, 'healthy': 948, 'waiting': 2292, 'nnggss': 1622, 'kren': 1228, 'sob': 2040, 'yokkkk': 2384, 'paan': 1699, 'mba': 1405, 'sumpaj': 2085, 'if': 990, 'bad': 251, 'stupid': 2066, 'nice': 1608, 'keep': 1130, 'going': 863, 'merindiiinggg': 1468, 'bangettttt': 286, '09': 5, 'creamypandaxx': 561, 'besttttt': 390, 'keereenn': 1131, 'international': 1022, 'lawan': 1264, 'greattt': 894, 'jobbbb': 1066, 'kereennnn': 1174, 'ytrewind': 2398, 'sampah': 1915, 'ngeriiiii': 1597, 'apresiasi': 194, 'pibadi': 1802, 'farewell': 752, 'menyala': 1455, 'beuutt': 397, 'buaatt': 463, 'semuaaa': 1968, 'minusnyaa': 1484, 'layar': 1266, 'guaa': 898, 'nontonn': 1631, 'hi': 959, 'production': 1830, 'epicc': 727, 'cuco': 575, 'membanggakan': 1417, 'membaik': 1416, 'life': 1292, 'long': 1315, 'king': 1205, 'liaw': 1291, 'ketiwi': 1198, 'paman': 1707, 'keinget': 1134, 'dijajah': 636, 'boys': 447, 'menyalaaa': 1456, 'banarrr': 264, 'berkontribusi': 365, 'liked': 1300, 'aowkowk': 184, '100000000': 9, 'kereeeeeeeeeennnn': 1161, '3m0t': 47, 'capslock': 492, 'bacaa': 247, 'haruss': 939, 'trandingg': 2209, 'number': 1641, 'mahh': 1340, 'bangeett': 275, 'weii': 2308, 'edaaaaan': 699, 'thx': 2180, 'skinnyindonesian': 2027, 'yhe': 2381, 'legend': 1271, 'myth': 1538, 'coolest': 550, 'creative': 562, 'alus': 144, 'sukaaa': 2072, 'legit': 1273, 'raffi': 1855, 'ahmad': 121, 'baim': 261, 'engga': 724, 'yaaaaa': 2368, 'terkecil': 2142, 'terlewatkan': 2148, 'aada': 84, 'paraaaaaaahhh': 1715, 'baguss': 257, 'guyss': 904, 'nyangka': 1654, 'secepet': 1944, 'arghhh': 199, 'nay': 1562, 'jangan2': 1045, 'uy': 2270, 'berenti': 348, 'petjaaahhh': 1798, 'idk': 987, 'welcome': 2309, '46': 55, 'niki': 1615, 'lose': 1319, '56': 70, 'jawsh': 1050, '685': 72, 'jason': 1048, 'derulo': 620, 'laxed': 1265, 'siren': 2018, 'beat': 317, 'wih': 2321, 'ig': 991, 'fitra': 769, 'eri': 730, 'om': 1676, 'mobi': 1495, 'ridwan': 1898, 'hanif': 927, 'rahmadi': 1856, 'arief': 200, 'hayo': 943, 'jimny': 1060, 'challenge': 502, 'papa': 1713, 'chkky': 518, 'blokk': 426, 'mangap': 1366, 'terhura': 2137, 'wahh': 2288, 'as': 208, 'door': 681, 'begin': 327, 'ended': 720, 'whole': 2318, 'different': 634, 'artwork': 207, 'remembered': 1878, 'gmn': 858, 'feel': 754, 'movie': 1509, 'cinema': 520, 'sangarrrr': 1918, 'sadar': 1904, 'dosan': 683, 'han': 922, 'wkwkkwk': 2330, 'moment': 1500, 'terbaek': 2121, 'dabest': 586, 'erikolim': 735, 'alafyu': 132, 'somat': 2042, 'garaga': 807, 'dimana': 642, 'ahhhhh': 119, 'muda': 1516, 'tua': 2233, 'karier': 1106, 'rewind2': 1886, 'sblmnya': 1934, 'ikutin': 999, 'jenuh': 1057, 'mengobati': 1445, 'huwaaaaa': 983, 'semuanyaaaaa': 1970, 'sewa': 1988, 'stadion': 2060, 'haha': 913, 'aaaa': 74, 'keceee': 1128, 'penspinning': 1767, 'ready': 1868, 'oke': 1674, 'sip': 2017, 'sumfaaaaah': 2076, 'bermakna': 368, 'red': 1871, 'doors': 682, 'kolab': 1214, 'diyaaa': 670, 'sh': 1989, 'tttt': 2231, 'borr': 444, 'pantau': 1711, 'buka': 469, 'masker': 1388, 'konspirasi': 1220, 'sumpaaaaa': 2079, 'merindiiiing': 1467, 'pol': 1820, 'cak': 483, 'nan': 1546, 'keran': 1155, 'woilah': 2344, 'hrus': 974, 'petjaahhh': 1799, 'skill': 2022, 'jokowi': 1070, 'ajak': 126, 'peran': 1773, 'permainan': 1783, 'fitnah': 768, 'online': 1683, 'lagunya': 1255, 'emng': 711, 'mixing': 1490, 'jago': 1038, 'smua': 2038, 'dalamnya': 592, 'bener2x': 337, 'mw': 1536, 'kenang': 1150, 'aminnn': 151, 'indosiar': 1012, 'butuh': 479, 'editor': 704, 'bergabung': 349, 'depanya': 619, 'cokkkkkk': 538, 'flashback': 773, 'kernnnnnnn': 1190, 'indonesiaku': 1010, 'bersaing': 373, 'chanel': 508, 'diluar': 640, 'aaaaa': 75, 'ulang2': 2258, 'nanggis': 1547, 'aq': 195, 'endingx': 723, 'terdebeeeeessss': 2129, 'semuax': 1971, 'pesan': 1792, 'kehidupanx': 1133, 'ngebaperin': 1582, 'sumpa': 2077, 'nyalakan': 1650, 'alay': 133, 'diundanggg': 666, 'gegehhhhhhhhhhhhhhh': 818, 'gilakkkkkkk': 843, 'whatss': 2315, '33': 41, 'gaskuen': 812, 'baaaangeeeeeettttt': 244, 'iniii': 1016, 'leoooooo': 1279, 'kasian': 1111, 'luthfi': 1330, 'anjayani': 168, 'diajak': 625, 'susah': 2089, 'ngejelasinnya': 1589, '07': 4, 'milos': 1480, 'terbayang': 2125, 'bayang': 314, 'pecahh': 1745, 'terbagus': 2122, 'terniat': 2152, 'dabes': 585, 'menakjubkan': 1427, 'hebatttt': 954, 'mabar': 1334, 'gilssssss': 849, 'berwarna': 385, 'bund': 475, 'heran': 956, 'ajah': 125, 'ngeunlike': 1599, 'obatttttt': 1665, 'parahhhhhh': 1730, 'bersatu': 375, 'sponsor': 2057, 'nyata': 1656, 'wkkwkwkw': 2326, 'absurdd': 101, 'berjuang': 354, 'ngerasain': 1595, 'stand': 2061, 'tall': 2097, 'goodluck': 884, 'hapus': 934, 'malumaluin': 1359, 'handle': 925, '22': 30, 'viewers': 2280, '522k': 62, '558k': 69, 'ngaco': 1575, 'kuranggg': 1245, 'lamaaaaaaaa': 1257, 'paraahhhh': 1723, 'siiiiiii': 2009, 'iniiiiiiii': 1017, 'gilaaaaaaa': 835, 'merindiiingggg': 1469, 'woyybaru': 2356, 'seimbang': 1958, 'musiknya': 1527, 'berhenti2nya': 352, 'tercipta': 2128, 'persatuan': 1788, 'kesatuan': 1192, 'sihhhh': 2004, 'mahal': 1339, 'terharuuuu': 2135, 'ih': 993, 'tolong': 2195, 'trendinggggg': 2217, 'trendingkannnn': 2222, 'gemeter': 821, 'takjub': 2096, 'ditengah': 662, 'pandemi': 1710, 'bat': 307, 'wkkwkwkwk': 2327, 'kagen': 1090, 'kevin': 1201, 'edhozell': 701, 'hahhhhhh': 917, 'wkwkwkwkwkwkw': 2334, 'astagaaa': 221, 'since': 2011, 'respect': 1880, 'participate': 1736, 'specially': 2053, 'jovial': 1072, 'da': 583, 'lopez': 1316, 'mambamentality': 1360, 'wahhh': 2289, 'igoy': 992, 'nunjukin': 1644, 'tunggu': 2238, 'berkumpul': 367, 'esok': 739, 'dilike': 639, 'fillo': 760, 'vs': 2285, 'ewing': 743, 'hd': 944, 'genre': 824, 'bendera': 334, 'merah': 1461, 'putih': 1846, '2014': 22, 'kereeeeeeeeeeeeeeeeeeeeeeeeeeeeeen': 1160, 'paraaaaaaaaaaaah': 1714, 'erpan1140': 738, 'menurutku': 1453, 'emosional': 715, 'inii': 1015, 'ngadain': 1577, 'masukin': 1395, 'animator2': 164, 'banggain': 292, 'handal': 924, 'orang2': 1688, '31': 39, 'apaaaan': 186, 'kekey': 1138, 'aot': 183, 'final': 763, 'season': 1940, 'haji': 918, 'ilham': 1000, 'woowww': 2346, 'gys': 909, 'kereeeeeennn': 1164, 'kah': 1093, 'transisi': 2210, 'nyo': 1661, 'smooth': 2036, 'https': 975, 'youtu': 2390, 'cos2p7s50kg': 555, 'gemoy': 822, 'heads': 946, 'ramal': 1858, 'ntar': 1640, 'boom': 443, 'kuntull': 1243, 'sayag': 1930, 'hanjipyeong': 929, 'nam': 1543, 'berpatisipasi': 371, 'ri': 1892, 'bawangnya': 313, 'huhuuu': 980, 'mantpap': 1376, 'trendingin': 2220, 'bobon': 436, 'ihh': 994, 'qory': 1848, 'brando': 450, 'debat': 606, 'ditunggu': 664, 'speechlees': 2054, 'honestly': 970, 'fantastic': 750, 'mari': 1380, 'kepuncak': 1154, 'tertinggi': 2156, 'definisi': 611, 'nihh': 1612, 'bimopd': 416, 'adaaa': 107, 'familiar': 748, 'ur': 2265, 'little': 1310, 'doll': 676, 'tiada': 2181, 'meninggal': 1447, 'buanget': 464, 'paraahh': 1721, 'konsepny': 1218, 'aweeesomeee': 235, 'ded': 608, 'filmm': 762, 'klimaks': 1208, 'becanda': 321, 'refrensi': 1873, 'darimana': 600, 'pisannn': 1807, 'aye': 239, 'lanjutkan': 1259, 'bawa': 311, 'jaman2': 1041, 'palng': 1706, 'tq': 2204, 'liaow': 1287, 'losing': 1320, '34': 42, 'scane': 1935, 'muhamad': 1518, 'yuuuk': 2405, 'satir': 1923, 'action': 104, 'kenal': 1149, 'puter': 1845, 'pengalaman': 1760, 'crew': 567, 'work': 2348, 'behind': 330, 'masterpieceeeeeeeee': 1392, 'rise': 1899, 'shine': 1993, 'mashaallah': 1385, 'asliiiii': 216, 'erick': 731, 'rumahhh': 1902, 'sapa': 1921, 'naroh': 1559, 'disni': 656, 'af': 111, 'channel': 511, 'hobby': 967, 'makan': 1347, 'woeee': 2337, 'syuting': 2093, 'petcjahhhhhh': 1796, 'bangeddd': 266, 'mantaap': 1367, 'dedy': 610, 'corbuzier': 553, 'ketua': 1199, 'podcast': 1814, 'please': 1812, 'gye': 908, 'lg': 1285, 'aaaaaaahhhhh': 81, 'udaaaa': 2246, 'kaliaaaann': 1099, 'seeemuaaaaaaa': 1952, 'kerreeennnn': 1191, 'paaarrraaaahhhh': 1698, 'suasana': 2068, 'chaos': 512, 'sumpaaaahhh': 2080, 'benerrr2': 340, 'aaaahhhh': 82, 'lagiiii': 1253, 'apaaaaaaaa': 185, 'baik2': 260, 'kaliaaaaannnn': 1098, 'momen': 1499, 'strong': 2065, 'ditangkap': 661, 'aulllllll': 227, 'singkat': 2014, 'dilaluin': 637, 'pokok': 1816, 'kayak': 1116, 'film': 761, 'yh': 2380, 'menghanyutkan': 1441, 'batt': 309, 'daebaaaak': 587, 'obeng': 1666, 'kuatkan': 1237, 'erico': 734, 'kubu': 1238, 'kubuan': 1239, 'ratu': 1864, 'sungguh': 2086, 'rewindnya': 1889, 'tiktok': 2184, 'ourself': 1695, 'niii': 1614, 'apreciate': 193, 'garasi': 809, 'drift': 689, 'otomotif': 1692, 'dimenit': 645, 'keberapa': 1125, 'besttt': 389, 'campurr': 488, 'peluk': 1753, 'letsgoooooo': 1282, 'wajah': 2293, 'frislly': 779, 'kbp': 1119, 'beeeeest': 325, 'omgg': 1678, 'wowwww': 2353, 'ketulungan': 1200, 'hits': 966, 'ngl': 1604, 'join': 1069, 'bimo': 415, 'qorygore': 1849, 'sibuk': 1998, 'sog': 2041, 'parahhhhhhh': 1731, 'here': 957, 'laugh': 1263, 'teary': 2111, 'eyes': 744, 'cooooooook': 552, 'oriiiiiii': 1689, 'nahaaa': 1541, 'mewekkk': 1475, 'pamit': 1708, 'moral': 1504, 'nyampe': 1652, 'disponsorin': 657, 'bank': 300, 'mencari': 1432, 'beneran': 338, 'blackpink': 425, 'beuh': 395, 'keyeen': 1202, 'enak': 718, 'mix': 1489, 'tumpuk': 2237, 'mantapppppp': 1372, 'performance': 1780, 'minutes': 1485, 'anjr': 178, 'gokzzzz': 879, 'kacauuu': 1083, 'seger': 1954, 'lightningnyaa': 1294, 'set': 1985, 'lightningnya': 1293, 'liiiitttt': 1298, 'musik': 1526, 'pendek': 1758, 'greget': 895, 'trendinggggkan': 2218, 'share': 1991, 'anjing': 175, 'suaranya': 2067, 'awkarin': 237, '43': 51, 'pembelajaran': 1754, 'reupload': 1883, 'gokkkssss': 872, 'with': 2325, 'jaya': 1051, 'plagiat': 1809, 'cod': 532, 'cold': 540, 'war': 2298, 'anjgggg': 173, 'abiiiiieeeesdss': 89, 'lekas': 1274, 'scoringnya': 1938, 'juara': 1073, 'ulaangg': 2256, 'co': 528, 'membenci': 1421, 'trendinggkan': 2219, 'slalu': 2032, 'dam': 593, 'rekan': 1875, 'aminn': 150, 'literally': 1308, 'saves': 1928, 'worst': 2351, 'wagelasehhh': 2287, 'ahhhh': 118, 'diplay': 647, 'nyebutin': 1657, 'nama': 1544, 'persatu': 1787, 'taun': 2103, 'bersejarah': 376, 'kerasnya': 1158, 'kehidupan': 1132, 'baimwong': 262, 'keluarganya': 1145, 'alr': 140, 'gilakkk': 842, 'benerbener': 339, 'sangatsangat': 1919, 'menakjubkannn': 1428, 'berterimakasih': 381, 'berperan': 372, 'hadapi': 911, 'apaansi': 187, 'nakama': 1542, 'better': 393, 'kelewatan': 1144, 'kerennyaa': 1188, 'idolakuuuuuuuuuuuuu': 989, 'briptu': 454, 'norman': 1635, 'bertanya2': 379, 'brimob': 452, 'manca': 1363, 'ngedit': 1587, 'kerem': 1176, 'boiiiii': 439, 'now': 1638, 'awaited': 232, 'has': 940, 'arrived': 203, 'woiiiiiiiiii': 2343, 'campur2': 487, 'terberat': 2126, 'menguatkan': 1446, 'saru': 1922, 'membantu': 1418, 'dammm': 595, 'abissssss': 95, 'such': 2069, 'memory': 1424, 'batttt': 310, 'ngecewain': 1584, 'gokiiillllllllll': 865, 'bggtt': 399, 'huuuuaaaa': 982, '²an': 2407, 'lur': 1329, 'pusingggg': 1844, 'nyaaaa': 1649, 'next': 1573, 'menemaniku': 1437, 'manaaaaa': 1362, 'hiksrot': 962, 'youu': 2394, 'jiwaa': 1063, 'menonton': 1452, 'menaruh': 1431, 'kejadian': 1136, 'save2020': 1927, 'medley': 1409, 'petjaaahh': 1797, '29': 36, 'idola': 988, 'aspek': 220, 'props': 1832, 've': 2272, 'worked': 2349, 'gilaakk': 840, 'cringeeeeeeeee': 570, 'buna': 474, 'hijab': 961, 'bgst': 401, 'karyanya': 1110, 'petcahhh': 1795, 'mengang': 1438, 'jaminan': 1042, 'mutu': 1533, 'cucu': 576, 'waitin': 2291, 'diakhir': 626, 'keselamatan': 1195, 'pertiwi': 1790, 'uji': 2254, 'anggara': 162, 'perna': 1785, 'asfvcrsse': 211, 'anjim': 174, 'nitip': 1619, '1jt': 20, 'matippsss': 1403, 'superb': 2087, 'dimatiin': 644, 'mikrofonnya': 1479, 'yak': 2373, 'adegan': 108, 'goookil': 886, '2x': 37, 'menitihkan': 1450, 'aslliiii': 219, 'sintingggg': 2016, 'sintinggg': 2015, 'creatornya': 564, 'mntp': 1492, 'moodbosterku': 1503, 'jipyeong': 1061, 'hansol': 930, 'berkelasss': 362, 'bggttt': 400, 'saikkkkkk': 1905, 'keceeee': 1129, 'meresahkan': 1464, 'merewindkan': 1465, 'can': 489, 'anything': 182, 'gakeliatan': 797, 'aisyah': 123, 'istri': 1027, 'rasululloh': 1862, 'salah': 1908, 'fenomena': 757, 'cover': 558, 'gimn': 852, 'ceritanya': 500, '522': 61, 'ngelike': 1592, '557': 68, 'kerasnyaaaa': 1159, 'inspiration': 1021, 'rev': 1884, 'gokxx': 877, 'terkenal2': 2144, 'gilek': 847, 'mantappppp': 1371, 'smile': 2035, 'same': 1914, 'memaaaaaang': 1412, 'nusuukk': 1645, 'nunggu': 1643, 'direct': 649, 'dkk': 671, 'shame': 1990, 'ours': 1694, 'hahahahahahha': 916, 'demituhan': 615, 'lucuuu': 1327, 'hope': 971, 'becomes': 323, 'trials': 2226, 'aaaaaaaaa': 79, 'though': 2176, 'mohon': 1498, 'memakai': 1414, 'speaker': 2052, 'headset': 947, 'cringe': 569, 'leo': 1278, 'pars': 1734, '21': 29, 'gaolllll': 804, 'dapid': 599, 'panca': 1709, 'sumpaa': 2078, 'ud': 2244, '530': 64, 'ribu': 1897, 'gaske': 811, 'slur': 2033, 'chikakiku': 517, 'woyyyyyyy': 2360, 'guaaaa': 900, 'jg': 1059, 'ocbc': 1667, 'nisp': 1618, 'uda': 2245, 'sponsorin': 2058, 'jd': 1052, 'bs': 459, 'bkin': 421, 'choky': 519, 'blokkk': 427, 'dewa': 623, 'dsni': 690, 'guaaa': 899, 'puas': 1840, 'muantapppppppp': 1514, 'pelajarannya': 1752, 'demiapaziiii': 614, 'malem': 1357, 'seepic': 1953, 'wth': 2361, 'permanent': 1784, 'dibikin': 632, 'nostalgia': 1636, 'dilewatin': 638, 'titip': 2191, 'sendal': 1973, 'sblm': 1933, 'awokwkwkw': 238}\n"
     ]
    }
   ],
   "source": [
    "print(vect.vocabulary_)"
   ]
  },
  {
   "cell_type": "markdown",
   "metadata": {},
   "source": [
    "## Logistic Regression"
   ]
  },
  {
   "cell_type": "code",
   "execution_count": 30,
   "metadata": {},
   "outputs": [
    {
     "data": {
      "text/plain": [
       "LogisticRegression()"
      ]
     },
     "execution_count": 30,
     "metadata": {},
     "output_type": "execute_result"
    }
   ],
   "source": [
    "from sklearn.linear_model import LogisticRegression\n",
    "lr = LogisticRegression()\n",
    "lr.fit(tf_train,y_train)"
   ]
  },
  {
   "cell_type": "markdown",
   "metadata": {},
   "source": [
    "### Akurasi dari Dataset Training"
   ]
  },
  {
   "cell_type": "code",
   "execution_count": 31,
   "metadata": {},
   "outputs": [
    {
     "data": {
      "text/plain": [
       "0.9773333333333334"
      ]
     },
     "execution_count": 31,
     "metadata": {},
     "output_type": "execute_result"
    }
   ],
   "source": [
    "lr.score(tf_train,y_train)"
   ]
  },
  {
   "cell_type": "markdown",
   "metadata": {},
   "source": [
    "### Akurasi dari Dataset Test"
   ]
  },
  {
   "cell_type": "code",
   "execution_count": 32,
   "metadata": {},
   "outputs": [
    {
     "data": {
      "text/plain": [
       "0.896"
      ]
     },
     "execution_count": 32,
     "metadata": {},
     "output_type": "execute_result"
    }
   ],
   "source": [
    "lr.score(tf_test,y_test)"
   ]
  },
  {
   "cell_type": "markdown",
   "metadata": {},
   "source": [
    "### Membuat prediksi dari test dataset"
   ]
  },
  {
   "cell_type": "code",
   "execution_count": 33,
   "metadata": {},
   "outputs": [],
   "source": [
    "expected = y_test\n",
    "predicted = lr.predict(tf_test)"
   ]
  },
  {
   "cell_type": "markdown",
   "metadata": {},
   "source": [
    "## Membuat Confussion Matrix"
   ]
  },
  {
   "cell_type": "code",
   "execution_count": 34,
   "metadata": {},
   "outputs": [
    {
     "name": "stdout",
     "output_type": "stream",
     "text": [
      "[[437   3   0]\n",
      " [ 43  11   0]\n",
      " [  4   2   0]]\n"
     ]
    },
    {
     "data": {
      "image/png": "[encoded data removed]",
      "text/plain": [
       "<Figure size 432x288 with 1 Axes>"
      ]
     },
     "metadata": {
      "needs_background": "light"
     },
     "output_type": "display_data"
    }
   ],
   "source": [
    "cf = metrics.confusion_matrix(expected,predicted,labels = [1,0,-1])\n",
    "print(cf)\n",
    "\n",
    "fig, ax = plot_confusion_matrix(conf_mat = cf, class_names = ['Positif','Netral','Negatif'])\n",
    "plt.show()"
   ]
  },
  {
   "cell_type": "markdown",
   "metadata": {},
   "source": [
    "## Membuat Classification Report"
   ]
  },
  {
   "cell_type": "code",
   "execution_count": 35,
   "metadata": {},
   "outputs": [
    {
     "name": "stdout",
     "output_type": "stream",
     "text": [
      "              precision    recall  f1-score   support\n",
      "\n",
      "          -1       0.00      0.00      0.00         6\n",
      "           0       0.69      0.20      0.31        54\n",
      "           1       0.90      0.99      0.95       440\n",
      "\n",
      "    accuracy                           0.90       500\n",
      "   macro avg       0.53      0.40      0.42       500\n",
      "weighted avg       0.87      0.90      0.87       500\n",
      "\n"
     ]
    }
   ],
   "source": [
    "from sklearn import metrics\n",
    "print(metrics.classification_report(expected, predicted))"
   ]
  },
  {
   "cell_type": "markdown",
   "metadata": {},
   "source": [
    "## Membuat F1 score"
   ]
  },
  {
   "cell_type": "code",
   "execution_count": 36,
   "metadata": {},
   "outputs": [
    {
     "data": {
      "text/plain": [
       "0.8663238095238096"
      ]
     },
     "execution_count": 36,
     "metadata": {},
     "output_type": "execute_result"
    }
   ],
   "source": [
    "from sklearn.metrics import f1_score\n",
    "f1_score(expected, predicted, average='weighted')"
   ]
  }
 ],
 "metadata": {
  "kernelspec": {
   "display_name": "Python 3",
   "language": "python",
   "name": "python3"
  },
  "language_info": {
   "codemirror_mode": {
    "name": "ipython",
    "version": 3
   },
   "file_extension": ".py",
   "mimetype": "text/x-python",
   "name": "python",
   "nbconvert_exporter": "python",
   "pygments_lexer": "ipython3",
   "version": "3.7.3"
  }
 },
 "nbformat": 4,
 "nbformat_minor": 2
}
