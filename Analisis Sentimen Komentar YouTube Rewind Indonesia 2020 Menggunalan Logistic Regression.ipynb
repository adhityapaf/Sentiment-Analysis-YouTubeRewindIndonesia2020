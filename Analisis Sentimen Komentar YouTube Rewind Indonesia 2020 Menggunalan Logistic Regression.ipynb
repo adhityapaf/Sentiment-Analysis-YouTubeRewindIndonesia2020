{
 "cells": [
  {
   "cell_type": "markdown",
   "metadata": {},
   "source": [
    "# Analisis Sentimen Komentar YouTube Rewind Indonesia 2020 Menggunakan Logistic Regression"
   ]
  },
  {
   "cell_type": "markdown",
   "metadata": {},
   "source": [
    "### Melakukan Import Library"
   ]
  },
  {
   "cell_type": "code",
   "execution_count": 1,
   "metadata": {},
   "outputs": [],
   "source": [
    "import numpy as np\n",
    "import pandas as pd\n",
    "%matplotlib inline\n",
    "\n",
    "import warnings\n",
    "warnings.filterwarnings(\"ignore\")"
   ]
  },
  {
   "cell_type": "code",
   "execution_count": 2,
   "metadata": {},
   "outputs": [
    {
     "name": "stderr",
     "output_type": "stream",
     "text": [
      "[nltk_data] Downloading package stopwords to C:\\Users\\Adhitya\n",
      "[nltk_data]     K\\AppData\\Roaming\\nltk_data...\n",
      "[nltk_data]   Package stopwords is already up-to-date!\n"
     ]
    }
   ],
   "source": [
    "from sklearn import metrics\n",
    "from mlxtend.plotting import plot_confusion_matrix\n",
    "import matplotlib.pyplot as plt\n",
    "import re  \n",
    "import nltk  \n",
    "nltk.download('stopwords')  \n",
    "from nltk.corpus import stopwords  \n",
    "from nltk import word_tokenize\n",
    "import string"
   ]
  },
  {
   "cell_type": "markdown",
   "metadata": {},
   "source": [
    "### Membaca Dataset"
   ]
  },
  {
   "cell_type": "code",
   "execution_count": 3,
   "metadata": {},
   "outputs": [
    {
     "data": {
      "text/html": [
       "<div>\n",
       "<style scoped>\n",
       "    .dataframe tbody tr th:only-of-type {\n",
       "        vertical-align: middle;\n",
       "    }\n",
       "\n",
       "    .dataframe tbody tr th {\n",
       "        vertical-align: top;\n",
       "    }\n",
       "\n",
       "    .dataframe thead th {\n",
       "        text-align: right;\n",
       "    }\n",
       "</style>\n",
       "<table border=\"1\" class=\"dataframe\">\n",
       "  <thead>\n",
       "    <tr style=\"text-align: right;\">\n",
       "      <th></th>\n",
       "      <th>No</th>\n",
       "      <th>Komentar</th>\n",
       "      <th>P1</th>\n",
       "      <th>P2</th>\n",
       "      <th>P3</th>\n",
       "      <th>Hasil</th>\n",
       "      <th>Unnamed: 6</th>\n",
       "      <th>Unnamed: 7</th>\n",
       "    </tr>\n",
       "  </thead>\n",
       "  <tbody>\n",
       "    <tr>\n",
       "      <th>0</th>\n",
       "      <td>1</td>\n",
       "      <td>trendingg</td>\n",
       "      <td>1</td>\n",
       "      <td>1</td>\n",
       "      <td>1.0</td>\n",
       "      <td>Positif</td>\n",
       "      <td>NaN</td>\n",
       "      <td>NaN</td>\n",
       "    </tr>\n",
       "    <tr>\n",
       "      <th>1</th>\n",
       "      <td>2</td>\n",
       "      <td>Demi apapun ini keren bangetttr</td>\n",
       "      <td>1</td>\n",
       "      <td>1</td>\n",
       "      <td>1.0</td>\n",
       "      <td>Positif</td>\n",
       "      <td>NaN</td>\n",
       "      <td>NaN</td>\n",
       "    </tr>\n",
       "    <tr>\n",
       "      <th>2</th>\n",
       "      <td>3</td>\n",
       "      <td>NGERIIIII</td>\n",
       "      <td>1</td>\n",
       "      <td>1</td>\n",
       "      <td>1.0</td>\n",
       "      <td>Positif</td>\n",
       "      <td>NaN</td>\n",
       "      <td>NaN</td>\n",
       "    </tr>\n",
       "    <tr>\n",
       "      <th>3</th>\n",
       "      <td>4</td>\n",
       "      <td>Kerennnn</td>\n",
       "      <td>1</td>\n",
       "      <td>1</td>\n",
       "      <td>1.0</td>\n",
       "      <td>Positif</td>\n",
       "      <td>NaN</td>\n",
       "      <td>NaN</td>\n",
       "    </tr>\n",
       "    <tr>\n",
       "      <th>4</th>\n",
       "      <td>5</td>\n",
       "      <td>Kalo dia yg mengang kek jaminan mutu gitu dah ...</td>\n",
       "      <td>1</td>\n",
       "      <td>1</td>\n",
       "      <td>1.0</td>\n",
       "      <td>Positif</td>\n",
       "      <td>NaN</td>\n",
       "      <td>NaN</td>\n",
       "    </tr>\n",
       "  </tbody>\n",
       "</table>\n",
       "</div>"
      ],
      "text/plain": [
       "   No                                           Komentar  P1  P2   P3  \\\n",
       "0   1                                          trendingg   1   1  1.0   \n",
       "1   2                    Demi apapun ini keren bangetttr   1   1  1.0   \n",
       "2   3                                          NGERIIIII   1   1  1.0   \n",
       "3   4                                           Kerennnn   1   1  1.0   \n",
       "4   5  Kalo dia yg mengang kek jaminan mutu gitu dah ...   1   1  1.0   \n",
       "\n",
       "     Hasil  Unnamed: 6  Unnamed: 7  \n",
       "0  Positif         NaN         NaN  \n",
       "1  Positif         NaN         NaN  \n",
       "2  Positif         NaN         NaN  \n",
       "3  Positif         NaN         NaN  \n",
       "4  Positif         NaN         NaN  "
      ]
     },
     "execution_count": 3,
     "metadata": {},
     "output_type": "execute_result"
    }
   ],
   "source": [
    "data = pd.read_csv ('Komentar YouTube Dan Label.csv')\n",
    "data.head()"
   ]
  },
  {
   "cell_type": "markdown",
   "metadata": {},
   "source": [
    "Mengubah DataFrame menjadi 2 kolom"
   ]
  },
  {
   "cell_type": "code",
   "execution_count": 4,
   "metadata": {},
   "outputs": [
    {
     "data": {
      "text/html": [
       "<div>\n",
       "<style scoped>\n",
       "    .dataframe tbody tr th:only-of-type {\n",
       "        vertical-align: middle;\n",
       "    }\n",
       "\n",
       "    .dataframe tbody tr th {\n",
       "        vertical-align: top;\n",
       "    }\n",
       "\n",
       "    .dataframe thead th {\n",
       "        text-align: right;\n",
       "    }\n",
       "</style>\n",
       "<table border=\"1\" class=\"dataframe\">\n",
       "  <thead>\n",
       "    <tr style=\"text-align: right;\">\n",
       "      <th></th>\n",
       "      <th>Komentar</th>\n",
       "      <th>Hasil</th>\n",
       "    </tr>\n",
       "  </thead>\n",
       "  <tbody>\n",
       "    <tr>\n",
       "      <th>0</th>\n",
       "      <td>trendingg</td>\n",
       "      <td>Positif</td>\n",
       "    </tr>\n",
       "    <tr>\n",
       "      <th>1</th>\n",
       "      <td>Demi apapun ini keren bangetttr</td>\n",
       "      <td>Positif</td>\n",
       "    </tr>\n",
       "    <tr>\n",
       "      <th>2</th>\n",
       "      <td>NGERIIIII</td>\n",
       "      <td>Positif</td>\n",
       "    </tr>\n",
       "    <tr>\n",
       "      <th>3</th>\n",
       "      <td>Kerennnn</td>\n",
       "      <td>Positif</td>\n",
       "    </tr>\n",
       "    <tr>\n",
       "      <th>4</th>\n",
       "      <td>Kalo dia yg mengang kek jaminan mutu gitu dah ...</td>\n",
       "      <td>Positif</td>\n",
       "    </tr>\n",
       "  </tbody>\n",
       "</table>\n",
       "</div>"
      ],
      "text/plain": [
       "                                            Komentar    Hasil\n",
       "0                                          trendingg  Positif\n",
       "1                    Demi apapun ini keren bangetttr  Positif\n",
       "2                                          NGERIIIII  Positif\n",
       "3                                           Kerennnn  Positif\n",
       "4  Kalo dia yg mengang kek jaminan mutu gitu dah ...  Positif"
      ]
     },
     "execution_count": 4,
     "metadata": {},
     "output_type": "execute_result"
    }
   ],
   "source": [
    "df = data[['Komentar','Hasil']]\n",
    "df.head()"
   ]
  },
  {
   "cell_type": "code",
   "execution_count": 5,
   "metadata": {},
   "outputs": [
    {
     "data": {
      "text/plain": [
       "(2106, 2)"
      ]
     },
     "execution_count": 5,
     "metadata": {},
     "output_type": "execute_result"
    }
   ],
   "source": [
    "df.shape"
   ]
  },
  {
   "cell_type": "markdown",
   "metadata": {},
   "source": [
    "### Menambahkan kolom `sentimen`. Mengubah Komentar menjadi angka pada kolom `sentimen`"
   ]
  },
  {
   "cell_type": "code",
   "execution_count": 6,
   "metadata": {},
   "outputs": [],
   "source": [
    "df['sentimen'] = 0"
   ]
  },
  {
   "cell_type": "code",
   "execution_count": 7,
   "metadata": {},
   "outputs": [],
   "source": [
    "df['sentimen'][df.Hasil == 'Netral'] = 0\n",
    "df['sentimen'][df.Hasil == 'Positif'] = 1\n",
    "df['sentimen'][df.Hasil == 'Negatif'] = -1"
   ]
  },
  {
   "cell_type": "code",
   "execution_count": 8,
   "metadata": {},
   "outputs": [
    {
     "data": {
      "text/html": [
       "<div>\n",
       "<style scoped>\n",
       "    .dataframe tbody tr th:only-of-type {\n",
       "        vertical-align: middle;\n",
       "    }\n",
       "\n",
       "    .dataframe tbody tr th {\n",
       "        vertical-align: top;\n",
       "    }\n",
       "\n",
       "    .dataframe thead th {\n",
       "        text-align: right;\n",
       "    }\n",
       "</style>\n",
       "<table border=\"1\" class=\"dataframe\">\n",
       "  <thead>\n",
       "    <tr style=\"text-align: right;\">\n",
       "      <th></th>\n",
       "      <th>Komentar</th>\n",
       "      <th>Hasil</th>\n",
       "      <th>sentimen</th>\n",
       "    </tr>\n",
       "  </thead>\n",
       "  <tbody>\n",
       "    <tr>\n",
       "      <th>0</th>\n",
       "      <td>trendingg</td>\n",
       "      <td>Positif</td>\n",
       "      <td>1</td>\n",
       "    </tr>\n",
       "    <tr>\n",
       "      <th>1</th>\n",
       "      <td>Demi apapun ini keren bangetttr</td>\n",
       "      <td>Positif</td>\n",
       "      <td>1</td>\n",
       "    </tr>\n",
       "    <tr>\n",
       "      <th>2</th>\n",
       "      <td>NGERIIIII</td>\n",
       "      <td>Positif</td>\n",
       "      <td>1</td>\n",
       "    </tr>\n",
       "    <tr>\n",
       "      <th>3</th>\n",
       "      <td>Kerennnn</td>\n",
       "      <td>Positif</td>\n",
       "      <td>1</td>\n",
       "    </tr>\n",
       "    <tr>\n",
       "      <th>4</th>\n",
       "      <td>Kalo dia yg mengang kek jaminan mutu gitu dah ...</td>\n",
       "      <td>Positif</td>\n",
       "      <td>1</td>\n",
       "    </tr>\n",
       "  </tbody>\n",
       "</table>\n",
       "</div>"
      ],
      "text/plain": [
       "                                            Komentar    Hasil  sentimen\n",
       "0                                          trendingg  Positif         1\n",
       "1                    Demi apapun ini keren bangetttr  Positif         1\n",
       "2                                          NGERIIIII  Positif         1\n",
       "3                                           Kerennnn  Positif         1\n",
       "4  Kalo dia yg mengang kek jaminan mutu gitu dah ...  Positif         1"
      ]
     },
     "execution_count": 8,
     "metadata": {},
     "output_type": "execute_result"
    }
   ],
   "source": [
    "df.head()"
   ]
  },
  {
   "cell_type": "code",
   "execution_count": 9,
   "metadata": {},
   "outputs": [
    {
     "data": {
      "text/plain": [
       "(2106, 3)"
      ]
     },
     "execution_count": 9,
     "metadata": {},
     "output_type": "execute_result"
    }
   ],
   "source": [
    "df.shape"
   ]
  },
  {
   "cell_type": "markdown",
   "metadata": {},
   "source": [
    "### Menampilkan grafik batang dari sentimen"
   ]
  },
  {
   "cell_type": "code",
   "execution_count": 10,
   "metadata": {},
   "outputs": [
    {
     "data": {
      "text/plain": [
       "<matplotlib.axes._subplots.AxesSubplot at 0x1bbdac0f400>"
      ]
     },
     "execution_count": 10,
     "metadata": {},
     "output_type": "execute_result"
    },
    {
     "data": {
      "image/png": "[encoded data removed]",
      "text/plain": [
       "<Figure size 432x288 with 1 Axes>"
      ]
     },
     "metadata": {
      "needs_background": "light"
     },
     "output_type": "display_data"
    }
   ],
   "source": [
    "import seaborn as sns\n",
    "sns.countplot(x='Hasil', data=df)"
   ]
  },
  {
   "cell_type": "markdown",
   "metadata": {},
   "source": [
    "## Melakukan Data Preprocessing"
   ]
  },
  {
   "cell_type": "markdown",
   "metadata": {},
   "source": [
    "Membuat karakter dalam kolom Komentar menjadi huruf kecil"
   ]
  },
  {
   "cell_type": "code",
   "execution_count": 11,
   "metadata": {},
   "outputs": [
    {
     "data": {
      "text/plain": [
       "0                                            trendingg\n",
       "1                      demi apapun ini keren bangetttr\n",
       "2                                            ngeriiiii\n",
       "3                                             kerennnn\n",
       "4    kalo dia yg mengang kek jaminan mutu gitu dah ...\n",
       "Name: Komentar, dtype: object"
      ]
     },
     "execution_count": 11,
     "metadata": {},
     "output_type": "execute_result"
    }
   ],
   "source": [
    "df['Komentar'] = df['Komentar'].str.lower()\n",
    "df['Komentar'].head()"
   ]
  },
  {
   "cell_type": "code",
   "execution_count": 12,
   "metadata": {},
   "outputs": [
    {
     "data": {
      "text/html": [
       "<div>\n",
       "<style scoped>\n",
       "    .dataframe tbody tr th:only-of-type {\n",
       "        vertical-align: middle;\n",
       "    }\n",
       "\n",
       "    .dataframe tbody tr th {\n",
       "        vertical-align: top;\n",
       "    }\n",
       "\n",
       "    .dataframe thead th {\n",
       "        text-align: right;\n",
       "    }\n",
       "</style>\n",
       "<table border=\"1\" class=\"dataframe\">\n",
       "  <thead>\n",
       "    <tr style=\"text-align: right;\">\n",
       "      <th></th>\n",
       "      <th>sentimen</th>\n",
       "    </tr>\n",
       "  </thead>\n",
       "  <tbody>\n",
       "    <tr>\n",
       "      <th>count</th>\n",
       "      <td>2106.000000</td>\n",
       "    </tr>\n",
       "    <tr>\n",
       "      <th>mean</th>\n",
       "      <td>0.868471</td>\n",
       "    </tr>\n",
       "    <tr>\n",
       "      <th>std</th>\n",
       "      <td>0.379127</td>\n",
       "    </tr>\n",
       "    <tr>\n",
       "      <th>min</th>\n",
       "      <td>-1.000000</td>\n",
       "    </tr>\n",
       "    <tr>\n",
       "      <th>25%</th>\n",
       "      <td>1.000000</td>\n",
       "    </tr>\n",
       "    <tr>\n",
       "      <th>50%</th>\n",
       "      <td>1.000000</td>\n",
       "    </tr>\n",
       "    <tr>\n",
       "      <th>75%</th>\n",
       "      <td>1.000000</td>\n",
       "    </tr>\n",
       "    <tr>\n",
       "      <th>max</th>\n",
       "      <td>1.000000</td>\n",
       "    </tr>\n",
       "  </tbody>\n",
       "</table>\n",
       "</div>"
      ],
      "text/plain": [
       "          sentimen\n",
       "count  2106.000000\n",
       "mean      0.868471\n",
       "std       0.379127\n",
       "min      -1.000000\n",
       "25%       1.000000\n",
       "50%       1.000000\n",
       "75%       1.000000\n",
       "max       1.000000"
      ]
     },
     "execution_count": 12,
     "metadata": {},
     "output_type": "execute_result"
    }
   ],
   "source": [
    "df.describe()"
   ]
  },
  {
   "cell_type": "code",
   "execution_count": 13,
   "metadata": {},
   "outputs": [
    {
     "data": {
      "text/plain": [
       "'kalo dia yg mengang kek jaminan mutu gitu dah , panjang umur semua , biar anak cucu masih bisa ngerasain karya kalian ðÿ˜\\x8dðÿ˜\\x8dðÿ˜\\x8dðÿ˜\\x8d'"
      ]
     },
     "execution_count": 13,
     "metadata": {},
     "output_type": "execute_result"
    }
   ],
   "source": [
    "df['Komentar'][4]"
   ]
  },
  {
   "cell_type": "markdown",
   "metadata": {},
   "source": [
    "### Membersihkan simbol-simbol dari komentar"
   ]
  },
  {
   "cell_type": "code",
   "execution_count": 14,
   "metadata": {},
   "outputs": [],
   "source": [
    "comment_clean = []\n",
    "C = df.iloc[:, 0].values\n",
    "\n",
    "for comment in range (0, len(C)):\n",
    "    comment_cleaned = re.sub(r'\\W', ' ', str(C[comment]))\n",
    "    comment_cleaned = re.sub(r'ðÿ', ' ', comment_cleaned)\n",
    "    comment_cleaned = re.sub(r'½', ' ', comment_cleaned)\n",
    "    comment_cleaned = re.sub(r'œ', ' ', comment_cleaned)\n",
    "    comment_cleaned = re.sub(r'â', ' ', comment_cleaned)\n",
    "    comment_cleaned = re.sub(r'ï', ' ', comment_cleaned)\n",
    "    comment_cleaned = re.sub(r'º', ' ', comment_cleaned)\n",
    "    comment_cleaned = re.sub(r'ž', ' ', comment_cleaned)\n",
    "    comment_cleaned = re.sub(r'š', ' ', comment_cleaned)\n",
    "    comment_cleaned = re.sub(r'ª', ' ', comment_cleaned)\n",
    "    comment_cleaned = re.sub(r'¼', ' ', comment_cleaned)\n",
    "    comment_cleaned = re.sub(r'ÿ', ' ', comment_cleaned)\n",
    "    \n",
    "    comment_cleaned= re.sub(r'\\s+', ' ', comment_cleaned, flags=re.I)\n",
    "    comment_clean.append(comment_cleaned)"
   ]
  },
  {
   "cell_type": "code",
   "execution_count": 15,
   "metadata": {},
   "outputs": [
    {
     "name": "stdout",
     "output_type": "stream",
     "text": [
      "['trendingg', 'demi apapun ini keren bangetttr', 'ngeriiiii', 'kerennnn', 'kalo dia yg mengang kek jaminan mutu gitu dah panjang umur semua biar anak cucu masih bisa ngerasain karya kalian ', 'huaaa keren bgt perasan jdi campur aduk seneng sedih emosi samuanya ada ', 'kangen buna hijab ', '2020 ditutup dengan ini pecah gilaa', 'merinding anjir the real masterpeace 2020 ', 'mantaap ibaratkan om dedy corbuzier jadi ketua podcast ', 'goks parah ri2020', 'alp ba ta yg mendunia ngga ada ', 'yg diawal cewe siapa woy', 'kereeeeeen ', 'ini tik tok rewind kayanya', 'aaaaa monang pecahhhh ', 'gila pecahhhh siii', 'keren banget petjaaahh ', 'aaaaaaaaa keren bat', 'ada budi ', 'mrembes seketika good job tuk semua yang terlibat ', 'keren abis asli terima kasih atas kerja kerasnya', 'wih mas ancaa pertama kali nnton yutuppp liat malam minggu miko ', 'gokil ni budget produksi nya gede bgt nih', 'di akhir video mendadak sedih liat ka jo dan andovi keluar dari pintu memberikan tanda bahwa mereka pamit ', 'so cool', '522kxditonton i see the like button 562k like ', 'agak berat ya ninggalin 2020', 'keren bangett gila', 'raffi ahmad dan baim wong ko engga ada yaaaaa', 'miawaug gk ada lagi ya ', 'daammnnnn ', 'keren', 'parah sih ini ', '7 53 seketika langsung netes ² ² ', 'we need more hareudang x wap lol', 'kacau siiii kerenn bgtttt', 'ancur keren parah sediiinya berasa campur rasa bangga jyakhh berasa kurang lama bgt nonton ini tp yakin pasti ngeditnya susah bgt keren bgttttt ', 'keren banget demi apapun ku merinding nontonnya ', 'youtober old emang gg beda sama youtober give away ', 'where is son of zeus ', 'serius nanya ini anak cewe yg di awal siapa ', 'nitip komen sebelum 1jt views', 'kerennnn ampun ammpunnn ga kerasa udah rewind20 perasaan kemaren baru 2016 ', 'mana om mobi n ridwan hanif ', 'keren banget ', 'kurang bobon doang si ini', 'ericko lim gaada ya ', 'keren banget t t', 'merindingg ini mah bagus bangetttt wajib trending pokoknyaaaaa', 'scoringnya juara ', 'erokontolim kok ga ada ya serius nanya ', 'u n 1 t', ' ri2020 trendingkan trending indogointernasional rewind2020', 'mantap parah sampe nyentuh hati dong btw thankyou skinny24 see u when i see u sukses terus youtube indo ', 'sumpah ini keren bgt parahh proud bgt jd anak indonesia 3', 'salut', 'mantappppp', 'kerennn bgt konseppnyaaaaa gada obattt sumpahhh ', 'gila ini keren sumpah nonton ini campur sedih dan happy ngeliatnya semoga kita sehat2 selalu dan semoga virus ini hilang dari bumi ini amin ', ' wesurvive2020', 'iciss ', ' ri2020 trendingkan trending indogointernasional rewind2020', 'chandra becanda ', 'bagus banget', ' ri2020 trendingkannnn gilak gemeter karna takjub gw ditengah pandemi bisa bikin karya sebagus ini keren bat gilak', 'keren abizzz', 'kerenn ', 'njiirr nonton ke 2 kali pas saya colok itu earphone ke hp langsung duaarr kwalitas sound nya donk bikin makin keren abis berasa bgt kangen suasana bioskopnya duh ga ngerti lagi secinta itu gw sama chandra liow n aulion plis pliisss jgn berhenti berkarya ', 'kerenn ', 'yg kagen youtube 2015 2016 kangen kevin sama edhozell', 'pengen rasanya waktu diputar kembali ', 'asli keren banget', 'keren parah hiks', 'kereen bangett siihh nyalakanindonesia', 'good', 'yutube rewind terbaikkkkkk', 'terlalu emang buat ini terlalu keren', 'youtube rewind terepic bagi gua ', 'trending trendingkannnnn', ' ri2020 how you like that me yessss ', 'demi apa kerennnnnnnn ', ' ri2020 trendingkan trending indogointernasional rewind2020', 'saking kerennya gua merinding borr', 'goks ', 'njir lah keren asli bagian favorit gua pas lagu black pink dan kepergian skiny', 'asliii ini keren banget banget bangeeeet deh karya anak bangsa ', 'di awal dibuat ketawa ketiwi sama paman di akhir dibuat sedih sampe nangis keinget jaman youtube belum dijajah sama artis well done boys ', 'kerennnnnn', 'merinding asliiii keren parahhhhh ', 'keren banget woyyy ', 'merinding', 'percuma kalau msh ada buzzerp', ' ri2020 on fire', 'keren parahhhh ', 'trending ', 'gokil parahh untung belum telat banget ', 'anjay mabar', 'knp aku bukan boneka bukan si kekey tp lagu2 lain si penyanyi asli yg tampil nggak nongol si rans entertaiment sm bapau ', 'bulu kuduk berdiri bangsat ', 'gokz emang chandra berkarya tanpa harus drama kualitas diatas kuantitas salute ', 'thank u best gift in 2020 ', 'daebaaaak ', 'mantep banget sumpah t t', 'g g mainya hebat', ' ri2020 trendingkan trending indogointernasional rewind2020', 'baru ini liat youtube bisa merinding sekaligus sedih 2020 ternyata isinya begituan', 'merinding keren ', 'speechless youtuber indonesia membanggakan banget ri2020', 'gila keren banget', 'the ending made me cry ', 'gila keren banget ayo trending kan ke 1 ayooo', 'diamana ini you tuber gaming favorit saya kak regi miawaug windah basudara dan aci gamespot ', ' nyalakanindonesia', 'kerennnn bgtt', 'trendingkan ', 'eh ada morganisa malam minggu miko ', 'thanks for everything u guys did to this platform u guys are flippin awesome ', 'akhirnya setelah tahun kemarin off', 'wih siapa yang kesini gara gara liat ig nya fitra eri tapi kurang 3 orang yaitu om mobi ridwan hanif rahmadi dan arief muhammad hayo harus nya ada video nya jimny challenge tapi gak papa lah kalo gak ada ', 'nonton ini the real mau nangis rasanya kek mau meninggal ', 'merinding', 'trendingg yuu bisaaaaaa ', 'preciate a lot good job for you all guys ', 'merinding parahhhh', 'i m crying ', 'scene terakhir dabest parah ', '4 18 itu mantep bngt woy ', 'sumfaaaaah sedih', ' ri2020 god bye skinnyindonesian24 the best youtube rewind indo ', 'mantap', 'keren kerja bagus untuk semuanya saya sampai dibuat menangis terlalu penuh dengan memori youtube indonesia yang dulu dulu panjang umur perjuangan nyalakanindonesia', 'keren banget ga bisa berhenti nonton sedih juga tapi ', 'gokil gokil gokil keren bangetttt', 'merinding nonton nya ', 'merinding liat nya sampe nangis ²', 'ngakak pas bagian pak muh anjir wkwkwkwkwkwkw', 'men i cry ', 'banyak bawangnya haha keren sih huhuuu', 'gue baru sadar ada dosan sama pak han wkwkkwk', 'keren parah euy gada obat ', 'keren ', '4 13 sindirannya parah ', 'anjayyy jadii ', 'kerenn ', 'hanin nyanyi langsung merinding gilaaaaaaaaa suka', 'bang budiiii guysss', 'rewind kali ini bikin perasaan aku jadi campur aduk kadang ketawa kadang nangis apalagi pas bagian kak andovi ama kak jovi keluar ', 'the best youtube rewind ever', 'mantap', ' ri2020 trendingkan trending indogointernasional rewind2020', 'ada atta auto skip 10 detik kemudian ', 'belum perna komen apa di konten yutupe siapapun kali ini anjirrr harus aku akui ini keren bgt sumpahhhhhhhhhh kilas balik semua hal yang terjadi di 2020 dimna banyak di antaran kita cuman bisa ngejalanin aktifitas kurang lebih 3bulan saja di tahun ini dan banyak bgt pembelajaran yg di dapat terima kasih buat semua elemen yang terlibat dalam hal kemanusiaan kalian luar biasa banget hebat hebat hebat ', 'ajiibbb ', 'wahh asli sih keren banget', 'karena ini keren banget yuk trending yuk ', 'keren aslina', 'keren bangett ', 'kecee badai keren bangettt makasii 2020 ', 'anjayyyy kerenn banget anjir vibes tiktoknya ngena bangettt ', 'mantap', 'woahh woah speechless ', 'terkerennnn ', 'keren karya anak bangsa ri2020 ', 'gila keren bgt', 'iklan nyaa gangguuuu', 'kereeennnnn aku bantu ga skip iklannya buat nanti bikin youtube rewind 2021 biar tambah kerennn lageeeeeeee ', 'karena ini keren banget yuk trending yuk ', 'ytrewind 2018 sampah', 'best youtube rewind on earth', 'ba radit ga ikut ya ', 'merinding asli halph', 'nangis sih keren banget', 'kurang miawaug', 'semoga di yt rewind beberapa tahun berikutnya ada aku ', 'kita lihat di youtube tapi kita rindu youtube ', 'ytr ter epic ri2020', 'merindinggg', 'merinding gak berenti berenti ', 'let s go trending kannnnnnnn gesss', 'my amazing 14 minutes gua nangis anjr pas bagian akhir wkwk', 'bang radit diwakilin mas anca gokil', 'merinding asli keren banget ', 'asli keren parah ini mah kudu trending ', 'anak kecil yang pertama itu youtuber juga kah ', 'kerennnnn ', 'keren parah ga cuma rewind indonesia 2020 tapiiii sisipan rewind indonesia decade nya kerreen parah terimakasih kepada kalian yang memberikan ini semua 2020 menjadi sedikit lebih indah dengan ri2020 sehat terus untuk kita semua semoga 2021 lebih baik dari tahun sebelumnya ', 'merinding bangett ', 'keren bangettttt', 'kereeeeeen', 'keren asli', 'keren abiiiiieeeesdss', 'pak muhhhhh', 'kerennn abissssss', 'karena ini keren banget yuk trending yuk ', 'keren banget parahhh so proud with u guys makasih udah bikin karya sebagus ini jaya selalu indonesian creators', 'ps5 nya kecepetan brok', 'penutup akhir tahun yg sangat merewindkan ', 'epiiiiiic para youtuber berkumpul dan sedih dan seram indonesia maju melawan corona bersatu kita teguh bercerai kita siapa cita citanya nonton berkali kali yang like ', 'seger banget mata gua ngeliatnya lightningnyaa set up lightningnya dll liiiitttt', 'sad ending ', 'keren bangettttttt', 'keyeen bangetttt', 'sumpah keren', 'keren merinding wahhhhhh ga bisa berkata kata lagi terima kasih', 'keren banget sampai merinding gue nnton nya', 'ini youtube rewind indonesia terbaik terbagus terniat terkeren ter dabes lah pokoknya sangat menakjubkan semangat terus buat kalian para youtuber atau konten kreator indonesia kalian semua hebatttt ', 'merindinh gila keren bgt asli', 'mantap jiwaa', 'aaaa keren banget selama video diputar aku merinding loh ', 'kerennnnn abiss ', 'kerenn nih salut', 'mau dong tiap akhir tahun selalu ada video rewind sperti ini hehe', 'keren banget ayo dilike jangan lupa guys ', 'ayooo trendingggg ', 'manca manaaaaa', 'keren ', 'deny caknan aja masuk masak felix irwan nggak ', 'pak muh idolakuuuuuuuuuuuuu', 'keceee', 'kerenn bgt aligggggg', 'keren banget sampe nangis ', 'bagus banget anjrot', 'karena ini keren banget yuk trending yuk ', 'gokil merindinggg bangettt ', 'goks banget si ini sumpehh', 'gokilll woii', 'ini sedih banget tapi happy gmn tuh', 'sumpah pak ini cen jancuk banget ', 'suka banget mo nangis rasanya ', '09 00 sumpah asli musiknya keren parah transisi nyo smooth', 'musiknya ga tahannn', 'merinding gw denger lathi ', 'feel dari video ini nyampe ke kita bang scene terakhir ', 'bikin bareng kak atta sama kak aurel dong bareng', 'i got goosebumps alr', 'gak mungkin gak nangis nntn ini entah krn haru seneng sedih gila ', 'awesome anjim ', 'gokill ', 'ko gue nangid t_t', 'harus trending', 'bahkan detail kecill doang gue ngerti woiii ini kerenn bangettttttt emang nggak pernahh mengecewakannn sihhh saluttttttttt positif thingking aja mungkin yg dislike impostor', 'the quality tho', 'aaaaaaa keren bngttt ', 'kerennn validddd no debat', 'kerennnn parahhhhh 3', 'trending satu bulan gak niii trending', 'karena ini keren banget yuk trending yuk ', 'terharuuuu nangis bgt bagus bgt ih ', 'mantap', 'tolong carikan dimana kekeyi', 'terharus ', 'like terus dan banyak pembelajaran dari semua ini beautiful ', 'gak bisa ngomong apa apa penutup tahun yg gokil ', 'keren banget merinding nangis bener bener masterpiece terimakasih untuk kalian semua yang sudah mendedikasikan diri untuk membuat video ini ', 'niceee so cool btw odading mang oleh ada apa kagak v', 'merinding cokk keren sangaddd ', 'ada wajah frislly pas kbp dong ', 'eh ada pak muh ', 'keren banget gila woeee', 'gua pas scene terakhir yg when somebody love me jujur merinding seneng dan rada sedih karena welll sebagian dari mereka sudah pensiun dan menjelang pensi ato gk youtuber ² lama yg emang ngebuat vidio dulu tuh just for fun terutama buat bang tara ama gema sumpah mereka itu keren dah setiap main game selalu pasti ngebuat gua ketawa tapi well semua punya batas dan gua juga seneng youtuber indo makin banyak yg berkembang kek bangpen dll keren ² dah mereka dan semoga para penerus bisa lahh berkarya lebih bagus dari pada mereka soo thank you karena sudah menghibur kami para netizen ', 'merinding malem malem ', 'keren abis menyala ', 'youtube rewind dari tahun ke tahun gak pernah ngecewain', 'dalgona mana ', 'merinding proud you guys proud you youtubers indonesia semoga tahun 2021 akan jadi masa untuk para youtubers untuk berkarya dan menghibur life long the king chandra liaw', 'sedih tapi keren banget parah', 'karena ini keren banget yuk trending yuk ', 'pecah si keren banget merinding haru ayo indonesia kita bisa semangat untuk masa depan yang lebih baik kuatkan dunia', 'epick parah ', 'tiba tiba nangiss terharu', 'sangat berwarna ya bund', 'jujur keren banget ', 'aku sedang mencari baim wong', 'beneran ini video keren banget', 'keren banget woiiiiiiiiii', 'semoga di tahun berikut nya corona dahh hilang ', 'bim lu dimana pickypicks', ' terharu', 'gak akan ada yang bahas penampakan muka kak faiz apa ', 'bajingan sekali orang orang yang membuat ini kenapa bisa keren kali ', 'what a closing for 2020 ', 'gila gila gila epic ', 'karya sekeren sebagus seepic masih ada yang dislike wth', 'damn son siapa yang naruh bawang disini keren bet asli gila ', 'merinding nontonnya keren parah sumpah', 'mood pak muh ', 'ditonton berunglangkali masih ga nyangka sebagus ini', 'karena ini keren banget yuk trending yuk ', 'keren kali ajg', 'ketika tangis dan tawa menjadi satu', 'thanks buat para tenaga kerja medis yg udh mempertaruhkan nyawa kalian untuk negri ini semoga dengan jasa kalian negri ini menjadi lebih baik aamiin', 'keren parah', 'this is youtube rewind indonesia paling bagus sihh gila bagus bagetttt harus trending sihh dan negara lain harus liat', 'kurang baim wong sama channel hobby makan ', 'big thanks ', 'awalnya mau bikin 10 paragraf komen tentang betapa kerennya video ini tapi pada akhirnya cuman bisa bilang ong im mindblown m', 'nangis sekeren ini ', 'sumpah tiba ² ada rewind kgk tau ada info nya sumpah muncul di branda 2 jam lalu autoo cusssss', 'seneng liatnya i wish i could be part of them in the future', 'sudah 2x nonton dan masih merinding menitihkan air mata good job ', 'gokillll', 'ahh gokil keren abis d', 'the best sampe merinding', 'kerennn ri2020', 'yoi', 'keren banget asliiiii aku bangga indonesia punya kalian terima kasih banyak ', 'terima kasih ibu sudah memperbolehkan ku untuk nonton rewind indonesia 2020 ini keren windah jend bocil basudara', 'sumpahhh pokonya keren bgtttt', 'ngga ada obeng', 'the santoso mana', 'pak muh lucu bgt', 'saking kerennya ', 'merindingg bgttt btw pengen nangis scene akhir thankyou skinnyindonesian24 youtuber yg gue tonton sejak 2014 ', 'semangat indonesia ', 'kerennn bngt woyyyy ', 'karena ini keren banget yuk trending yuk ', 'kerennnn bangetttttt', 'keren cuy ', 'ini rewind yg me rewind video yt rewind dan video yg di rewind sumpah ini gila sih ', 'keren woyyyyyyy ', 'demi apasih ini merinding banget sumpah asli petjah bangeeettt ini goks youtube rewind 2020 salut buat chandraliaw skinnyindonesia24 nessi judge dan juga tim proudofyou guys ri2020', 'woah keren bangettt', 'sumpah gak tau kenapa aku ngerasa sedih ', 'woy gofar hilman mana anjer', 'gk seru yang terkenal2 gk masuk kayak brando dll', 'trendingkannnnnn', 'ngericcc ', 'finally', 'asli keren ', 'gilaaa merinding gua nontonnya', 'keren bangettt remix muziknya dan videonya parahhhh kerennn salam dari malaysia ² ¾', 'nice ', 'kerennnn bangetttt sumpahhhh', 'mana nih tim rans garis keras wkwkwk', 'bimo sama qorygore ga masuk sibuk yah', 'anjir lah keren abis video thanks creator indonesia yang selalu berjuang untuk terus berkarya gw ngerasain banget emosi video ini stand tall my friend goodluck terus ', 'indah hanya satu kata berjuta makna ', 'rewind indonesia 2020 ri2020', 'keren banget woi gilaaa gokiilll', 'kereeeeen bangeeeeet rewind indonesia terkeren 2020 ', 'ini apaansihhhh ko keren bngttt ', 'kerennn', 'mantebbbb ', 'sumpah deh keren bgt', ' ri2020 trendingkan', 'masterpiece emosinya kebawa bangen nontonnya terimakasih udah kasih kami hadiah terbaik di 2020 yang gelap ini sampai jumpa lagi semuanya di tahun depan ', 'youtube rewind 2018 nenangis melihat ini yg setuju like jumlah orang yg setuju ', 'keren banget sumpah', 'yg ngedis gapunya otak luar biasa ri2020 ayo kita nyalakanindonesia', 'terimakasih tahun 2020 ', 'sumpah keren parah', 'keren bangett parah taun inii yg dislike ada masalah idup ape sii ehe ', 'bimo gakeliatan ya ', 'wah mantep sih ini', 'suka banget ama suaranya awkarin ', 'what a masterpiece no one could ve done it better than you guys thankyou for everything ', 'so proud to all the crew that work behind this masterpieceeeeeeeee rise and shine ri2020', 'wajib trending ini mah ri2020', 'kereeeennn bgttt jujuurrrrrr ', 'gila pecah ', 'woahhhh keren gilaa', 'this is a masterpiece', 'keren parahhhhh ', 'kereeeeen bgt', 'keren bgt', 'sungguh penutup yang sangat baik diakhir tahun ini semoga kita semua selalu diberi kesehatan dan keselamatan di tengah keadaan bumi pertiwi kita yang sedang di uji ini amin ri2020', 'go trending ', 'gilakkkkkkk', 'merinding ', 'pak muh tumben ga pegang remot', 'hadir dan like ', 'mantapp ', ' ri2020 trendingkan', 'gilaaaaakkk antara kagum sedih sama ngga tau mau ngomong apa keren banget laahh ', ' ri2020', 'aaaa such a good old memory', 'ayo trendingkan ', 'keren ini sih', 'liat sekali gak cukup ', 'ga ada bobon ', 'over power ', 'gapaham lagi sih gua keren banget dah ', 'kek lucu terus ada rasa bangga tapi sedih pengen nangis kek campur2 gitu 2020 emang tahun terberat kita tapi kita juga lah yang saling menguatkan saru sama lain saling menghibur saling bantu membantu stay strong buat kita semua ', 'arief muhamad mana', 'merinddiiingggg', 'baru 3 jam ud 530 ribu', 'merinding ', 'apa ini kenapa keren bgt gini ', 'kerennn banget', 'keren bgt aaaa ', 'classsss ', ' anjay ewingsd', 'trending', ' ri2020 trendingkan', 'keren bgttt fikssssss seneng sedih cmpur aduk pas nntn ini ', 'youtube no rewind this year indonesian youtubers fine we ll do it ourself', 'wah gilaa', 'kok gue jadi sedih ya', 'kesini cuman gara ad coki muslim', 'sedeeeppp betulll nih editornya good job all ', 'sad ending yaa persembahan terakhir skinyindonesia24 di yutub ', 'keren bjir ', 'go indonesia stay strong ', 'keren parah sih', 'goks boy', 'damnnnn', 'best nyaaa ', 'yok bisa trending yok', 'gokilll wehh keren bngt merinding parah ', 'keren bgt', 'good job all congratulation', 'thank you all crew youtubers everyone for making this masterpiece its beautifully lit and guys we made it this far we are one don t let anyone tells us another ri2020', 'perasaan cepet banget deh kayaknya baru kemaren nonton rewind yt 2019 he ini udah rewind 2020 aja tt tt mana keren bgt wuyy', 'kualitas international heads up buat tim produksi', 'number one ini mah ', 'keren bgt ', 'keren bangeeet thankyou semuaaa selalu paling ditunggu di akhir tahun', 'trendingggg ayooo', 'sumpah keceeee bgt speechless ', 'sumpah bikin merinding sekaligus sedih', 'goks youtube rewind 2020 the best laah', 'im so sad ', 'kerenn ', ' ri2020 trendingkan', 'gg', 'jangan komen pake emot gaes kita tr3ndingkan ', 'bangga bgt guaaaa asli pas ada buna seneng bgt liatnya', 'epic video', 'raffi ahmad baim wong ', '11 43 thank youu so much skinnyindonesian24 see u when i see u', 'terimakasih udah buat aku menangis', 'saking kerennya sampe merinding nontonnya mo nangis keren parah', 'sumpah keren banget sampe merinding nontonya ', 'keren', 'kerennnnnnn bangettttttttttt', 'saat pakai apd itu harusnya pakek sarung tangan karet biar lebih wow', 'yt rewind 2020 lebih baik daripada tahun 2019', 'thank you thank you thank you that was beautiful rewind ri2020', 'keren bangett', 'mana nihh bimopd kok ga adaaa', 'keren parahh ', 'keren makasi yg udah buat ', 'merinding kuat lah indonesia', 'kok gak ada chika terngiang ngiang ', 'sumpah keren banget ', 'ahhhhh aku masih muda tapi merasa sudah tua dari awal karier youtuber indonesia dari rewind2 sblmnya gw ikutin semuanya dan emang jujur gw udah jenuh dengan tahun ini but thx guys video ini mengobati gw i m happy but crying too', ' ri2020 trendingkan', 'sinta jojo dong bikin kangen masa2 warnet', 'gilaa keren bgt nangis ', 'ternyata ada leo', 'w rasa komen w gk bakal kebaca karna udh rame yg komen tp w bakal bilang wawww w benar2 suka klu sesuatu itu benar2 kreatif rewind kali ini benar2 berkonsep tersusun mantap pokokny', 'sumpah detik detik terakhir bikin gw nangis fr t_t', 'semoga tahun 2021 corona covid 19 sudah tiada ', 'fucking lit thank you', 'tu atta kw atau asli ', 'keren bgt ', 'masih bagusan yg 2018 by erickolim ', '10 26 dibagian wajah terlihat lightning berwarna merah tetapi saat scene awal diganti 10 29 orang yang paling depan tidak terkena lightning itu saat ganti scene lagi 10 48 lightning itu memancarkan cahaya merah lagi tetapi lagi nih discene berikutnya warna lightning berubah menjadi putih 10 45 hanya memberitahu letak kesalahan ya teman teman jangan dianggap serius ', 'kerennnnn bgtttt woiii', 'gokiiillllllllll kereennn bggtt ', 'wagelasehhh', 'ini keren gila', 'merinding gelo keren parah sih ', 'makasih 2020 ', ' ri2020 trendingkan', 'keren pake banget', 'sumpah keren bangettttttttt ', 'keren banget ini ', 'td ada un1ty shok parahh', 'kerennnnnnnn', 'chkky dan muslim blokk kalian bintang y ', 'jadi teringat masa lalu good job team senang rasanya liat youtuber animasi mulai masuk rewind untuk rewind selanjutnya mungkin akan lebih sulit tapi jika ada yang mau mengerjakannya saya ucapkan semangat dan semoga sukses terima kasih', 'aku kok terharu banget malah lihatnya ', 'gg kata ilham rewind nya', '3 09 ewing 4k', 'sebagai pencinta yt indonesia yg ngikutin dr dulu gue merinding dan nangis nonton yt rewind indonesia thn ini parah perfect tengkyu kalian semua we ll missyou skinnyindonesian24 ', 'i don t what to say this is insane thanks you for make its happen', 'keren bgt parahhhhh', ' ri2020 keren bgtt anjay ', 'keren banget ga ngerti lagi ', 'aaaaaaaahhhh sukaaaaa', ' ri2020 trendingkan', 'p', 'kerennnn bgt woyyy ', 'parah sih keren bgt', 'sedih euy', 'waktu lathi sama blackpink beuh auto merinding wkwkwk', 'kerennn mo nangis wewwww bgttt', 'gilak woy kerennnnn ', 'big love and support for you all ', 'gilak keren banget sih ', 'mantapp bangg channdd ', 'gila anjir ', 'keren banget kak ga nyangka secepet ini 2020 ²', 'merinding', 'tersajikan dengan sangat baikkkkk', 'bagus dan bersatu karena ada sponsor yang nyata wkkwkwkw ga kek tahun kemarin absurdd ini sih pecah abis', 'sumpahhh uapikkkkk puoooollllllllll ri2020', 'kereennnnn ', 'woyy keren bangettttt', '2 42 ada un1ty ternyata ', 'kuwerennnnn ', 'kerenn sumpa', 'kerennn bngt sihhhhhhhhhh', 'pak muhhhhh gemoy ', 'anak gg', 'keren bgt ', ' ri2020 trending', 'gak berhenti2nya merinding gw keren semoga indonesia cepat pulih dan makin tercipta persatuan dan kesatuan ', 'keren parah', 'nnggss kren bgett sob', 'omgggg keren bangett', 'nangis ', 'trending yuuuk', 'hadiah terindah penutup tahun ', 'kereennn bnggtttttt fixx suatu hari nnt gua bkl berpartisipasi di rewind tahunan jugaa sumpahh merindingg smpe nangiss', 'lord kungkingkang saya tidak melihat', 'jujur keren banget ya allah nangiss ', 'gilaaa gilaaaaaaaa merindinggg oiiii ', ' ', 'kacau keren banget sih ', 'gokill kerennn banget ', 'kereeen bngt sedih banget', 'parah ini sihhh kerennn abis konsepny ', 'go trendiiing', 'keren ', 'yg unlike itu siapa woy ', 'nahaaa mewekkk gua pas skinny kaya pamit semoga kalian tetap berkarya dan buat kak chandra sumpah ini keren banget pesan moral nyampe bgt tengkyu buat semua content creator yt indonesia luar biasa', 'daebakk ', 'up', 'ericko lim mana ', 'goks paraaaaaaah', 'sungguh epic sekali that s amazing ri2020', 'jujur merinding', 'gilaaaaaaa merindiiingggg', 'tolong ini keren bgt', 'coba mas alip_ba_ta di ajakin bakalan trending dan musisi bule bnyak yang mereaction', ' ri2020 trendingkan', 'gw dateng dari masa depan kalo besok ini video bakal tranding bahkan besok nya lagi tranding no 1', 'bagus banget ', 'merinding ', 'demi apa aku nangiss ', 'ini baru youtube rewind', 'demi apa gua merinding dari awal ampe akhir ', 'gilaaa parah keren bangett semangat terus youtubers creator indonesia', 'eclipse always sayang arap ga join ', 'keren pake banget ', 'speechless', 'parahhh kerennnnn ', 'viralkan trending kan hebohkan terkenal kan', 'kurang ria sw ', 'trending', 'keren banget kak ga nyangka secepet ini 2020 ²', '7 54 asffjglglfjsjskajlakhfgak savage merinding badan', 'cinta produk lokal mtp', 'mantpap dah ', 'terimakasih telah berkarya terimakasih telah menemani kami selama tahun ini yang penuh dengan tantangan ', 'anj merinding', 'terimakasih para youtubers sudah menghibur kami yang lagi di rumah aja bravo ', 'this is insane ri2020', 'daebak ', 'buseh ada iklannya wkwkwk', 'well played', 'wow keren bangettt sayangnya lord tara art gabisa ikutan gegara kena corona btw rewind 2020 keren abislah pokoknya ', 'keren paraaahhh indonesia bangga ² ² ² ', 'ada bang budi sembrenget', 'kereenn asfvcrsse', 'mau nangiissss', 'gokil mantap', 'dunia harus liat ini ', 'gilaa keren abiss ', 'keren bangeeettttttt', 'aaaaaaa sumpah keren bangettt ', 'demi allah gue nangis merinding', 'nangis', 'ini mah harus trending ', 'appreciate it', 'arghhh keren bgt', 'yang bikin gw sedih adalah ini rewind terakhir untuk skinny ', 'merinding gokill abissss ', 'the best youtube rewind so far ', 'keren bgt uhuyy', 'seneng campur sedih liat nya', 'mntp bgt bang jago ', 'manca mana', 'i feel like i was on a movie cinema ', 'keren rewind terbaik', 'merinding sog ', 'trending', 'merinding ahhh good job youtuber indonesia ', 'gk tau mau komen apa lagi keren parah bangga dengan para content creator indonesia paling bikin seneng scene fadil dan pak muh joget ', 'waaaa kok netes ya kalian yg nemenin gue waktu sakit soalny ', 'd ulang2 tetep aja nanggis aq endingx terdebeeeeessss semuax yg terlibat d sini makasih bgt pesan kehidupanx masuk d hati dan otak ', '3 09 ada yang nongol aowkowk', 'ini the best sumpah', 'gilssssss ', 'apresiasi sebanyak banyaknya untuk kalian gua pibadi merinding', 'keren parah sih salut gw sama konten kreator indonesia i love you', 'terimakasih buat karya nya ', 'keren banget ga ngerti lagi ', 'trendingkan ya allah ', 'gokil petjah parah sihh ', 'be proud indonesia you have these people who can make u proud internationally speaking don t waste them ', 'besok juga tranding 1', 'keren ', 'kepaksa gua like dan kasih nilai 10 10 karena terlalu keren ahh jancok', 'i m not ready', 'ohh ada deng ', 'merindingg keren baangettt ', 'keren betul ini video ', 'bengong gw liat nya', 'itu yg di awal video siapa kwkwkwk', 'take a breath and give the highest respect to the team ', 'gaa pernah comment di youtube tapi ini gokil parah sih sampe bingung bisa gaa sih like berkali kali good job semuanya keren bangeeet', '5 30 dari sini kita tau kenapa lagu ini ada tapi penyanyi nya ga ada karena dia tidak layak masuk sini chuaakkzz', 'yt rewind ter the best disutradarai oleh chandra beda kualitas sama 2019 oleh erickontollim', 'youtube rewind go go go trending ', 'keren bangettt ampe nangiss ', 'harus trendinggg gaboleh engga titikk ', 'kerenn bngtttt', 'keceee', 'trending ga nih besok pagi ', 'terimakasih buat semua yang terlibat ini keren bangetttt', 'sedih ', 'mostly keren parahhh woi ', 'keren parah pakk ', 'keren bangett nangissssss', 'bahkan yang like lebih banyak daripada views nya you guys amazing ', 'keren abissssssss huwaaaaa makasih semuanyaaaaa ', 'i dont know why have some people dislikes this video this video too fine and masterpieces lovefrommalaysia', 'fix jauh lebih baik dari yg 2018 no debat', 'epic comeback ', 'kangen bgt sama semuanyaaa', 'terima kasih sudah menutup 2020 yang penuh dengan kejutan yang mungkin tidak menyenangkan tp dengan adanya konten ini saya rasa kita semua mampu melewati nya bersama', 'edan alus pisannn ri2020', 'pak muhammad ikut donggg', 'terima kasih karya nya keren bgt ', 'trending', 'udah nonton lebih dari sekalii dan tetep ketawa sambil nangis ', 'finallyyyy', 'keren bgt ', 'walau sebagai penikmat yt gw bangga atas semua kerja keras kalian guys and ide gila kalian big thanks for chandraliow and team proud of you all ', 'mantap cukkkk', '09 35 chandra liow x agung hapsah x creamypandaxx emang udah paling the besttttt ', 'kereeen tapi aku belum liat tapi aku sukaaa', 'nice', 'karya yg war biasah i ytb rewind ina 2020', 'jangan ada yg reupload ke tiktok dong', 'choky dan tretan muslim blokkk kalian dewa nya dsni ', 'nangisss', 'rewind terkeren asli senyum tawa sedih haru semua jadi satu kalian keren ', 'apaansi kok keren bgt yaallah proud ', 'apresiasi sebesar besarnya chandra aulion and team and everyone involved gokiiiilllll ', 'coki muslim best part ', ' ri2020 ', 'merinding asliii ini keren bangetttt dukung karya you tobe lokall ', 'ga ada ericko lim apa karena candra liaw membenci nya ', 'pas hanin nyanyi merinding sumpah dengan scene yg relate sm keadaan sekarang ', 'goodbye skinny', 'gaske slur', 'ini youtube rewind ter epic indonesia menurut gua karna banyak youtuber besar dan youtuber lama kolab di 1 video besar kalo sampai gk trending wah parah si', 'goks pars sih mantuull ', 'keren paraahhh ', 'nangisssssss sebagus ituuuuu asdfghjkl', 'sumpah ini youtube rewind yg terbaik setelah 2016 gw suka banget semoga sukses slalu kak chandra dam rekan rekan semoga tranding no 1 aminn ', 'merinding aslii nontonnyaa ', 'gokil keren banget harus trending no 1 sampe januari', 'loved', 'gila keren banget', 'keren bangettttttt', 'asliiii merinding woiiiiii', 'gila parah keren banget ', 'keren gilaaaaa', '522rb view 564rb like mantap ', 'gue tonton berulang ulang', 'parah ini keren banget ', '11 22 mas anca i got a goosebumps in this part though', 'jujur gw nonton di rewind kek nonton iklan honda but ', 'goodbye skinnyindonesian24', 'the real masterpiece', 'gokilll', 'keren banget anjim', 'fix lathi paling op ', 'sempurnahh', 'luv', 'meaningnya dalem', 'terima kasih 2020 sudah menemaniku sampai sekarang tahun 2020 adalah tahun yang paling beda thank you 2020 ', 'trending', 'benar benar hal terkecil pun yang trend di youtube 2020 ini tidak terlewatkan hampir semua youtuber yg dari awal juga aada best woiii ', 'kerennnn woyyyy gilaaaaa ', 'sangarrrr ', 'this is some good quality sh tttt', 'the best', 'bagus bangeeet', 'cakep nih artis2 gk usah ada', 'gilaaaa ini sih epic youtube rewind paling emosional bikin nangis dari menit awal gila gilaaa pecah sihhh ', 'parah anjir keren abis ', 'jadi ke inget vibe tahun 2015 an di menit 10 27 selesai ', 'trending yuk bisa yukk', 'aslliiii sintingggg banget nih video sintinggg creatornya applause ', 'yaallah kaget banget ada pak muh ', 'keren banget', 'demi apa sedih indonesia maju indonesia kerennn', 'merinding dan nangis nontonnya indonesia bangga punya kalian ', 'keren bgt woy terharu ', ' trendingkan', 'trending', 'candra liow kalo udh ngedirect ga ada obat ', 'terimakasih semuanya keren dah keren dibikin nangis gara gara ini malem malem jadi nostalgia jdi inget moment2 yang udh pernah dilewatin sepanjang 2020 ini makasih atas kerja keras kalian love you', 'keren', 'keren bangetttttt', ' trendingkan', 'kerenn bangett omg ', 'speechless', 'nangiss ', 'seneng bgt pas liat buna senyum masi pake hijabnya ', 'ayo indonesia bersatu kita ini negara yang keren dan kreatif bgt makasih buat semua yang ikut dalam rewind udah ngasih konten yang bagus bgt its worth every second ', 'gewla keren poolll', 'wajib trending guys keren sekali kualitas dunia ini rewind indonesia 2020 ', 'gilaaa keren bangett ', 'parah parah keren bangeett weii ', 'let s gooo ri2020 you did a great job team', 'trending', 'prediksi 20 juta views', 'aku ga liat keanuuuu', 'keren abissss uyyyyy', 'merinding cokk', 'omg this is so cool congrats y all', 'keren banget tapi sayang kurang panjang', 'kerennnnnnn', 'video terkeren tim2one always', 'keren banget ', 'keren banget sumpahh', 'keren banget parah ', 'yay ada lagu maafkan aku terlanjur mencinta', 'kok nangis sih aku ', 'trending', 'kalo dibikin pakek hati ya gini nyampee nyaa ke hati juga ', '2021 its time for agung hapsahhhhhhhh', 'keren banget', 'huaaaahhh krenn bangeeett ', 'definisi merinding sekaligus bangga ', 'keren ga ada obat sumpah ', 'ngacoo ini keren parah cuy', 'this is fucking lit thx buat skinnyindonesian the end of yhe legend the myth the coolest most creative and one and only ending nya ngena', 'matippsss', 'kereeenn ', 'go international ini nah ', 'youtuber bang ', 'sedih gue https youtu be cos2p7s50kg', 'akhirnya reza arap kembali ', 'ini pecah bangeet ri 2020 ', 'petjaaahhh ', 'pas diplay auto nyebutin nama yutuber satu persatu', 'gilek parah', ' keren puol tp endingnya sedih ', 'rewind yg paling gw suka', 'parahhh kerennya', 'gokil parahhhhh', 'keren parahh merinding nontonnya', 'trending', 'aaaa goosebumps asli merinding excellent chandra aulion n team ', 'keren banget selalu keren semua anak bangsa kreatif dan semangat nonton ini seerti naik roller coaster naik turun emosional good lob ', 'ngefreeze ya ', 'waiting for bts', 'merinding aku nontonnya', 'artis alay ga diundanggg hahahaha', 'gada erpannya woi tapi keren bangett sumpeh daah ', 'impresive', 'keren bngtt', 'keren parah', 'keren parahhhhh', 'keren banget woiii ', 'great', 'kerenn bangett omgg ', '04 27', ' ri2020 kaga ada obat nya ', 'kerennn ', 'ending yang sangat membagongkan ', 'ini baru berkelas ', 'trending', 'asli keren banget ', 'wow keren banget', 'kereen parah ', 'gilaaaa andovi sama jov udh pensiun gillaaaaaaa si ini paling the best', 'waah ini keren abis sedihnya dapet banget ', 'keren abis anjir', 'keren parahh', 'keren bgtt kacauuuuu', 'keren banget banget banget banget please scene terakhir gye nangis', 'demiapaziiii ni keren bgt', 'cukup dibayar dengan like 1 42 justin bieber holy ft chance the rapper 1 46 niki lose 1 56 jawsh 685 jason derulo savage love laxed siren beat ', 'kereeeeeeeeeennnn', 'trendingkan ri2020', 'pokoknya kalau ada bang atta atau kak aurel pasti ke sini buat nonton', '4brothers mana kak ', 'speechless ', 'jujur dapet bgt smua makna yg ad di dalamnya ini baru bener2x rewind satu tahun terharu dan bener2x ngerasa satu tahun ini yg merasa gk ad yg mw di kenang setelah nonton ini sadar banyak bgt cerita di tahun 2020 makasih buat semua yg sudah bekerja keras membuat ini ak sayang semua semoga covid ini hilang di 2021 aminnn', 'ayo harus trending 1 nih', 'go trending ', 'pecah', 'gila merinding parah ', 'kuranf teguh suwandi sama erpan masa piraz masuk erpan kaga', 'belum tentu setahun sekali kualitas video rewind kaya gini bisa jadi 5 tahun lagi baru ada yang menyaingi', 'impresif', ' ri2020 top ', 'damn merinding good jobs guys ', 'masa gaada lord narkoboy ', 'seseorang melihat erpan ', 'no windah no trending', 'sumpahhh mrinding bangett dan seneng bangetttt ada agung hapsah woyyyyy ', 'best everr ', 'aisyah istri rasululloh gak ada itu kan salah satu fenomena cover 2020', 'gilaaaa kerenn parahhh', 'sumpahh ini keren banget bikin mood ku yang tadi kesel langsung naik', ' ri2020 rewind indonesia 2020 konsep videonya keren banget semoga ditahun depan youtube di indonesia semakin bagus kreatif dan channel kami rovsport lebih maju tembus 500k subs salam bediler', 'aliggggg', 'kereeeennn congrats guys ', 'gegehhhhhhhhhhhhhhh', '19 45 10 25 best banget sih lagunya enak bat walau di mix dan tumpuk gitu mantapppppp go trending 1 for last skinnyindonesian24 performance ri2020', 'kaget tiba ada ldp', 'ad iklannya dong', 'nilai 100 aja ga cukup ini sih kelas abis kalian semua hebat ', 'asli keren', 'keren bgtt dat sad ending thoo ', '9 44 knapa ada cuco ', 'gokill', 'keren bgt sampe merinding ini woyyyyy', 'asli ini keren banget', 'this rewind hits different ngl ', 'pecah benget huhu', 'gokiill ', 'music mix nya pecaahhh ', 'masyaallah keren nyaaa', 'demi allah keren bgtt ya allah terharu harus trending pokoknyaa kakak kakak keren ', 'kurang udin sedunia aja ni tributenya hahahaha', 'amazing ', 'where windah basudara ', 'langsung auto banyak yg react', 'youtube rewind ter the best yang perna ada ri2020', 'gokilll sihh haruss trandingg number 1 ini mahh ', 'ga trending ak gebug', 'gk ad mahluk mars ', 'amazing youtube sumpah cook menrinding we ', 'kuranggg lamaaaaaaaa keren paraahhhh siiiiiii iniiiiiiii ', 'ggwp skinnyindonesian24', 'kereeennn bangeeeettt paraahhh', 'biar cepet naik comment nya jangan pake 3m0t yaaa jangan pake capslock dan jangan terlalu banyak tanda bacaa semangatt', 'gilaa sihhhh keren bgt ', ' trending', 'kerenn bbgttt', 'nontonnya senenggggg sedihhhh weyyyy ', 'gak ada artis ', 'be better my indonesia ² ', 'oke sip berasa naik roller coaster hati gua ', 'yang nonton 522 rb yang like 561 rb ', 'may i see gaada', 'terharu', 'petcahhh bgt dah', 'maafkan saya bang mbak saya sampe gatau ada youtube rewind proses dan sampe jadipun kebetulan scrol tau ada youtube rewind 2020 mantap lah dari segi editing skema alur go trendingkan guys sampe penjuru dunia sekalipun ', 'gokssss gila sihhh', 'wow it s great a masterpiece i can t say anything ', 'much love for y all this is so amazing good job', 'keren yo trendingin yo', 'epic', 'keren banget asli', 'keren si ini alig', 'merinding asli', 'uhhhh gila yg mic mati ngena banget sindirannyaaaaa ', 'i m not crying you are crying ', 'ngasih like nya bisa lebih dari 1 ga sih pengen 100000000000000ã ã ã like kalo bisa', 'keren bangeeet ', ' ri2020', 'pecahhhhh', 'sedih sih endingnya skinnyindonesia pergi terharu kagum dan bahagia campur aduk ', 'keren bangetttttt wajin trending ini', 'trendingkan', 'kasian ericko lim ga di ajak wkwkw kang selingkuh jangan ditemeninnn', 'muantapppppppp ', 'yt dulu seru banget gada drama gada klarifikasi ga ada sensasi semua pure buat menghibur satu sama lain thankyou udh bikin vidio sebagus ini sedikit mengandung bawang karna flashback ke jaman main warnet dulu u guys so so so amazing ', 'kereeeeen', 'keren keren keren keren keren puooollllllllllllllll pooooooooolllllllllaaaaaaaaaaaannnnnnnnnnnnnnn', ' trending', 'anjeng gada ericko lim', 'respect to all youtubers ', 'sepanjang video merinding sumpaa ', ' ri2020 masa iya ga trending ', 'kok kevin anggara gk dateng', 'klo ada arap pesti keren', 'sumpah merinding you guys are awesome ', 'keren gilaaaa ', 'sumpah ini kereng banget', 'keren banget', '11 44 aaaajangannnn ð ð ', 'cringeeeeeeeee', 'keren banget ', 'roller coaster bangett ', 'merinding pecah habiss ', '11 46 ', 'semangat buat kita indonesia', ' trending', 'nangisss anjirrr kereeen beuutt buaatt semuaaa minusnyaa cuma 1 kurang gede layar guaa nontonn', 'kenapa di awal pakek ada atta segala dah', 'ini bener bener bagus sih parah ', 'parah merinding gue nonton ini ri2020', 'kerenn abissssssss', 'keren sumpahh gabisa ngomong apa apa lagi ', 'sumpah sih ini keren banget harus trending wajib ', 'faaave so heartwarming and incredible good job guys', 'epic ', 'saking banyaknya cerita suka duka di 2020 wkwk tahun cantik yg banyak drama', ' trending', 'ada hanin dhiya euy', 'kerenn banget ', 'gak ada obat dan gak ada lawan kerasa banget feelnya tapi kok gak ada miawaug', 'suka musiknya ', 'keren woii', ' trending', 'woiii keren bangeettt merindinggg', 'masya allah keren banget videonya terharu melihat nya terimakasih indonesia terimakasih tenaga medis indonesia terimakasih semuanya satuindonesia nyalakanindonesia ri2020', 'i m crying ', 'kereeeeeen ', 'edan edan edan the best', 'pak muh alafyu somat ', 'gay', 'youtobe rewind terbaik sih ini', 'keren banget ', 'erpan mana bang', 'gila auto nonton berulang ulang ', 'gk ada miauaug ', 'tv karng jauh dri edukasi dalam hal berita', 'keren bgtttt endingnya ishh ', 'asliii parah keren banget demi apa merinding liat nya', 'gilakkkkkkkk kerennnn parahhhh bikin nangissssssss', ' trending', 'gua nonton nya merinding asli keren banget gakerasa yaa 2020 udh mau selesai aja ', 'kok gada erickolim wkwkwk', 'keren', 'terasa banget dan ga ada obat le go rewindindonesia ri2020', 'gak ada omnibus law kah ', 'kereeennn ', 'sumpah ini keren abis gatau kenapa waktu lagu indonesia raya dimainkan air mata langsung netes ri2020 kerennn ', 'damnnnn boiiiii ', '4 16', 'eh gua boleh nanya gak kekeyi yang original mana ya wkwkwk ', 'sekerennn ituuuuuu good job all', 'minus bryan furran', 'keren banget sumpaj', 'ngga ada erico lim masih aja kubu kubuan sayang banget ngga ada ratu pentol yang asli ', 'finally masterpiece', 'keren bgt yaampun sampe nangis liatnya thanks youtube indonesia udah nemenin sampe sekarang ri2020', 'trending lah d', 'meriding pas bagian hanin seterusnya tapi dari awal udah keren banget ', 'satu hal yang paling berkesan clasic tapi classy', 'ad budi', 'keren bgt sumpaaaaa ', '9 20 9 45 best scene menurutku', 'sumpah asli gw merinding part hanin nyanyi indonesia pusaka sumpah karya anak bangsa bagus banget asliii 1000 1000 terus berkaryaaa semuanya dan semoga indonesia cepat pulih ', ' trending', 'wahhh ada igoy', 'ayo trending kan gys ', 'kereeeeen bangeeeeettt scenes favorit bikin nangis bombay pas bagian covad masuk indonesia smpe berasa udah gada lagi harapan tapi ternyata masih ada harapan besar krna semua kita lewatin bersama saling bntu saling support pokoknya ini keren bgt dan bikin sedih ', 'keren bangettt nangis ', 'sumpah openingnya kek di mv taylor swift lover huhuhu', ' ri2020 sedih', 'pak muhhh ', 'merinding dari awal sampai akhir luar biasa ', 'keren asli btw garaga dimana ', 'ga bosen walau sampe diulang2 emang bener2 bagus banget apalagi semenjak adanya virus covid19 dan himbauan dirumah aja kita jadi sering menghabiskan waktu di youtube dan video ini benar2 mengintrepretasikan moment2 yang terjadi di 2020 semangat terus indonesia ', 'saya tidak melihat keberadaan dia apakah dia di telan bumi ', 'kerennn bgt hampir meneteskan air mata ', 'gilakkk kerenn bgtt pusingggg ', 'jerome mana ', 'what a masterpiece salute to the creators gaada youtuber artis yg masuk liked it ', 'sory baru nonton', 'kejam semuanya dari lighting composer dll', 'keren rewind indonesia 2020', 'bukan maenn keren parahh ', 'gilaaaa keren banget', 'terimakasih kalian semua dan sukses selalu ', 'epic ', 'sumpah kerennn sedih kemudian dibuat merinding goksss ', '11 28 woi jadul bgtt ', 'kereeen', 'puas ', 'eh ada pak muhh', ' ri2020 ini sih keren asli susah ngejelasinnya mau kaya gimana ', 'kerenn abissss topppppp', 'keren banget', 'temen2 kalo mau videonya tr3nd1ng jangan komen pake emot yaaa', 'kaget bgttt ada pak muh kerennn abisss ', 'jelas ini mah harus banget trending 1', 'trending yok bisa yok', 'tahun 2020 sebentar yah ', 'njir kok sediihh ', 'trendinggg yokkk bisaaa like semua kometar orang ', 'kerennnnnnnnn gilaaaaaaaaaaa ', 'kerennn bgt merindinggggg', 'chandra aulion and team are killing this bro dayumn ', 'merinding parah ', 'gilaaa parah sih ini keren sampe merinding', 'keren bangettt', 'merinding heyyy nangiss', 'berasa nonton fillm pendek wajib thumbs up sih ini ngena banget', 'top ', 'cara terbaik untuk pamit skinnyindonesian24', 'becomcream nga adaa', 'konsepnya jauh lebih bagus dari tahun2 sebelumnya ', 'yg nonton ngulang ngulang cung wkwkwk', 'keren bangetttt ini wajib trending1 sih', '9 21 ada kak david', 'sad ending ', 'mantap', 'merinding woi pas bagian hanin diyaaa ', 'keren parah', 'proud ', 'kerennnmm ', '7 25 kirain eclipse ', '11 34 puncak kesedihan satttt ', 'ga nyangka ya banyak bgt momen yg udah kita lalui dan rasanya tahun ini adalah tahun yang harus banyak bgt bersabar good job ri2020 bravo ', 'keren bangett sampe nangis nonton nya ', 'merinding coookk keren banar ', 'wkwkw ngakak bgt pas bagian kursi', 'trending 1 trending 1 trending1', 'keren', 'trending', 'i cried ', 'keren bgt parahhh', 'kerenn gilaaaa', 'kerennn parraah emot apii ', 'keren sumpah tanpa embel drama jadinya keren banget ini yang di namakan kualitass', 'bener2 epic sih ', 'keren bangett ', 'ga trending parah ajg', '6 07 is that milos reference entah kenapa terbayang bayang njir', 'bgst lord windah gw mana', 'aing nangis nontong nya woii', 'keren bangett ', 'inii kerennn bangettt sih ngadain ide untuk masukin animator2 indonesia biar ga cuman animasi luar aja yg di banggain indo punya animator2 handal dan orang2 kreatif', 'anjay ada budi 01 gaming', 'keren bangettttttt', 'the best ever ', 'trending', 'daftar lagu youtube rewind 2020 a list by seorang manusia yang gabut cukup dibayar dengan like 1 42 justin bieber holy ft chance the rapper', 'go indonesia', 'keren parahhhh ', 'siluman kadal terkenal wkwk', 'kok banyak bawangnya sih hiks hiks hiks ayo bangkit indonesiaku', 'gilaaa parah keren merinding seneng sedih tegang campur aduk duh gak bisa di ungkapin pake kata ', 'keren bangetttt', 'sumpah ini keren banget anjay wajib trending 1 ini mah mogatrending1', 'mantap banget', 'kerennn parahhhhh ', 'gokil', 'sumpah merinding lur nontonnya ', 'ini yang bikin gue bangga jadi orang indonesia terimakasih sudah mengingatkan kami lagi dengan potensi anak muda mudi indonesia dengan berbagai talentanya salut untuk kalian semua ', 'top trend', 'gg', 'keren bangettt merinding ', 'why i smile and cry in the same time this is a masterpiece thank you for all the hard work', 'gokxx', 'terima kasih banyak buat para creators yang udah meluangkan waktunya buat bikin youtube rewind ini keren bgt sampe gabisa berkata kata and special thanks buat ka aulion dan ka chandra yg udah ngedirect ini keren bgt kak emg udah gausah diragukan lagi keahliannya kalian semua keren ', 'ada dynamite xixixi', 'trending', 'inii kerenn bgt gilaa', 'p e t j a h ', 'bukan mainnnn ', 'kereeennn serius', 'asli keren', 'keren paraaaahhh cuyyyyy huaaaa ', 'kerennn bangettt merinding ', 'wooohhh keren banget ', 'aot final season khas bang haji nya kak ', 'keren bangett ', 'kereeeennnnnnn harus tr3ndinggggggg', 'class is permanent', 'trending', 'player ff mendominasi pubg ml mana ', 'gaolllll', 'keren parah ', 'kok gk ada yutuber otomotif', 'gg parah', 'bahagia sedih ngakak terharu semua lengkap ', 'kok greget ya liatnya ', 'salut ', 'huuuuhhhh', 'beda tim produksi beda kualitas emang bukan asal sewa stadion haha', 'mantap jiwa', 'kerennn', 'masterpiece 2020', 'makasi selalu ada karya yang luar biasa dari semua ini banyak banget pelajarannya proud of u all', '11 29 youtuber idola sih asli om fitra eri', 'edaaaaan ', 'bagus bangeddd', ' ri2020 kerennnnn', 'coba ada oura marsha no mercy yurino', '2 13 3 42waduh ad panutan ku nih uwoe 5 32 kirain queen of pentol', 'kenapa gua nangis ', 'endingnya skinny pamit dong', 'keren banget terutama lagu mashup nya thank you for all the hardwork dan terima kasih jg ocbc nisp dan sponsor lain uda bantu sponsorin jd bs bkin sekeren ini jg ', 'bagus bangetttttt ', 'kaget liat dapid sama mas panca', 'keren bangett sumpahh director nya tim2one sama aulion memang gk ada lawan ', 'trending', 'keren banget cooooooook oriiiiiii', 'keren banget gua sampe merindinggg sumpahhhh congrats for aulion chandra liow dan para youtuber lainnya semoga konten kalian di 2021 lebih kreatif dan keren keren ', 'kado perpisahan terindah untuk 2020', 'entah knapa aku ntn sambil netesin air mata sekeren ini woi youtuber mati2 an cari content yg bagus tapi kalah oleh berita gimick gk mutu tetap semangat youtuber indonesia aku rindu youtube seperti dahulu ', 'sumpah keren sih', 'sumpah gak bisa berkata untuk rewind tahun ini baguss banget i m so proud of you of you guyss', 'pengen nangis gua liatnya gila keran bet', 'serius gw nonton rewind 2020 berasa panjang banget feel yang gw dapet ditahun ini bener bener berkesan tahun yang ga disangka bakal sesingkat ini dan punya keunikan cerita dibaliknya semoga di tahun yang akan datang kita semua mendapatkan kebahagiaan dan kesuksesan dunia maupun akhirat ', 'tretan meresahkan', 'beginilah jadinya kalo orang orang kreatif di indonesia berkumpul jadi satu ', '10 25 gw di bawa ke jaman2 youtube palng gw suka tq chandra liaow dan semua team yang udah menghibur kami ', 'merinding cukkk gillaaaa kerennn bangeettt abangggggg', 'mantap ', 'keren bgt cuy', 'waaawaaaa', 'keren banget gilaaaa', 'apa gua doang yg ngakak gra2 ada pak muh', 'nay gaada wkwkwkwk apa jangan2 komen uy ', 'boom ', 'mantap lanjutkan kak', 'trending dong naik terus', 'kasian luthfi anjayani ga diajak ', 'mangap aku nontonnya endingnya terhura merinding wahh keren ', 'wow gue nangis lo entah kenapa gilaa keren parahhhh ', 'berkelas that s all ', 'gilaaa keren bangett', 'ayok dong trending 1', 'keren', '10 54 ggs keinget wktu sd ', 'pas om deddy jari ke 0 langsung iklan', 'merinding heyyy nangiss', 'pak muh ', 'merindinggg asli ', 'sumpah bravo', 'trendingkan ', 'keren bgttt ', 'bocah nga seru masak yang terkenal cuma atta sama dylan pross', 'keereenn ', 'di momen akhir nangis gw', 'blm nonton gw lgsg like edit ciri khas aulion banget ini mah bnyak warna memanjakan mata ', 'yahh ga ada brando windah ', 'rewind terkeren di tahun 2020 ini walau ternyata tahun ini gak disangka kita alami secara global dilanda pandemi covid 19 tapi untuk membuat konsep ide dan segala usahanya dalam membuat karya persembahan rewind penutup 2020 ini benar2 matang kalian d best we proud of you ri2020', 'mantap ', 'gue paling suka pd saat adegannya tretan muslim coki ', ' nyalakan indonesia', ' ri020 epiccc ', 'keren banget bye', 'sumpah lebih bagus dari 2018', 'dari awal sampe akhir gw merinding keren paraah gilak', 'nangis aku liatnya ', 'pecahh pecah', 'bagus keren i enjoyed it thanks buat semua yang terlibat dan berpartisipasi dalam project ini ri2020', 'salut dengan ri2020 tetap semangat dalam berkarya creators indonesia ', 'kereeeeeen banget ', 'spam trending', 'pak muh is that uuuuu xd', 'mengandung bawang', 'trendinggkan', 'gokssss ¾', 'sumpahh kerenn', 'its a wow', 'gilakkk youtube rewind terkerennn ', 'trendingggg', 'kerennn', 'ini aku merasa aja atau gimana ya kurasa ada bagian chef arnoldnya itu di bagian kedua di ganti sama chandra', 'semangatt 2021 ', 'bayu skak e ndi mas ', 'the best video youtube 2020 ri2020', 'spektakuler terimakasih kawan2 youtubers ', 'wahh ini sih keren parahhh borrr sampe merinding gini cukkk', 'bagus sekali keren', 'ramaaaaiii ', 'keren banget napa si', 'mantap btr', 'indonesian pride ', 'keren bangettt t t trending1', 'kelasssss abisssssss ', 'hahahahahahha demituhan kaget ada pak muh lucuuu bgttttt', 'pak muh mood bgt ', 'keren banget sampe terharu liatnya ', 'merinding kangen bangga salut ', 'gokss ', 'youtuber binatang ga join nih wkwkw', 'scene 7 15 berasa nonton netplik', 'pak jokowi ga di ajak nih', 'sayang tidak ada nakama dalam video ini ', 'iri bilang bos ', 'mahal', 'wah walaupun tidak bisa bertemu tapi tetap keren berjuanglah youruber indonesia ', 'keren keren keren parah 100000000 x ', 'gokss ', 'yt emang beda ama tt', 'keren parah ', ' ri2020 merinding terutama endingnya kalo dapet feelnya pasti bikin nangis', 'rev keren bgt nangisss ', 'damn merinding bgt asliiii ', 'jam 22 49 viewers 522k sedangkan like 558k yutub ngaco wkwk', 'keren banget asli', 'bagiannya hanin bikin merinding banget pingin nangis ', 'keren parahh rewind youtube terdabest terkomplit', 'kurang manca nih ga seru ato ga manca yang ngedit', 'keren bgt cuy', 'gokkkssss sih ', 'ini yg paling kren keknya ', 'demi apapun gua merinding keren banget siii ini', 'nangiss liat nya keren bgt hiksrot', 'yang ada liat erpan1140 dimenit keberapa kasih tau gw', 'loh ini rewind indonesia ini udh kelas global sih ', 'keren bet rewind nya sumpah', 'let s goooooooo ', 'ya ampun sampe nangis nonton youtube rewind 2020 menyentuh banget good job buat bang chandra aulion dan seluruh creator youtube di indonesia ', '3 10 penampakan coookk ', ' mantap ', 'aweeesomeee ', 'bagus ini bukan cuman musik doang tapi ada film pendek nya sukses terus youtubers indonesia ', '7 53 mulai dari sini w merinding banget ', 'gak ngeliat ixora ', 'kereeeeeen', 'keren kalian keren sekali ', 'dibuat campur aduk bgt perasaannya masa sampe nangis coba ahhhhhhhhh keren bgttt salut sama kalian semua ', 'i don t know why i cry _ kek gue keren bgt bisa bertahan di 2020 walau banyak dirumahnya tapi banyak juga cobaan atau hambatan di tahun ini yang bikin naik turun mood _ thanks god and btw i m gonna miss all of these viral thing on 2020', 'gilaaaa', 'sumpah ini keren banget parah ', 'kereeennnnn ', 'baimwong sibuk bagi ', 'kok gue gk ada ', 'kerennn parah gila', 'coki muslim ga dimana2 bikin ngakak wkkwkwkwkkwkw', 'kerenn bgtt ', 'this video has more likes than viewers _ ', 'beh epic bgt penyatuan lathi sama blackping woiii', 'makasih 2020 ', 'sumpahhh ini keren bangett terima kasih untuk karya karya nya selama setahun ini sukses terus jaga kesehatan ', 'aaaaa kerenn woii', 'the best youtube rewind since 2014', 'sekerenn ituu gilaaa', 'bang budiiiiiii', 'i apreciate about yt rewind 2020 tapi ada fitra eri tapi kenapa gaada garasi drift garasi drift terkenal loh dalam youtube otomotif ', 'mau tanya itu rumah scene awal ada dimana ya bagus banget asli kalau buat syuting ', 'menyala ', 'keren banget', 'cuma bisa bantu nonton dan ga nge skip ad gokillllllllllll', 'kerennnnn', 'berkelasss bggttt saikkkkkk ', 'gilaa keren n kreatif banget good job ', 'keren banget gilaaaa thankyou for the hardwork ri2020', 'epic', 'spechless thanks a lot untuk semua orang yg terlibat dalam project ini ', 'keren bgt lihat nya sampe nangissss ', 'smooth banget videonya ', 'mau nangis ', 'gada obat dadadadahh aseli', '11 19 nangiss woii liat mas anca ', '2020 mau udahan ya ', 'sumpah merinding bet asli', 'sumpaa merinding demi huhu nangis bngt ', 'kereeeen banget tapi kurang scene pubg wkwkwkw', 'pliss gue makin gabisa ninggalin 2020 ', 'sumpah keren ', 'merinding cuukkkk ', 'merindiinggggg ', 'alhmdllh kakak beradik podcst msuk ri2020', '2021 bring back penspinning', 'mantap tahun ini', 'sumpahhh sedih banget pas liat ka jo sama andovi sumpah gue kangen jaman jaman youtube masih di kuasai mereka sebanyak apapun youtubers baru tetep kalian yang selalu di hati gue makasih udah menghibur kita semua we always love you ', 'merindingggg ', 'ericko manya woyyy', 'masterpiece', 'bangga bangett sama all the team yang berkontribusi buat rewind tahun ini ', 'aulllllll ', 'pas klimaks nya dapat banget sumpah', 'niceeeeeeee aaaaaaaa love it', 'terimakasih', 'terimakasih karyanya yg luar biasa ', '3 11 ada yang ngintip', 'ini keren banget terima kasih sudah memasukan lagu dynamite dari bts ke sini ', '11 35 huhuu im cry ', 'speechless wehh ', 'kereeeeen pisaaannn ', 'mantap', 'kerenn abiss ', 'it feels like end of decade we will start new decade', 'perfectly done dari pre sampai post gak maksain yang harus ada dan berusaha input all type of diversity yang ada memang sendiri mustahil belum bisa tapi kalau bersama there is a way', 'keren parahh', 'superb', 'sumpah ini keren banget ', 'udh deh kalian semua keren apalagi keluarganya atta dah mantep dah dah dah', 'pak muh hahahahha', 'pak muhhhhh', 'waah ini bagus sihh emang terbaek', 'beeeeest', 'manaaaa miawaugggggg sama garasi drifttttt ', 'beda jauh ama yg disponsorin sama bank ya wkwk ', 'it must go trending ', 'gilakkk benerbener nontonnya sangatsangat menakjubkannn baru kali ini komen di youtube ', 'netes air mata gw anjirrr keren banget sekuat itu kita semua bisa melalui 2020 dengan hal2 yang baik dan sangat baik ', 'this is amazing ', 'nangis liat ini keren banget ', 'reza arab ikut rewind lagi woiiiii ', 'merinding banget gue nonton ini semuanya yang terangkum bikin gue inget dan bersyukur di tahun yang berat ini gue ngalamin bebagai macam cobaan jatuh bangun tapi gue berthan sampai titik ini', 'seru bnget it s the bets', 'dita karang mana banggggggggggg ', 'idenya parah si out of the box bgtt', 'woah gila ini keren banget ', 'gua ramal bakal trending 1 ntar bilang ya kalo udah trending ', 'ga ada obat', 'parahhh keren bgt si ini', 'makasih', 'kurang chikakiku tuh', 'the best ', 'merinding asliikbsama kreativitas dan sense of art design nya', 'lindungi indonesia kami dan matikan kami dalam keadaan husnul hotimah ya rabb amin ', 'gilaaaaaa keren abizz', '2016 vibe', 'ericko lim gaada nih ', 'debes ', 'anjaaay ', 'mantap', 'di youtube rewind ini semua yang menonton menaruh harapan besar agar di tahun 2021 tidak ada lagi kejadian seperti tahun ini save2020', 'nangis bgttt baguss bangetttt ', 'keren bangeettttt ', 'pak muuhhhh', 'indosiar butuh editor kek gini njir', 'kerennn ', 'satu kata merinding ', 'keren bgt merinding ', 'gokss ', 'pecaah gilaaa ', 'pas denger angkatan 2020 selamat anda telah lulus merinding bgt huhu too sad too cry', 'sumpah keren bangeeeeet ', 'ada fadil sama pak muh ', 'the real rewind is back otw trending', 'kurang lagu lemon tree gustixa ', 'kereeen 2019gantipresident', '4 16 savage', 'that among us scene concept and brainstorming idea was so lit gg ri2020', 'sumpah ini gila banget woi', 'yg dislike rada ² bro', 'kerenn bangetttt ', 'pak muh ', 'keren bgt asli gua merindingggggg ', 'pengen youtuber idolamu collab nonton video ini aja ', 'aku cinta indonesia', 'sekarang gak akan ada lagi yg komen kebanyakan isinya artis bukam yutuber keren anjir', ' ri2020 gilaaa keren bangettt', 'sad ending sih tpi sumpah ini keren bnget', 'mantap pollll ', 'nangissss keren bangeettt', 'finally keren banget gilaaaaa ri2020', 'trending 01 ', 'itu gimn ceritanya anjir yg nonton 522 yg ngelike 557', 'gangerti lagi ini gila bgt', 'gassss trossss', 'kenapa setiap rewind selalu ada kak dovi atta dll ya perasaan tahun ini mereka gk terlalu up di yt', 'mancaaaaa mnaaaaa mancaaaaa ', 'cringe', 'jangan komen pake emot trndingkannnnn', 'bingung sm yg ngeunlike', 'ya ampun salfok bapaknya kak fadil woyy', 'demi apazihhh keren bgt ', 'ihh kenapa ga ada qory sama brando ', ' ri2020 kalian terbaik ', 'ahh bunaaa salfok banget cantikkk ', '2 13 bang budi panutan', 'kelas dunia ', 'menit 1 00 itu plagiat cod cold war anjgggg', 'wajib banget ni trending', 'keren ', 'gokil abis', 'tretannn and cokiii the best', 'yah meskipun 2020 sudah hancur banget di januari kita sudah beri banjir kemudian beberapa bulan kemudian covid 19 masuk ke indonesia kita diam di rumah terus semua acara yang udah disusun bareng temen semuanya hancur ya bener bener tahun terburuk tapi lihatlah di akhir tahun kita sudah disuguhi dengan hal yang sangat hangat banget jadi kalo 2020 udah menjadi tahun terburuk maka jangan buat tahun 2021 menjadi tambah buruk ', 'kuntull sayag', 'goosebumps goosebumps dimana mana merinding nangis ', 'ada david aaaaaa', 'parah sii sampe keluar air mata coy', 'merindingggg keren bgtttt', 'magda sama konex', 'trending 01 ', 'keren parah', 'keren bgtt sumpah ', 'sumpah yg dislike ga ngerti gue ada masalah hidup apa dia awokwowkwok', 'pov terimakasih selalu ada terimakasih selalu ada terimakasih selalu ada', 'demi apa gue nangis liat video ini sumpah keren banget gilaaaakkkkkk', 'video terepic yang gua tonton di tahun 2020 ', 'mantap youtube rewind indonesia lengkap sudah divideo ini skinnyindonesia24 tetap di hati pokoknya ', 'keren bet njirr', 'terlalu keren ', 'gila sayang bgt sama pak muh ', 'keren kereeen banget fire', 'anjir hanin cinta mati gue sama lo keren semua gilaaaa', 'lagi seru eh iklan tp ini keren banget ', 'ngebaperin sumpa ', '7 58 gua nangis sumpaaa go trending plisss', 'woyybaru kali ini liat views sama like seimbang ', 'ada yang lihat odading mang oleh ', 'amazing ', 'keren parah', 'engga ada obat emang', 'aaa merinding', 'kerennnn', 'scene terepik menurut aku waktu matiin mic ngomong sama kursi kosong kekeyi bukan boneka', 'ga ngerti lagi merinding bgt tb tb nangis keinget konten kreator jaman dulu ka candra ka arap dkk sumpah i nangis bgt kangen ˆ ', 'manaaaaa fpiiiiii woyyy kok ga adaaaa', 'keren abis bang', 'kren', 'demi apapun tbtb air mata gua keluar men gila gila bener keren bangett bangett bangetttt', 'kerennnnnnn bgtttttttttttt', 'yg nonton lebih dari 5 kali ada gak sakin bagus nya ', 'di 2020 ini berat banget tdk ada restu ortunya pekerjaan terhambat dll', 'kereeeeeeeeeeeeeeeeeeeeeeeeeeeeeen paraaaaaaaaaaaah', 'mantap bro keren', 'erikolim kok gaada', 'keren gilaa ri2020', 'gokil abis cuy ', 'sedih banget woyy keren bangetttttt', '9 45 kereeeeeeen gak ketulungan', 'wht a concept man ', 'goodjobbb ini keren bgttttttt', 'wah gila keren parahh', 'hapus aja rewind yang dr narkoboy malumaluin wkwkw jauh banget bagusan rewind yang di handle chandra', ' ri2020 majuuu teruss', 'keren parah', 'pas liat pak muh sama bang fadhil gatau kenapa ikutan senyum ', 'gilaaa ', 'gokzzzz parah sih', 'gila sih ini yang gua tunggu tunggu para senior berkumpul kembali untuk rewind yah di nanti nanti good for you skinny yang tahun ini atau esok adalah tahun terakhir buat kalian kami bangga dengan kalian wahai para senior senior ku', 'ketika lo ngerasa bersalah karena dapet tontonan sebagus ini karena cuma bisa like', 'keren banget woy ', 'this rewind petjah ', '4 15 dimatiin dong mikrofonnya yak kenal adegan itu', 'pecahhhh sih paling pecahhh ', 'bagus buanget banget banget trending trending trending ', 'cepet trending yaa', 'aaaaah kereeeen ', '2 49 chef arnold 2 51 chandraliow', 'keren parahhh ', 'where bintang emon wkwk', 'yg dislike pasti anak2 tiktodd v', 'keren ', 'erpan1140 ', 'keren banget banyak banget youtuber indonesia 2020 ', 'mulai menit 7 35 epic bgt mood campur aduk musik yg kerennn bgtt', 'sumpah keren banget konsep nya alus banget gg ', 'masterpiece', 'gokss', 'goks ', 'kerennn', 'gg gaming gg gaming gk guys rewind 2020 kita absen dulu ad deddy ', 'kurang rewind tentang erick balik ke rumahhh ', 'ttep team han ji pyeong youtuberewind2020 startup', 'gacor parah inimah kerenn ', 'masih ada hal baik di 2020', 'wah gila ini mah gua ulang berulang ulaangg co', 'gila sih kerennnn abizz gk ada obat sih', 'm e r i n d i n g', 'keren paraahh ', 'oh man what a masterpiece ', ' keren gaada obat ', 'paan si ini kan youtube rewind kok ada si mba r kan dia viral di tik tok', 'hahhhhhh apaan sih ini keren banget ', 'ini youtube rewind paling keren sih ', 'yang dislike punya masalah apa si bagus banget ini', 'wajib trend dan seluruh orang indo tau keren banget ', 'anjir gw baper sampe nangis lihatnya keren parah', 'keren banget woy ', 'keren keren', 'jujur keren bangett mau nangissss ã ã ã ã ã ã ã ã ', 'akhir nya nunggu selama 4 tahun akhir nya ada rewind yg di direct chandra dkk', 'gile broo ', 'kereeennn bangettt asliiii', 'kerennnn', 'bener bener kerenn', 'merinding pas hanin nyanyi', 'kerennn sangattt ', 'keren cokkkkkk jadi flashback ke youtube lama kernnnnnnn nya ', 'mau meninggol hahaha keren anjir vibesnya dapat banget sumpah deh', 'mantap', 'gg parah sih ni ', 'kelassss parahhhh', 'kerenn bgt gila', 'merinding parah 2020 memang tahun diselenggarakan ujian massal', 'keren abis sumpah', 'ada pakmuh', 'goosebumps rekkk ', 'pecah abiss si kereennn', 'pleas treanding', 'wuiihh cakeeeppp good ', 'harusnya bang erpan erickolim ryezn bobon santoso ikut pasti lebih mantap', 'the long awaited one has finally arrived', 'keren bangeeeeeeeeeeeet', 'gak ada obatttttt keren parahhhhhh ri2020', 'masterpiece ', 'sumpah keren bgt bgt bgt bgttt', 'kerenn mashaallah', 'b aja sih ga ada nangisnya', '4 10 familiar', 'secara tidak langsung disponsori oleh reddorz', 'gillaaaa keren parahhh bangga haru dan emosional banget ', 'kagak ada qg ', 'keren banget asli ', 'luar biasa ', 'skinnyindonesian24 ', 'bangga seneng terharu sedih nangis jadi satu ', 'sumpah gak boong bikin merinding ', 'agung hapsah yang mana ya', 'asli epic parah kalo youtube bikin rewind kalah dari ini payah asli', 'p p p p p p p p p p p p p p p p p p p p p p p p p', 'speechless', 'keren banget tapi sayangnya youtuber gamenya dari game petak2 yg buriq ini kan bukan 8 bit harusnya bisa gamer kayak milhya ekoju donkey benny moza bang alex dll', 'kerenn parah astagaaa ', 'ah mantapp terus berkaryaa para kreatorr kami sangat terhibur dengan konten2mu ', '11 10', 'keren ajg ', 'gila bgt parah', 'ericko lim', 'it s a lit i say that this is a truly masterpiece i m so proud of you guys who behind this project keep shining kings and queens ', 'gokillll keren parah merinding anjir', 'keren bangett senyum ² sendiri liatnyaa uhuyyy sukses semuanyaa', 'parah parah pecah coy ', ' ri2020', 'gilssssss keren batt', 'please trendingg', 'lah kenapa malah nangis ', 'see you 2020', 'huaaaas gilaaa kerennn parahh sihhh', 'keren bangettt sampe merinding guaaa', 'demi apa kerenn bangettt woi trending kan cepetan', 'pak muhhh mood sekaliiiiiii', 'demi apa part nyalakanindonesia it s make me cry ', 'this is litt ', 'gg nih pas scene lagu blackpink di medley sama lathi keren dah sumpah bangga ', 'shame on you yt rewind ours is better ri2020', 'thanks 2020 thank you atas semua pelajaran berharga nya ', 'keren parah sih ', 'fix must tranding 1 epic vidio', 'satu lagi masterpiece dari indonesia good job 2020 sukses terus indonesiaku', 'gajelas cok seru juga ngga', 'keren bgt ', 'paraaaaaaaaaah terima kasih banyak', 'yg nonton 446k yg like 550k holyyyyyy gila', 'yo lets go trending ', 'wow keren semoga saya bisa bergabung di tahun depan jika tidak tahun depanya lagi tetap semangat berkarya ', 'wow karya luarbiasa', 'youtube rewind indonesia 2020 gak ada obat ', 'epick', 'kerennnnn bangett', 'keren sangat', 'bagus banget parah', 'kok bagus si', 'paraaaaaaahhh anjir ', 'anjir banyak yang udah ada tanda ˆ nya dong kapan gua kek gitu ', 'ini rewindnya youtube apa tiktok ', 'masih di pantau trendingkan ri2020', 'sangat menyentuh ', 'ini ngaco kerennya ', 'parah si keren banget', 'keren banget', 'kereen bgt yampun', 'youtube rewind ter the best', 'gilaaaaaaaaaaa ini baru the best', 'sumpah gak bisa ngomong apa apa lagi kereeeeeennn', 'kenal youtube dari awal tahun 2015 5 tahun kerasa banget semua yang di puter di part akhir ngena banget deh terima kasih untuk semua content creator atas pengalaman menakjubkan nya ', 'keren bangetttt ', 'woowww', 'luar biasa semangat gotong royong', 'thank you for making an amazing youtube rewind 2020 ', 'rewind is coming ', 't_t pengen salto jadinya', '5 31 apaaaan kenapa ga ada kekey ² ² ² ² ² ² ²', '5 57 for ldp fans ', 'aghhh i can t handle my tears ', 'let s go trending ', 'bro i m here for a good laugh not teary eyes ', ' trendingkan yuk trendingkan yuk trendingkan yuk trendingkan yuk ', ' trendingkan yuk trendingkan yuk trendingkan yuk trendingkan yuk ', '5 31 oh im not ur little doll ', 'gilaaa bravo aulion n chandra and all team harusnya jadi youtube ini mah kelas rewind global ', ' trendingkan yuk trendingkan yuk trendingkan yuk trendingkan yuk ', 'sediiiih i grow up watching you guys all thank you for cheering me up through my dark days this past few years till we meet again sehat sehat kalian creator hebaat ', '8 38 ada lele gaess', 'kerennnn i will rate 100 10 ', 'persembahan terakhir untuk rewind terima kasih semua ', 'mo nagis stay healthy guys', ' this is youtube rewind indonesia ', '10 50 halo jemput cewe di panggang', 'missing ria sw', ' ri2020 is on fire ', '7 52 merindiiinggg bangettttt', '11 34 old generation say goodbye to the new generation damn i love that scane', 'gokiiillll kereen paraaahh ', '9 56 booommmm ', 'terima kasih banyaak buat support dari temen temen semoga video ini bikin semangat utk temen2 kreator bikin konten yang seru bermanfaat bisa menginspirasi satu sama lain terima kasiih ', 'so really love it so much kalau udh garapan chanliaw keren bgt high class so i am so proud nyalakanindonesia', '4 15 anjay mic nya di mute ', 'the real karya anak bangsa indonesia ', 'terima kasih semua pihak yg support semua masyarakat indonesia yg support bersama berbagi bersama beragam dan saling memahami itu indah keren gila ', 'rewind indonesia 2020 ri2020', 'terima kasih semua pihak yg support semua masyarakat indonesia yg support bersama berbagi bersama beragam dan saling memahami itu indah keren gila ', 'when i see red doors ', 'miawaug be like gw mana saya mana', '4 13 best moment', 'terima kasih semuanya love you all skinnyindonesian24 andovi da lopez jovial da lopez ', '7 55 pas masuk scene ini ditmbah lagu wajib nasional beuhh merinding bnget sumpah ntah knapa tiap dengerin lagu wajib nasional suka merinding dan kadang ampe nangis gokil parah sii mulai dri konsep visual ama backsound nya numero uno ', 'talent with no passion is nothing but talent with passion is amazing one of the best rewind ever great job pokonya kerenn parahhh', 'keren baaaangeeeeeettttt makasih yaa kalian yg sudah kerja keras bikin iniii', 'terbaik keren bet dah', 'terimakasih untuk kalian semua yang sudah bekerja keras terimakasih sudah menemani tahun 2020 ini terimakasih skinny indonesia yang tidak akan pernah terlupakan kaliaan keren bangettttttttt nangisss nihhh', 'i m satisfied 3', '4 13 satir in action ', 'di mohon memakai speaker headset terbaik kalian ketika menonton ', 'what a masterpiece', '2 38 moodbosterku jipyeong dan mas hansol ', 'atleast this is the good way to end 2020 good job guys ', 'merinding bagus banget harus trending ke1 nih gue gak mau tau harus trending pokokneh 2020 baaay selamat jalan', 'terimakasih buat kalian yang udah berpartisipasi semua ini kerennn ', 'this year is the most beautifull years ', 'this is so cool congrats to all team ', 'sad ending the bestt ', 'omg this is so cool if u say 2020 is the bad years you re stupid bro i love it nice keep going ', 'wah gila sih ini wajib trending 1 guysss ', 'merinding abissss ayo trendingkan', 'yok trending iki keren bgt parah ', 'this is the best video i ever watch in 2020 thankyou very much 3', '2 42 my dynamite', 'damn this is legit thank you ', 'i love you all indonesian youtubers ', '2 38 hanjipyeong nam dosan 3', 'rewind indonesia 2020 leggo ri2020', '9 35', 'well the best video ever also sad for losing skinny ', 'keren banget woyyy wajib trending ', 'holy shit this is too good', 'komen setelah trending komen sebelum tayang ri2020', 'this is was insane this is amazing damn god wow cool', 'it s so damn good ', 'siapa yang nontonnya lebih dari sekali me gilak keren sih sampe gw ulang ulang', 'keren bangetttt they really did a great job ', 'letsgoooooo ', '11 33 nangis moment', 'aaaa ini kelewatan kerennyaa ', '8 37 ada bang leo', 'ahhh gabisa ngomong lg merinding nontonnya gokssss ', 'merinding paraaahhh mantappu jiwa keren bangett', 'trendingkan ', '2 13 ada bang budi01 ', 'best rewind i ever watched ', 'the best youtube rewind ever ', 'let s go trending 1', 'trending kan ', 'the besttt ', 'yg kesini gara pak muhh gemess bgtt', 'gokilllllll ', 'kerennnnnn rewind skinny indonesian 24 ', 'masterpiece ', 'the bestt ', 'omg im crying ', 'huuuuaaaa apa ²an ini keren banget ', 'ye aye d', '7 52 merindinggg', 'siapa yang nangis ngeliat youtube rewind indonesia 2020 gatau tapi menurutku ini emosional banget', '4 48 ceramah khas tretan muslim wkwkwk', '7 33 aku kira weird genius anjin kwkoakw', 'lets go ri2020', 'keren parah ', '11 45 well they re not lying about retired from youtube you guys will be the best in my heart', '6 02 iyo senpaaii ', 'keren banget wajib trending ', '11 32 sedih sih asli endingnya malah jadi sad ending gilaaa petjaahhh bngt youtubers indonesia keren bngt skill kelas dunia ', 'tombol trending mana ', 'peettjjaaahhhhh paarraahhhhh ', '9 20 salfok sm gadgetin', 'the best youtube rewind ever ', 'the lover mv inspiration ', 'proudd of u all kerennn bangett merinding ', 'terimakasih semuanya para youtubers 2020 kami para penonton menjadi luar biasa ', 'kerenn bngtt iniii ', '3 10 lihat jendela', 'akhirnya indonesia mulai bersaing dengan chanel youtube diluar sana ', 'sedihhhhh euiii tapi 2 youtuber yang gw impiin kgk ada son of dad qorygor but its fine i steeelll love it', 'this is a masterpiece thank you sudah membuat karya ini indonesia bangga memiliki youtuber yang peduli dengan persatuan dan kesatuan ', 'ahhhh ', '4 26 zulumat luar biasa luar biasa ', 'the real comeback director nya emang berkualitas ', 'kerennn bgett dahh trendingg ', 'gue merinding nontonnya keren bangettt ', 'bocil epep belike kok epep gk ada sih bang ', 'best youtube rewind ever ', 'daaang bruhh i m crying ', 'this is my first time crying because of yt rewind i lost my mom this year and in the next 9 days i lost my sister by looking at this video i know that we ve been through a lot and if u are reading this you re doing a great job you can survive until this time and that s great ', '4 30 the best part', 'petcjahhhhhh ', '5 40 ada pak muhammad ', '6 04 ded lo harus main filmm siihh', '2 42 stan produk lokal kuy ', 'sooo good ', '11 02 air mata netes dengan sendirinya bagus sekali terima kasih ', 'omg kerem banget ', 'yuk trending yuk ', 'wah gokil keren parah ah kacau dah trending kan ', 'gokillll keren banget ini part nyanyi lagu indonesia merinding bangeet ', 'seneng bangett nonton nyaaaa makasih 2020 ', 'favorite scene coki muslim wkwkwk the best lah wkwkwk', 'yg suka atau sedih lihat rewind indonesia ', 'omgggg keren bgttttt ', 'merinding gilaaa kerenn ', 'the best untuk semua yang udah berpartisipasi peluk hangat online keren abissss ', 'pertanyaannya rewind 2019 kok ga ada woy ', 'sooo creative pesan yang disampaikan dapat ditangkap dengan baik well done buat semua team dan konten kreator youtuber yang terlibat', 'keren parahh semua yutuber yg gw tonton selama 2020 ada disini ', 'kerennnn banget woilah hrus trending 1', 'dame it bro benar benar konsep nya sangat sangat menarik godd job for chandraliaw aulion', 'kerenn bangett sampe nangis terharu dan bangga sama indonesia ', 'speechless keren bangettt ini ', 'that last scene tho ', 'keren banget si ini ', 'aaaaaaahhhhh udaaaa gillaaaa ya kaliaaaann seeemuaaaaaaa kerreeennnn paaarrraaaahhhh di suasana chaos begini sumpaaaahhh video ini benerrr2 aaaahhhh gak tau lagiiii mo ngomong apaaaaaaaa baik2 terus kaliaaaaannnn ', 'ajg dpt bgt vibes nya ', 'ajg gua lagi maskeran liat scene pak muh ', 'im waitin ', 'nobody me my friend itu anak kecil siapa sih ', ' ketawa ngakak pas main peran among us ini permainan fitnah online sama yg epic tu lagunya lathi emng yg mixing lagu jago ampun ', 'kerennnn bangett merindingg ', 'standing ovationnnnnn ', 'greatt presentttt unexpect bgttt parahhh ', 'damn what a great colaboration ', 'titip sendal sblm trending awokwkwkw', 'keren bgtbgt ', 'good old days ', 'gua bakal kasih video ini ke anak gua nanti sih agar dia tau susah dan duka tahun 2020 ini taun paling bersejarah sih menurut gue taun dimana gua tau kerasnya kehidupan ', 'gilaaaaa keren bangetttt terima kasih banyak kepada semuanya yg terlibat dalam produksi video ini maju terus perytan indonesiaaa ri2020 ', 'ini sih youtube rewind the next level bravo best of the best ever ', '3 41 anjayy ada bng budio uwoee', 'trendinggggkan ', 'e p i c ', 'video ini akan dipenuhi oleh komentar youtuber ceklis', 'tiba tiba nagis aja pas sampe akhir ', 'kerennnn bangetttt parahhhhhhh nangis merinding ', 'keren banget ', 'merinding kagum keren campurr ', 'paling membuat saya terharu adalah scene nya briptu norman membuat saya bertanya2 kenapa dia keluar dari brimob ', 'this is hi quality production epicc', 'keren parah editannya apalagi alurnya mantap dah merinding dong ', '10 10 kok yg 2018 nya ga di rewind ', 'masterpiece ', 'the best indonesian youtube rewind ever', 'the best rewind ever gileeeeee huhh ', '3 10 fillo vs ewing hd ', 'the best youtube rewind indonesia so far cool ', 'saya ingin berterimakasih kepada semuanya yg berperan dalam karya ini terimakasih sudah membuat karya sekeren ini ditengah pandemi yg sedang kita hadapi bangga indonesia punya kalian wajib jadi trending', 'you guys literally saves 2020 from the worst year ever ', 'let s goo trending kennn ', 'when somebody love memaaaaaang nusuukk', 'sedih merinding semua jadi satu sedih sekarang tahun terakhir skinnyindonesia24 di youtube ', 'kerennn parahhhhhhh good job ', 'sedih liat indonesia begini ', 'legends they re back ', 'the best lah pokok nya rewind 2020', 'omg amazing ', 'damn bruh ', 'scene terakhir lagi mewek nya liat rambut andovi jadi hilang gua meweknya wkwk', '8 48 zephyrus g14 gada kameranya kok bisa zoom anw great video love it ', '4 16 gua tau refrensi darimana ini ', 'sumpah gabisa berkata lagi bye bye skinny24 ', 'pecaaahhhhh pecaaaahhh ', '5 00 raja terakhir ', 'i m on tears thankyou for this art such a beautiful yet heart warming 14minutes video you guys are awsome run out of words no words i m on tears thank you guys ', '02 13 ada bang budi dong ', 'merinding before credits gila sih ini ', 'merinding ', 'keren parah gak tau lagi pkoknya mau nangis aja ', 'nangiisss ', 'high class ', 'keren bangeettt merinding pas part hanin ', 'sad ending ', 'beda kalau yg derect youtuber senior berkelas', 'ko gue nonton rewind malah nangis sih cepat membaik indonesia cepat membaik dunia ', '7 53 gatau ntah ngapa lgsung merinding', 'kayak film yh menghanyutkan ada senang terharu bangga sedih ', 'it so amazing bener bener campur aduk ', 'gila sekeren itu lit ', 'erico lim minder liat ini ', '1 45 hit me on face', 'keren parah demi apapun heran ajah masih ada ajah yang ngeunlike _ ', 'respect ', 'heh yg nanges pas ending ka jo sama andovi keluar ke pintu merah siapa aja ', 'bener bener keren bgt terimakasi untuk para creator you guys are the best ', '7 40 where are you now', '8 36 eh ada lele mewakili kita2 yg wisudanya harus online ', 'thank u so much for making this great art piece ', 'masterpiece damn ', 'keren banget ini mah eit gue kepo sama yang dislike psti psukan yutuber yang nggak ada di sini nih ', 'mari kita trendingkan kepuncak tertinggi number 1 agar indonesia tau inilah youtube rewind terbaik indonesia yuk trendingkan yuk ', 'kereeeeeeeen bgtttt semangat untuk 2021 semangat yukkkk byk hal yg menjadi pelajaran di 2021', '4 13 ini keren bgt mashoooook ', 'how the f ck its really god than 2019 ³ ', '2 42 dynamitee ', 'sayang ngga ada bang jess no limit yang sependapat likeee', 'keren banget anjerrrrrr proud of you bang chand dan youtuber lain ', 'ter epic ', 'merinding berkali kayak pas nonton endgame suww', 'terimakasih semua youtuber indonesia telah menghibur kami selama ini salam indonesia ', 'kerennnnn ', 'kerennnnnnnnn ', 'makasih banyak semua atas kerja kerasnyaaaa', 'keren bggddd woee ', 'yg gw tunggu2 ', 'kalo ada bang chandra liow dan kawan para youtubers senior ngga kaget pasti keren lahh good job ', 'keren banget ', 'njirrrr ', 'and that s how you do it ri2020 pastinya membekas di hati banyak orang dan diri sendiri merinding sampe nangis thank u so much for the amazing opportunity i got to be a part of something wonderful maju terus indonesia ', 'you guys literally saves 2020 from the worst year ever ', 'gaaaaaaaaaaaaaaaaaaaaaaaaaak ada obaaaaaaaaaat kereeeeeeen bettttt', 'gw jarang komen hampir gak pernah malah tapi harus komen gila sih parah banget keren gokil awalnya skeptis soal durasi yang sampe belasan menit ternyata bukan cuma rewind 2020 tapi rewind 1 dekade gokil great job semuanya wajib bangga ', '04 39 pemuda tersesat fans real madrid ', 'respect for skinnyindonesian24', 'ada pak muh dong ', 'rewind earth nanti taun 2069 direkturnya mars ', '4 14 waduh mencerminkan sidang di dp ', 'gila sih emang mantap kalo mereka yg bikin rewind ', '2020 waktunya singkat tapi banyak bgt yg udh dilaluin ', 'parahhh parahh ini baru rewind ', 'petjaahhhhhhhhhhhhhhhh ', 'wowwww kereennnn bangetttt ', 'sumpah si ini keren banget bikin aku nangis terharu terima kasih yang sudah berpatisipasi dalam ri ini aku bahagia ', 'cryyyy prouuddd ', 'kok gua nangis ya ', 'kerennnnnnnnnn', 'merinding woi ', '8 10 iklannya nongol', 'senang sedihnya dapet merinding brooo ri20 gookkiilllll ', 'rewind indonesia 2020 pecah ', 'i m crying ', 'semoga tahun depan bisa jauh lebih baik terima kasih 2020 atas segala tantangan', 'satu kata keren thanks sudah menyatukan banyak perbedaan dalam satu frame semoga indonesia bangkit dan sehat kembali', 'boom ini lah yg ditunggu gua speechlees and honestly it s great fantastic', 'cokkkk menyalaaaa ', 'gimana sih cara like 999 kali wajib trending ini mah', 'keren banget sihh good bye 2020 ', 'keren parahã ã ', 'rewind kali ini bikin gw nangis ga ngerti lagi udah bingung gw masih nyesek karna semua nyampur keren iya haru iya menghibur iya bingung gw bingung mau jelasinnya gimanaa good job team ri2020 ini sih jujur terbaikkkkks', 'keren ', 'goookil abissss ', 'mantappp ', 'gilagilagila', 'terbaik rewind 2020 indonesia ', ' ini rewind indonesia versi lucu https youtu be vrkulw9hdje', 'i cried so hard also when i heard when she loved me in the background just amazing', 'omgggg this is so cool hope the next year becomes a better year this year is a lot of trials but this year has a lot of memory ', 'sorry i m late but yoooww make this trending ', 'gilasi bagus bangett kudu trending inimah ', 'i need this mashup music available on spotify ', '6 12 dark sidenya 2020', 'dang this one is d best good job guys u guys made it ', 'the only thing that i wanna say is thankyou guys ', 'speechless paraaahhhh pas liat mas anca langsung keingettt jaman awal2 nnton yutub nontonya malming miko ', '11 40 time to say goodbye for old generation', 'makasih buat kalian yang ikut berpartisipasi youtube rewind ini kalian semua the best 3 ri2020', '9 43 epic moment', '4 27 scene yang paling gua suka wkwkwkwk', '10 37 ericko lim tersinggung melihat ini', 'waktu scene throwback gw nangis jdi kangen youtube dulu ', 'kok gua nangis ya liat endingnya ', 'high quality content ', 'kelaaaaasss so emotional ', 'let s go trending guys ', 'one of the best youtube rewind ', 'so awesome ', 'whatss this gorgeous ', 'i m crying ', 'gemoyy parahh gilaaa ', 'epic youtube rewind indonesia 2020 merinding liaat nya', '4 18 kejadian yang tidak boleh terlupakan', 'ini keren banget jujur semua aspek nya keren props buat semua yang terlibat you ve worked hard ', '4 30 untuk melihat mas mas madura dan mas mas agnostik', 'thebesttttttt ', 'idk why terakhir nya bikin merinding and bikin terharu sumpah welcome new generation', 'yok trending yokkkk', 'kereenn weee mau nangis saking kerennya ', 'art in the end of the year ', 'gila sih keren parah semua genre yt indo ada disini dan scene bendera merah putih juga merinding parah', 'mas anca with malam minggu miko hit me so harrrrrd series youtube terrbaik hingga hari ini ', '10 17 gila fkmovers leaked character sebelah kiri keknya ', 'kerennn bangeeettt ', 'best rewind so far ', '4 15 dih kena mute wkwkwk', 'thank you so much for such amazing rewind jadi semakin bersyukur aku lahir di indonesia', 'trendinggggg ', 'gila mantep bat tapi pengen liat bennymoza juga', 'sumpahh keren banget merindingg ', '10 40 siapa disini cita cita nya nangis ngeliat scene ini', 'merindiiiing keren pol terima kasih sudah membuat ini untuk indonesia ', 'gilaaaaa keren paraahhhhhhn ', 'merindinggg sumpah keren bgtttttt ', '10 00 omg ', 'keren bgt ', 'terbaik lah pokoknya terimakasih atas semuanya telah membuat video yg sangat bermakna ini ', '5 37 pak muh joget wkkwkwkwk', '07 58 merinding gua bangsat ¾ ˆ ¾ memang terbaik kalian', '5 28', 'baru sadar di menit 2 51 chandra sempet nya gantiin chef arnold', 'keren parahhh ', 'greattt jobbbb kereennnn bgt ', 'semoga indonesia lekas pulih ', 'leoooooo ã ³ ã ', 'wowww gilaa pecahhhh go trending ', 'cak nan ', 'gilaaaa sih ini keren parahhh ', 'keren bangetsssss semoga yang baca komen saya ini semoga di tahun 2021 mendapatkan keberkahan dunia akhirat rezeki yang halalan toyiban aaminn yaallah ', 'keren abis pesannya dapet banget ', 'another level bgt sesuai ekspetasi melebihi malah congrats finally you re all back ', 'kereeen bangeet asliiii creator indo tuh keren2 moga aja tahun depan konten yg viral yg keren2 macam ini', 'gila gilaa gilaa one of the best ytb rewind ', 'merindinggg bangga banget ', 'wuihhhh sugoi dekai temen temen 2020 emang luar biasa ', 'kok keren sih anjing terimakasih yaa terimakasih', 'dammmmnnn this is yt rewind yg pling bikin merinding salutttt sama bang chandra dan timnya', 'terlalu keren merinding gw', 'sumpah keren bangettt ', 'this is masterpiece ', 'terimakasih 2020 ', 'keren bgt kacau ', 'kerennn pars ', 'menyalaaa ', 'goosebumps chandra this was amazing ', 'wa bangsat keren banget ', 'mantap nih gw bakal share ke semua temen gw biar tranding 1', 'yri terkeren rennnnn yg pernah ada pesan moralnya kena banget dgn moment 2020 tahun yg penuh suka duka ', '4 13 4 40 kalian pasti udh pada tau ', 'keren bgt ', 'youtube rewind best everrr everr everrrrr ³ ³ ³ ³ ³ thnks chandra and all ³', 'kerenn gilaakk ', 'kerenn batttt ', ' binasa hal hal buruk indopride', 'semoga tahun 2021 lebih menyenangkan dari tahun 2020 aamiin ', 'cieee ada pak muh ', 'saya liat jerome dan leo ', 'kacauuu parahh kerenn ', 'scene terakhir mengandun bawang ', 'gokill', 'keren banget sumpah ', 'lathi x how you like that pecah ', 'keren abiez ', 'menyalaaa banarrr ', ' harus trending harus trending harus trending harus trending ', 'youtube as a door to begin but also ended it to a whole different life you really got us thank you for this great artwork you will always be remembered ', '11 32 sad part ever ', '11 37 farewell from the old generation', 'kerenn parahh merindingg ', 'the next level of rewind ', 'this video will make us cry thank you 2020 i will remember you till i old ', 'the best rewind in the year ', '0 12 wap reference', 'thank you so much for working hard indonesia creators this rewind almost made me tear up love you all ', 'the last scene of this video almost make me cry', '2 13 ehh ada bang budi sama frost diamond wkkwkw', '3 01 tatapan membara by chef arnold ', 'gilaaa keren larah merinding gue ngeliat rewind tahun ini gue jadi inget lagi jaman masih megang hape kotak nonton greates content creator ini gila sih ga bisa diungkapin kata2 keren parah pokoknya mah', 'proud of y all creator indonesia thank you 2020 ', 'i just wanna say three word for this rewind gorgeous amazing beautiful ', '8 55 fixx epic moment', 'aulion 2015 buka masker aulion 2020 pake masker konspirasi apakah ini wkwk', 'this is a lit ', 'best rewind ever ', 'merinding sih over all ini keren banget btw ada gue di menit 14 22', 'god damn this is awesome waiting for this moment since 2016 big respect to chandra liow aulion and all youtubers that participate in this youtube rewind specially jovial and andovi da lopez we will always remember you mambamentality', 'the best youtube rewind compare last ye oh wait i thought this is youtube rewind 2020 sorry', 'gaskuen trending', '2 23 my watermelon sugar ', 'sapa naroh bawang disni woy speechless this is good af', 'banyak makna terimakasih semuanya jangan lupa yang baca komen saya sekarang hari senin terakhir di tahun 2020 ', 'trending kan mntpp ', 'itu ending nya nunjukin kalo ka jo sama andovi mau udahan dari youtube kan sedih banget asliiii', 'this is more than a rewind this should be nominated you guys did great salute ', 'keren banget merinding sampe nangis not the best year but at least from this year we get many things to learn maju terus indonesia ', '9 19 akhirnya gua ngeliat kak regi', 'me see lord kungkingkang me like it', 'anying keren gwa nangis nontonnya terimakasihh yaaakk', '04 13 bole juga nyindir nya wkwk', 'sad ending gini njirr ', 'semuanya pasti akan berlalu epic closing applause', 'sebagai orang kampung bangga bangetl los dol bisa masuk rewind ada yang sama ', '4 38 the best', 'sumpahhh merindingggg ', '10 57 memories bring back ', 'it s masterpiece ', '3 30 haw to become ', '9 55 dammm ', 'i m not crying you re crying', '7 52 mrinding bgt hanin dhiya µ', 'the best youtube rewind ', 'harus trending kualitas global ini mah ', '2 13 wkwkwk ad bang budi', 'i got emotional from this video ', 'omg im cryinggg ', 'speechless the legends has are here ', 'keren banget bangetannnn gangerti lg nangis ngulang berkali2 ', 'rewind exist trending understandable have a great day ', '7 52 suddenly got goosebumps n in tears ', ' saya youtuber pemula saya ngedit tiap hari saya ngonten tiap hari mohon support nya temen ² ', 'gileee bravooo thank you for all memories 2020', 'ada buna masih hijaban alhamdulillah ', 'kalian be like bang bang bts nya mana bangg ', 'the next level of rewind ', '10 00 epic banget sumpah ', 'holy intentions dan stuck with u paling awal yup yup ', 'so proud of you guyssss terimakasih untuk kerja kerasnya buat yang berada dibelakang layar video ini sungguh lah bikin aku gabisa berkata kata lagiiiii huhubiju shzkkajja intinya terimakasih atas kerja kerasnya kalian semua hebatt ', 'bro this 2020 i will remember forever ', 'thankyou 2020 ', 'omg this is so dope ', '11 22 demiii tuuuhaaannn ', '10 30 sapa yang naro bawang oi', '4 14 ngena banget moment nya ', 'well done masterpiece proud of you guys ini luar biasa ', 'masterpiece ', 'gua nyesel nonton rewind ga beli yt premium anjim tp gilak sih sekeren ini ', '265 rb x ditonton tp likenya 426 rb this is hack ', 'gak sanggup meninggalkan tahun 2020 ', '2020 separuh lagu yg disini ada di tiktok', 'wah ada panutan gadget juga di youtube rewind tahun ini hmmm sepertinya menarique untuk dibuat video reactionnya ', 'ayee ', 'wow this is so cooollll ', 'knp lagu wap dimasukan jugaaa nangis tapi over all bagus banget wehh', 'gokiiillllllll ', 'big applaus for you sir respect ', 'cukup seneng karena subs terbanyak cuma nongol 5 detik negativecommentwillbeforgiven', 'likenya lbih byk 2xdri yg nonton njirr ', 'keren bgd gilaa ã ã ã ã terharuu sampe liatnya nangis bgd ã ã ã ã ã ã ', 'yaallah merinding keren bgtttt', 'keren bgt geloo ', 'gilaaa gilaaa ', '7 56 merinding µ', 'ngeri kerenn parahhh ', '4 21 the best', 'bikin ketawa merinding dan bikin nangiss diakhir keren parahh ', 'wah gokil merinding gua nonton nya keren banget ', 'sumpah demi apapun gw nontonin ini terharu banget ', 'keren parraaaaah ', 'growed up with u all ', 'keren parah ', 'gilaaaa beneran merinding looooo ceeeerrsssss ', 'akhirannya sponsor red dorz ', 'lah nangis akuu great job ', 'keren bangetttttt ', 'ini mahakarya prestasi anak indonesia masa bodo dibilang overproud', 'trending ', '5 54 miko panggayo kok ga disebut di credittttt eh bener miko kann ', 'better than ahhh intinya ini debes ', '0 11 0 34 dibuka dengan sampahhhh', 'kerensekaliiiiiiii terimakasih ', 'ini da real rewind woiiiii keren bangeet gilaak merindiiing gue emang chandraliow x aulion ga usah di raguin lagiiii', 'apa cuma aing yg nunggu kirain ada erpan v ', 'i m a proud indonesian merinding ', 'muslim sudah bersabda kawan kawan ', '2 41 ada foto 1d diujung kanan ¾ ãƒ ¾ ', 'best rewind that makes me cried', 'pecahhh ', 'sumpah ga boong gue nangis anjinggggg sumpahhh semua team yang kerjain thx banget kalian gila ga berasa gue di youtube udah 10 tahub', 'kerenn banget parahhh ', 'teruntuk kak aulion dan bang chan thx bangeeeetttt kereeeennnnn ', 'kekeyi glow up ', 'waahhh gilaaasihhh trend2 yg viral semua ada dapet lagu2 viral juga ada youtuber2nya juga lengkap asli terbaik setelah tahun kmrn gaada terbaik ri2020 t t', 'outstanding ', 'merinding kereeeeeeeeeeeennnnn ', 'this not a video but truly a masterpiece ', 'keren scene bendera indonesia semangat nasionalisme nya dapet bgt part paling kerasa itu pas ngadepin pandemi dimana byk orang2 putus asa tp kita semua bahu membahu utk turun dg sumbangsihnya masing2 buat nolong orang2 yg kena dampak scara lgsung janganbosanjadiorangbaik ri2020', 'kerennnn bangetttttttt ', 'keren bangeetttt ', 'respect buat kalian yg kreatif di bidangnya masing masing terus lah berkarya dan menginspirasi', 'berasa flashback nya ', 'respect ', 'me dont wanna watch ri2020 everyone said so much bawang also aaashshjsjsks masterpiece ', ' respect is earned not taught andovi', '2 55 tanboy kn', 'anjirr keren bgt loveee ', 'damnnn you guys killing it cheerss ', 'amazingly the music is very luxurious made by eka gustiwana and prague symphony orchestra and adapted by erwin gutawa give me goosebumps ', 'merinding coy big applause ', 'best ever rewind ', 'damn ', 'speechleesssssss ', '5 47 ada pak muh i love u pak muuh ', 'conten cretaor old rewind ini mah bukan youtoub rewand ', 'damn this is so cool ', 'fak keren sih konsep nya mengenang semua yg viral di 2020 tapi entah knapa kok cringe ', 'terbaik terniat spechless banget kalian luar biasa go trending ', 'best aulion never disappoint ', 'keren parah bruuuv you got me crying there this year has been the shittiest year ever stay safe kalian semua', 'where dinding pa dinding ', 'thank you semuanya udh ngehibur memberikan konten yang bermanfaat memberikan informasi dan motivasi it s time to say goodbye bye 2020 ', 'un1ty keren bgtt this whole video is amazing ah speechless parah thank you for making this chandra aulion gapernah mengecewakan 3 yuk trending', 'keren abis parah wajib trending makasih semua yg terlibat dividio jujur sedih pas liat ka andovi buka pintu doraemonnya tapi jika itu yg adalah pilihan lanjut ka semangat terus sehat2 juga untuk semuanya terima kasih ', 'take a moment to appreciate our indonesian youtube creator ', 'kirain gue nangis karena cengeng ternyata banyak yang nangis juga ', 'gokssss ', 'masterpiece ', 'menutup worst year dengan masterpiece goks ', 'petjaaahhh sampe merinding ke ubun2 ', 'merinding liatnya terimakasih 2020 ', 'terima kasih 2020 membaiklah 2021 ', 'finally ', 'this is the true rewind finally it s back ']\n"
     ]
    }
   ],
   "source": [
    "print(comment_clean)"
   ]
  },
  {
   "cell_type": "markdown",
   "metadata": {},
   "source": [
    "Menambahkan kolom clean untuk komentar yang sudah dibersihkan"
   ]
  },
  {
   "cell_type": "code",
   "execution_count": 16,
   "metadata": {},
   "outputs": [
    {
     "data": {
      "text/html": [
       "<div>\n",
       "<style scoped>\n",
       "    .dataframe tbody tr th:only-of-type {\n",
       "        vertical-align: middle;\n",
       "    }\n",
       "\n",
       "    .dataframe tbody tr th {\n",
       "        vertical-align: top;\n",
       "    }\n",
       "\n",
       "    .dataframe thead th {\n",
       "        text-align: right;\n",
       "    }\n",
       "</style>\n",
       "<table border=\"1\" class=\"dataframe\">\n",
       "  <thead>\n",
       "    <tr style=\"text-align: right;\">\n",
       "      <th></th>\n",
       "      <th>Komentar</th>\n",
       "      <th>Hasil</th>\n",
       "      <th>sentimen</th>\n",
       "      <th>clean</th>\n",
       "    </tr>\n",
       "  </thead>\n",
       "  <tbody>\n",
       "    <tr>\n",
       "      <th>0</th>\n",
       "      <td>trendingg</td>\n",
       "      <td>Positif</td>\n",
       "      <td>1</td>\n",
       "      <td>trendingg</td>\n",
       "    </tr>\n",
       "    <tr>\n",
       "      <th>1</th>\n",
       "      <td>demi apapun ini keren bangetttr</td>\n",
       "      <td>Positif</td>\n",
       "      <td>1</td>\n",
       "      <td>demi apapun ini keren bangetttr</td>\n",
       "    </tr>\n",
       "    <tr>\n",
       "      <th>2</th>\n",
       "      <td>ngeriiiii</td>\n",
       "      <td>Positif</td>\n",
       "      <td>1</td>\n",
       "      <td>ngeriiiii</td>\n",
       "    </tr>\n",
       "    <tr>\n",
       "      <th>3</th>\n",
       "      <td>kerennnn</td>\n",
       "      <td>Positif</td>\n",
       "      <td>1</td>\n",
       "      <td>kerennnn</td>\n",
       "    </tr>\n",
       "    <tr>\n",
       "      <th>4</th>\n",
       "      <td>kalo dia yg mengang kek jaminan mutu gitu dah ...</td>\n",
       "      <td>Positif</td>\n",
       "      <td>1</td>\n",
       "      <td>kalo dia yg mengang kek jaminan mutu gitu dah ...</td>\n",
       "    </tr>\n",
       "  </tbody>\n",
       "</table>\n",
       "</div>"
      ],
      "text/plain": [
       "                                            Komentar    Hasil  sentimen  \\\n",
       "0                                          trendingg  Positif         1   \n",
       "1                    demi apapun ini keren bangetttr  Positif         1   \n",
       "2                                          ngeriiiii  Positif         1   \n",
       "3                                           kerennnn  Positif         1   \n",
       "4  kalo dia yg mengang kek jaminan mutu gitu dah ...  Positif         1   \n",
       "\n",
       "                                               clean  \n",
       "0                                          trendingg  \n",
       "1                    demi apapun ini keren bangetttr  \n",
       "2                                          ngeriiiii  \n",
       "3                                           kerennnn  \n",
       "4  kalo dia yg mengang kek jaminan mutu gitu dah ...  "
      ]
     },
     "execution_count": 16,
     "metadata": {},
     "output_type": "execute_result"
    }
   ],
   "source": [
    "df['clean'] = comment_clean\n",
    "df.head()"
   ]
  },
  {
   "cell_type": "code",
   "execution_count": 17,
   "metadata": {},
   "outputs": [
    {
     "data": {
      "text/plain": [
       "'kalo dia yg mengang kek jaminan mutu gitu dah panjang umur semua biar anak cucu masih bisa ngerasain karya kalian '"
      ]
     },
     "execution_count": 17,
     "metadata": {},
     "output_type": "execute_result"
    }
   ],
   "source": [
    "df['clean'][4]"
   ]
  },
  {
   "cell_type": "code",
   "execution_count": 18,
   "metadata": {},
   "outputs": [
    {
     "name": "stdout",
     "output_type": "stream",
     "text": [
      "['ada', 'adalah', 'adanya', 'adapun', 'agak', 'agaknya', 'agar', 'akan', 'akankah', 'akhir', 'akhiri', 'akhirnya', 'aku', 'akulah', 'amat', 'amatlah', 'anda', 'andalah', 'antar', 'antara', 'antaranya', 'apa', 'apaan', 'apabila', 'apakah', 'apalagi', 'apatah', 'artinya', 'asal', 'asalkan', 'atas', 'atau', 'ataukah', 'ataupun', 'awal', 'awalnya', 'bagai', 'bagaikan', 'bagaimana', 'bagaimanakah', 'bagaimanapun', 'bagi', 'bagian', 'bahkan', 'bahwa', 'bahwasanya', 'baik', 'bakal', 'bakalan', 'balik', 'banyak', 'bapak', 'baru', 'bawah', 'beberapa', 'begini', 'beginian', 'beginikah', 'beginilah', 'begitu', 'begitukah', 'begitulah', 'begitupun', 'bekerja', 'belakang', 'belakangan', 'belum', 'belumlah', 'benar', 'benarkah', 'benarlah', 'berada', 'berakhir', 'berakhirlah', 'berakhirnya', 'berapa', 'berapakah', 'berapalah', 'berapapun', 'berarti', 'berawal', 'berbagai', 'berdatangan', 'beri', 'berikan', 'berikut', 'berikutnya', 'berjumlah', 'berkali-kali', 'berkata', 'berkehendak', 'berkeinginan', 'berkenaan', 'berlainan', 'berlalu', 'berlangsung', 'berlebihan', 'bermacam', 'bermacam-macam', 'bermaksud', 'bermula', 'bersama', 'bersama-sama', 'bersiap', 'bersiap-siap', 'bertanya', 'bertanya-tanya', 'berturut', 'berturut-turut', 'bertutur', 'berujar', 'berupa', 'besar', 'betul', 'betulkah', 'biasa', 'biasanya', 'bila', 'bilakah', 'bisa', 'bisakah', 'boleh', 'bolehkah', 'bolehlah', 'buat', 'bukan', 'bukankah', 'bukanlah', 'bukannya', 'bulan', 'bung', 'cara', 'caranya', 'cukup', 'cukupkah', 'cukuplah', 'cuma', 'dahulu', 'dalam', 'dan', 'dapat', 'dari', 'daripada', 'datang', 'dekat', 'demi', 'demikian', 'demikianlah', 'dengan', 'depan', 'di', 'dia', 'diakhiri', 'diakhirinya', 'dialah', 'diantara', 'diantaranya', 'diberi', 'diberikan', 'diberikannya', 'dibuat', 'dibuatnya', 'didapat', 'didatangkan', 'digunakan', 'diibaratkan', 'diibaratkannya', 'diingat', 'diingatkan', 'diinginkan', 'dijawab', 'dijelaskan', 'dijelaskannya', 'dikarenakan', 'dikatakan', 'dikatakannya', 'dikerjakan', 'diketahui', 'diketahuinya', 'dikira', 'dilakukan', 'dilalui', 'dilihat', 'dimaksud', 'dimaksudkan', 'dimaksudkannya', 'dimaksudnya', 'diminta', 'dimintai', 'dimisalkan', 'dimulai', 'dimulailah', 'dimulainya', 'dimungkinkan', 'dini', 'dipastikan', 'diperbuat', 'diperbuatnya', 'dipergunakan', 'diperkirakan', 'diperlihatkan', 'diperlukan', 'diperlukannya', 'dipersoalkan', 'dipertanyakan', 'dipunyai', 'diri', 'dirinya', 'disampaikan', 'disebut', 'disebutkan', 'disebutkannya', 'disini', 'disinilah', 'ditambahkan', 'ditandaskan', 'ditanya', 'ditanyai', 'ditanyakan', 'ditegaskan', 'ditujukan', 'ditunjuk', 'ditunjuki', 'ditunjukkan', 'ditunjukkannya', 'ditunjuknya', 'dituturkan', 'dituturkannya', 'diucapkan', 'diucapkannya', 'diungkapkan', 'dong', 'dua', 'dulu', 'empat', 'enggak', 'enggaknya', 'entah', 'entahlah', 'guna', 'gunakan', 'hal', 'hampir', 'hanya', 'hanyalah', 'hari', 'harus', 'haruslah', 'harusnya', 'hendak', 'hendaklah', 'hendaknya', 'hingga', 'ia', 'ialah', 'ibarat', 'ibaratkan', 'ibaratnya', 'ibu', 'ikut', 'ingat', 'ingat-ingat', 'ingin', 'inginkah', 'inginkan', 'ini', 'inikah', 'inilah', 'itu', 'itukah', 'itulah', 'jadi', 'jadilah', 'jadinya', 'jangan', 'jangankan', 'janganlah', 'jauh', 'jawab', 'jawaban', 'jawabnya', 'jelas', 'jelaskan', 'jelaslah', 'jelasnya', 'jika', 'jikalau', 'juga', 'jumlah', 'jumlahnya', 'justru', 'kala', 'kalau', 'kalaulah', 'kalaupun', 'kalian', 'kami', 'kamilah', 'kamu', 'kamulah', 'kan', 'kapan', 'kapankah', 'kapanpun', 'karena', 'karenanya', 'kasus', 'kata', 'katakan', 'katakanlah', 'katanya', 'ke', 'keadaan', 'kebetulan', 'kecil', 'kedua', 'keduanya', 'keinginan', 'kelamaan', 'kelihatan', 'kelihatannya', 'kelima', 'keluar', 'kembali', 'kemudian', 'kemungkinan', 'kemungkinannya', 'kenapa', 'kepada', 'kepadanya', 'kesampaian', 'keseluruhan', 'keseluruhannya', 'keterlaluan', 'ketika', 'khususnya', 'kini', 'kinilah', 'kira', 'kira-kira', 'kiranya', 'kita', 'kitalah', 'kok', 'kurang', 'lagi', 'lagian', 'lah', 'lain', 'lainnya', 'lalu', 'lama', 'lamanya', 'lanjut', 'lanjutnya', 'lebih', 'lewat', 'lima', 'luar', 'macam', 'maka', 'makanya', 'makin', 'malah', 'malahan', 'mampu', 'mampukah', 'mana', 'manakala', 'manalagi', 'masa', 'masalah', 'masalahnya', 'masih', 'masihkah', 'masing', 'masing-masing', 'mau', 'maupun', 'melainkan', 'melakukan', 'melalui', 'melihat', 'melihatnya', 'memang', 'memastikan', 'memberi', 'memberikan', 'membuat', 'memerlukan', 'memihak', 'meminta', 'memintakan', 'memisalkan', 'memperbuat', 'mempergunakan', 'memperkirakan', 'memperlihatkan', 'mempersiapkan', 'mempersoalkan', 'mempertanyakan', 'mempunyai', 'memulai', 'memungkinkan', 'menaiki', 'menambahkan', 'menandaskan', 'menanti', 'menanti-nanti', 'menantikan', 'menanya', 'menanyai', 'menanyakan', 'mendapat', 'mendapatkan', 'mendatang', 'mendatangi', 'mendatangkan', 'menegaskan', 'mengakhiri', 'mengapa', 'mengatakan', 'mengatakannya', 'mengenai', 'mengerjakan', 'mengetahui', 'menggunakan', 'menghendaki', 'mengibaratkan', 'mengibaratkannya', 'mengingat', 'mengingatkan', 'menginginkan', 'mengira', 'mengucapkan', 'mengucapkannya', 'mengungkapkan', 'menjadi', 'menjawab', 'menjelaskan', 'menuju', 'menunjuk', 'menunjuki', 'menunjukkan', 'menunjuknya', 'menurut', 'menuturkan', 'menyampaikan', 'menyangkut', 'menyatakan', 'menyebutkan', 'menyeluruh', 'menyiapkan', 'merasa', 'mereka', 'merekalah', 'merupakan', 'meski', 'meskipun', 'meyakini', 'meyakinkan', 'minta', 'mirip', 'misal', 'misalkan', 'misalnya', 'mula', 'mulai', 'mulailah', 'mulanya', 'mungkin', 'mungkinkah', 'nah', 'naik', 'namun', 'nanti', 'nantinya', 'nyaris', 'nyatanya', 'oleh', 'olehnya', 'pada', 'padahal', 'padanya', 'pak', 'paling', 'panjang', 'pantas', 'para', 'pasti', 'pastilah', 'penting', 'pentingnya', 'per', 'percuma', 'perlu', 'perlukah', 'perlunya', 'pernah', 'persoalan', 'pertama', 'pertama-tama', 'pertanyaan', 'pertanyakan', 'pihak', 'pihaknya', 'pukul', 'pula', 'pun', 'punya', 'rasa', 'rasanya', 'rata', 'rupanya', 'saat', 'saatnya', 'saja', 'sajalah', 'saling', 'sama', 'sama-sama', 'sambil', 'sampai', 'sampai-sampai', 'sampaikan', 'sana', 'sangat', 'sangatlah', 'satu', 'saya', 'sayalah', 'se', 'sebab', 'sebabnya', 'sebagai', 'sebagaimana', 'sebagainya', 'sebagian', 'sebaik', 'sebaik-baiknya', 'sebaiknya', 'sebaliknya', 'sebanyak', 'sebegini', 'sebegitu', 'sebelum', 'sebelumnya', 'sebenarnya', 'seberapa', 'sebesar', 'sebetulnya', 'sebisanya', 'sebuah', 'sebut', 'sebutlah', 'sebutnya', 'secara', 'secukupnya', 'sedang', 'sedangkan', 'sedemikian', 'sedikit', 'sedikitnya', 'seenaknya', 'segala', 'segalanya', 'segera', 'seharusnya', 'sehingga', 'seingat', 'sejak', 'sejauh', 'sejenak', 'sejumlah', 'sekadar', 'sekadarnya', 'sekali', 'sekali-kali', 'sekalian', 'sekaligus', 'sekalipun', 'sekarang', 'sekarang', 'sekecil', 'seketika', 'sekiranya', 'sekitar', 'sekitarnya', 'sekurang-kurangnya', 'sekurangnya', 'sela', 'selain', 'selaku', 'selalu', 'selama', 'selama-lamanya', 'selamanya', 'selanjutnya', 'seluruh', 'seluruhnya', 'semacam', 'semakin', 'semampu', 'semampunya', 'semasa', 'semasih', 'semata', 'semata-mata', 'semaunya', 'sementara', 'semisal', 'semisalnya', 'sempat', 'semua', 'semuanya', 'semula', 'sendiri', 'sendirian', 'sendirinya', 'seolah', 'seolah-olah', 'seorang', 'sepanjang', 'sepantasnya', 'sepantasnyalah', 'seperlunya', 'seperti', 'sepertinya', 'sepihak', 'sering', 'seringnya', 'serta', 'serupa', 'sesaat', 'sesama', 'sesampai', 'sesegera', 'sesekali', 'seseorang', 'sesuatu', 'sesuatunya', 'sesudah', 'sesudahnya', 'setelah', 'setempat', 'setengah', 'seterusnya', 'setiap', 'setiba', 'setibanya', 'setidak-tidaknya', 'setidaknya', 'setinggi', 'seusai', 'sewaktu', 'siap', 'siapa', 'siapakah', 'siapapun', 'sini', 'sinilah', 'soal', 'soalnya', 'suatu', 'sudah', 'sudahkah', 'sudahlah', 'supaya', 'tadi', 'tadinya', 'tahu', 'tahun', 'tak', 'tambah', 'tambahnya', 'tampak', 'tampaknya', 'tandas', 'tandasnya', 'tanpa', 'tanya', 'tanyakan', 'tanyanya', 'tapi', 'tegas', 'tegasnya', 'telah', 'tempat', 'tengah', 'tentang', 'tentu', 'tentulah', 'tentunya', 'tepat', 'terakhir', 'terasa', 'terbanyak', 'terdahulu', 'terdapat', 'terdiri', 'terhadap', 'terhadapnya', 'teringat', 'teringat-ingat', 'terjadi', 'terjadilah', 'terjadinya', 'terkira', 'terlalu', 'terlebih', 'terlihat', 'termasuk', 'ternyata', 'tersampaikan', 'tersebut', 'tersebutlah', 'tertentu', 'tertuju', 'terus', 'terutama', 'tetap', 'tetapi', 'tiap', 'tiba', 'tiba-tiba', 'tidak', 'tidakkah', 'tidaklah', 'tiga', 'tinggi', 'toh', 'tunjuk', 'turut', 'tutur', 'tuturnya', 'ucap', 'ucapnya', 'ujar', 'ujarnya', 'umum', 'umumnya', 'ungkap', 'ungkapnya', 'untuk', 'usah', 'usai', 'waduh', 'wah', 'wahai', 'waktu', 'waktunya', 'walau', 'walaupun', 'wong', 'yaitu', 'yakin', 'yakni', 'yang']\n"
     ]
    }
   ],
   "source": [
    "print(stopwords.words('indonesian'))"
   ]
  },
  {
   "cell_type": "markdown",
   "metadata": {},
   "source": [
    "#### Menambahkan kata yang di lewati dalam Bahasa Indonesia"
   ]
  },
  {
   "cell_type": "code",
   "execution_count": 19,
   "metadata": {},
   "outputs": [],
   "source": [
    "stop_words = set(stopwords.words('indonesian'))"
   ]
  },
  {
   "cell_type": "code",
   "execution_count": 20,
   "metadata": {},
   "outputs": [],
   "source": [
    "df['clean'] = df['clean'].str.strip()"
   ]
  },
  {
   "cell_type": "markdown",
   "metadata": {},
   "source": [
    "#### Menambahkan Fungsi untuk menghapus kata yang di lewati"
   ]
  },
  {
   "cell_type": "code",
   "execution_count": 21,
   "metadata": {},
   "outputs": [],
   "source": [
    "def remove_stopwords(line):\n",
    "    word_tokens = word_tokenize(line)\n",
    "    filtered_sentence = [w for w in word_tokens if not w in stop_words]\n",
    "    return \" \".join(filtered_sentence)"
   ]
  },
  {
   "cell_type": "code",
   "execution_count": 22,
   "metadata": {},
   "outputs": [
    {
     "data": {
      "text/html": [
       "<div>\n",
       "<style scoped>\n",
       "    .dataframe tbody tr th:only-of-type {\n",
       "        vertical-align: middle;\n",
       "    }\n",
       "\n",
       "    .dataframe tbody tr th {\n",
       "        vertical-align: top;\n",
       "    }\n",
       "\n",
       "    .dataframe thead th {\n",
       "        text-align: right;\n",
       "    }\n",
       "</style>\n",
       "<table border=\"1\" class=\"dataframe\">\n",
       "  <thead>\n",
       "    <tr style=\"text-align: right;\">\n",
       "      <th></th>\n",
       "      <th>Komentar</th>\n",
       "      <th>Hasil</th>\n",
       "      <th>sentimen</th>\n",
       "      <th>clean</th>\n",
       "      <th>stop_comments</th>\n",
       "    </tr>\n",
       "  </thead>\n",
       "  <tbody>\n",
       "    <tr>\n",
       "      <th>0</th>\n",
       "      <td>trendingg</td>\n",
       "      <td>Positif</td>\n",
       "      <td>1</td>\n",
       "      <td>trendingg</td>\n",
       "      <td>trendingg</td>\n",
       "    </tr>\n",
       "    <tr>\n",
       "      <th>1</th>\n",
       "      <td>demi apapun ini keren bangetttr</td>\n",
       "      <td>Positif</td>\n",
       "      <td>1</td>\n",
       "      <td>demi apapun ini keren bangetttr</td>\n",
       "      <td>apapun keren bangetttr</td>\n",
       "    </tr>\n",
       "    <tr>\n",
       "      <th>2</th>\n",
       "      <td>ngeriiiii</td>\n",
       "      <td>Positif</td>\n",
       "      <td>1</td>\n",
       "      <td>ngeriiiii</td>\n",
       "      <td>ngeriiiii</td>\n",
       "    </tr>\n",
       "    <tr>\n",
       "      <th>3</th>\n",
       "      <td>kerennnn</td>\n",
       "      <td>Positif</td>\n",
       "      <td>1</td>\n",
       "      <td>kerennnn</td>\n",
       "      <td>kerennnn</td>\n",
       "    </tr>\n",
       "    <tr>\n",
       "      <th>4</th>\n",
       "      <td>kalo dia yg mengang kek jaminan mutu gitu dah ...</td>\n",
       "      <td>Positif</td>\n",
       "      <td>1</td>\n",
       "      <td>kalo dia yg mengang kek jaminan mutu gitu dah ...</td>\n",
       "      <td>kalo yg mengang kek jaminan mutu gitu dah umur...</td>\n",
       "    </tr>\n",
       "  </tbody>\n",
       "</table>\n",
       "</div>"
      ],
      "text/plain": [
       "                                            Komentar    Hasil  sentimen  \\\n",
       "0                                          trendingg  Positif         1   \n",
       "1                    demi apapun ini keren bangetttr  Positif         1   \n",
       "2                                          ngeriiiii  Positif         1   \n",
       "3                                           kerennnn  Positif         1   \n",
       "4  kalo dia yg mengang kek jaminan mutu gitu dah ...  Positif         1   \n",
       "\n",
       "                                               clean  \\\n",
       "0                                          trendingg   \n",
       "1                    demi apapun ini keren bangetttr   \n",
       "2                                          ngeriiiii   \n",
       "3                                           kerennnn   \n",
       "4  kalo dia yg mengang kek jaminan mutu gitu dah ...   \n",
       "\n",
       "                                       stop_comments  \n",
       "0                                          trendingg  \n",
       "1                             apapun keren bangetttr  \n",
       "2                                          ngeriiiii  \n",
       "3                                           kerennnn  \n",
       "4  kalo yg mengang kek jaminan mutu gitu dah umur...  "
      ]
     },
     "execution_count": 22,
     "metadata": {},
     "output_type": "execute_result"
    }
   ],
   "source": [
    "df['stop_comments'] = df['clean'].apply(lambda x : remove_stopwords(x))\n",
    "df.head()"
   ]
  },
  {
   "cell_type": "markdown",
   "metadata": {},
   "source": [
    "#### Membagi dataset untuk test dan training"
   ]
  },
  {
   "cell_type": "code",
   "execution_count": 23,
   "metadata": {},
   "outputs": [],
   "source": [
    "from sklearn.model_selection import train_test_split\n",
    "X_train,X_test,y_train,y_test = train_test_split(df['stop_comments'],df['sentimen'])"
   ]
  },
  {
   "cell_type": "code",
   "execution_count": 24,
   "metadata": {},
   "outputs": [
    {
     "data": {
      "text/plain": [
       "(1579,)"
      ]
     },
     "execution_count": 24,
     "metadata": {},
     "output_type": "execute_result"
    }
   ],
   "source": [
    "X_train.shape"
   ]
  },
  {
   "cell_type": "code",
   "execution_count": 25,
   "metadata": {},
   "outputs": [
    {
     "data": {
      "text/plain": [
       "(527,)"
      ]
     },
     "execution_count": 25,
     "metadata": {},
     "output_type": "execute_result"
    }
   ],
   "source": [
    "X_test.shape"
   ]
  },
  {
   "cell_type": "code",
   "execution_count": 26,
   "metadata": {},
   "outputs": [
    {
     "data": {
      "text/plain": [
       " 1    1860\n",
       " 0     215\n",
       "-1      31\n",
       "Name: sentimen, dtype: int64"
      ]
     },
     "execution_count": 26,
     "metadata": {},
     "output_type": "execute_result"
    }
   ],
   "source": [
    "df['sentimen'].value_counts()"
   ]
  },
  {
   "cell_type": "markdown",
   "metadata": {},
   "source": [
    "## Melakukan ekstraksi teks\n",
    "Menggunakan CountVectorizer yang akan membuat kosakata dari data teks, karena modul ini menyimpan hitungan setiap kata setiap kali muncul pada teks.<br><br>\n",
    "CountVectorizer memiliki 3 langkah dasar :<br>\n",
    "**Tokenization** : Melakukan tokenisasi teks menjadi kata<br>\n",
    "**Vocabulary** : Membuat kosakata dengan semua kata yang ada di teks/dokumen<br>\n",
    "**Encode** : melakukan encode seluruh dokumen membuat vektor dengan panjang yang sama dengan kosakata."
   ]
  },
  {
   "cell_type": "code",
   "execution_count": 27,
   "metadata": {},
   "outputs": [],
   "source": [
    "from sklearn.feature_extraction.text import CountVectorizer, TfidfVectorizer \n",
    "vect = CountVectorizer()\n",
    "tf_train = vect.fit_transform(X_train)\n",
    "tf_test = vect.transform(X_test)"
   ]
  },
  {
   "cell_type": "code",
   "execution_count": 28,
   "metadata": {},
   "outputs": [
    {
     "data": {
      "text/plain": [
       "(1579, 2645)"
      ]
     },
     "execution_count": 28,
     "metadata": {},
     "output_type": "execute_result"
    }
   ],
   "source": [
    "tf_train.shape"
   ]
  },
  {
   "cell_type": "code",
   "execution_count": 29,
   "metadata": {},
   "outputs": [
    {
     "name": "stdout",
     "output_type": "stream",
     "text": [
      "{'13': 12, 'bang': 282, 'budi': 495, 'panutan': 1877, 'pecah': 1911, 'keren': 1292, 'karya': 1217, 'anak': 167, 'bangsa': 316, 'ri2020': 2070, 'nya': 1812, 'nunggu': 1809, 'rewind': 2059, 'yg': 2603, 'direct': 697, 'chandra': 535, 'dkk': 723, 'kelas': 1254, 'dunia': 753, 'pecaaahhhhh': 1908, 'pecaaaahhh': 1907, 'ngacoo': 1738, 'parah': 1891, 'cuy': 614, 'maafkan': 1483, 'mbak': 1554, 'sampe': 2095, 'gatau': 891, 'youtube': 2617, 'proses': 2006, 'jadipun': 1143, 'scrol': 2116, 'tau': 2298, '2020': 29, 'mantap': 1516, 'segi': 2134, 'editing': 764, 'skema': 2199, 'alur': 152, 'go': 943, 'trendingkan': 2430, 'guys': 988, 'penjuru': 1931, 'bagus': 272, 'banget': 298, 'gilaaaa': 913, 'andovi': 173, 'jov': 1182, 'udh': 2456, 'pensiun': 1934, 'gillaaaaaaa': 932, 'si': 2176, 'the': 2369, 'best': 410, 'makasih': 1500, 'gilaaaaa': 914, 'bangetttt': 304, 'terima': 2340, 'kasih': 1219, 'terlibat': 2353, 'produksi': 2003, 'video': 2488, 'maju': 1498, 'perytan': 1958, 'indonesiaaa': 1113, 'trending': 2422, 'sayang': 2108, 'aaaa': 87, 'kelewatan': 1256, 'kerennyaa': 1305, 'omg': 1839, 'kerem': 1291, 'kerennnn': 1297, 'bangett': 301, 'merindingg': 1627, 'nyalakan': 1816, 'indonesia': 1112, '11': 10, '19': 19, 'nangiss': 1711, 'woii': 2562, 'liat': 1427, 'mas': 1529, 'anca': 169, 'gokil': 952, 'ni': 1770, 'budget': 494, 'gede': 894, 'bgt': 428, 'nih': 1774, 'klo': 1330, 'arap': 215, 'pesti': 1961, 'where': 2537, 'dinding': 693, 'pa': 1865, 'exist': 811, 'understandable': 2467, 'have': 1030, 'great': 977, 'day': 640, 'yt': 2624, 'ter': 2322, 'disutradarai': 709, 'beda': 348, 'kualitas': 1359, '2019': 27, 'erickontollim': 797, 'nangis': 1709, 'sih': 2180, 'kereeeeen': 1277, 'bangeeeeet': 285, 'terkeren': 2349, 'good': 966, 'job': 1176, 'all': 147, 'congratulation': 580, '04': 3, '39': 50, 'pemuda': 1922, 'tersesat': 2358, 'fans': 818, 'real': 2044, 'madrid': 1486, 'eh': 767, 'muhh': 1680, '10': 6, '57': 82, 'memories': 1574, 'bring': 486, 'back': 266, 'njir': 1783, 'asli': 229, 'favorit': 822, 'gua': 982, 'pas': 1902, 'lagu': 1385, 'black': 453, 'pink': 1969, 'kepergian': 1265, 'skiny': 2207, 'hanin': 1014, 'nyanyi': 1821, 'langsung': 1391, 'merinding': 1626, 'gilaaaaaaaaa': 918, 'suka': 2254, 'hadir': 996, 'like': 1440, 'waiting': 2509, 'for': 846, 'bts': 491, 'ngaco': 1737, 'kerennya': 1304, '52': 67, 'merindiiinggg': 1624, 'bangettttt': 305, 'scene': 2113, 'dabest': 619, 'god': 944, 'bye': 508, 'skinnyindonesian24': 2206, 'indo': 1110, 'ga': 860, 'ajg': 133, 'mari': 1526, 'kepuncak': 1266, 'tertinggi': 2361, 'number': 1808, 'terbaik': 2326, 'yuk': 2628, 'gak': 874, 'komen': 1339, 'kebanyakan': 1230, 'isinya': 1134, 'artis': 222, 'bukam': 498, 'yutuber': 2635, 'anjir': 190, 'gaa': 861, 'comment': 575, 'bingung': 446, 'berkali': 379, 'kali': 1205, 'bangeeet': 290, 'sempurnahh': 2148, 'miawaug': 1634, 'be': 337, 'gw': 992, 'masterpiece': 1541, 'ohh': 1834, 'deng': 654, 'jam': 1148, 'ud': 2453, '530': 73, 'ribu': 2072, 'nnggss': 1786, 'kren': 1355, 'bgett': 423, 'sob': 2219, 'woyybaru': 2582, 'views': 2493, 'seimbang': 2137, 'kereenn': 1287, 'weee': 2526, 'saking': 2085, 'epic': 790, 'kalo': 1207, 'bikin': 440, 'kalah': 1204, 'payah': 1905, 'next': 1735, 'level': 1420, 'of': 1831, 'kak': 1202, 'nyangka': 1820, 'secepet': 2121, 'kerennn': 1295, 'kereeeen': 1278, 'pubg': 2011, 'wkwkwkw': 2553, 'debes': 644, 'mostly': 1667, 'parahhh': 1893, 'woi': 2561, 'parahh': 1892, 'untung': 2472, 'telat': 2314, 'tim': 2393, 'emang': 771, 'sewa': 2167, 'stadion': 2238, 'haha': 997, 'idenya': 1085, 'out': 1861, 'box': 478, 'bgtt': 430, 'goosebumps': 972, 'this': 2377, 'was': 2519, 'amazing': 158, 'kerenn': 1294, 'bbgttt': 336, 'nangissssss': 1714, 'woah': 2556, 'bangettt': 302, 'greatt': 979, 'presentttt': 1999, 'unexpect': 2468, 'bgttt': 431, 'kereennnnn': 1290, 'gokss': 959, 'kereeeeeen': 1276, 'leggo': 1410, 'mahal': 1492, 'agung': 120, 'hapsah': 1020, 'ya': 2589, 'obat': 1827, 'le': 1404, 'rewindindonesia': 2063, '14': 13, 'mencerminkan': 1583, 'sidang': 2178, 'dp': 741, 'omgggg': 1840, 'is': 1132, 'so': 2217, 'cool': 584, 'hope': 1064, 'year': 2599, 'becomes': 347, 'better': 417, 'lot': 1468, 'trials': 2434, 'but': 505, 'has': 1028, 'memory': 1575, 'yok': 2607, 'iki': 1096, 'sumpah': 2263, 'cook': 583, 'menrinding': 1607, 'we': 2525, 'gaada': 863, '48': 61, 'ceramah': 528, 'khas': 1323, 'tretan': 2432, 'muslim': 1688, 'wkwkwk': 2552, 'sungguh': 2271, 'penutup': 1938, 'diakhir': 667, 'semoga': 2147, 'kesehatan': 1313, 'keselamatan': 1315, 'bumi': 500, 'pertiwi': 1957, 'uji': 2460, 'amin': 159, 'nitip': 1781, '1jt': 21, 'muhhhhh': 1682, 'if': 1091, 'say': 2106, 'bad': 267, 'years': 2600, 'you': 2611, 're': 2040, 'stupid': 2247, 'bro': 487, 'love': 1469, 'it': 1135, 'nice': 1771, 'keep': 1240, 'going': 947, 'international': 1126, 'sedih': 2125, 'goksss': 960, 'om': 1838, 'mobi': 1654, 'ridwan': 2073, 'hanif': 1013, 'speechless': 2234, 'paraaahhhh': 1885, 'keingettt': 1245, 'jaman': 1149, 'awal2': 249, 'nnton': 1789, 'yutub': 2633, 'nontonya': 1800, 'malming': 1508, 'miko': 1637, 'than': 2364, 'ahhh': 123, 'intinya': 1128, 'konsep': 1343, 'alus': 154, 'gg': 908, 'asliii': 231, 'bangeeeet': 287, 'deh': 649, 'gila': 910, 'wow': 2577, 'luarbiasa': 1474, 'tunggu': 2446, 'senior': 2158, 'berkumpul': 389, 'yah': 2595, 'skinny': 2201, 'esok': 804, 'bangga': 312, 'ku': 1358, 'mengandun': 1589, 'bawang': 332, 'throwback': 2385, 'jdi': 1164, 'kangen': 1212, 'anying': 198, 'gwa': 993, 'nontonnya': 1798, 'terimakasihh': 2343, 'yaaakk': 2593, 'terepic': 2333, 'tonton': 2404, 'parahã': 1898, 'preciate': 1998, 'nobody': 1791, 'me': 1555, 'my': 1695, 'friend': 851, 'puas': 2010, 'boom': 474, 'ditunggu': 714, 'speechlees': 2233, 'and': 172, 'honestly': 1063, 'fantastic': 819, 'cepet': 526, 'yaa': 2590, 'malem': 1507, 'mantappp': 1518, 'ericko': 795, 'lim': 1444, 'candra': 519, 'liaw': 1430, 'membenci': 1571, 'merindiiiing': 1622, 'pol': 1991, 'yokkkk': 2609, 'bergabung': 372, 'depanya': 657, 'semangat': 2144, 'berkarya': 380, 'wahhhhhh': 2506, 'leoooooo': 1415, 'abiiiiieeeesdss': 100, 'liow': 1446, 'kawan': 1222, 'youtubers': 2621, 'ngga': 1762, 'kaget': 1199, 'lahh': 1388, 'magda': 1489, 'konex': 1342, 'buseh': 504, 'iklannya': 1098, 'cuman': 611, 'musik': 1686, 'doang': 726, 'film': 831, 'pendek': 1926, 'sukses': 2255, 'fix': 841, 'must': 1689, 'tranding': 2415, 'vidio': 2490, 'gadget': 869, 'hmmm': 1059, 'menarique': 1581, 'reactionnya': 2042, 'jujur': 1186, 'dapet': 634, 'smua': 2216, 'makna': 1505, 'ad': 113, 'dalamnya': 624, 'bener2x': 362, 'terharu': 2335, 'ngerasa': 1756, 'gk': 939, 'mw': 1694, 'kenang': 1263, 'nonton': 1795, 'sadar': 2082, 'cerita': 529, 'keras': 1268, 'ak': 134, 'covid': 592, 'hilang': 1054, '2021': 30, 'aminnn': 161, 'ketawa': 1317, 'up': 2473, 'mashaallah': 1532, 'meneteskan': 1588, 'air': 129, 'mata': 1548, 'feels': 826, 'end': 780, 'decade': 645, 'will': 2543, 'start': 2242, 'new': 1734, 'proud': 2007, 'with': 2546, 'udah': 2454, 'sebagus': 2119, 'jaya': 1162, 'indonesian': 1115, 'creators': 598, 'baguss': 274, 'ayo': 259, '43': 55, 'thank': 2365, 'youu': 2622, 'much': 1674, 'see': 2130, 'when': 2536, 'dibayar': 675, '42': 54, 'justin': 1189, 'bieber': 438, 'holy': 1060, 'ft': 855, 'chance': 533, 'rapper': 2036, '46': 59, 'niki': 1778, 'lose': 1465, '56': 78, 'jawsh': 1161, '685': 84, 'jason': 1159, 'derulo': 658, 'savage': 2104, 'laxed': 1400, 'siren': 2195, 'beat': 338, 'dislike': 704, 'anak2': 168, 'tiktodd': 2389, 'nangiissss': 1708, '49': 62, 'chef': 544, 'arnold': 218, '51': 66, 'chandraliow': 537, 'whatss': 2535, 'gorgeous': 973, 'cried': 602, 'please': 1978, 'trendingg': 2424, 'terimakasih': 2342, 'lihatnya': 1438, 'emosional': 777, 'menit': 1604, 'gilaaa': 912, 'sihhh': 2182, 'bintang': 447, 'emon': 774, 'wkwk': 2550, 'apresiasi': 212, 'banyaknya': 322, 'pibadi': 1965, 'gokilll': 954, 'merindinggg': 1628, 'bgtttttt': 434, 'bngtttt': 464, 'mrinding': 1671, 'dhiya': 665, 'luv': 1481, 'sumpaa': 2260, '35': 47, 'mood': 1662, 'campur': 515, 'aduk': 117, '40': 52, 'time': 2395, 'to': 2399, 'goodbye': 967, 'old': 1837, 'generation': 903, 'ever': 806, '21': 32, 'seneng': 2156, 'titip': 2398, 'sendal': 2155, 'sblm': 2109, 'awokwkwkw': 254, 'ngasih': 1744, 'pengen': 1929, '100000000000000ã': 9, 'berhenti2nya': 375, 'cepat': 525, 'pulih': 2012, 'tercipta': 2331, 'persatuan': 1954, 'kesatuan': 1312, 'asliikbsama': 234, 'kreativitas': 1352, 'sense': 2160, 'art': 221, 'design': 659, 'emosinya': 776, 'kebawa': 1231, 'bangen': 297, 'hadiah': 995, 'gelap': 896, 'jumpa': 1187, 'lit': 1448, 'guaaaa': 985, 'buna': 501, 'liatnya': 1428, 'becanda': 343, 'mencari': 1582, 'baim': 279, 'tanda': 2292, 'kek': 1249, 'gitu': 937, 'anjerrrrrr': 186, 'chand': 534, 'youtuber': 2618, '41': 53, 'anjayy': 181, 'bng': 458, 'budio': 496, 'uwoee': 2478, 'abis': 101, 'menyala': 1611, 'petcahhh': 1962, 'dah': 622, 'bagiannya': 271, 'pingin': 1968, 'keceeee': 1237, 'loh': 1455, 'global': 940, 'jiwaa': 1174, 'ps5': 2009, 'kecepetan': 1238, 'brok': 488, 'kesini': 1316, 'gara': 884, 'gemess': 900, 'gokill': 953, 'epick': 792, 'ampun': 165, 'menyentuh': 1616, 'aulion': 242, 'creator': 597, 'gilagilagila': 924, 'ammpunnn': 162, 'kerasa': 1269, 'rewind20': 2061, 'perasaan': 1942, 'kemaren': 1259, '2016': 25, 'thanks': 2366, 'berjuang': 377, 'ngerasain': 1757, 'emosi': 775, 'stand': 2240, 'tall': 2289, 'goodluck': 968, 'sumpaj': 2268, 'salut': 2089, 'aing': 128, 'kirain': 1328, 'erpan': 801, 'rewindnya': 2064, 'tiktok': 2390, 'mo': 1653, 'bgst': 427, 'lord': 1463, 'windah': 2544, 'lengkap': 1413, 'divideo': 719, 'skinnyindonesia24': 2204, 'hati': 1029, 'pokoknya': 1987, 'kerennnnnnnn': 1301, 'impresif': 1104, 'lihat': 1436, 'jendela': 1167, 'dapid': 635, 'panca': 1873, 'njiirr': 1782, 'colok': 572, 'earphone': 758, 'hp': 1067, 'duaarr': 749, 'kwalitas': 1377, 'sound': 2229, 'donk': 733, 'berasa': 367, 'suasana': 2249, 'bioskopnya': 448, 'duh': 750, 'ngerti': 1760, 'secinta': 2122, 'plis': 1980, 'pliisss': 1979, 'jgn': 1169, 'berhenti': 374, 'waaaa': 2499, 'netes': 1730, 'nemenin': 1728, 'gue': 986, 'sakit': 2086, 'soalny': 2218, 'hidup': 1047, 'awokwowkwok': 255, 'class': 555, 'permanent': 1949, 'karna': 1215, 'kolab': 1338, 'rindu': 2074, 'seger': 2133, 'ngeliatnya': 1754, 'lightningnyaa': 1435, 'set': 2164, 'lightningnya': 1434, 'dll': 724, 'liiiitttt': 1439, 'ngakak': 1741, 'main': 1495, 'peran': 1941, 'among': 163, 'us': 2475, 'permainan': 1948, 'fitnah': 839, 'online': 1845, 'tu': 2440, 'lagunya': 1387, 'lathi': 1396, 'emng': 773, 'mixing': 1648, 'jago': 1146, 'dat': 637, 'sad': 2081, 'ending': 783, 'thoo': 2380, 'meninggal': 1601, 'anjayyy': 182, 'jadii': 1142, '522rb': 71, 'view': 2491, '564rb': 81, 'bravo': 484, 'subs': 2250, 'nongol': 1794, 'detik': 661, 'negativecommentwillbeforgiven': 1726, 'kevin': 1320, 'anggara': 174, 'dateng': 638, 'kereeen': 1282, 'nyaaaa': 1815, 'kasian': 1218, 'ajak': 132, 'wkwkw': 2551, 'kang': 1211, 'selingkuh': 2143, 'ditemeninnn': 712, 'let': 1416, 'goooooooo': 971, 'yutube': 2634, 'terbaikkkkkk': 2327, 'cak': 511, 'nan': 1703, 'nangisss': 1712, 'anjirrr': 192, 'beuutt': 421, 'buaatt': 493, 'semuaaa': 2149, 'minusnyaa': 1642, 'layar': 1401, 'guaa': 983, 'nontonn': 1797, 'woiii': 2563, 'bangeettt': 295, 'dimana': 690, 'happy': 1019, 'sehat2': 2136, 'virus': 2496, 'beneran': 363, 'looooo': 1461, 'ceeeerrsssss': 522, 'anjeng': 184, 'gada': 868, 'legends': 1409, 'they': 2373, 'literally': 1449, 'saves': 2105, 'from': 853, 'worst': 2575, 'bestt': 411, 'nay': 1722, 'wkwkwkwk': 2554, 'jangan2': 1153, 'uy': 2479, 'terharus': 2336, 'ahhhhh': 125, 'muda': 1675, 'tua': 2441, 'karier': 1214, 'rewind2': 2060, 'sblmnya': 2110, 'ikutin': 1100, 'jenuh': 1168, 'thx': 2386, 'mengobati': 1599, 'crying': 606, 'too': 2406, 'bersaing': 396, 'chanel': 538, 'diluar': 688, 'atta': 241, 'aurel': 244, 'gapaham': 882, 'cinta': 550, '30': 43, 'haw': 1031, 'become': 346, 'gaskuen': 890, 'erpan1140': 802, 'dimenit': 691, 'keberapa': 1233, 'anjay': 179, '01': 1, 'gaming': 878, 'engga': 786, '09': 5, 'ewing': 810, '4k': 63, 'kecee': 1235, 'badai': 268, 'makasii': 1501, 'keran': 1267, 'bet': 414, 'before': 352, 'credits': 599, 'geloo': 898, 'finallyyyy': 835, 'petjah': 1964, 'sihh': 2181, 'quality': 2023, 'tho': 2379, 'bersabda': 395, 'most': 1666, 'beautifull': 340, 'bendera': 359, 'nasionalisme': 1721, 'part': 1901, 'ngadepin': 1740, 'pandemi': 1874, 'byk': 509, 'orang2': 1851, 'putus': 2018, 'asa': 226, 'tp': 2410, 'bahu': 277, 'membahu': 1565, 'utk': 2476, 'turun': 2448, 'dg': 663, 'sumbangsihnya': 2257, 'masing2': 1536, 'nolong': 1792, 'kena': 1261, 'dampak': 632, 'scara': 2112, 'lgsung': 1424, 'janganbosanjadiorangbaik': 1154, 'ngericcc': 1758, 'wajib': 2511, 'bjir': 451, 'yahh': 2596, 'brando': 483, '37': 48, 'muh': 1677, 'joget': 1178, 'wkkwkwkwk': 2548, 'bngtt': 462, 'diawal': 673, 'cewe': 530, 'woy': 2580, '38': 49, 'allah': 148, '02': 2, 'iyo': 1141, 'senpaaii': 2159, 'damn': 629, 'asliiii': 232, 'benget': 364, 'huhu': 1074, 'ngebaperin': 1745, 'sumpa': 2259, 'gegehhhhhhhhhhhhhhh': 895, 'ama': 157, 'suaranya': 2248, 'awkarin': 253, 'kereeeeeeeeeeeennnnn': 1272, 'respect': 2055, 'earned': 757, 'not': 1802, 'taught': 2299, 'seru': 2163, 'terkenal2': 2348, 'masuk': 1543, 'kayak': 1224, 'ayee': 258, 'kungkingkang': 1369, 'that': 2368, 'how': 1066, 'do': 725, 'pastinya': 1904, 'membekas': 1570, 'orang': 1850, 'opportunity': 1849, 'got': 974, 'something': 2223, 'wonderful': 2567, 'pelajaran': 1919, 'berharga': 373, 'abiss': 102, 'kereennn': 1288, 'stay': 2244, 'strong': 2245, 'eclipse': 760, 'always': 155, 'join': 1179, 'radit': 2027, 'diwakilin': 721, 'abiez': 99, '23': 34, 'watermelon': 2522, 'sugar': 2253, 'omnibus': 1841, 'law': 1398, 'kah': 1201, 'just': 1188, 'wan': 2513, 'na': 1697, 'three': 2383, 'word': 2570, 'beautiful': 339, 'shit': 2172, '54': 74, 'asffjglglfjsjskajlakhfgak': 228, 'badan': 269, 'mantpap': 1522, 'pd': 1906, 'adegannya': 116, 'coki': 566, 'abissssssss': 106, 'mainya': 1497, 'hebat': 1038, 'kerennnnn': 1298, 'bangettttttt': 307, 'keberadaan': 1232, 'telan': 2313, '22': 33, 'in': 1106, 'though': 2381, 'parahhhh': 1894, 'lemon': 1412, 'tree': 2418, 'gustixa': 987, 'ramaaaaiii': 2031, 'erick': 794, 'rumahhh': 2079, 'penonton': 1932, 'knp': 1336, 'boneka': 473, 'kekey': 1250, 'lagu2': 1386, 'penyanyi': 1939, 'tampil': 2290, 'nggak': 1763, 'rans': 2035, 'entertaiment': 788, 'sm': 2212, 'bapau': 324, 'pake': 1867, 'emot': 778, 'gaes': 871, 'tr3ndingkan': 2414, 'kacauuu': 1193, 'on': 1842, 'fire': 837, 'satir': 2102, 'action': 112, 'sumpahhh': 2265, 'setahun': 2165, 'jaga': 1145, 'last': 1394, 'almost': 149, 'make': 1502, 'cry': 605, 'begituan': 354, 'kebaca': 1229, 'rame': 2034, 'bilang': 441, 'wawww': 2523, 'benar2': 358, 'klu': 1331, 'kreatif': 1351, 'berkonsep': 386, 'tersusun': 2360, 'pokokny': 1986, 'arief': 217, 'muhamad': 1678, 'bngt': 461, 'op': 1847, 'team': 2307, 'berkontribusi': 387, 'tunggu2': 2447, 'ngena': 1755, 'moment': 1659, 'mahakarya': 1491, 'prestasi': 2000, 'bodo': 469, 'dibilang': 678, 'overproud': 1864, 'alig': 144, 'nangisssssss': 1715, 'ituuuuu': 1138, 'asdfghjkl': 227, 'gini': 936, 'njirr': 1784, 'gooo': 970, 'did': 680, 'besok': 409, 'no': 1790, 'wowww': 2578, 'gilaa': 911, 'pecahhhh': 1914, 'gemoy': 901, 'sekeren': 2139, 'dahh': 623, 'david': 639, 'aaaaaa': 89, 'some': 2221, 'sh': 2168, 'tttt': 2439, '55': 75, 'tanboy': 2291, 'kn': 1333, 'bim': 442, 'lu': 1473, 'pickypicks': 1966, 'gilakkkkkkk': 927, 'cengeng': 524, 'kereeennn': 1284, '33': 45, 'weird': 2528, 'genius': 904, 'anjin': 188, 'kwkoakw': 1378, 'goks': 958, 'pecahhh': 1913, 'erico': 798, 'aja': 130, 'kubu': 1365, 'kubuan': 1366, 'ratu': 2037, 'pentol': 1936, 'ketiwi': 1318, 'paman': 1871, 'keinget': 1244, 'dijajah': 684, 'well': 2530, 'done': 731, 'boys': 480, 'top': 2407, 'yh': 2604, 'menghanyutkan': 1595, 'senang': 2154, '34': 46, 'scane': 2111, '2018': 26, 'nenangis': 1729, 'setuju': 2166, 'pecaah': 1909, 'aspek': 236, 'props': 2005, 've': 2482, 'worked': 2573, 'hard': 1023, 'reza': 2065, 'arab': 214, 'woiiiii': 2564, 'dividio': 720, 'ka': 1191, 'buka': 497, 'pintu': 1970, 'doraemonnya': 737, 'pilihan': 1967, 'high': 1048, 'content': 582, 'pantau': 1876, 'kenal': 1262, '2015': 24, 'puter': 2016, 'pengalaman': 1928, 'menakjubkan': 1579, 'youtober': 2614, 'give': 938, 'away': 250, 'terepik': 2334, 'matiin': 1551, 'mic': 1636, 'ngomong': 1768, 'kursi': 1374, 'kosong': 1349, 'kekeyi': 1251, 'blm': 455, 'lgsg': 1423, 'edit': 762, 'ciri': 551, 'mah': 1490, 'bnyak': 466, 'warna': 2517, 'memanjakan': 1563, 'big': 439, 'applaus': 208, 'sir': 2194, 'kagak': 1198, 'qg': 2020, 'mengang': 1590, 'jaminan': 1151, 'mutu': 1691, 'umur': 2465, 'biar': 435, 'cucu': 609, 'yaallah': 2594, 'menghibur': 1596, 'life': 1431, 'long': 1459, 'king': 1326, 'tersinggung': 2359, 'apreciate': 211, 'about': 108, 'fitra': 840, 'eri': 793, 'garasi': 887, 'drift': 746, 'terkenal': 2347, 'otomotif': 1855, 'sanggup': 2099, 'meninggalkan': 1602, '45': 58, 'lying': 1482, 'retired': 2056, 'heart': 1036, 'dalgona': 625, 'made': 1485, 'woilah': 2566, 'hrus': 1068, 'td': 2306, 'un1ty': 2466, 'shok': 2173, 'idk': 1086, 'why': 2541, 'welcome': 2529, 'napa': 1717, 'kerennnnnn': 1299, 'iciss': 1082, 'wooohhh': 2568, 'lele': 1411, 'gaess': 872, 'aaaaaaa': 90, 'bngttt': 463, 'trendinggg': 2425, 'yokkk': 2608, 'bisaaa': 449, 'kometar': 1341, 'ampe': 164, 'demiii': 652, 'tuuuhaaannn': 2449, 'fr': 849, 't_t': 2281, 'meresahkan': 1619, 'terniat': 2356, 'spechless': 2232, 'huaaaahhh': 1072, 'krenn': 1356, 'bangeeett': 291, 'mantep': 1521, 'mabar': 1484, 'wih': 2542, 'ancaa': 170, 'yutuppp': 2637, 'malam': 1506, 'minggu': 1641, 'deddy': 647, 'jari': 1157, 'iklan': 1097, 'perna': 1950, 'konten': 1347, 'yutupe': 2636, 'akui': 138, 'sumpahhhhhhhhhh': 2267, 'kilas': 1324, 'dimna': 692, 'antaran': 196, 'ngejalanin': 1751, 'aktifitas': 137, '3bulan': 51, 'pembelajaran': 1921, 'elemen': 770, 'kemanusiaan': 1258, 'fine': 836, 'll': 1452, 'ourself': 1860, 'tolong': 2402, 'carikan': 521, 'terharuuuu': 2338, 'ih': 1094, 'sumpahh': 2264, 'kesel': 1314, 'what': 2534, 'one': 1843, 'could': 590, 'thankyou': 2367, 'everything': 809, 'yo': 2606, 'lets': 1418, 'bole': 471, 'nyindir': 1824, 'don': 730, 'know': 1335, 'bertahan': 401, 'dirumahnya': 701, 'cobaan': 563, 'hambatan': 1007, 'btw': 492, 'gon': 965, 'miss': 1644, 'these': 2372, 'viral': 2494, 'thing': 2374, 'ancur': 171, 'sediiinya': 2128, 'jyakhh': 1190, 'ngeditnya': 1749, 'susah': 2275, 'bgttttt': 433, 'chkky': 547, 'blokk': 456, 'finally': 834, 'leo': 1414, 'mogatrending1': 1655, 'hiksrot': 1053, 'salam': 2087, 'muhammad': 1679, 'donggg': 732, 'bangeettttt': 296, 'tenaga': 2320, 'kerja': 1307, 'medis': 1556, 'mempertaruhkan': 1577, 'nyawa': 1822, 'negri': 1727, 'jasa': 1158, 'aamiin': 97, 'kereeeeeeeeeeeeeeeeeeeeeeeeeeeeeen': 1271, 'paraaaaaaaaaaaah': 1879, 'missing': 1645, 'ria': 2071, 'sw': 2278, 'shame': 2169, 'ours': 1859, '27': 38, 'bobon': 467, 'keereenn': 1241, 'relate': 2050, 'raffi': 2028, 'ahmad': 127, 'ko': 1337, 'yaaaaa': 2592, 'wahhh': 2505, 'igoy': 1093, 'gilssssss': 933, 'kereeeennnnnnn': 1281, 'tr3ndinggggggg': 2413, 'paraahh': 1886, 'kemarin': 1260, 'off': 1832, 'parahhhhh': 1895, 'gilaaaaakkk': 919, 'kagum': 1200, 'laahh': 1381, 'ngeliat': 1753, 'ixora': 1139, 'jokowi': 1181, 'gilaaaaaaaa': 917, 'oiiii': 1835, 'manaaaa': 1511, 'miawaugggggg': 1635, 'drifttttt': 747, 'platform': 1975, 'are': 216, 'flippin': 845, 'awesome': 252, 'haru': 1026, 'kuatkan': 1364, 'impresive': 1105, 'son': 2224, 'zeus': 2640, 'pride': 2001, 'somebody': 2222, 'rada': 2026, 'welll': 2531, 'menjelang': 1606, 'pensi': 1933, 'ato': 240, 'ngebuat': 1746, 'tuh': 2443, 'fun': 857, 'tara': 2296, 'gema': 899, 'game': 876, 'batas': 329, 'berkembang': 384, 'bangpen': 315, 'penerus': 1927, 'soo': 2225, 'netizen': 1732, 'making': 1504, 'an': 166, 'support': 2273, 'masyarakat': 1547, 'berbagi': 369, 'beragam': 366, 'memahami': 1561, 'indah': 1109, 'take': 2286, 'breath': 485, 'highest': 1049, 'aaa': 86, 'aulllllll': 243, 'mntp': 1651, 'puol': 2013, 'endingnya': 784, '16': 16, 'inii': 1120, 'erickolim': 796, 'trendingkannnnn': 2431, 'senyum': 2161, 'masi': 1535, 'hijabnya': 1051, 'atleast': 239, 'way': 2524, 'wht': 2540, 'concept': 578, 'man': 1510, 'seerti': 2132, 'roller': 2075, 'coaster': 561, 'lob': 1454, 'hijaban': 1050, 'alhamdulillah': 142, 'gilek': 930, 'heyyy': 1046, 'erikolim': 799, 'aaaaa': 88, 'berkelas': 382, 'working': 2574, 'tear': 2308, 'hits': 1058, 'different': 681, 'ngl': 1767, 'ggs': 909, 'wktu': 2549, 'sd': 2117, 'ldp': 1403, 'wuiihh': 2586, 'cakeeeppp': 512, 'since': 2189, '2014': 23, '24': 35, 'da': 616, 'bangeet': 293, 'gilaak': 922, 'merindiiing': 1623, 'raguin': 2029, 'lagiiii': 1383, 'tim2one': 2394, 'mewek': 1632, 'rambut': 2033, 'meweknya': 1633, 'berenti': 371, 'bimo': 443, 'gakeliatan': 875, 'potensi': 1996, 'mudi': 1676, 'talentanya': 2288, 'bangeett': 294, 'weii': 2527, 'gaaaaaaaaaaaaaaaaaaaaaaaaaak': 862, 'obaaaaaaaaaat': 1826, 'kereeeeeeen': 1275, 'bettttt': 418, 'wesurvive2020': 2532, 'kepaksa': 1264, 'nilai': 1779, 'ahh': 122, 'jancok': 1152, 'keanuuuu': 1228, '18': 18, 'gimana': 934, 'kurasa': 1373, 'arnoldnya': 219, 'ganti': 881, 'ulang2': 2464, 'tetep': 2363, 'nanggis': 1705, 'aq': 213, 'endingx': 785, 'terdebeeeeessss': 2332, 'semuax': 2153, 'pesan': 1959, 'kehidupanx': 1243, 'otak': 1854, 'need': 1724, 'more': 1665, 'hareudang': 1025, 'wap': 2514, 'lol': 1458, 'nangiisss': 1707, 'over': 1863, 'power': 1997, 'woyyy': 2583, 'insane': 1124, 'its': 1136, 'happen': 1018, 'parahhhhhhh': 1897, 'pecahh': 1912, 'singkat': 2191, 'dilaluin': 685, 'cooooooook': 587, 'oriiiiiii': 1853, 'bgtttt': 432, 'ishh': 1133, 'ded': 646, 'lo': 1453, 'filmm': 832, 'siihh': 2185, 'haruss': 1027, 'trandingg': 2416, 'mahh': 1493, 'pokonya': 1990, '28': 39, 'jadul': 1144, 'obatttttt': 1828, 'parahhhhhh': 1896, 'kelaaaaasss': 1253, 'emotional': 779, '15': 15, 'netplik': 1733, '47': 60, 'muuh': 1692, 'also': 151, 'losing': 1466, 'player': 1977, 'ff': 828, 'mendominasi': 1585, 'ml': 1649, 'nihh': 1775, 'bimopd': 444, 'adaaa': 115, 'wahh': 2504, 'otw': 1856, 'bener2': 361, 'sperti': 2235, 'hehe': 1043, 'mrembes': 1670, 'tuk': 2444, 'kereng': 1293, 'jo': 1175, 'kuasai': 1362, 'apapun': 205, 'tantangan': 2294, 'here': 1045, 'laugh': 1397, 'teary': 2310, 'eyes': 812, 'lopez': 1462, 'jovial': 1183, 'woyy': 2581, 'smooth': 2214, 'videonya': 2489, 'war': 2515, 'biasah': 436, 'ytb': 2625, 'ina': 1107, 'daebakk': 620, 'bggddd': 424, 'woee': 2559, 'mendadak': 1584, 'pamit': 1872, 'closing': 558, 'berpatisipasi': 393, 'ri': 2067, 'bahagia': 275, 'woiiiiiiiiii': 2565, 'ahhhh': 124, 'slalu': 2210, 'dam': 626, 'rekan': 2049, 'aminn': 160, 'ngecewain': 1747, 'nangisnya': 1710, 'ngeriiiii': 1759, 'luthfi': 1480, 'anjayani': 180, 'diajak': 666, 'likenya': 1442, 'lbih': 1402, '2xdri': 42, 'campurr': 517, '522kxditonton': 70, 'button': 506, '562k': 80, 'hit': 1057, 'face': 814, 'ngejelasinnya': 1752, 'kaya': 1223, '00': 0, 'sumpehh': 2270, 'guaaa': 984, 'gilaakk': 923, 'cringe': 603, 'kereeeeeeeen': 1274, 'yukkkk': 2630, 'coy': 594, 'applause': 209, 'akhirannya': 135, 'sponsor': 2236, 'red': 2046, 'dorz': 738, 'penikmat': 1930, 'ide': 1083, 'garaga': 885, 'suddenly': 2252, 'tears': 2309, 'kelasssss': 1255, 'abisssssss': 105, 'kuntull': 1370, 'sayag': 2107, 'nakama': 1699, 'nunjukin': 1810, 'udahan': 2455, 'moodbosterku': 1663, 'jipyeong': 1172, 'hansol': 1016, '31': 44, 'apaaaan': 203, 'tbtb': 2305, 'men': 1578, 'bener': 360, 'trendinggggkan': 2428, 'lucu': 1475, 'campur2': 516, 'terberat': 2329, 'menguatkan': 1600, 'saru': 2101, 'bantu': 320, 'membantu': 1568, 'gaske': 889, 'slur': 2211, 'paragraf': 1890, 'betapa': 415, 'ong': 1844, 'im': 1102, 'mindblown': 1639, 'sumfaaaaah': 2258, 'diamana': 669, 'tuber': 2442, 'regi': 2048, 'basudara': 327, 'aci': 111, 'gamespot': 877, 'merindingggg': 1629, 'share': 2170, 'temen': 2318, 'ah': 121, 'mantapp': 1517, 'berkaryaa': 381, 'kreatorr': 1354, 'terhibur': 2339, 'konten2mu': 1348, 'coba': 562, 'oura': 1858, 'marsha': 1528, 'mercy': 1618, 'yurino': 2632, 'kacau': 1192, 'tt': 2437, 'kwkwkwk': 1379, 'dipenuhi': 694, 'komentar': 1340, 'ceklis': 523, 'baangettt': 264, '100000000': 8, 'corona': 588, 'ngintip': 1766, 'bawangnya': 333, 'hiks': 1052, 'bangkit': 314, 'indonesiaku': 1114, 'kuat': 1363, 'sangarrrr': 2097, 'far': 820, 'ri020': 2068, 'epiccc': 791, 'congrats': 579, 'kudu': 1367, 'ayok': 260, 'gofar': 946, 'hilman': 1055, 'anjer': 185, 'cita': 552, 'menutup': 1609, 'penuh': 1937, 'kejutan': 1248, 'menyenangkan': 1615, 'melewati': 1559, 'dih': 683, 'mute': 1690, 'huuuuhhhh': 1080, 'kerennnmm': 1296, 'dpt': 742, 'vibes': 2486, 'feel': 824, 'movie': 1669, 'cinema': 549, 'paraahhhhhhn': 1889, 'dynamite': 755, 'xixixi': 2588, 'pecahhhhh': 1915, 'nanya': 1716, 'original': 1852, '12': 11, 'dark': 636, 'sidenya': 2179, 'dibikin': 677, 'pakek': 1868, 'nyampee': 1819, 'nyaa': 1813, 'sorry': 2227, 'late': 1395, 'yoooww': 2610, 'bangg': 311, 'channdd': 540, 'keknya': 1252, 'hanjipyeong': 1015, 'nam': 1700, 'dosan': 739, 'sinta': 2192, 'jojo': 1180, 'masa2': 1530, 'warnet': 2518, 'gay': 892, 'aliggggg': 145, 'sory': 2228, 'muhhh': 1681, 'sekaliiiiiii': 2138, 'aslina': 235, 'oh': 1833, 'minutes': 1643, 'anjr': 193, 'besttt': 412, 'trend': 2419, 'nyampe': 1818, 'crew': 601, 'everyone': 808, 'beautifully': 341, 'anyone': 199, 'tells': 2315, 'another': 195, 'terbagus': 2325, 'dabes': 618, 'kreator': 1353, 'hebatttt': 1040, 'absen': 109, 'knapa': 1334, 'ntn': 1807, 'netesin': 1731, 'mati2': 1550, 'cari': 520, 'berita': 376, 'gimick': 935, 'dukung': 752, 'tobe': 2400, 'lokall': 1457, 'tretannn': 2433, 'cokiii': 567, 'gokssss': 961, 'waahhh': 2502, 'gilaaasihhh': 921, 'trend2': 2420, 'youtuber2nya': 2619, 'kmrn': 1332, 'anj': 178, 'standing': 2241, 'ovationnnnnn': 1862, 'ke1': 1227, 'pokokneh': 1985, 'baaay': 263, 'selamat': 2142, 'jalan': 1147, 'aaaaaaaaa': 92, 'bat': 328, 'abissss': 104, 'topppppp': 2408, 'fadhil': 815, 'ikutan': 1099, 'pertanyaannya': 1956, 'pkoknya': 1973, 'cryinggg': 607, 'madura': 1487, 'agnostik': 119, 'woahh': 2557, 'woowww': 2569, 'pesannya': 1960, 'people': 1940, 'who': 2538, 'can': 518, 'internationally': 1127, 'speaking': 2231, 'waste': 2520, 'them': 2371, '2x': 41, 'menitihkan': 1605, 'jarang': 1156, 'skeptis': 2200, 'durasi': 754, 'belasan': 356, 'dekade': 650, 'menemaniku': 1587, 'manya': 1525, 'taun': 2300, 'idup': 1090, 'ape': 206, 'sii': 2184, 'ehe': 768, 'diputar': 696, 'nyalakanindonesia': 1817, 'bangetsssss': 300, 'baca': 265, 'keberkahan': 1234, 'akhirat': 136, 'rezeki': 2066, 'halalan': 1004, 'toyiban': 2409, 'aaminn': 98, 'glow': 941, 'kereeenn': 1283, 'gilaaaakkkkkk': 920, 'halph': 1006, 'pencinta': 1925, 'ngikutin': 1765, 'dr': 743, 'thn': 2378, 'perfect': 1946, 'tengkyu': 2321, 'missyou': 1646, 'niceeeeeeee': 1773, 'aaaaaaaa': 91, 'bangetttr': 303, 'binasa': 445, 'buruk': 503, 'indopride': 1116, '07': 4, 'milos': 1638, 'reference': 2047, 'terbayang': 2328, 'bayang': 334, 'iya': 1140, 'alhmdllh': 143, 'kakak': 1203, 'beradik': 365, 'podcst': 1983, 'msuk': 1672, 'wowwww': 2579, 'kereennnn': 1289, 'openingnya': 1848, 'mv': 1693, 'taylor': 2303, 'swift': 2279, 'lover': 1472, 'huhuhu': 1076, 'baper': 325, 'remember': 2051, 'till': 2392, 'nontonin': 1796, 'masya': 1545, 'satuindonesia': 2103, 'pokoknyaaaaa': 1989, 'woahhhh': 2558, 'bayu': 335, 'skak': 2198, 'ndi': 1723, 'enjoyed': 787, 'berpartisipasi': 392, 'project': 2004, 'liaat': 1425, 'alafyu': 140, 'somat': 2220, 'should': 2174, 'nominated': 1793, 'salute': 2090, 'lindungi': 1445, 'matikan': 1552, 'husnul': 1078, 'hotimah': 1065, 'rabb': 2025, 'astagaaa': 237, 'bruh': 490, 'gokz': 963, 'drama': 744, 'diatas': 672, 'kuantitas': 1361, 'jobs': 1177, 'kereen': 1286, 'liked': 1441, 'favorite': 823, 'berkesan': 385, 'clasic': 554, 'classy': 557, 'oke': 1836, 'sip': 2193, 'embel': 772, 'namakan': 1702, 'kualitass': 1360, 'gokillll': 955, 'daftar': 621, 'list': 1447, 'by': 507, 'manusia': 1523, 'gabut': 866, 'masyaallah': 1546, 'nyaaa': 1814, 'uhuyy': 2458, 'idolamu': 1089, 'collab': 571, 'demiapaziiii': 651, 'stan': 2239, 'produk': 2002, 'lokal': 1456, 'kuy': 1375, 'tersajikan': 2357, 'baikkkkk': 278, 'sekerenn': 2140, 'ituu': 1137, 'hahhhhhh': 1001, 'sapa': 2100, 'naroh': 1719, 'disni': 706, 'af': 118, 'cukkkk': 610, 'auto': 245, 'react': 2041, 'kerasnya': 1270, 'dont': 734, 'dislikes': 705, 'masterpieces': 1542, 'lovefrommalaysia': 1471, 'merindingggggg': 1630, 'memperbolehkan': 1576, 'jend': 1166, 'bocil': 468, '25': 36, 'bawa': 331, 'jaman2': 1150, 'palng': 1870, 'tq': 2411, 'liaow': 1426, 'bajingan': 280, 'cokkkk': 568, 'menyalaaaa': 1613, 'berkelasss': 383, 'bggttt': 426, 'saikkkkkk': 2084, 'musiknya': 1687, 'tahannn': 2282, 'woyyyyy': 2584, 'rumah': 2078, 'syuting': 2280, 'gilaaaaaa': 915, 'abizz': 107, 'indogointernasional': 1111, 'rewind2020': 2062, 'gileeeeee': 929, 'huhh': 1073, 'makasi': 1499, '999': 85, 'ngadain': 1739, 'masukin': 1544, 'animator2': 177, 'animasi': 176, 'banggain': 313, 'handal': 1010, 'doors': 736, 'denger': 655, 'temen2': 2319, 'tr3nd1ng': 2412, 'yaaa': 2591, 'merinddiiingggg': 1621, 'uapikkkkk': 2451, 'puoooollllllllll': 2015, 'parraah': 1899, 'apii': 207, 'puooollllllllllllllll': 2014, 'pooooooooolllllllllaaaaaaaaaaaannnnnnnnnnnnnnn': 1994, 'larah': 1393, 'inget': 1119, 'megang': 1558, 'hape': 1017, 'kotak': 1350, 'greates': 978, 'diungkapin': 718, 'kata2': 1221, 'comeback': 573, 'director': 698, 'berkualitas': 388, 'tombol': 2403, 'talent': 2287, 'passion': 1903, 'nothing': 1803, 'lawan': 1399, 'feelnya': 825, 'momen': 1658, 'lalui': 1389, 'bersabar': 394, 'siii': 2186, 'truly': 2436, 'behind': 355, 'shining': 2171, 'kings': 1327, 'queens': 2024, 'batttt': 330, 'nagis': 1698, '20': 22, 'salfok': 2088, 'gadgetin': 870, 'lur': 1479, '53': 72, 'ntah': 1805, 'ngapa': 1743, 'forever': 847, 'chika': 545, 'terngiang': 2355, 'ngiang': 1764, 'ba': 262, 'gangerti': 879, 'gajelas': 873, 'cok': 565, 'menyatukan': 1614, 'perbedaan': 1945, 'frame': 850, 'sehat': 2135, '26': 37, 'dibagian': 674, 'wajah': 2510, 'lightning': 1433, 'berwarna': 407, 'merah': 1617, 'diganti': 682, '29': 40, 'terkena': 2346, 'memancarkan': 1562, 'cahaya': 510, 'discene': 702, 'berubah': 404, 'putih': 2017, 'memberitahu': 1572, 'letak': 1417, 'kesalahan': 1311, 'teman': 2316, 'dianggap': 671, 'serius': 2162, 'sindirannya': 2190, 'cokkkkkk': 569, 'flashback': 844, 'kernnnnnnn': 1309, 'kacauuuuu': 1194, 'yessss': 2601, 'anjirr': 191, 'loveee': 1470, 'menemani': 1586, 'terlupakan': 2354, 'kaliaan': 1206, 'bangettttttttt': 309, 'nihhh': 1776, 'plagiat': 1974, 'cod': 564, 'cold': 570, 'anjgggg': 187, '58': 83, 'sumpaaa': 2261, 'plisss': 1982, 'wewwww': 2533, 'tv': 2450, 'karng': 1216, 'dri': 745, 'edukasi': 766, 'guyss': 989, 'nostalgia': 1801, 'moment2': 1660, 'dilewatin': 686, 'heh': 1042, 'nanges': 1704, 'tatapan': 2297, 'membara': 1569, 'tiada': 2387, 'watch': 2521, 'said': 2083, 'aaashshjsjsks': 95, 'bapaknya': 323, 'fadil': 816, 'pollll': 1992, 'berat': 368, 'ninggalin': 1780, 'days': 641, 'guysss': 990, 'gilak': 925, 'becomcream': 345, 'nga': 1736, 'adaa': 114, 'minder': 1640, 'masterpeace': 1540, 'bangsat': 317, 'paraaahhh': 1884, 'mantappu': 1520, 'jiwa': 1173, 'monang': 1661, 'anjrot': 194, 'huaaa': 1070, 'perasan': 1944, 'samuanya': 2096, 'ihh': 1095, 'qory': 2021, 'tik': 2388, 'tok': 2401, 'kayanya': 1225, 'thebesttttttt': 2370, 'cakep': 513, 'artis2': 223, 'bangetttttt': 306, 'kereeeeeeeeeennnn': 1273, 'terkecil': 2345, 'terlewatkan': 2352, 'aada': 96, 'keceee': 1236, 'gilakkk': 926, 'terkerennn': 2350, 'dynamitee': 756, 'gangguuuu': 880, '2019gantipresident': 28, 'trendinggkan': 2429, 'at': 238, 'least': 1407, 'get': 906, 'many': 1524, 'things': 2376, 'learn': 1406, 'masker': 1537, 'konspirasi': 1346, 'gokxx': 962, 'bangeddd': 283, 'viewers': 2492, '522k': 69, '558k': 77, 'terangkum': 2323, 'bersyukur': 400, 'ngalamin': 1742, 'bebagai': 342, 'jatuh': 1160, 'bangun': 318, 'berthan': 403, 'titik': 2396, 'sediihh': 2127, 'sumpaaaaa': 2262, 'greget': 980, 'bangeeeeettt': 286, 'scenes': 2114, 'bombay': 472, 'covad': 591, 'smpe': 2215, 'harapan': 1022, 'krna': 1357, 'lewatin': 1421, 'bntu': 465, 'obeng': 1829, 'anything': 200, 'erpannya': 803, 'sumpeh': 2269, 'daah': 617, 'udin': 2457, 'sedunia': 2129, 'tributenya': 2435, 'hahahaha': 999, 'bersatu': 398, 'negara': 1725, 'worth': 2576, 'every': 807, 'second': 2123, 'konsepnya': 1345, 'tahun2': 2284, 'awaited': 248, 'arrived': 220, '100': 7, 'mantappppp': 1519, 'menyaingi': 1610, 'terimakasi': 2341, 'pars': 1900, 'first': 838, 'because': 344, 'lost': 1467, 'mom': 1657, 'sister': 2197, 'looking': 1460, 'been': 351, 'through': 2384, 'reading': 2043, 'doing': 727, 'survive': 2274, 'until': 2471, 'honda': 1062, 'litt': 1450, '44': 56, 'aaaajangannnn': 94, 'bangeeeettt': 288, 'paraahhh': 1887, 'gabisa': 864, 'merindinh': 1631, 'damnnn': 630, 'killing': 1325, 'cheerss': 543, 'fucking': 856, 'mati': 1549, 'aaaaah': 93, 'qorygore': 2022, 'sibuk': 2177, 'cuukkkk': 613, 'brainstorming': 481, 'idea': 1084, 'versi': 2483, 'https': 1069, 'youtu': 2616, 'vrkulw9hdje': 2497, 'wish': 2545, 'future': 858, 'diyaaa': 722, 'huwaaaaa': 1081, 'semuanyaaaaa': 2152, 'dayumn': 642, 'woeee': 2560, 'kuranggg': 1372, 'lamaaaaaaaa': 1390, 'paraahhhh': 1888, 'siiiiiii': 2187, 'iniiiiiiii': 1122, 'trendiiing': 2421, 'very': 2484, 'hancur': 1009, 'januari': 1155, 'banjir': 319, 'diam': 668, 'acara': 110, 'disusun': 708, 'bareng': 326, 'terburuk': 2330, 'lihatlah': 1437, 'disuguhi': 707, 'hangat': 1012, 'persembahan': 1955, 'skinyindonesia24': 2208, 'heads': 1034, 'sihhhhhhhhhh': 2183, 'membagongkan': 1564, 'bahas': 276, 'penampakan': 1924, 'muka': 1683, 'faiz': 817, 'gacor': 867, 'inimah': 1123, 'hardwork': 1024, 'proudd': 2008, 'peettjjaaahhhhh': 1917, 'paarraahhhhh': 1866, 'dovi': 740, 'niceee': 1772, 'odading': 1830, 'mang': 1515, 'now': 1804, 'ayooo': 261, 'pokoknyaa': 1988, 'cringeeeeeeeee': 604, 'gokkkssss': 957, 'ditahun': 710, 'channel': 541, 'rovsport': 2076, 'tembus': 2317, '500k': 65, 'bediler': 349, 'kannnnnnnn': 1213, 'gesss': 905, 'faaave': 813, 'heartwarming': 1037, 'incredible': 1108, 'bgd': 422, 'terharuu': 2337, 'gemoyy': 902, 'niii': 1777, 'mtp': 1673, 'kereeeennn': 1279, 'memiliki': 1573, 'peduli': 1916, 'gokilllllll': 956, 'fikssssss': 829, 'cmpur': 559, 'nntn': 1788, 'gotong': 975, 'royong': 2077, 'foto': 848, '1d': 20, 'diujung': 715, 'kanan': 1210, 'ãƒ': 2644, 'cuco': 608, 'bagetttt': 270, 'duka': 751, 'bersejarah': 399, 'kehidupan': 1242, 'classsss': 556, 'such': 2251, 'bertemu': 402, 'berjuanglah': 378, 'youruber': 2612, 'ulang': 2463, 'berulang': 405, 'ulaangg': 2462, 'co': 560, 'bangeeeeeeeeeeeet': 284, 'laah': 1380, '522': 68, 'rb': 2039, '561': 79, 'trendinggggg': 2427, 'banyaak': 321, 'bermanfaat': 391, 'menginspirasi': 1597, 'kasiih': 1220, 'kejadian': 1246, 'liatnyaa': 1429, 'uhuyyy': 2459, 'semuanyaa': 2150, 'unlike': 2470, 'ytrewind': 2627, 'sampah': 2093, 'kw': 1376, 'kerensekaliiiiiiii': 1306, 'blackpink': 454, 'beuh': 420, 'hahahahahahha': 1000, 'demituhan': 653, 'lucuuu': 1476, 'beeeeest': 350, 'konsepny': 1344, 'penspinning': 1935, 'deny': 656, 'caknan': 514, 'masak': 1531, 'felix': 827, 'irwan': 1131, 'diselenggarakan': 703, 'ujian': 2461, 'massal': 1539, 'ditonton': 713, 'berunglangkali': 406, 'kerennnnnnnnn': 1302, 'mancaaaaa': 1514, 'mnaaaaa': 1650, 'aslii': 230, 'nontonnyaa': 1799, 'scoringnya': 2115, 'juara': 1184, 'wkwkwkwkwkwkw': 2555, 'habiss': 994, 'waah': 2501, 'sedihnya': 2126, 'coming': 574, 'ck': 553, 'really': 2045, 'abisss': 103, 'gmn': 942, 'earth': 759, '2069': 31, 'direkturnya': 699, 'mars': 1527, 'euy': 805, 'menurutku': 1608, 'bangetttttttt': 308, 'menyalaaa': 1612, 'alay': 141, 'diundanggg': 717, 'creamypandaxx': 595, 'besttttt': 413, 'aowkowk': 202, 'bangeeettttttt': 292, 'healthy': 1035, 'garapan': 886, 'chanliaw': 539, 'am': 156, 'vibe': 2485, 'ngeunlike': 1761, 'detail': 660, 'kecill': 1239, 'pernahh': 1951, 'mengecewakannn': 1592, 'saluttttttttt': 2091, 'positif': 1995, 'thingking': 2375, 'impostor': 1103, 'petjaahhhhhhhhhhhhhhhh': 1963, 'ye': 2598, 'aye': 257, 'bnget': 459, 'bets': 416, 'validddd': 2481, 'debat': 643, 'jd': 1163, 'gokiilll': 951, 'epep': 789, 'belike': 357, 'bund': 502, 'banarrr': 281, 'tegang': 2311, 'ungkapin': 2469, 'uuuuu': 2477, 'xd': 2587, 'perasaannya': 1943, 'ahhhhhhhhh': 126, 'besarnya': 408, 'involved': 1129, 'gokiiiilllll': 948, 'ur': 2474, 'little': 1451, 'doll': 729, 'endgame': 782, 'suww': 2277, 'edan': 761, 'yuu': 2638, 'bisaaaaaa': 450, 'superb': 2272, 'manca': 1513, 'ngedit': 1748, 'gokiiillll': 949, 'paraaahh': 1883, 'sembrenget': 2145, 'sangattt': 2098, 'terbaek': 2324, 'mashoooook': 1533, 'gewla': 907, 'poolll': 1993, 'wajin': 2512, 'boong': 475, 'anjinggggg': 189, 'kerjain': 1308, 'tahub': 2283, 'aweeesomeee': 251, 'dilike': 687, 'lupa': 1478, 'sooo': 2226, 'creative': 596, 'ditangkap': 711, 'gokzzzz': 964, 'bagusan': 273, 'whole': 2539, 'gapernah': 883, 'mengecewakan': 1591, 'meninggol': 1603, 'hahaha': 998, 'vibesnya': 2487, 'ngehibur': 1750, 'informasi': 1118, 'motivasi': 1668, 'akuu': 139, 'only': 1846, 'wagelasehhh': 2503, 'compare': 576, 'wait': 2507, 'thought': 2382, 'kereeennnnn': 1285, 'pemula': 1923, 'ngonten': 1769, 'mohon': 1656, 'anjayyyy': 183, 'tiktoknya': 2391, 'gilaaaaaaa': 916, 'merindiiingggg': 1625, 'membaiklah': 1566, 'njirrrr': 1785, 'damnnnn': 631, 'boiiiii': 470, 'ramal': 2032, 'ntar': 1806, 'viralkan': 2495, 'hebohkan': 1041, 'nangissss': 1713, 'bersalah': 397, 'tontonan': 2405, 'letsgoooooo': 1419, 'mahluk': 1494, 'zephyrus': 2639, 'g14': 859, 'kameranya': 1208, 'zoom': 2641, 'anw': 197, 'paraaaahhh': 1882, 'cuyyyyy': 615, 'huaaaa': 1071, 'ilham': 1101, 'matippsss': 1553, 'maenn': 1488, 'trending1': 2423, 'kuranf': 1371, 'teguh': 2312, 'suwandi': 2276, 'piraz': 1971, 'kaga': 1197, 'ttep': 2438, 'han': 1008, 'ji': 1170, 'pyeong': 2019, 'youtuberewind2020': 2620, 'startup': 2243, 'skinnyindonesia': 2203, 'pergi': 1947, 'dibuka': 679, 'sampahhhh': 2094, 'raya': 2038, 'dimainkan': 689, 'skip': 2209, 'lageeeeeeee': 1382, 'manaaaaa': 1512, 'bosen': 477, 'diulang2': 716, 'semenjak': 2146, 'covid19': 593, 'himbauan': 1056, 'dirumah': 700, 'menghabiskan': 1594, 'mengintrepretasikan': 1598, 'boy': 479, 'bgtbgt': 429, 'kejam': 1247, 'lighting': 1432, 'composer': 577, 'iniii': 1121, 'definisi': 648, 'asliiiii': 233, 'apaansihhhh': 204, 'garis': 888, 'teruntuk': 2362, 'chan': 532, 'bangeeeetttt': 289, 'kereeeennnnn': 1280, 'maskeran': 1538, 'uyyyyy': 2480, 'music': 1685, 'mix': 1647, 'pecaahhh': 1910, 'huhuuu': 1077, 'skinny24': 2202, 'tapiiii': 2295, 'sisipan': 2196, 'kerreen': 1310, 'trendingggg': 2426, 'memaaaaaang': 1560, 'nusuukk': 1811, 'erokontolim': 800, 'kerennnnnnn': 1300, 'bangettttttttttt': 310, 'paraaaaaaaaaah': 1880, 'conten': 581, 'cretaor': 600, 'youtoub': 2615, 'rewand': 2058, 'transisi': 2417, 'nyo': 1825, 'yampun': 2597, 'tangis': 2293, 'tawa': 2301, 'ketulungan': 1319, '50': 64, 'halo': 1005, 'jemput': 1165, 'panggang': 1875, 'kgk': 1322, 'info': 1117, 'muncul': 1684, 'branda': 482, 'autoo': 246, 'cusssss': 612, 'siluman': 2188, 'kadal': 1195, 'zulumat': 2642, 'nangid': 1706, 'as': 225, 'door': 735, 'begin': 353, 'ended': 781, 'artwork': 224, 'remembered': 2052, 'hapus': 1021, 'narkoboy': 1718, 'malumaluin': 1509, 'handle': 1011, 'smile': 2213, 'same': 2092, 'work': 2572, 'played': 1976, 'senin': 2157, 'yet': 2602, 'warming': 2516, '14minutes': 14, 'awsome': 256, 'run': 2080, 'words': 2571, 'sumpahhhh': 2266, 'cooollll': 586, 'gelo': 897, 'guyssss': 991, 'dibelakang': 676, 'lagiiiii': 1384, 'huhubiju': 1075, 'shzkkajja': 2175, 'hebatt': 1039, 'keyeen': 1321, 'choky': 548, 'blokkk': 457, 'dewa': 662, 'dsni': 748, 'pliss': 1981, 'brooo': 489, 'ri20': 2069, 'gookkiilllll': 969, 'bulu': 499, 'kuduk': 1368, 'berdiri': 370, 'makes': 1503, 'angkatan': 175, 'lulus': 1477, 'tb': 2304, 'kado': 1196, 'perpisahan': 1952, 'terindah': 2344, 'aligggggg': 146, 'semuanyaaa': 2151, 'farewell': 821, 'appreciate': 210, 'our': 1857, '17': 17, 'fkmovers': 843, 'leaked': 1405, 'character': 542, 'sebelah': 2120, 'kiri': 1329, 'huuuuaaaa': 1079, '²an': 2643, 'tayang': 2302, 'bermakna': 390, 'fillo': 830, 'vs': 2498, 'hd': 1033, 'ehh': 769, 'frost': 854, 'diamond': 670, 'wkkwkw': 2547, 'merewindkan': 1620, 'idolakuuuuuuuuuuuuu': 1088, 'sulit': 2256, 'mengerjakannya': 1593, 'ucapkan': 2452, 'kampung': 1209, 'bangetl': 299, 'los': 1464, 'dol': 728, 'gaboleh': 865, 'titikk': 2397, 'lanjutkan': 1392, 'dammm': 628, 'reupload': 2057, 'membanggakan': 1567, 'chikakiku': 546, 'dang': 633, 'spam': 2230, 'intentions': 1125, 'stuck': 2246, 'yup': 2631, 'gebug': 893, 'waaawaaaa': 2500, 'mntpp': 1652, 'pelajarannya': 1920, 'sedeeeppp': 2124, 'betulll': 419, 'editornya': 765, 'mainnnn': 1496, 'gillaaaa': 931, 'idola': 1087, 'pisannn': 1972, 'sekuat': 2141, 'hal2': 1003, 'ig': 1092, 'rahmadi': 2030, 'hayo': 1032, 'jimny': 1171, 'challenge': 531, 'papa': 1878, 'terkerennnn': 2351, 'bidangnya': 437, 'yukk': 2629, 'iri': 1130, 'bos': 476, 'gilasi': 928, 'medley': 1557, 'cepetan': 527, 'dame': 627, 'menarik': 1580, 'godd': 945, 'chandraliaw': 536, 'bnggtttttt': 460, 'fixx': 842, 'nnt': 1787, 'bkl': 452, 'tahunan': 2285, 'jugaa': 1185, 'paraaaaaaah': 1881, 'keluarganya': 1257, 'waitin': 2508, 'heran': 1044, 'ajah': 131, 'naruh': 1720, 'pokok': 1984, 'editannya': 763, 'alurnya': 153, 'skinnyindonesian': 2205, 'yhe': 2605, 'legend': 1408, 'myth': 1696, 'coolest': 585, 'ytr': 2626, 'seepic': 2131, 'wth': 2585, 'mashup': 1534, 'available': 247, 'spotify': 2237, 'gokiiillllllllll': 950, 'bggtt': 425, 'diplay': 695, 'nyebutin': 1823, 'nama': 1701, 'persatu': 1953, 'alr': 150, 'lg': 1422, 'aot': 201, 'final': 833, 'season': 2118, 'haji': 1002, '446k': 57, '550k': 76, 'holyyyyyy': 1061, 'frislly': 852, 'kbp': 1226, 'kerennnnnnnnnn': 1303, 'likes': 1443, 'cos2p7s50kg': 589, 'gra2': 976, 'growed': 981, 'pakk': 1869, 'youtobe': 2613, 'tumben': 2445, 'pegang': 1918, 'remot': 2053, 'yri': 2623, 'rennnnn': 2054, 'moralnya': 1664, 'dgn': 664}\n"
     ]
    }
   ],
   "source": [
    "print(vect.vocabulary_)"
   ]
  },
  {
   "cell_type": "markdown",
   "metadata": {},
   "source": [
    "## Logistic Regression"
   ]
  },
  {
   "cell_type": "code",
   "execution_count": 30,
   "metadata": {},
   "outputs": [
    {
     "data": {
      "text/plain": [
       "LogisticRegression()"
      ]
     },
     "execution_count": 30,
     "metadata": {},
     "output_type": "execute_result"
    }
   ],
   "source": [
    "from sklearn.linear_model import LogisticRegression\n",
    "lr = LogisticRegression()\n",
    "lr.fit(tf_train,y_train)"
   ]
  },
  {
   "cell_type": "markdown",
   "metadata": {},
   "source": [
    "### Akurasi dari Dataset Training"
   ]
  },
  {
   "cell_type": "code",
   "execution_count": 31,
   "metadata": {},
   "outputs": [
    {
     "data": {
      "text/plain": [
       "0.9772007599746675"
      ]
     },
     "execution_count": 31,
     "metadata": {},
     "output_type": "execute_result"
    }
   ],
   "source": [
    "lr.score(tf_train,y_train)"
   ]
  },
  {
   "cell_type": "markdown",
   "metadata": {},
   "source": [
    "### Akurasi dari Dataset Test"
   ]
  },
  {
   "cell_type": "code",
   "execution_count": 32,
   "metadata": {},
   "outputs": [
    {
     "data": {
      "text/plain": [
       "0.9184060721062619"
      ]
     },
     "execution_count": 32,
     "metadata": {},
     "output_type": "execute_result"
    }
   ],
   "source": [
    "lr.score(tf_test,y_test)"
   ]
  },
  {
   "cell_type": "markdown",
   "metadata": {},
   "source": [
    "### Membuat prediksi dari test dataset"
   ]
  },
  {
   "cell_type": "code",
   "execution_count": 33,
   "metadata": {},
   "outputs": [],
   "source": [
    "expected = y_test\n",
    "predicted = lr.predict(tf_test)"
   ]
  },
  {
   "cell_type": "markdown",
   "metadata": {},
   "source": [
    "## Membuat Confussion Matrix"
   ]
  },
  {
   "cell_type": "code",
   "execution_count": 34,
   "metadata": {},
   "outputs": [
    {
     "name": "stdout",
     "output_type": "stream",
     "text": [
      "[[472   5   0]\n",
      " [ 33  12   0]\n",
      " [  3   2   0]]\n"
     ]
    },
    {
     "data": {
      "image/png": "[encoded data removed]",
      "text/plain": [
       "<Figure size 432x288 with 1 Axes>"
      ]
     },
     "metadata": {
      "needs_background": "light"
     },
     "output_type": "display_data"
    }
   ],
   "source": [
    "cf = metrics.confusion_matrix(expected,predicted,labels = [1,0,-1])\n",
    "print(cf)\n",
    "\n",
    "fig, ax = plot_confusion_matrix(conf_mat = cf, class_names = ['Positif','Netral','Negatif'])\n",
    "plt.show()"
   ]
  },
  {
   "cell_type": "markdown",
   "metadata": {},
   "source": [
    "## Membuat Classification Report"
   ]
  },
  {
   "cell_type": "code",
   "execution_count": 35,
   "metadata": {},
   "outputs": [
    {
     "name": "stdout",
     "output_type": "stream",
     "text": [
      "              precision    recall  f1-score   support\n",
      "\n",
      "          -1       0.00      0.00      0.00         5\n",
      "           0       0.63      0.27      0.38        45\n",
      "           1       0.93      0.99      0.96       477\n",
      "\n",
      "    accuracy                           0.92       527\n",
      "   macro avg       0.52      0.42      0.44       527\n",
      "weighted avg       0.89      0.92      0.90       527\n",
      "\n"
     ]
    }
   ],
   "source": [
    "from sklearn import metrics\n",
    "print(metrics.classification_report(expected, predicted))"
   ]
  },
  {
   "cell_type": "markdown",
   "metadata": {},
   "source": [
    "## Membuat F1 score"
   ]
  },
  {
   "cell_type": "code",
   "execution_count": 36,
   "metadata": {},
   "outputs": [
    {
     "data": {
      "text/plain": [
       "0.8994690278272763"
      ]
     },
     "execution_count": 36,
     "metadata": {},
     "output_type": "execute_result"
    }
   ],
   "source": [
    "from sklearn.metrics import f1_score\n",
    "f1_score(expected, predicted, average='weighted')"
   ]
  }
 ],
 "metadata": {
  "kernelspec": {
   "display_name": "Python 3",
   "language": "python",
   "name": "python3"
  },
  "language_info": {
   "codemirror_mode": {
    "name": "ipython",
    "version": 3
   },
   "file_extension": ".py",
   "mimetype": "text/x-python",
   "name": "python",
   "nbconvert_exporter": "python",
   "pygments_lexer": "ipython3",
   "version": "3.7.3"
  }
 },
 "nbformat": 4,
 "nbformat_minor": 2
}
